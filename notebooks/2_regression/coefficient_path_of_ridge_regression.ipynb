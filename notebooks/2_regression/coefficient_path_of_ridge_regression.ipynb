{
 "cells": [
  {
   "cell_type": "markdown",
   "metadata": {},
   "source": [
    "# COEFFICIENT PATH OF RIDGE REGRESSION"
   ]
  },
  {
   "cell_type": "markdown",
   "metadata": {},
   "source": [
    "**Add the directory of m_learn package to the system path**"
   ]
  },
  {
   "cell_type": "code",
   "execution_count": 1,
   "metadata": {},
   "outputs": [],
   "source": [
    "from config import *\n",
    "append_path('../../')"
   ]
  },
  {
   "cell_type": "markdown",
   "metadata": {},
   "source": [
    "**Import neccessary modules and packages**"
   ]
  },
  {
   "cell_type": "code",
   "execution_count": 2,
   "metadata": {},
   "outputs": [],
   "source": [
    "import pandas as pd\n",
    "import numpy as np\n",
    "import matplotlib.pyplot as plt\n",
    "import matplotlib\n",
    "from m_learn.linear_model import ridge_regression\n",
    "from m_learn.utility.data_preprocessing import get_xy_data\n",
    "from sklearn.model_selection import train_test_split"
   ]
  },
  {
   "cell_type": "markdown",
   "metadata": {},
   "source": [
    "## 1. Load & Preprocess Data"
   ]
  },
  {
   "cell_type": "markdown",
   "metadata": {},
   "source": [
    "**Output and features**"
   ]
  },
  {
   "cell_type": "code",
   "execution_count": 3,
   "metadata": {},
   "outputs": [],
   "source": [
    "# output of the model\n",
    "output = 'SalePrice'\n",
    "# features of the model \n",
    "features = ['GarageCars',\n",
    "            'BsmtFinSF1',\n",
    "            'TotRmsAbvGrd',\n",
    "            'LotArea',\n",
    "            'GrLivArea',\n",
    "            'KitchenAbvGr',\n",
    "            'BedroomAbvGr']"
   ]
  },
  {
   "cell_type": "markdown",
   "metadata": {},
   "source": [
    "**Load the data**"
   ]
  },
  {
   "cell_type": "code",
   "execution_count": 4,
   "metadata": {},
   "outputs": [],
   "source": [
    "# retrieve the numeric data from the csv file\n",
    "data = pd.read_csv('./../../data/house_prices/train.csv')._get_numeric_data()"
   ]
  },
  {
   "cell_type": "markdown",
   "metadata": {},
   "source": [
    "**Fill missing values with column means**"
   ]
  },
  {
   "cell_type": "code",
   "execution_count": 5,
   "metadata": {},
   "outputs": [],
   "source": [
    "data = data.fillna(data.mean())"
   ]
  },
  {
   "cell_type": "markdown",
   "metadata": {},
   "source": [
    "**Do a customary train test split**"
   ]
  },
  {
   "cell_type": "code",
   "execution_count": 6,
   "metadata": {},
   "outputs": [],
   "source": [
    "# train test split\n",
    "train_data, test_data = train_test_split(data, test_size = 0.2, random_state = 0)\n",
    "# extract the feature matrix and output vector from the training data\n",
    "X_train, y_train = get_xy_data(train_data, features, output)\n",
    "# extract the feature matrix and output vector from the test data\n",
    "X_test, y_test = get_xy_data(test_data, features, output)"
   ]
  },
  {
   "cell_type": "markdown",
   "metadata": {},
   "source": [
    "## 2. Investigate coefficient path of ridge regression"
   ]
  },
  {
   "cell_type": "markdown",
   "metadata": {},
   "source": [
    "**Parameters of ridge models**"
   ]
  },
  {
   "cell_type": "code",
   "execution_count": 7,
   "metadata": {},
   "outputs": [],
   "source": [
    "# max iterations \n",
    "maximum_iterations = 100000\n",
    "# step size\n",
    "step_size = 1e-13"
   ]
  },
  {
   "cell_type": "markdown",
   "metadata": {},
   "source": [
    "### 2.1 Train models and collect model coefficients using different values of lambda"
   ]
  },
  {
   "cell_type": "code",
   "execution_count": 8,
   "metadata": {},
   "outputs": [],
   "source": [
    "# create a logspace of l2 penalties\n",
    "l2_penalties = np.logspace(7,12.5, num=20)\n",
    "# a list to store the weights of ridge regression models trained using different l2 penalties\n",
    "weights = []\n",
    "\n",
    "# iterate through each penalty\n",
    "for penalty in l2_penalties:\n",
    "    # create a ridge regression model\n",
    "    model = ridge_regression(penalty)\n",
    "    # fit the model using training data\n",
    "    model.fit(X_train, y_train, step_size = step_size, maximum_iterations = maximum_iterations)\n",
    "    # append the coefficients of the model to the designated list (excepting intercept)\n",
    "    weights.append(model.coefficients[1:])\n",
    "\n",
    "# convert the list of numpy vectors to numpy array    \n",
    "weights = np.array(weights)\n",
    "# store the numpy array in pandas dataframe\n",
    "weights = pd.DataFrame(data = weights, columns = features, index=l2_penalties)\n",
    "weights.index.name = 'l2_penalty'"
   ]
  },
  {
   "cell_type": "markdown",
   "metadata": {},
   "source": [
    "**Inspect the model coefficients at different values of l2 penalty or lambda**"
   ]
  },
  {
   "cell_type": "code",
   "execution_count": 9,
   "metadata": {},
   "outputs": [
    {
     "data": {
      "text/html": [
       "<div>\n",
       "<style scoped>\n",
       "    .dataframe tbody tr th:only-of-type {\n",
       "        vertical-align: middle;\n",
       "    }\n",
       "\n",
       "    .dataframe tbody tr th {\n",
       "        vertical-align: top;\n",
       "    }\n",
       "\n",
       "    .dataframe thead th {\n",
       "        text-align: right;\n",
       "    }\n",
       "</style>\n",
       "<table border=\"1\" class=\"dataframe\">\n",
       "  <thead>\n",
       "    <tr style=\"text-align: right;\">\n",
       "      <th></th>\n",
       "      <th>GarageCars</th>\n",
       "      <th>BsmtFinSF1</th>\n",
       "      <th>TotRmsAbvGrd</th>\n",
       "      <th>LotArea</th>\n",
       "      <th>GrLivArea</th>\n",
       "      <th>KitchenAbvGr</th>\n",
       "      <th>BedroomAbvGr</th>\n",
       "    </tr>\n",
       "    <tr>\n",
       "      <th>l2_penalty</th>\n",
       "      <th></th>\n",
       "      <th></th>\n",
       "      <th></th>\n",
       "      <th></th>\n",
       "      <th></th>\n",
       "      <th></th>\n",
       "      <th></th>\n",
       "    </tr>\n",
       "  </thead>\n",
       "  <tbody>\n",
       "    <tr>\n",
       "      <th>1.000000e+07</th>\n",
       "      <td>0.420678</td>\n",
       "      <td>50.857927</td>\n",
       "      <td>0.343882</td>\n",
       "      <td>0.455595</td>\n",
       "      <td>100.859439</td>\n",
       "      <td>-0.004103</td>\n",
       "      <td>-0.032560</td>\n",
       "    </tr>\n",
       "    <tr>\n",
       "      <th>1.947483e+07</th>\n",
       "      <td>0.393959</td>\n",
       "      <td>49.780408</td>\n",
       "      <td>0.348091</td>\n",
       "      <td>0.512693</td>\n",
       "      <td>100.452698</td>\n",
       "      <td>0.001369</td>\n",
       "      <td>-0.015424</td>\n",
       "    </tr>\n",
       "    <tr>\n",
       "      <th>3.792690e+07</th>\n",
       "      <td>0.350171</td>\n",
       "      <td>47.868738</td>\n",
       "      <td>0.354336</td>\n",
       "      <td>0.621295</td>\n",
       "      <td>99.635226</td>\n",
       "      <td>0.010193</td>\n",
       "      <td>0.012271</td>\n",
       "    </tr>\n",
       "    <tr>\n",
       "      <th>7.386200e+07</th>\n",
       "      <td>0.288130</td>\n",
       "      <td>44.720886</td>\n",
       "      <td>0.361022</td>\n",
       "      <td>0.823775</td>\n",
       "      <td>97.978585</td>\n",
       "      <td>0.022225</td>\n",
       "      <td>0.050233</td>\n",
       "    </tr>\n",
       "    <tr>\n",
       "      <th>1.438450e+08</th>\n",
       "      <td>0.218603</td>\n",
       "      <td>40.096266</td>\n",
       "      <td>0.362177</td>\n",
       "      <td>1.188524</td>\n",
       "      <td>94.660680</td>\n",
       "      <td>0.034356</td>\n",
       "      <td>0.089048</td>\n",
       "    </tr>\n",
       "    <tr>\n",
       "      <th>2.801357e+08</th>\n",
       "      <td>0.160312</td>\n",
       "      <td>34.195043</td>\n",
       "      <td>0.347979</td>\n",
       "      <td>1.809189</td>\n",
       "      <td>88.383714</td>\n",
       "      <td>0.041380</td>\n",
       "      <td>0.112735</td>\n",
       "    </tr>\n",
       "    <tr>\n",
       "      <th>5.455595e+08</th>\n",
       "      <td>0.118692</td>\n",
       "      <td>27.559026</td>\n",
       "      <td>0.311444</td>\n",
       "      <td>2.772238</td>\n",
       "      <td>77.821213</td>\n",
       "      <td>0.041079</td>\n",
       "      <td>0.114354</td>\n",
       "    </tr>\n",
       "    <tr>\n",
       "      <th>1.062468e+09</th>\n",
       "      <td>0.086379</td>\n",
       "      <td>20.746599</td>\n",
       "      <td>0.253692</td>\n",
       "      <td>4.068932</td>\n",
       "      <td>62.854453</td>\n",
       "      <td>0.035080</td>\n",
       "      <td>0.098701</td>\n",
       "    </tr>\n",
       "    <tr>\n",
       "      <th>2.069138e+09</th>\n",
       "      <td>0.059198</td>\n",
       "      <td>14.380040</td>\n",
       "      <td>0.185182</td>\n",
       "      <td>5.507492</td>\n",
       "      <td>45.676950</td>\n",
       "      <td>0.026195</td>\n",
       "      <td>0.074116</td>\n",
       "    </tr>\n",
       "    <tr>\n",
       "      <th>4.029611e+09</th>\n",
       "      <td>0.037535</td>\n",
       "      <td>9.153085</td>\n",
       "      <td>0.121523</td>\n",
       "      <td>6.778007</td>\n",
       "      <td>29.901909</td>\n",
       "      <td>0.017390</td>\n",
       "      <td>0.049349</td>\n",
       "    </tr>\n",
       "    <tr>\n",
       "      <th>7.847600e+09</th>\n",
       "      <td>0.022250</td>\n",
       "      <td>5.439118</td>\n",
       "      <td>0.073413</td>\n",
       "      <td>7.649958</td>\n",
       "      <td>18.036904</td>\n",
       "      <td>0.010573</td>\n",
       "      <td>0.030054</td>\n",
       "    </tr>\n",
       "    <tr>\n",
       "      <th>1.528307e+10</th>\n",
       "      <td>0.012652</td>\n",
       "      <td>3.103489</td>\n",
       "      <td>0.042222</td>\n",
       "      <td>8.054197</td>\n",
       "      <td>10.360650</td>\n",
       "      <td>0.006107</td>\n",
       "      <td>0.017377</td>\n",
       "    </tr>\n",
       "    <tr>\n",
       "      <th>2.976351e+10</th>\n",
       "      <td>0.007096</td>\n",
       "      <td>1.750410</td>\n",
       "      <td>0.023877</td>\n",
       "      <td>7.996987</td>\n",
       "      <td>5.851064</td>\n",
       "      <td>0.003468</td>\n",
       "      <td>0.009873</td>\n",
       "    </tr>\n",
       "    <tr>\n",
       "      <th>5.796394e+10</th>\n",
       "      <td>0.004014</td>\n",
       "      <td>0.998398</td>\n",
       "      <td>0.013609</td>\n",
       "      <td>7.470899</td>\n",
       "      <td>3.329081</td>\n",
       "      <td>0.001985</td>\n",
       "      <td>0.005656</td>\n",
       "    </tr>\n",
       "    <tr>\n",
       "      <th>1.128838e+11</th>\n",
       "      <td>0.002313</td>\n",
       "      <td>0.581479</td>\n",
       "      <td>0.007904</td>\n",
       "      <td>6.466195</td>\n",
       "      <td>1.929510</td>\n",
       "      <td>0.001159</td>\n",
       "      <td>0.003304</td>\n",
       "    </tr>\n",
       "    <tr>\n",
       "      <th>2.198393e+11</th>\n",
       "      <td>0.001348</td>\n",
       "      <td>0.342566</td>\n",
       "      <td>0.004640</td>\n",
       "      <td>5.075328</td>\n",
       "      <td>1.130406</td>\n",
       "      <td>0.000684</td>\n",
       "      <td>0.001950</td>\n",
       "    </tr>\n",
       "    <tr>\n",
       "      <th>4.281332e+11</th>\n",
       "      <td>0.000778</td>\n",
       "      <td>0.199560</td>\n",
       "      <td>0.002695</td>\n",
       "      <td>3.564636</td>\n",
       "      <td>0.655343</td>\n",
       "      <td>0.000399</td>\n",
       "      <td>0.001138</td>\n",
       "    </tr>\n",
       "    <tr>\n",
       "      <th>8.337822e+11</th>\n",
       "      <td>0.000437</td>\n",
       "      <td>0.112866</td>\n",
       "      <td>0.001521</td>\n",
       "      <td>2.254038</td>\n",
       "      <td>0.369382</td>\n",
       "      <td>0.000226</td>\n",
       "      <td>0.000644</td>\n",
       "    </tr>\n",
       "    <tr>\n",
       "      <th>1.623777e+12</th>\n",
       "      <td>0.000238</td>\n",
       "      <td>0.061765</td>\n",
       "      <td>0.000831</td>\n",
       "      <td>1.313084</td>\n",
       "      <td>0.201715</td>\n",
       "      <td>0.000124</td>\n",
       "      <td>0.000353</td>\n",
       "    </tr>\n",
       "    <tr>\n",
       "      <th>3.162278e+12</th>\n",
       "      <td>0.000127</td>\n",
       "      <td>0.032936</td>\n",
       "      <td>0.000443</td>\n",
       "      <td>0.724199</td>\n",
       "      <td>0.107437</td>\n",
       "      <td>0.000066</td>\n",
       "      <td>0.000188</td>\n",
       "    </tr>\n",
       "  </tbody>\n",
       "</table>\n",
       "</div>"
      ],
      "text/plain": [
       "              GarageCars  BsmtFinSF1  TotRmsAbvGrd   LotArea   GrLivArea  \\\n",
       "l2_penalty                                                                 \n",
       "1.000000e+07    0.420678   50.857927      0.343882  0.455595  100.859439   \n",
       "1.947483e+07    0.393959   49.780408      0.348091  0.512693  100.452698   \n",
       "3.792690e+07    0.350171   47.868738      0.354336  0.621295   99.635226   \n",
       "7.386200e+07    0.288130   44.720886      0.361022  0.823775   97.978585   \n",
       "1.438450e+08    0.218603   40.096266      0.362177  1.188524   94.660680   \n",
       "2.801357e+08    0.160312   34.195043      0.347979  1.809189   88.383714   \n",
       "5.455595e+08    0.118692   27.559026      0.311444  2.772238   77.821213   \n",
       "1.062468e+09    0.086379   20.746599      0.253692  4.068932   62.854453   \n",
       "2.069138e+09    0.059198   14.380040      0.185182  5.507492   45.676950   \n",
       "4.029611e+09    0.037535    9.153085      0.121523  6.778007   29.901909   \n",
       "7.847600e+09    0.022250    5.439118      0.073413  7.649958   18.036904   \n",
       "1.528307e+10    0.012652    3.103489      0.042222  8.054197   10.360650   \n",
       "2.976351e+10    0.007096    1.750410      0.023877  7.996987    5.851064   \n",
       "5.796394e+10    0.004014    0.998398      0.013609  7.470899    3.329081   \n",
       "1.128838e+11    0.002313    0.581479      0.007904  6.466195    1.929510   \n",
       "2.198393e+11    0.001348    0.342566      0.004640  5.075328    1.130406   \n",
       "4.281332e+11    0.000778    0.199560      0.002695  3.564636    0.655343   \n",
       "8.337822e+11    0.000437    0.112866      0.001521  2.254038    0.369382   \n",
       "1.623777e+12    0.000238    0.061765      0.000831  1.313084    0.201715   \n",
       "3.162278e+12    0.000127    0.032936      0.000443  0.724199    0.107437   \n",
       "\n",
       "              KitchenAbvGr  BedroomAbvGr  \n",
       "l2_penalty                                \n",
       "1.000000e+07     -0.004103     -0.032560  \n",
       "1.947483e+07      0.001369     -0.015424  \n",
       "3.792690e+07      0.010193      0.012271  \n",
       "7.386200e+07      0.022225      0.050233  \n",
       "1.438450e+08      0.034356      0.089048  \n",
       "2.801357e+08      0.041380      0.112735  \n",
       "5.455595e+08      0.041079      0.114354  \n",
       "1.062468e+09      0.035080      0.098701  \n",
       "2.069138e+09      0.026195      0.074116  \n",
       "4.029611e+09      0.017390      0.049349  \n",
       "7.847600e+09      0.010573      0.030054  \n",
       "1.528307e+10      0.006107      0.017377  \n",
       "2.976351e+10      0.003468      0.009873  \n",
       "5.796394e+10      0.001985      0.005656  \n",
       "1.128838e+11      0.001159      0.003304  \n",
       "2.198393e+11      0.000684      0.001950  \n",
       "4.281332e+11      0.000399      0.001138  \n",
       "8.337822e+11      0.000226      0.000644  \n",
       "1.623777e+12      0.000124      0.000353  \n",
       "3.162278e+12      0.000066      0.000188  "
      ]
     },
     "execution_count": 9,
     "metadata": {},
     "output_type": "execute_result"
    }
   ],
   "source": [
    "weights.head(20)"
   ]
  },
  {
   "cell_type": "markdown",
   "metadata": {},
   "source": [
    "### 2.2 Plot of coefficient path of ridge regression"
   ]
  },
  {
   "cell_type": "code",
   "execution_count": 10,
   "metadata": {},
   "outputs": [
    {
     "data": {
      "image/png": "[encoded data removed]",
      "text/plain": [
       "<Figure size 1152x720 with 1 Axes>"
      ]
     },
     "metadata": {
      "needs_background": "light"
     },
     "output_type": "display_data"
    }
   ],
   "source": [
    "matplotlib.rcParams['figure.figsize'] = (16.0, 10.0)\n",
    "# iterate through each feature\n",
    "for feature in features:\n",
    "    # plot feature weight vs penaties (log)\n",
    "    plt.plot(l2_penalties, weights[feature])\n",
    "    \n",
    "plt.xscale('log')\n",
    "plt.xlabel('log of l2 penalty', fontsize=18)\n",
    "plt.ylabel('weight', fontsize=18)\n",
    "plt.legend(features, fontsize=14)\n",
    "plt.title(\"Coefficient path of ridge regression\", fontsize= 24)\n",
    "plt.grid()\n",
    "plt.show()"
   ]
  }
 ],
 "metadata": {
  "kernelspec": {
   "display_name": "Python 3",
   "language": "python",
   "name": "python3"
  },
  "language_info": {
   "codemirror_mode": {
    "name": "ipython",
    "version": 3
   },
   "file_extension": ".py",
   "mimetype": "text/x-python",
   "name": "python",
   "nbconvert_exporter": "python",
   "pygments_lexer": "ipython3",
   "version": "3.8.12"
  }
 },
 "nbformat": 4,
 "nbformat_minor": 2
}
