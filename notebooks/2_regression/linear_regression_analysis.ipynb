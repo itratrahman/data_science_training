{
 "cells": [
  {
   "cell_type": "markdown",
   "metadata": {},
   "source": [
    "# ANALYSIS USING LINEAR REGRESSION MODELS"
   ]
  },
  {
   "cell_type": "markdown",
   "metadata": {},
   "source": [
    "In this notebook we will create **3 multivariate regression models** using our linear regression module with **3 different sets of feature list**. We will take a note of the performance of the models, and discuss the performance results of each model."
   ]
  },
  {
   "cell_type": "markdown",
   "metadata": {},
   "source": [
    "**Add the directory of the m_learn package to the system path**"
   ]
  },
  {
   "cell_type": "code",
   "execution_count": 1,
   "metadata": {},
   "outputs": [],
   "source": [
    "from config import append_path\n",
    "append_path('../../')"
   ]
  },
  {
   "cell_type": "markdown",
   "metadata": {},
   "source": [
    "**Import necessary packages and modules**"
   ]
  },
  {
   "cell_type": "code",
   "execution_count": 2,
   "metadata": {},
   "outputs": [],
   "source": [
    "import pandas as pd\n",
    "import numpy as np\n",
    "from m_learn.linear_model import linear_regression\n",
    "from m_learn.utility.data_preprocessing import get_xy_data\n",
    "from sklearn.model_selection import train_test_split"
   ]
  },
  {
   "cell_type": "markdown",
   "metadata": {},
   "source": [
    "## 1. Load and Inspect the data"
   ]
  },
  {
   "cell_type": "markdown",
   "metadata": {},
   "source": [
    "**Load the data**"
   ]
  },
  {
   "cell_type": "code",
   "execution_count": 4,
   "metadata": {},
   "outputs": [],
   "source": [
    "data = pd.read_csv('./../../data/house_prices/train.csv')"
   ]
  },
  {
   "cell_type": "markdown",
   "metadata": {},
   "source": [
    "**Fill NaN with column means**"
   ]
  },
  {
   "cell_type": "code",
   "execution_count": 5,
   "metadata": {},
   "outputs": [],
   "source": [
    "data = data.fillna(data.mean())"
   ]
  },
  {
   "cell_type": "markdown",
   "metadata": {},
   "source": [
    "**Display the data head**"
   ]
  },
  {
   "cell_type": "code",
   "execution_count": 6,
   "metadata": {},
   "outputs": [
    {
     "data": {
      "text/html": [
       "<div>\n",
       "<style scoped>\n",
       "    .dataframe tbody tr th:only-of-type {\n",
       "        vertical-align: middle;\n",
       "    }\n",
       "\n",
       "    .dataframe tbody tr th {\n",
       "        vertical-align: top;\n",
       "    }\n",
       "\n",
       "    .dataframe thead th {\n",
       "        text-align: right;\n",
       "    }\n",
       "</style>\n",
       "<table border=\"1\" class=\"dataframe\">\n",
       "  <thead>\n",
       "    <tr style=\"text-align: right;\">\n",
       "      <th></th>\n",
       "      <th>Id</th>\n",
       "      <th>MSSubClass</th>\n",
       "      <th>MSZoning</th>\n",
       "      <th>LotFrontage</th>\n",
       "      <th>LotArea</th>\n",
       "      <th>Street</th>\n",
       "      <th>Alley</th>\n",
       "      <th>LotShape</th>\n",
       "      <th>LandContour</th>\n",
       "      <th>Utilities</th>\n",
       "      <th>...</th>\n",
       "      <th>PoolArea</th>\n",
       "      <th>PoolQC</th>\n",
       "      <th>Fence</th>\n",
       "      <th>MiscFeature</th>\n",
       "      <th>MiscVal</th>\n",
       "      <th>MoSold</th>\n",
       "      <th>YrSold</th>\n",
       "      <th>SaleType</th>\n",
       "      <th>SaleCondition</th>\n",
       "      <th>SalePrice</th>\n",
       "    </tr>\n",
       "  </thead>\n",
       "  <tbody>\n",
       "    <tr>\n",
       "      <th>0</th>\n",
       "      <td>1</td>\n",
       "      <td>60</td>\n",
       "      <td>RL</td>\n",
       "      <td>65.000000</td>\n",
       "      <td>8450</td>\n",
       "      <td>Pave</td>\n",
       "      <td>NaN</td>\n",
       "      <td>Reg</td>\n",
       "      <td>Lvl</td>\n",
       "      <td>AllPub</td>\n",
       "      <td>...</td>\n",
       "      <td>0</td>\n",
       "      <td>NaN</td>\n",
       "      <td>NaN</td>\n",
       "      <td>NaN</td>\n",
       "      <td>0</td>\n",
       "      <td>2</td>\n",
       "      <td>2008</td>\n",
       "      <td>WD</td>\n",
       "      <td>Normal</td>\n",
       "      <td>208500</td>\n",
       "    </tr>\n",
       "    <tr>\n",
       "      <th>1</th>\n",
       "      <td>2</td>\n",
       "      <td>20</td>\n",
       "      <td>RL</td>\n",
       "      <td>80.000000</td>\n",
       "      <td>9600</td>\n",
       "      <td>Pave</td>\n",
       "      <td>NaN</td>\n",
       "      <td>Reg</td>\n",
       "      <td>Lvl</td>\n",
       "      <td>AllPub</td>\n",
       "      <td>...</td>\n",
       "      <td>0</td>\n",
       "      <td>NaN</td>\n",
       "      <td>NaN</td>\n",
       "      <td>NaN</td>\n",
       "      <td>0</td>\n",
       "      <td>5</td>\n",
       "      <td>2007</td>\n",
       "      <td>WD</td>\n",
       "      <td>Normal</td>\n",
       "      <td>181500</td>\n",
       "    </tr>\n",
       "    <tr>\n",
       "      <th>2</th>\n",
       "      <td>3</td>\n",
       "      <td>60</td>\n",
       "      <td>RL</td>\n",
       "      <td>68.000000</td>\n",
       "      <td>11250</td>\n",
       "      <td>Pave</td>\n",
       "      <td>NaN</td>\n",
       "      <td>IR1</td>\n",
       "      <td>Lvl</td>\n",
       "      <td>AllPub</td>\n",
       "      <td>...</td>\n",
       "      <td>0</td>\n",
       "      <td>NaN</td>\n",
       "      <td>NaN</td>\n",
       "      <td>NaN</td>\n",
       "      <td>0</td>\n",
       "      <td>9</td>\n",
       "      <td>2008</td>\n",
       "      <td>WD</td>\n",
       "      <td>Normal</td>\n",
       "      <td>223500</td>\n",
       "    </tr>\n",
       "    <tr>\n",
       "      <th>3</th>\n",
       "      <td>4</td>\n",
       "      <td>70</td>\n",
       "      <td>RL</td>\n",
       "      <td>60.000000</td>\n",
       "      <td>9550</td>\n",
       "      <td>Pave</td>\n",
       "      <td>NaN</td>\n",
       "      <td>IR1</td>\n",
       "      <td>Lvl</td>\n",
       "      <td>AllPub</td>\n",
       "      <td>...</td>\n",
       "      <td>0</td>\n",
       "      <td>NaN</td>\n",
       "      <td>NaN</td>\n",
       "      <td>NaN</td>\n",
       "      <td>0</td>\n",
       "      <td>2</td>\n",
       "      <td>2006</td>\n",
       "      <td>WD</td>\n",
       "      <td>Abnorml</td>\n",
       "      <td>140000</td>\n",
       "    </tr>\n",
       "    <tr>\n",
       "      <th>4</th>\n",
       "      <td>5</td>\n",
       "      <td>60</td>\n",
       "      <td>RL</td>\n",
       "      <td>84.000000</td>\n",
       "      <td>14260</td>\n",
       "      <td>Pave</td>\n",
       "      <td>NaN</td>\n",
       "      <td>IR1</td>\n",
       "      <td>Lvl</td>\n",
       "      <td>AllPub</td>\n",
       "      <td>...</td>\n",
       "      <td>0</td>\n",
       "      <td>NaN</td>\n",
       "      <td>NaN</td>\n",
       "      <td>NaN</td>\n",
       "      <td>0</td>\n",
       "      <td>12</td>\n",
       "      <td>2008</td>\n",
       "      <td>WD</td>\n",
       "      <td>Normal</td>\n",
       "      <td>250000</td>\n",
       "    </tr>\n",
       "    <tr>\n",
       "      <th>5</th>\n",
       "      <td>6</td>\n",
       "      <td>50</td>\n",
       "      <td>RL</td>\n",
       "      <td>85.000000</td>\n",
       "      <td>14115</td>\n",
       "      <td>Pave</td>\n",
       "      <td>NaN</td>\n",
       "      <td>IR1</td>\n",
       "      <td>Lvl</td>\n",
       "      <td>AllPub</td>\n",
       "      <td>...</td>\n",
       "      <td>0</td>\n",
       "      <td>NaN</td>\n",
       "      <td>MnPrv</td>\n",
       "      <td>Shed</td>\n",
       "      <td>700</td>\n",
       "      <td>10</td>\n",
       "      <td>2009</td>\n",
       "      <td>WD</td>\n",
       "      <td>Normal</td>\n",
       "      <td>143000</td>\n",
       "    </tr>\n",
       "    <tr>\n",
       "      <th>6</th>\n",
       "      <td>7</td>\n",
       "      <td>20</td>\n",
       "      <td>RL</td>\n",
       "      <td>75.000000</td>\n",
       "      <td>10084</td>\n",
       "      <td>Pave</td>\n",
       "      <td>NaN</td>\n",
       "      <td>Reg</td>\n",
       "      <td>Lvl</td>\n",
       "      <td>AllPub</td>\n",
       "      <td>...</td>\n",
       "      <td>0</td>\n",
       "      <td>NaN</td>\n",
       "      <td>NaN</td>\n",
       "      <td>NaN</td>\n",
       "      <td>0</td>\n",
       "      <td>8</td>\n",
       "      <td>2007</td>\n",
       "      <td>WD</td>\n",
       "      <td>Normal</td>\n",
       "      <td>307000</td>\n",
       "    </tr>\n",
       "    <tr>\n",
       "      <th>7</th>\n",
       "      <td>8</td>\n",
       "      <td>60</td>\n",
       "      <td>RL</td>\n",
       "      <td>70.049958</td>\n",
       "      <td>10382</td>\n",
       "      <td>Pave</td>\n",
       "      <td>NaN</td>\n",
       "      <td>IR1</td>\n",
       "      <td>Lvl</td>\n",
       "      <td>AllPub</td>\n",
       "      <td>...</td>\n",
       "      <td>0</td>\n",
       "      <td>NaN</td>\n",
       "      <td>NaN</td>\n",
       "      <td>Shed</td>\n",
       "      <td>350</td>\n",
       "      <td>11</td>\n",
       "      <td>2009</td>\n",
       "      <td>WD</td>\n",
       "      <td>Normal</td>\n",
       "      <td>200000</td>\n",
       "    </tr>\n",
       "    <tr>\n",
       "      <th>8</th>\n",
       "      <td>9</td>\n",
       "      <td>50</td>\n",
       "      <td>RM</td>\n",
       "      <td>51.000000</td>\n",
       "      <td>6120</td>\n",
       "      <td>Pave</td>\n",
       "      <td>NaN</td>\n",
       "      <td>Reg</td>\n",
       "      <td>Lvl</td>\n",
       "      <td>AllPub</td>\n",
       "      <td>...</td>\n",
       "      <td>0</td>\n",
       "      <td>NaN</td>\n",
       "      <td>NaN</td>\n",
       "      <td>NaN</td>\n",
       "      <td>0</td>\n",
       "      <td>4</td>\n",
       "      <td>2008</td>\n",
       "      <td>WD</td>\n",
       "      <td>Abnorml</td>\n",
       "      <td>129900</td>\n",
       "    </tr>\n",
       "    <tr>\n",
       "      <th>9</th>\n",
       "      <td>10</td>\n",
       "      <td>190</td>\n",
       "      <td>RL</td>\n",
       "      <td>50.000000</td>\n",
       "      <td>7420</td>\n",
       "      <td>Pave</td>\n",
       "      <td>NaN</td>\n",
       "      <td>Reg</td>\n",
       "      <td>Lvl</td>\n",
       "      <td>AllPub</td>\n",
       "      <td>...</td>\n",
       "      <td>0</td>\n",
       "      <td>NaN</td>\n",
       "      <td>NaN</td>\n",
       "      <td>NaN</td>\n",
       "      <td>0</td>\n",
       "      <td>1</td>\n",
       "      <td>2008</td>\n",
       "      <td>WD</td>\n",
       "      <td>Normal</td>\n",
       "      <td>118000</td>\n",
       "    </tr>\n",
       "  </tbody>\n",
       "</table>\n",
       "<p>10 rows × 81 columns</p>\n",
       "</div>"
      ],
      "text/plain": [
       "   Id  MSSubClass MSZoning  LotFrontage  LotArea Street Alley LotShape  \\\n",
       "0   1          60       RL    65.000000     8450   Pave   NaN      Reg   \n",
       "1   2          20       RL    80.000000     9600   Pave   NaN      Reg   \n",
       "2   3          60       RL    68.000000    11250   Pave   NaN      IR1   \n",
       "3   4          70       RL    60.000000     9550   Pave   NaN      IR1   \n",
       "4   5          60       RL    84.000000    14260   Pave   NaN      IR1   \n",
       "5   6          50       RL    85.000000    14115   Pave   NaN      IR1   \n",
       "6   7          20       RL    75.000000    10084   Pave   NaN      Reg   \n",
       "7   8          60       RL    70.049958    10382   Pave   NaN      IR1   \n",
       "8   9          50       RM    51.000000     6120   Pave   NaN      Reg   \n",
       "9  10         190       RL    50.000000     7420   Pave   NaN      Reg   \n",
       "\n",
       "  LandContour Utilities  ... PoolArea PoolQC  Fence MiscFeature MiscVal  \\\n",
       "0         Lvl    AllPub  ...        0    NaN    NaN         NaN       0   \n",
       "1         Lvl    AllPub  ...        0    NaN    NaN         NaN       0   \n",
       "2         Lvl    AllPub  ...        0    NaN    NaN         NaN       0   \n",
       "3         Lvl    AllPub  ...        0    NaN    NaN         NaN       0   \n",
       "4         Lvl    AllPub  ...        0    NaN    NaN         NaN       0   \n",
       "5         Lvl    AllPub  ...        0    NaN  MnPrv        Shed     700   \n",
       "6         Lvl    AllPub  ...        0    NaN    NaN         NaN       0   \n",
       "7         Lvl    AllPub  ...        0    NaN    NaN        Shed     350   \n",
       "8         Lvl    AllPub  ...        0    NaN    NaN         NaN       0   \n",
       "9         Lvl    AllPub  ...        0    NaN    NaN         NaN       0   \n",
       "\n",
       "  MoSold YrSold  SaleType  SaleCondition  SalePrice  \n",
       "0      2   2008        WD         Normal     208500  \n",
       "1      5   2007        WD         Normal     181500  \n",
       "2      9   2008        WD         Normal     223500  \n",
       "3      2   2006        WD        Abnorml     140000  \n",
       "4     12   2008        WD         Normal     250000  \n",
       "5     10   2009        WD         Normal     143000  \n",
       "6      8   2007        WD         Normal     307000  \n",
       "7     11   2009        WD         Normal     200000  \n",
       "8      4   2008        WD        Abnorml     129900  \n",
       "9      1   2008        WD         Normal     118000  \n",
       "\n",
       "[10 rows x 81 columns]"
      ]
     },
     "execution_count": 6,
     "metadata": {},
     "output_type": "execute_result"
    }
   ],
   "source": [
    "data.head(10)"
   ]
  },
  {
   "cell_type": "markdown",
   "metadata": {},
   "source": [
    "**Split the data into train & test sets**"
   ]
  },
  {
   "cell_type": "code",
   "execution_count": 7,
   "metadata": {},
   "outputs": [],
   "source": [
    "train_data, test_data = train_test_split(data, test_size = 0.3, random_state = 1)"
   ]
  },
  {
   "cell_type": "markdown",
   "metadata": {},
   "source": [
    "## 2. Train the Model"
   ]
  },
  {
   "cell_type": "markdown",
   "metadata": {},
   "source": [
    "**Features and output of the regression model**"
   ]
  },
  {
   "cell_type": "code",
   "execution_count": 8,
   "metadata": {},
   "outputs": [],
   "source": [
    "model_features = ['GrLivArea', 'LotArea'] \n",
    "output = 'SalePrice'"
   ]
  },
  {
   "cell_type": "markdown",
   "metadata": {},
   "source": [
    "**Extract the feature matrix and output vector from the training set**"
   ]
  },
  {
   "cell_type": "code",
   "execution_count": 9,
   "metadata": {},
   "outputs": [],
   "source": [
    "(train_feature_matrix, train_output) = get_xy_data(train_data, model_features, output)"
   ]
  },
  {
   "cell_type": "markdown",
   "metadata": {},
   "source": [
    "**Model parameters**"
   ]
  },
  {
   "cell_type": "code",
   "execution_count": 10,
   "metadata": {},
   "outputs": [],
   "source": [
    "step_size = 4e-12\n",
    "tolerance = 1e9"
   ]
  },
  {
   "cell_type": "markdown",
   "metadata": {},
   "source": [
    "**Create and fit a linear regression model using feature matrix and ouput vector**"
   ]
  },
  {
   "cell_type": "code",
   "execution_count": 11,
   "metadata": {
    "scrolled": true
   },
   "outputs": [
    {
     "name": "stdout",
     "output_type": "stream",
     "text": [
      "Iteration:  10\n",
      "weights:  [6.45069850e-03 1.08720281e+01 7.33482423e+00]\n",
      "RSS:  16104981192838.025\n",
      "Iteration:  20\n",
      "weights:  [1.20370462e-02 2.02560071e+01 7.86805419e+00]\n",
      "RSS:  13430809007686.73\n",
      "Iteration:  30\n",
      "weights:  [1.70871210e-02 2.87027403e+01 7.39227920e+00]\n",
      "RSS:  11637027042777.014\n",
      "Iteration:  40\n",
      "weights:  [2.16890659e-02 3.63630624e+01 6.80972009e+00]\n",
      "RSS:  10167182882769.074\n",
      "Iteration:  50\n",
      "weights:  [2.58900692e-02 4.33192361e+01 6.25700713e+00]\n",
      "RSS:  8954729946374.994\n",
      "Iteration:  60\n",
      "weights:  [2.97278437e-02 4.96374069e+01 5.75127351e+00]\n",
      "RSS:  7954396444887.848\n",
      "Iteration:  70\n",
      "weights:  [3.32358382e-02 5.53763132e+01 5.29132487e+00]\n",
      "RSS:  7129067064563.072\n",
      "Iteration:  80\n",
      "weights:  [3.64443088e-02 6.05890983e+01 4.87345144e+00]\n",
      "RSS:  6448125453749.889\n",
      "Iteration:  90\n",
      "weights:  [3.93807181e-02 6.53240003e+01 4.49387235e+00]\n",
      "RSS:  5886311599969.414\n",
      "Iteration:  100\n",
      "weights:  [4.20700077e-02 6.96248302e+01 4.14908895e+00]\n",
      "RSS:  5422784622961.7295\n",
      "Iteration:  110\n",
      "weights:  [4.45348325e-02 7.35313816e+01 3.83591320e+00]\n",
      "RSS:  5040349663421.274\n",
      "Iteration:  120\n",
      "weights:  [4.67957703e-02 7.70798001e+01 3.55144777e+00]\n",
      "RSS:  4724820027490.564\n",
      "Iteration:  130\n",
      "weights:  [4.88715125e-02 8.03029173e+01 3.29306069e+00]\n",
      "RSS:  4464490921367.09\n",
      "Iteration:  140\n",
      "weights:  [5.07790367e-02 8.32305555e+01 3.05836123e+00]\n",
      "RSS:  4249705253741.4688\n",
      "Iteration:  150\n",
      "weights:  [5.25337645e-02 8.58898025e+01 2.84517784e+00]\n",
      "RSS:  4072495399200.451\n",
      "Iteration:  160\n",
      "weights:  [5.41497034e-02 8.83052631e+01 2.65153803e+00]\n",
      "RSS:  3926287633556.0693\n",
      "Iteration:  170\n",
      "weights:  [5.56395768e-02 9.04992864e+01 2.47565014e+00]\n",
      "RSS:  3805658276921.522\n",
      "Iteration:  180\n",
      "weights:  [5.70149419e-02 9.24921727e+01 2.31588676e+00]\n",
      "RSS:  3706132498489.582\n",
      "Iteration:  190\n",
      "weights:  [5.82862961e-02 9.43023613e+01 2.17076969e+00]\n",
      "RSS:  3624018319535.242\n",
      "Iteration:  200\n",
      "weights:  [5.94631747e-02 9.59466008e+01 2.03895622e+00]\n",
      "RSS:  3556269656867.1904\n",
      "Iteration:  210\n",
      "weights:  [6.05542387e-02 9.74401048e+01 1.91922675e+00]\n",
      "RSS:  3500373326228.5415\n",
      "Iteration:  220\n",
      "weights:  [6.15673552e-02 9.87966918e+01 1.81047347e+00]\n",
      "RSS:  3454255813958.526\n",
      "Iteration:  230\n",
      "weights:  [6.25096700e-02 1.00028914e+02 1.71169014e+00]\n",
      "RSS:  3416206358544.283\n",
      "Iteration:  240\n",
      "weights:  [6.33876738e-02 1.01148172e+02 1.62196277e+00]\n",
      "RSS:  3384813488718.8228\n",
      "Iteration:  250\n",
      "weights:  [6.42072624e-02 1.02164822e+02 1.54046115e+00]\n",
      "RSS:  3358912663941.248\n",
      "Iteration:  260\n",
      "weights:  [6.49737909e-02 1.03088270e+02 1.46643119e+00]\n",
      "RSS:  3337543074945.998\n",
      "Iteration:  270\n",
      "weights:  [6.56921236e-02 1.03927062e+02 1.39918793e+00]\n",
      "RSS:  3319912001847.102\n",
      "Iteration:  280\n",
      "weights:  [6.63666790e-02 1.04688957e+02 1.33810919e+00]\n",
      "RSS:  3305365407636.243\n",
      "Iteration:  290\n",
      "weights:  [6.70014702e-02 1.05381006e+02 1.28262984e+00]\n",
      "RSS:  3293363676219.7407\n",
      "Iteration:  300\n",
      "weights:  [6.76001427e-02 1.06009611e+02 1.23223656e+00]\n",
      "RSS:  3283461594979.877\n",
      "Iteration:  310\n",
      "weights:  [6.81660076e-02 1.06580589e+02 1.18646308e+00]\n",
      "RSS:  3275291839299.58\n",
      "Iteration:  320\n",
      "weights:  [6.87020726e-02 1.07099222e+02 1.14488588e+00]\n",
      "RSS:  3268551346397.3027\n",
      "Iteration:  330\n",
      "weights:  [6.92110695e-02 1.07570310e+02 1.10712027e+00]\n",
      "RSS:  3262990072999.898\n",
      "Iteration:  340\n",
      "weights:  [6.96954799e-02 1.07998210e+02 1.07281682e+00]\n",
      "RSS:  3258401719811.4683\n",
      "Iteration:  350\n",
      "weights:  [7.01575577e-02 1.08386883e+02 1.04165814e+00]\n",
      "RSS:  3254616078695.831\n",
      "Iteration:  360\n",
      "weights:  [7.05993502e-02 1.08739925e+02 1.01335592e+00]\n",
      "RSS:  3251492718685.943\n",
      "Iteration:  370\n",
      "weights:  [7.10227172e-02 1.09060601e+02 9.87648317e-01]\n",
      "RSS:  3248915776598.371\n",
      "Iteration:  380\n",
      "weights:  [7.14293476e-02 1.09351879e+02 9.64297454e-01]\n",
      "RSS:  3246789659006.9766\n",
      "Iteration:  390\n",
      "weights:  [7.18207760e-02 1.09616454e+02 9.43087281e-01]\n",
      "RSS:  3245035496137.516\n",
      "Iteration:  400\n",
      "weights:  [7.21983959e-02 1.09856775e+02 9.23821549e-01]\n",
      "RSS:  3243588216137.8667\n",
      "Iteration:  410\n",
      "weights:  [7.25634732e-02 1.10075064e+02 9.06322002e-01]\n",
      "RSS:  3242394131191.8896\n",
      "Iteration:  420\n",
      "weights:  [7.29171578e-02 1.10273341e+02 8.90426726e-01]\n",
      "RSS:  3241408945932.1143\n",
      "Iteration:  430\n",
      "weights:  [7.32604941e-02 1.10453441e+02 8.75988648e-01]\n",
      "RSS:  3240596114271.915\n",
      "Iteration:  440\n",
      "weights:  [7.35944307e-02 1.10617031e+02 8.62874181e-01]\n",
      "RSS:  3239925483702.711\n",
      "Iteration:  450\n",
      "weights:  [7.39198294e-02 1.10765623e+02 8.50961982e-01]\n",
      "RSS:  3239372176765.449\n",
      "Iteration:  460\n",
      "weights:  [7.42374730e-02 1.10900594e+02 8.40141833e-01]\n",
      "RSS:  3238915668203.753\n",
      "Iteration:  470\n",
      "weights:  [7.45480722e-02 1.11023191e+02 8.30313621e-01]\n",
      "RSS:  3238539023565.0957\n",
      "Iteration:  480\n",
      "weights:  [7.48522730e-02 1.11134548e+02 8.21386410e-01]\n",
      "RSS:  3238228271005.37\n",
      "Iteration:  490\n",
      "weights:  [7.51506619e-02 1.11235697e+02 8.13277601e-01]\n",
      "RSS:  3237971882993.5\n",
      "Iteration:  500\n",
      "weights:  [7.54437717e-02 1.11327574e+02 8.05912166e-01]\n",
      "RSS:  3237760348689.5635\n",
      "Iteration:  510\n",
      "weights:  [7.57320864e-02 1.11411027e+02 7.99221957e-01]\n",
      "RSS:  3237585821133.491\n",
      "Iteration:  520\n",
      "weights:  [7.60160456e-02 1.11486830e+02 7.93145073e-01]\n",
      "RSS:  3237441826156.5693\n",
      "Iteration:  530\n",
      "weights:  [7.62960485e-02 1.11555684e+02 7.87625287e-01]\n",
      "RSS:  3237323022217.587\n",
      "Iteration:  540\n",
      "weights:  [7.65724579e-02 1.11618225e+02 7.82611527e-01]\n",
      "RSS:  3237225002254.6113\n",
      "Iteration:  550\n",
      "weights:  [7.68456032e-02 1.11675033e+02 7.78057403e-01]\n",
      "RSS:  3237144130201.926\n",
      "Iteration:  560\n",
      "weights:  [7.71157836e-02 1.11726633e+02 7.73920778e-01]\n",
      "RSS:  3237077406107.6074\n",
      "Iteration:  570\n",
      "weights:  [7.73832709e-02 1.11773503e+02 7.70163378e-01]\n",
      "RSS:  3237022354848.208\n",
      "Iteration:  580\n",
      "weights:  [7.76483120e-02 1.11816075e+02 7.66750438e-01]\n",
      "RSS:  3236976934312.299\n"
     ]
    }
   ],
   "source": [
    "model1 = linear_regression(track_rss=True)\n",
    "model1.fit(train_feature_matrix, train_output, step_size, tolerance, verbose=True)"
   ]
  },
  {
   "cell_type": "markdown",
   "metadata": {},
   "source": [
    "## 3. Analyzing the fitted model"
   ]
  },
  {
   "cell_type": "markdown",
   "metadata": {},
   "source": [
    "**Coefficients of the model**"
   ]
  },
  {
   "cell_type": "code",
   "execution_count": 12,
   "metadata": {},
   "outputs": [
    {
     "name": "stdout",
     "output_type": "stream",
     "text": [
      "Coefficients:  [7.77273815e-02 1.11828069e+02 7.65788926e-01]\n"
     ]
    }
   ],
   "source": [
    "print(\"Coefficients: \", model1.coefficients)"
   ]
  },
  {
   "cell_type": "markdown",
   "metadata": {},
   "source": [
    "**Extract the feature matrix and output vector from the test set**"
   ]
  },
  {
   "cell_type": "code",
   "execution_count": 13,
   "metadata": {},
   "outputs": [],
   "source": [
    "(test_feature_matrix, test_output) = get_xy_data(test_data, model_features, output)"
   ]
  },
  {
   "cell_type": "markdown",
   "metadata": {},
   "source": [
    "**RSS of the model**"
   ]
  },
  {
   "cell_type": "code",
   "execution_count": 14,
   "metadata": {},
   "outputs": [
    {
     "name": "stdout",
     "output_type": "stream",
     "text": [
      "Test RSS of model 1:  1335532206856.3508\n"
     ]
    }
   ],
   "source": [
    "print(\"Test RSS of model 1: \", model1.rss(test_feature_matrix, test_output))"
   ]
  },
  {
   "cell_type": "markdown",
   "metadata": {},
   "source": [
    "## 4. Visualize the fitted model"
   ]
  },
  {
   "cell_type": "markdown",
   "metadata": {},
   "source": [
    "**Import matplotlib plot module**"
   ]
  },
  {
   "cell_type": "code",
   "execution_count": 15,
   "metadata": {},
   "outputs": [],
   "source": [
    "import matplotlib.pyplot as plt\n",
    "import matplotlib\n",
    "%matplotlib inline \n",
    "%config InlineBackend.figure_format = 'retina' "
   ]
  },
  {
   "cell_type": "markdown",
   "metadata": {},
   "source": [
    "**Plot of RSS vs Gradient Descent Iteration**"
   ]
  },
  {
   "cell_type": "code",
   "execution_count": 16,
   "metadata": {},
   "outputs": [
    {
     "data": {
      "image/png": "[encoded data removed]",
      "text/plain": [
       "<Figure size 1152x576 with 1 Axes>"
      ]
     },
     "metadata": {
      "image/png": {
       "height": 494,
       "width": 943
      },
      "needs_background": "light"
     },
     "output_type": "display_data"
    }
   ],
   "source": [
    "# Configure the plot size of matplotlib figure\n",
    "matplotlib.rcParams['figure.figsize'] = (16.0, 8.0)\n",
    "# Create the plot\n",
    "plt.plot(model1.rss_log)\n",
    "plt.xlabel(\"Iterations\")\n",
    "plt.ylabel(\"RSS\")\n",
    "plt.title(\"RSS vs Iterations\")\n",
    "plt.grid()"
   ]
  },
  {
   "cell_type": "markdown",
   "metadata": {},
   "source": [
    "We notice that RSS decreases with iteration. If gradient descent is converging then it decreases sharply in the very beginning, as we can see in this case RSS decreased heavily in the first quarter. After initial burst of decrease, the rate of decrease slows down, and finally the curve flattens out. "
   ]
  },
  {
   "cell_type": "markdown",
   "metadata": {},
   "source": [
    "## 5. Model with 1 more feature"
   ]
  },
  {
   "cell_type": "markdown",
   "metadata": {},
   "source": [
    "**Create and fit the model**"
   ]
  },
  {
   "cell_type": "code",
   "execution_count": 17,
   "metadata": {},
   "outputs": [],
   "source": [
    "model_features = ['GrLivArea', 'LotArea', 'GarageArea'] \n",
    "output = 'SalePrice'\n",
    "(train_feature_matrix, train_output) = get_xy_data(train_data, model_features, output)\n",
    "step_size = 4e-12\n",
    "tolerance = 1e9\n",
    "model2 = linear_regression(track_rss=True)\n",
    "model2.fit(train_feature_matrix, train_output, step_size, tolerance, verbose=False)"
   ]
  },
  {
   "cell_type": "markdown",
   "metadata": {},
   "source": [
    "**RSS of the model**"
   ]
  },
  {
   "cell_type": "code",
   "execution_count": 18,
   "metadata": {},
   "outputs": [
    {
     "name": "stdout",
     "output_type": "stream",
     "text": [
      "Test RSS of model 2:  1041599839109.3499\n"
     ]
    }
   ],
   "source": [
    "(test_feature_matrix, test_output) = get_xy_data(test_data, model_features, output)\n",
    "print(\"Test RSS of model 2: \", model2.rss(test_feature_matrix, test_output))"
   ]
  },
  {
   "cell_type": "markdown",
   "metadata": {},
   "source": [
    "**Plot of RSS vs Gradient Descent Iteration**"
   ]
  },
  {
   "cell_type": "code",
   "execution_count": 19,
   "metadata": {},
   "outputs": [
    {
     "data": {
      "image/png": "[encoded data removed]",
      "text/plain": [
       "<Figure size 1152x576 with 1 Axes>"
      ]
     },
     "metadata": {
      "image/png": {
       "height": 494,
       "width": 943
      },
      "needs_background": "light"
     },
     "output_type": "display_data"
    }
   ],
   "source": [
    "plt.plot(model2.rss_log)\n",
    "plt.xlabel(\"Iterations\")\n",
    "plt.ylabel(\"RSS\")\n",
    "plt.title(\"RSS vs Iterations\")\n",
    "plt.grid()"
   ]
  },
  {
   "cell_type": "markdown",
   "metadata": {},
   "source": [
    "## 6. Model with 3 more features"
   ]
  },
  {
   "cell_type": "markdown",
   "metadata": {},
   "source": [
    "**Create and fit the model**"
   ]
  },
  {
   "cell_type": "code",
   "execution_count": 20,
   "metadata": {},
   "outputs": [],
   "source": [
    "# note \"3 more features\" means 3 more features with respect to first model, model 1;\n",
    "# and 2 more features with respect to model 2 \n",
    "model_features = ['GrLivArea', 'LotArea', 'GarageArea', 'BedroomAbvGr','FullBath'] \n",
    "output = 'SalePrice'\n",
    "(train_feature_matrix, train_output) = get_xy_data(train_data, model_features, output)\n",
    "step_size = 4e-12\n",
    "tolerance = 1e9\n",
    "model3 = linear_regression(track_rss=True)\n",
    "model3.fit(train_feature_matrix, train_output, step_size, tolerance, verbose=False)"
   ]
  },
  {
   "cell_type": "markdown",
   "metadata": {},
   "source": [
    "**RSS of the model**"
   ]
  },
  {
   "cell_type": "code",
   "execution_count": 21,
   "metadata": {},
   "outputs": [
    {
     "name": "stdout",
     "output_type": "stream",
     "text": [
      "Test RSS of model 3:  1041595782521.2959\n"
     ]
    }
   ],
   "source": [
    "(test_feature_matrix, test_output) = get_xy_data(test_data, model_features, output)\n",
    "print(\"Test RSS of model 3: \", model3.rss(test_feature_matrix, test_output))"
   ]
  },
  {
   "cell_type": "markdown",
   "metadata": {},
   "source": [
    "**Plot of RSS vs Gradient Descent Iteration**"
   ]
  },
  {
   "cell_type": "code",
   "execution_count": 22,
   "metadata": {},
   "outputs": [
    {
     "data": {
      "image/png": "[encoded data removed]",
      "text/plain": [
       "<Figure size 1152x576 with 1 Axes>"
      ]
     },
     "metadata": {
      "image/png": {
       "height": 494,
       "width": 943
      },
      "needs_background": "light"
     },
     "output_type": "display_data"
    }
   ],
   "source": [
    "plt.plot(model3.rss_log)\n",
    "plt.xlabel(\"Iterations\")\n",
    "plt.ylabel(\"RSS\")\n",
    "plt.title(\"RSS vs Iterations\")\n",
    "plt.grid()"
   ]
  }
 ],
 "metadata": {
  "kernelspec": {
   "display_name": "Python 3",
   "language": "python",
   "name": "python3"
  },
  "language_info": {
   "codemirror_mode": {
    "name": "ipython",
    "version": 3
   },
   "file_extension": ".py",
   "mimetype": "text/x-python",
   "name": "python",
   "nbconvert_exporter": "python",
   "pygments_lexer": "ipython3",
   "version": "3.8.12"
  }
 },
 "nbformat": 4,
 "nbformat_minor": 2
}
