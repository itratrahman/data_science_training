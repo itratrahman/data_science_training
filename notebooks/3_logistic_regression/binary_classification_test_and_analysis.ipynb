{
 "cells": [
  {
   "cell_type": "markdown",
   "metadata": {},
   "source": [
    "# 1. BINARY CLASSIFICATION TEST"
   ]
  },
  {
   "cell_type": "markdown",
   "metadata": {},
   "source": [
    "In the first section of this jupyter notebook, we test our class module of logistic regression binary classifier by investigating the decision boundary of a fitted model using a mesh plot"
   ]
  },
  {
   "cell_type": "markdown",
   "metadata": {},
   "source": [
    "**Add the directory of the m_learn package to the system path**"
   ]
  },
  {
   "cell_type": "code",
   "execution_count": 1,
   "metadata": {},
   "outputs": [],
   "source": [
    "from config import *\n",
    "append_path('../../')"
   ]
  },
  {
   "cell_type": "markdown",
   "metadata": {},
   "source": [
    "**Import neccessary packages and modules**"
   ]
  },
  {
   "cell_type": "code",
   "execution_count": 2,
   "metadata": {},
   "outputs": [],
   "source": [
    "import numpy as np\n",
    "import pandas as pd\n",
    "np.random.seed(0)\n",
    "from m_learn.logistic_regression import binary_classifier\n",
    "from m_learn.utility.data_preprocessing import get_xy_data, mesh_data, train_test_feature_scaler\n",
    "import matplotlib\n",
    "from matplotlib import pyplot as plt\n",
    "from sklearn.metrics import accuracy_score\n",
    "%matplotlib inline\n",
    "%config InlineBackend.figure_format = 'retina'"
   ]
  },
  {
   "cell_type": "markdown",
   "metadata": {},
   "source": [
    "## 1.1 Create 2 clusters/classes of 2D data"
   ]
  },
  {
   "cell_type": "markdown",
   "metadata": {},
   "source": [
    "**Create x values of the 2 clusters**"
   ]
  },
  {
   "cell_type": "code",
   "execution_count": 3,
   "metadata": {},
   "outputs": [],
   "source": [
    "# std of the random distribution\n",
    "sigma = 2.5\n",
    "# size of each class\n",
    "cls_size = 500\n",
    "# create x data of first class\n",
    "x11 = np.random.normal(20, sigma, cls_size)\n",
    "x21 = np.random.normal(20, sigma, cls_size)\n",
    "# create x data of second class\n",
    "x12 = np.random.normal(45, sigma, cls_size)\n",
    "x22 = np.random.normal(30, sigma, cls_size)"
   ]
  },
  {
   "cell_type": "markdown",
   "metadata": {},
   "source": [
    "**Append the feature 1(x1) & feature 2 (x2) values of the 2 clusters**"
   ]
  },
  {
   "cell_type": "code",
   "execution_count": 4,
   "metadata": {},
   "outputs": [],
   "source": [
    "x1 = np.append(x11,x12)\n",
    "x2 = np.append(x21,x22)"
   ]
  },
  {
   "cell_type": "markdown",
   "metadata": {},
   "source": [
    "**Create the labels of the 2 clusters**"
   ]
  },
  {
   "cell_type": "code",
   "execution_count": 5,
   "metadata": {},
   "outputs": [],
   "source": [
    "y = [0 for i in range(cls_size)] + [1 for i in range(cls_size)]"
   ]
  },
  {
   "cell_type": "markdown",
   "metadata": {},
   "source": [
    "**Store the xy data in a pandas dataframe**"
   ]
  },
  {
   "cell_type": "code",
   "execution_count": 6,
   "metadata": {},
   "outputs": [],
   "source": [
    "data = pd.DataFrame({\"x1\": x1, \"x2\": x2, \"y\":y})"
   ]
  },
  {
   "cell_type": "code",
   "execution_count": 7,
   "metadata": {},
   "outputs": [
    {
     "data": {
      "text/html": [
       "<div>\n",
       "<style scoped>\n",
       "    .dataframe tbody tr th:only-of-type {\n",
       "        vertical-align: middle;\n",
       "    }\n",
       "\n",
       "    .dataframe tbody tr th {\n",
       "        vertical-align: top;\n",
       "    }\n",
       "\n",
       "    .dataframe thead th {\n",
       "        text-align: right;\n",
       "    }\n",
       "</style>\n",
       "<table border=\"1\" class=\"dataframe\">\n",
       "  <thead>\n",
       "    <tr style=\"text-align: right;\">\n",
       "      <th></th>\n",
       "      <th>x1</th>\n",
       "      <th>x2</th>\n",
       "      <th>y</th>\n",
       "    </tr>\n",
       "  </thead>\n",
       "  <tbody>\n",
       "    <tr>\n",
       "      <th>0</th>\n",
       "      <td>24.410131</td>\n",
       "      <td>20.956831</td>\n",
       "      <td>0</td>\n",
       "    </tr>\n",
       "    <tr>\n",
       "      <th>1</th>\n",
       "      <td>21.000393</td>\n",
       "      <td>19.914394</td>\n",
       "      <td>0</td>\n",
       "    </tr>\n",
       "    <tr>\n",
       "      <th>2</th>\n",
       "      <td>22.446845</td>\n",
       "      <td>22.740867</td>\n",
       "      <td>0</td>\n",
       "    </tr>\n",
       "    <tr>\n",
       "      <th>3</th>\n",
       "      <td>25.602233</td>\n",
       "      <td>19.414460</td>\n",
       "      <td>0</td>\n",
       "    </tr>\n",
       "    <tr>\n",
       "      <th>4</th>\n",
       "      <td>24.668895</td>\n",
       "      <td>19.131373</td>\n",
       "      <td>0</td>\n",
       "    </tr>\n",
       "  </tbody>\n",
       "</table>\n",
       "</div>"
      ],
      "text/plain": [
       "          x1         x2  y\n",
       "0  24.410131  20.956831  0\n",
       "1  21.000393  19.914394  0\n",
       "2  22.446845  22.740867  0\n",
       "3  25.602233  19.414460  0\n",
       "4  24.668895  19.131373  0"
      ]
     },
     "execution_count": 7,
     "metadata": {},
     "output_type": "execute_result"
    }
   ],
   "source": [
    "data.head(5)"
   ]
  },
  {
   "cell_type": "code",
   "execution_count": 8,
   "metadata": {},
   "outputs": [
    {
     "data": {
      "text/html": [
       "<div>\n",
       "<style scoped>\n",
       "    .dataframe tbody tr th:only-of-type {\n",
       "        vertical-align: middle;\n",
       "    }\n",
       "\n",
       "    .dataframe tbody tr th {\n",
       "        vertical-align: top;\n",
       "    }\n",
       "\n",
       "    .dataframe thead th {\n",
       "        text-align: right;\n",
       "    }\n",
       "</style>\n",
       "<table border=\"1\" class=\"dataframe\">\n",
       "  <thead>\n",
       "    <tr style=\"text-align: right;\">\n",
       "      <th></th>\n",
       "      <th>x1</th>\n",
       "      <th>x2</th>\n",
       "      <th>y</th>\n",
       "    </tr>\n",
       "  </thead>\n",
       "  <tbody>\n",
       "    <tr>\n",
       "      <th>995</th>\n",
       "      <td>48.296378</td>\n",
       "      <td>30.244377</td>\n",
       "      <td>1</td>\n",
       "    </tr>\n",
       "    <tr>\n",
       "      <th>996</th>\n",
       "      <td>44.401759</td>\n",
       "      <td>33.503809</td>\n",
       "      <td>1</td>\n",
       "    </tr>\n",
       "    <tr>\n",
       "      <th>997</th>\n",
       "      <td>44.383016</td>\n",
       "      <td>30.396085</td>\n",
       "      <td>1</td>\n",
       "    </tr>\n",
       "    <tr>\n",
       "      <th>998</th>\n",
       "      <td>42.301642</td>\n",
       "      <td>27.145246</td>\n",
       "      <td>1</td>\n",
       "    </tr>\n",
       "    <tr>\n",
       "      <th>999</th>\n",
       "      <td>44.714436</td>\n",
       "      <td>26.722574</td>\n",
       "      <td>1</td>\n",
       "    </tr>\n",
       "  </tbody>\n",
       "</table>\n",
       "</div>"
      ],
      "text/plain": [
       "            x1         x2  y\n",
       "995  48.296378  30.244377  1\n",
       "996  44.401759  33.503809  1\n",
       "997  44.383016  30.396085  1\n",
       "998  42.301642  27.145246  1\n",
       "999  44.714436  26.722574  1"
      ]
     },
     "execution_count": 8,
     "metadata": {},
     "output_type": "execute_result"
    }
   ],
   "source": [
    "data.tail(5)"
   ]
  },
  {
   "cell_type": "markdown",
   "metadata": {},
   "source": [
    "## 1.2 Scatter plot of different classes"
   ]
  },
  {
   "cell_type": "markdown",
   "metadata": {},
   "source": [
    "**Extract the data of the 2 classes**"
   ]
  },
  {
   "cell_type": "code",
   "execution_count": 9,
   "metadata": {},
   "outputs": [],
   "source": [
    "class1 = data[data[\"y\"] == 0]\n",
    "class2 = data[data[\"y\"] == 1]"
   ]
  },
  {
   "cell_type": "markdown",
   "metadata": {},
   "source": [
    "**Scatter plot of the 2 classes**"
   ]
  },
  {
   "cell_type": "code",
   "execution_count": 10,
   "metadata": {},
   "outputs": [
    {
     "data": {
      "image/png": "[encoded data removed]",
      "text/plain": [
       "<Figure size 432x288 with 1 Axes>"
      ]
     },
     "metadata": {
      "image/png": {
       "height": 261,
       "width": 382
      },
      "needs_background": "light"
     },
     "output_type": "display_data"
    }
   ],
   "source": [
    "plt.scatter(class1[\"x1\"], class1[\"x2\"], c = 'b', linewidths=0.01, label = 'class1')\n",
    "plt.scatter(class2[\"x1\"], class2[\"x2\"], c = 'k', linewidths=0.01, label = 'class2')\n",
    "plt.legend(loc='lower right')\n",
    "plt.xlabel(\"x1\")\n",
    "plt.ylabel(\"x2\")\n",
    "plt.grid()\n",
    "plt.show()"
   ]
  },
  {
   "cell_type": "markdown",
   "metadata": {},
   "source": [
    "## 1.3 Train classifier using the data"
   ]
  },
  {
   "cell_type": "markdown",
   "metadata": {},
   "source": [
    "**Create the classifier object**"
   ]
  },
  {
   "cell_type": "code",
   "execution_count": 11,
   "metadata": {},
   "outputs": [],
   "source": [
    "model = binary_classifier(track_logistic_cost=True) "
   ]
  },
  {
   "cell_type": "markdown",
   "metadata": {},
   "source": [
    "**Model Parameters**"
   ]
  },
  {
   "cell_type": "code",
   "execution_count": 12,
   "metadata": {},
   "outputs": [],
   "source": [
    "# step size/learning rate of the model\n",
    "step_size = 1e-2\n",
    "# max iterations\n",
    "maximum_iterations = 100001"
   ]
  },
  {
   "cell_type": "markdown",
   "metadata": {},
   "source": [
    "**Extract feature matrix and labels**"
   ]
  },
  {
   "cell_type": "code",
   "execution_count": 13,
   "metadata": {},
   "outputs": [],
   "source": [
    "# features of the model\n",
    "features = ['x1', 'x2']\n",
    "# features of the model\n",
    "output = 'y'\n",
    "# extract xy data\n",
    "(X, y) = get_xy_data(data, features, output)"
   ]
  },
  {
   "cell_type": "markdown",
   "metadata": {},
   "source": [
    "**Fit the model**"
   ]
  },
  {
   "cell_type": "code",
   "execution_count": 14,
   "metadata": {},
   "outputs": [
    {
     "name": "stdout",
     "output_type": "stream",
     "text": [
      "iteration   2000: logistic cost = 0.14922237\n",
      "iteration   4000: logistic cost = 0.13319060\n",
      "iteration   6000: logistic cost = 0.11933557\n",
      "iteration   8000: logistic cost = 0.10736749\n",
      "iteration  10000: logistic cost = 0.09703588\n",
      "iteration  12000: logistic cost = 0.08810830\n",
      "iteration  14000: logistic cost = 0.08037685\n",
      "iteration  16000: logistic cost = 0.07366028\n",
      "iteration  18000: logistic cost = 0.06780340\n",
      "iteration  20000: logistic cost = 0.06267492\n",
      "iteration  22000: logistic cost = 0.05816456\n",
      "iteration  24000: logistic cost = 0.05418010\n",
      "iteration  26000: logistic cost = 0.05064454\n",
      "iteration  28000: logistic cost = 0.04749356\n",
      "iteration  30000: logistic cost = 0.04467339\n",
      "iteration  32000: logistic cost = 0.04213894\n",
      "iteration  34000: logistic cost = 0.03985232\n",
      "iteration  36000: logistic cost = 0.03778154\n",
      "iteration  38000: logistic cost = 0.03589955\n",
      "iteration  40000: logistic cost = 0.03418332\n",
      "iteration  42000: logistic cost = 0.03261322\n",
      "iteration  44000: logistic cost = 0.03117242\n",
      "iteration  46000: logistic cost = 0.02984646\n",
      "iteration  48000: logistic cost = 0.02862283\n",
      "iteration  50000: logistic cost = 0.02749072\n",
      "iteration  52000: logistic cost = 0.02644070\n",
      "iteration  54000: logistic cost = 0.02546455\n",
      "iteration  56000: logistic cost = 0.02455508\n",
      "iteration  58000: logistic cost = 0.02370594\n",
      "iteration  60000: logistic cost = 0.02291155\n",
      "iteration  62000: logistic cost = 0.02216699\n",
      "iteration  64000: logistic cost = 0.02146787\n",
      "iteration  66000: logistic cost = 0.02081028\n",
      "iteration  68000: logistic cost = 0.02019076\n",
      "iteration  70000: logistic cost = 0.01960619\n",
      "iteration  72000: logistic cost = 0.01905378\n",
      "iteration  74000: logistic cost = 0.01853103\n",
      "iteration  76000: logistic cost = 0.01803566\n",
      "iteration  78000: logistic cost = 0.01756565\n",
      "iteration  80000: logistic cost = 0.01711914\n",
      "iteration  82000: logistic cost = 0.01669445\n",
      "iteration  84000: logistic cost = 0.01629006\n",
      "iteration  86000: logistic cost = 0.01590457\n",
      "iteration  88000: logistic cost = 0.01553673\n",
      "iteration  90000: logistic cost = 0.01518537\n",
      "iteration  92000: logistic cost = 0.01484943\n",
      "iteration  94000: logistic cost = 0.01452793\n",
      "iteration  96000: logistic cost = 0.01421998\n",
      "iteration  98000: logistic cost = 0.01392476\n",
      "iteration 100000: logistic cost = 0.01364151\n",
      "Completed performing Gradient Descent\n"
     ]
    }
   ],
   "source": [
    "model.fit(X, y, step_size, maximum_iterations = maximum_iterations, verbose = True)"
   ]
  },
  {
   "cell_type": "markdown",
   "metadata": {},
   "source": [
    "## 1.4 Visualize the decision boundary using mesh plot"
   ]
  },
  {
   "cell_type": "markdown",
   "metadata": {},
   "source": [
    "**Create mesh points**"
   ]
  },
  {
   "cell_type": "code",
   "execution_count": 15,
   "metadata": {},
   "outputs": [],
   "source": [
    "# step in mesh plot\n",
    "mesh_step = 0.5\n",
    "# extract the xx & yy matrices and the flattened mesh points\n",
    "xx, yy, mesh_points = mesh_data(data, features, mesh_step, boudary_extension=5)\n",
    "# create mesh points\n",
    "mesh_points = get_xy_data(mesh_points, features)"
   ]
  },
  {
   "cell_type": "markdown",
   "metadata": {},
   "source": [
    "**Compute predictions**"
   ]
  },
  {
   "cell_type": "code",
   "execution_count": 16,
   "metadata": {},
   "outputs": [],
   "source": [
    "# compute predictions \n",
    "predictions = model.predict(mesh_points)\n",
    "# reshape predictions so that it fits the meshplot\n",
    "predictions = predictions.reshape(xx.shape)"
   ]
  },
  {
   "cell_type": "markdown",
   "metadata": {},
   "source": [
    "**Mesh plot**"
   ]
  },
  {
   "cell_type": "code",
   "execution_count": 17,
   "metadata": {},
   "outputs": [
    {
     "data": {
      "image/png": "[encoded data removed]",
      "text/plain": [
       "<Figure size 432x288 with 1 Axes>"
      ]
     },
     "metadata": {
      "image/png": {
       "height": 261,
       "width": 382
      },
      "needs_background": "light"
     },
     "output_type": "display_data"
    }
   ],
   "source": [
    "plt.pcolormesh(xx, yy, predictions, cmap=plt.cm.Paired)\n",
    "plt.scatter(class1[\"x1\"], class1[\"x2\"], c = 'b', linewidths=0.01, label = 'class1')\n",
    "plt.scatter(class2[\"x1\"], class2[\"x2\"], c = 'k', linewidths=0.01, label = 'class2')\n",
    "plt.legend(loc='lower right')\n",
    "plt.xlabel(\"x1\")\n",
    "plt.ylabel(\"x2\")\n",
    "plt.show()"
   ]
  },
  {
   "cell_type": "markdown",
   "metadata": {},
   "source": [
    "**Training accuracy of the model**"
   ]
  },
  {
   "cell_type": "code",
   "execution_count": 18,
   "metadata": {},
   "outputs": [
    {
     "name": "stdout",
     "output_type": "stream",
     "text": [
      "Model accuracy: 1.0\n"
     ]
    }
   ],
   "source": [
    "print(\"Model accuracy:\",model.accuracy(X, y))"
   ]
  },
  {
   "cell_type": "markdown",
   "metadata": {},
   "source": [
    "# 2. BINARY CLASSIFICATION ANALYSIS"
   ]
  },
  {
   "cell_type": "markdown",
   "metadata": {},
   "source": [
    "In the second section of this jupyter notebook, we will fit a logistic regression classifier to classify for breast cancer diagnosis."
   ]
  },
  {
   "cell_type": "markdown",
   "metadata": {},
   "source": [
    "## 2.1 Load and preprocess data"
   ]
  },
  {
   "cell_type": "markdown",
   "metadata": {},
   "source": [
    "**Load cancer diagnosis data**"
   ]
  },
  {
   "cell_type": "code",
   "execution_count": 19,
   "metadata": {},
   "outputs": [],
   "source": [
    "from sklearn import datasets\n",
    "cancer_data = datasets.load_breast_cancer()"
   ]
  },
  {
   "cell_type": "markdown",
   "metadata": {},
   "source": [
    "**Features & output of the model**"
   ]
  },
  {
   "cell_type": "code",
   "execution_count": 20,
   "metadata": {},
   "outputs": [],
   "source": [
    "features = cancer_data.feature_names.tolist()\n",
    "output = 'labels'"
   ]
  },
  {
   "cell_type": "markdown",
   "metadata": {},
   "source": [
    "**Store the data in a pandas dataframe**"
   ]
  },
  {
   "cell_type": "code",
   "execution_count": 21,
   "metadata": {},
   "outputs": [],
   "source": [
    "data = pd.DataFrame(cancer_data.data, columns=features)\n",
    "data[output] = cancer_data.target\n",
    "data = data.sample(frac=1, random_state=0).reset_index(drop=True)"
   ]
  },
  {
   "cell_type": "code",
   "execution_count": 22,
   "metadata": {},
   "outputs": [
    {
     "data": {
      "text/html": [
       "<div>\n",
       "<style scoped>\n",
       "    .dataframe tbody tr th:only-of-type {\n",
       "        vertical-align: middle;\n",
       "    }\n",
       "\n",
       "    .dataframe tbody tr th {\n",
       "        vertical-align: top;\n",
       "    }\n",
       "\n",
       "    .dataframe thead th {\n",
       "        text-align: right;\n",
       "    }\n",
       "</style>\n",
       "<table border=\"1\" class=\"dataframe\">\n",
       "  <thead>\n",
       "    <tr style=\"text-align: right;\">\n",
       "      <th></th>\n",
       "      <th>mean radius</th>\n",
       "      <th>mean texture</th>\n",
       "      <th>mean perimeter</th>\n",
       "      <th>mean area</th>\n",
       "      <th>mean smoothness</th>\n",
       "      <th>mean compactness</th>\n",
       "      <th>mean concavity</th>\n",
       "      <th>mean concave points</th>\n",
       "      <th>mean symmetry</th>\n",
       "      <th>mean fractal dimension</th>\n",
       "      <th>...</th>\n",
       "      <th>worst texture</th>\n",
       "      <th>worst perimeter</th>\n",
       "      <th>worst area</th>\n",
       "      <th>worst smoothness</th>\n",
       "      <th>worst compactness</th>\n",
       "      <th>worst concavity</th>\n",
       "      <th>worst concave points</th>\n",
       "      <th>worst symmetry</th>\n",
       "      <th>worst fractal dimension</th>\n",
       "      <th>labels</th>\n",
       "    </tr>\n",
       "  </thead>\n",
       "  <tbody>\n",
       "    <tr>\n",
       "      <th>0</th>\n",
       "      <td>13.400</td>\n",
       "      <td>20.52</td>\n",
       "      <td>88.64</td>\n",
       "      <td>556.7</td>\n",
       "      <td>0.11060</td>\n",
       "      <td>0.14690</td>\n",
       "      <td>0.14450</td>\n",
       "      <td>0.081720</td>\n",
       "      <td>0.2116</td>\n",
       "      <td>0.07325</td>\n",
       "      <td>...</td>\n",
       "      <td>29.66</td>\n",
       "      <td>113.30</td>\n",
       "      <td>844.4</td>\n",
       "      <td>0.15740</td>\n",
       "      <td>0.38560</td>\n",
       "      <td>0.51060</td>\n",
       "      <td>0.20510</td>\n",
       "      <td>0.3585</td>\n",
       "      <td>0.11090</td>\n",
       "      <td>0</td>\n",
       "    </tr>\n",
       "    <tr>\n",
       "      <th>1</th>\n",
       "      <td>13.210</td>\n",
       "      <td>25.25</td>\n",
       "      <td>84.10</td>\n",
       "      <td>537.9</td>\n",
       "      <td>0.08791</td>\n",
       "      <td>0.05205</td>\n",
       "      <td>0.02772</td>\n",
       "      <td>0.020680</td>\n",
       "      <td>0.1619</td>\n",
       "      <td>0.05584</td>\n",
       "      <td>...</td>\n",
       "      <td>34.23</td>\n",
       "      <td>91.29</td>\n",
       "      <td>632.9</td>\n",
       "      <td>0.12890</td>\n",
       "      <td>0.10630</td>\n",
       "      <td>0.13900</td>\n",
       "      <td>0.06005</td>\n",
       "      <td>0.2444</td>\n",
       "      <td>0.06788</td>\n",
       "      <td>1</td>\n",
       "    </tr>\n",
       "    <tr>\n",
       "      <th>2</th>\n",
       "      <td>14.020</td>\n",
       "      <td>15.66</td>\n",
       "      <td>89.59</td>\n",
       "      <td>606.5</td>\n",
       "      <td>0.07966</td>\n",
       "      <td>0.05581</td>\n",
       "      <td>0.02087</td>\n",
       "      <td>0.026520</td>\n",
       "      <td>0.1589</td>\n",
       "      <td>0.05586</td>\n",
       "      <td>...</td>\n",
       "      <td>19.31</td>\n",
       "      <td>96.53</td>\n",
       "      <td>688.9</td>\n",
       "      <td>0.10340</td>\n",
       "      <td>0.10170</td>\n",
       "      <td>0.06260</td>\n",
       "      <td>0.08216</td>\n",
       "      <td>0.2136</td>\n",
       "      <td>0.06710</td>\n",
       "      <td>1</td>\n",
       "    </tr>\n",
       "    <tr>\n",
       "      <th>3</th>\n",
       "      <td>14.260</td>\n",
       "      <td>18.17</td>\n",
       "      <td>91.22</td>\n",
       "      <td>633.1</td>\n",
       "      <td>0.06576</td>\n",
       "      <td>0.05220</td>\n",
       "      <td>0.02475</td>\n",
       "      <td>0.013740</td>\n",
       "      <td>0.1635</td>\n",
       "      <td>0.05586</td>\n",
       "      <td>...</td>\n",
       "      <td>25.26</td>\n",
       "      <td>105.80</td>\n",
       "      <td>819.7</td>\n",
       "      <td>0.09445</td>\n",
       "      <td>0.21670</td>\n",
       "      <td>0.15650</td>\n",
       "      <td>0.07530</td>\n",
       "      <td>0.2636</td>\n",
       "      <td>0.07676</td>\n",
       "      <td>1</td>\n",
       "    </tr>\n",
       "    <tr>\n",
       "      <th>4</th>\n",
       "      <td>13.030</td>\n",
       "      <td>18.42</td>\n",
       "      <td>82.61</td>\n",
       "      <td>523.8</td>\n",
       "      <td>0.08983</td>\n",
       "      <td>0.03766</td>\n",
       "      <td>0.02562</td>\n",
       "      <td>0.029230</td>\n",
       "      <td>0.1467</td>\n",
       "      <td>0.05863</td>\n",
       "      <td>...</td>\n",
       "      <td>22.81</td>\n",
       "      <td>84.46</td>\n",
       "      <td>545.9</td>\n",
       "      <td>0.09701</td>\n",
       "      <td>0.04619</td>\n",
       "      <td>0.04833</td>\n",
       "      <td>0.05013</td>\n",
       "      <td>0.1987</td>\n",
       "      <td>0.06169</td>\n",
       "      <td>1</td>\n",
       "    </tr>\n",
       "    <tr>\n",
       "      <th>5</th>\n",
       "      <td>11.340</td>\n",
       "      <td>18.61</td>\n",
       "      <td>72.76</td>\n",
       "      <td>391.2</td>\n",
       "      <td>0.10490</td>\n",
       "      <td>0.08499</td>\n",
       "      <td>0.04302</td>\n",
       "      <td>0.025940</td>\n",
       "      <td>0.1927</td>\n",
       "      <td>0.06211</td>\n",
       "      <td>...</td>\n",
       "      <td>23.03</td>\n",
       "      <td>79.15</td>\n",
       "      <td>478.6</td>\n",
       "      <td>0.14830</td>\n",
       "      <td>0.15740</td>\n",
       "      <td>0.16240</td>\n",
       "      <td>0.08542</td>\n",
       "      <td>0.3060</td>\n",
       "      <td>0.06783</td>\n",
       "      <td>1</td>\n",
       "    </tr>\n",
       "    <tr>\n",
       "      <th>6</th>\n",
       "      <td>12.050</td>\n",
       "      <td>22.72</td>\n",
       "      <td>78.75</td>\n",
       "      <td>447.8</td>\n",
       "      <td>0.06935</td>\n",
       "      <td>0.10730</td>\n",
       "      <td>0.07943</td>\n",
       "      <td>0.029780</td>\n",
       "      <td>0.1203</td>\n",
       "      <td>0.06659</td>\n",
       "      <td>...</td>\n",
       "      <td>28.71</td>\n",
       "      <td>87.36</td>\n",
       "      <td>488.4</td>\n",
       "      <td>0.08799</td>\n",
       "      <td>0.32140</td>\n",
       "      <td>0.29120</td>\n",
       "      <td>0.10920</td>\n",
       "      <td>0.2191</td>\n",
       "      <td>0.09349</td>\n",
       "      <td>1</td>\n",
       "    </tr>\n",
       "    <tr>\n",
       "      <th>7</th>\n",
       "      <td>11.700</td>\n",
       "      <td>19.11</td>\n",
       "      <td>74.33</td>\n",
       "      <td>418.7</td>\n",
       "      <td>0.08814</td>\n",
       "      <td>0.05253</td>\n",
       "      <td>0.01583</td>\n",
       "      <td>0.011480</td>\n",
       "      <td>0.1936</td>\n",
       "      <td>0.06128</td>\n",
       "      <td>...</td>\n",
       "      <td>26.55</td>\n",
       "      <td>80.92</td>\n",
       "      <td>483.1</td>\n",
       "      <td>0.12230</td>\n",
       "      <td>0.10870</td>\n",
       "      <td>0.07915</td>\n",
       "      <td>0.05741</td>\n",
       "      <td>0.3487</td>\n",
       "      <td>0.06958</td>\n",
       "      <td>1</td>\n",
       "    </tr>\n",
       "    <tr>\n",
       "      <th>8</th>\n",
       "      <td>7.729</td>\n",
       "      <td>25.49</td>\n",
       "      <td>47.98</td>\n",
       "      <td>178.8</td>\n",
       "      <td>0.08098</td>\n",
       "      <td>0.04878</td>\n",
       "      <td>0.00000</td>\n",
       "      <td>0.000000</td>\n",
       "      <td>0.1870</td>\n",
       "      <td>0.07285</td>\n",
       "      <td>...</td>\n",
       "      <td>30.92</td>\n",
       "      <td>57.17</td>\n",
       "      <td>248.0</td>\n",
       "      <td>0.12560</td>\n",
       "      <td>0.08340</td>\n",
       "      <td>0.00000</td>\n",
       "      <td>0.00000</td>\n",
       "      <td>0.3058</td>\n",
       "      <td>0.09938</td>\n",
       "      <td>1</td>\n",
       "    </tr>\n",
       "    <tr>\n",
       "      <th>9</th>\n",
       "      <td>10.260</td>\n",
       "      <td>14.71</td>\n",
       "      <td>66.20</td>\n",
       "      <td>321.6</td>\n",
       "      <td>0.09882</td>\n",
       "      <td>0.09159</td>\n",
       "      <td>0.03581</td>\n",
       "      <td>0.020370</td>\n",
       "      <td>0.1633</td>\n",
       "      <td>0.07005</td>\n",
       "      <td>...</td>\n",
       "      <td>19.48</td>\n",
       "      <td>70.89</td>\n",
       "      <td>357.1</td>\n",
       "      <td>0.13600</td>\n",
       "      <td>0.16360</td>\n",
       "      <td>0.07162</td>\n",
       "      <td>0.04074</td>\n",
       "      <td>0.2434</td>\n",
       "      <td>0.08488</td>\n",
       "      <td>1</td>\n",
       "    </tr>\n",
       "    <tr>\n",
       "      <th>10</th>\n",
       "      <td>14.690</td>\n",
       "      <td>13.98</td>\n",
       "      <td>98.22</td>\n",
       "      <td>656.1</td>\n",
       "      <td>0.10310</td>\n",
       "      <td>0.18360</td>\n",
       "      <td>0.14500</td>\n",
       "      <td>0.063000</td>\n",
       "      <td>0.2086</td>\n",
       "      <td>0.07406</td>\n",
       "      <td>...</td>\n",
       "      <td>18.34</td>\n",
       "      <td>114.10</td>\n",
       "      <td>809.2</td>\n",
       "      <td>0.13120</td>\n",
       "      <td>0.36350</td>\n",
       "      <td>0.32190</td>\n",
       "      <td>0.11080</td>\n",
       "      <td>0.2827</td>\n",
       "      <td>0.09208</td>\n",
       "      <td>1</td>\n",
       "    </tr>\n",
       "    <tr>\n",
       "      <th>11</th>\n",
       "      <td>14.620</td>\n",
       "      <td>24.02</td>\n",
       "      <td>94.57</td>\n",
       "      <td>662.7</td>\n",
       "      <td>0.08974</td>\n",
       "      <td>0.08606</td>\n",
       "      <td>0.03102</td>\n",
       "      <td>0.029570</td>\n",
       "      <td>0.1685</td>\n",
       "      <td>0.05866</td>\n",
       "      <td>...</td>\n",
       "      <td>29.11</td>\n",
       "      <td>102.90</td>\n",
       "      <td>803.7</td>\n",
       "      <td>0.11150</td>\n",
       "      <td>0.17660</td>\n",
       "      <td>0.09189</td>\n",
       "      <td>0.06946</td>\n",
       "      <td>0.2522</td>\n",
       "      <td>0.07246</td>\n",
       "      <td>1</td>\n",
       "    </tr>\n",
       "    <tr>\n",
       "      <th>12</th>\n",
       "      <td>9.397</td>\n",
       "      <td>21.68</td>\n",
       "      <td>59.75</td>\n",
       "      <td>268.8</td>\n",
       "      <td>0.07969</td>\n",
       "      <td>0.06053</td>\n",
       "      <td>0.03735</td>\n",
       "      <td>0.005128</td>\n",
       "      <td>0.1274</td>\n",
       "      <td>0.06724</td>\n",
       "      <td>...</td>\n",
       "      <td>27.99</td>\n",
       "      <td>66.61</td>\n",
       "      <td>301.0</td>\n",
       "      <td>0.10860</td>\n",
       "      <td>0.18870</td>\n",
       "      <td>0.18680</td>\n",
       "      <td>0.02564</td>\n",
       "      <td>0.2376</td>\n",
       "      <td>0.09206</td>\n",
       "      <td>1</td>\n",
       "    </tr>\n",
       "    <tr>\n",
       "      <th>13</th>\n",
       "      <td>16.840</td>\n",
       "      <td>19.46</td>\n",
       "      <td>108.40</td>\n",
       "      <td>880.2</td>\n",
       "      <td>0.07445</td>\n",
       "      <td>0.07223</td>\n",
       "      <td>0.05150</td>\n",
       "      <td>0.027710</td>\n",
       "      <td>0.1844</td>\n",
       "      <td>0.05268</td>\n",
       "      <td>...</td>\n",
       "      <td>28.07</td>\n",
       "      <td>120.30</td>\n",
       "      <td>1032.0</td>\n",
       "      <td>0.08774</td>\n",
       "      <td>0.17100</td>\n",
       "      <td>0.18820</td>\n",
       "      <td>0.08436</td>\n",
       "      <td>0.2527</td>\n",
       "      <td>0.05972</td>\n",
       "      <td>1</td>\n",
       "    </tr>\n",
       "    <tr>\n",
       "      <th>14</th>\n",
       "      <td>14.640</td>\n",
       "      <td>15.24</td>\n",
       "      <td>95.77</td>\n",
       "      <td>651.9</td>\n",
       "      <td>0.11320</td>\n",
       "      <td>0.13390</td>\n",
       "      <td>0.09966</td>\n",
       "      <td>0.070640</td>\n",
       "      <td>0.2116</td>\n",
       "      <td>0.06346</td>\n",
       "      <td>...</td>\n",
       "      <td>18.24</td>\n",
       "      <td>109.40</td>\n",
       "      <td>803.6</td>\n",
       "      <td>0.12770</td>\n",
       "      <td>0.30890</td>\n",
       "      <td>0.26040</td>\n",
       "      <td>0.13970</td>\n",
       "      <td>0.3151</td>\n",
       "      <td>0.08473</td>\n",
       "      <td>1</td>\n",
       "    </tr>\n",
       "    <tr>\n",
       "      <th>15</th>\n",
       "      <td>15.460</td>\n",
       "      <td>11.89</td>\n",
       "      <td>102.50</td>\n",
       "      <td>736.9</td>\n",
       "      <td>0.12570</td>\n",
       "      <td>0.15550</td>\n",
       "      <td>0.20320</td>\n",
       "      <td>0.109700</td>\n",
       "      <td>0.1966</td>\n",
       "      <td>0.07069</td>\n",
       "      <td>...</td>\n",
       "      <td>17.04</td>\n",
       "      <td>125.00</td>\n",
       "      <td>1102.0</td>\n",
       "      <td>0.15310</td>\n",
       "      <td>0.35830</td>\n",
       "      <td>0.58300</td>\n",
       "      <td>0.18270</td>\n",
       "      <td>0.3216</td>\n",
       "      <td>0.10100</td>\n",
       "      <td>0</td>\n",
       "    </tr>\n",
       "    <tr>\n",
       "      <th>16</th>\n",
       "      <td>9.042</td>\n",
       "      <td>18.90</td>\n",
       "      <td>60.07</td>\n",
       "      <td>244.5</td>\n",
       "      <td>0.09968</td>\n",
       "      <td>0.19720</td>\n",
       "      <td>0.19750</td>\n",
       "      <td>0.049080</td>\n",
       "      <td>0.2330</td>\n",
       "      <td>0.08743</td>\n",
       "      <td>...</td>\n",
       "      <td>23.40</td>\n",
       "      <td>68.62</td>\n",
       "      <td>297.1</td>\n",
       "      <td>0.12210</td>\n",
       "      <td>0.37480</td>\n",
       "      <td>0.46090</td>\n",
       "      <td>0.11450</td>\n",
       "      <td>0.3135</td>\n",
       "      <td>0.10550</td>\n",
       "      <td>1</td>\n",
       "    </tr>\n",
       "    <tr>\n",
       "      <th>17</th>\n",
       "      <td>20.510</td>\n",
       "      <td>27.81</td>\n",
       "      <td>134.40</td>\n",
       "      <td>1319.0</td>\n",
       "      <td>0.09159</td>\n",
       "      <td>0.10740</td>\n",
       "      <td>0.15540</td>\n",
       "      <td>0.083400</td>\n",
       "      <td>0.1448</td>\n",
       "      <td>0.05592</td>\n",
       "      <td>...</td>\n",
       "      <td>37.38</td>\n",
       "      <td>162.70</td>\n",
       "      <td>1872.0</td>\n",
       "      <td>0.12230</td>\n",
       "      <td>0.27610</td>\n",
       "      <td>0.41460</td>\n",
       "      <td>0.15630</td>\n",
       "      <td>0.2437</td>\n",
       "      <td>0.08328</td>\n",
       "      <td>0</td>\n",
       "    </tr>\n",
       "    <tr>\n",
       "      <th>18</th>\n",
       "      <td>19.550</td>\n",
       "      <td>23.21</td>\n",
       "      <td>128.90</td>\n",
       "      <td>1174.0</td>\n",
       "      <td>0.10100</td>\n",
       "      <td>0.13180</td>\n",
       "      <td>0.18560</td>\n",
       "      <td>0.102100</td>\n",
       "      <td>0.1989</td>\n",
       "      <td>0.05884</td>\n",
       "      <td>...</td>\n",
       "      <td>30.44</td>\n",
       "      <td>142.00</td>\n",
       "      <td>1313.0</td>\n",
       "      <td>0.12510</td>\n",
       "      <td>0.24140</td>\n",
       "      <td>0.38290</td>\n",
       "      <td>0.18250</td>\n",
       "      <td>0.2576</td>\n",
       "      <td>0.07602</td>\n",
       "      <td>0</td>\n",
       "    </tr>\n",
       "    <tr>\n",
       "      <th>19</th>\n",
       "      <td>20.940</td>\n",
       "      <td>23.56</td>\n",
       "      <td>138.90</td>\n",
       "      <td>1364.0</td>\n",
       "      <td>0.10070</td>\n",
       "      <td>0.16060</td>\n",
       "      <td>0.27120</td>\n",
       "      <td>0.131000</td>\n",
       "      <td>0.2205</td>\n",
       "      <td>0.05898</td>\n",
       "      <td>...</td>\n",
       "      <td>27.00</td>\n",
       "      <td>165.30</td>\n",
       "      <td>2010.0</td>\n",
       "      <td>0.12110</td>\n",
       "      <td>0.31720</td>\n",
       "      <td>0.69910</td>\n",
       "      <td>0.21050</td>\n",
       "      <td>0.3126</td>\n",
       "      <td>0.07849</td>\n",
       "      <td>0</td>\n",
       "    </tr>\n",
       "  </tbody>\n",
       "</table>\n",
       "<p>20 rows × 31 columns</p>\n",
       "</div>"
      ],
      "text/plain": [
       "    mean radius  mean texture  mean perimeter  mean area  mean smoothness  \\\n",
       "0        13.400         20.52           88.64      556.7          0.11060   \n",
       "1        13.210         25.25           84.10      537.9          0.08791   \n",
       "2        14.020         15.66           89.59      606.5          0.07966   \n",
       "3        14.260         18.17           91.22      633.1          0.06576   \n",
       "4        13.030         18.42           82.61      523.8          0.08983   \n",
       "5        11.340         18.61           72.76      391.2          0.10490   \n",
       "6        12.050         22.72           78.75      447.8          0.06935   \n",
       "7        11.700         19.11           74.33      418.7          0.08814   \n",
       "8         7.729         25.49           47.98      178.8          0.08098   \n",
       "9        10.260         14.71           66.20      321.6          0.09882   \n",
       "10       14.690         13.98           98.22      656.1          0.10310   \n",
       "11       14.620         24.02           94.57      662.7          0.08974   \n",
       "12        9.397         21.68           59.75      268.8          0.07969   \n",
       "13       16.840         19.46          108.40      880.2          0.07445   \n",
       "14       14.640         15.24           95.77      651.9          0.11320   \n",
       "15       15.460         11.89          102.50      736.9          0.12570   \n",
       "16        9.042         18.90           60.07      244.5          0.09968   \n",
       "17       20.510         27.81          134.40     1319.0          0.09159   \n",
       "18       19.550         23.21          128.90     1174.0          0.10100   \n",
       "19       20.940         23.56          138.90     1364.0          0.10070   \n",
       "\n",
       "    mean compactness  mean concavity  mean concave points  mean symmetry  \\\n",
       "0            0.14690         0.14450             0.081720         0.2116   \n",
       "1            0.05205         0.02772             0.020680         0.1619   \n",
       "2            0.05581         0.02087             0.026520         0.1589   \n",
       "3            0.05220         0.02475             0.013740         0.1635   \n",
       "4            0.03766         0.02562             0.029230         0.1467   \n",
       "5            0.08499         0.04302             0.025940         0.1927   \n",
       "6            0.10730         0.07943             0.029780         0.1203   \n",
       "7            0.05253         0.01583             0.011480         0.1936   \n",
       "8            0.04878         0.00000             0.000000         0.1870   \n",
       "9            0.09159         0.03581             0.020370         0.1633   \n",
       "10           0.18360         0.14500             0.063000         0.2086   \n",
       "11           0.08606         0.03102             0.029570         0.1685   \n",
       "12           0.06053         0.03735             0.005128         0.1274   \n",
       "13           0.07223         0.05150             0.027710         0.1844   \n",
       "14           0.13390         0.09966             0.070640         0.2116   \n",
       "15           0.15550         0.20320             0.109700         0.1966   \n",
       "16           0.19720         0.19750             0.049080         0.2330   \n",
       "17           0.10740         0.15540             0.083400         0.1448   \n",
       "18           0.13180         0.18560             0.102100         0.1989   \n",
       "19           0.16060         0.27120             0.131000         0.2205   \n",
       "\n",
       "    mean fractal dimension  ...  worst texture  worst perimeter  worst area  \\\n",
       "0                  0.07325  ...          29.66           113.30       844.4   \n",
       "1                  0.05584  ...          34.23            91.29       632.9   \n",
       "2                  0.05586  ...          19.31            96.53       688.9   \n",
       "3                  0.05586  ...          25.26           105.80       819.7   \n",
       "4                  0.05863  ...          22.81            84.46       545.9   \n",
       "5                  0.06211  ...          23.03            79.15       478.6   \n",
       "6                  0.06659  ...          28.71            87.36       488.4   \n",
       "7                  0.06128  ...          26.55            80.92       483.1   \n",
       "8                  0.07285  ...          30.92            57.17       248.0   \n",
       "9                  0.07005  ...          19.48            70.89       357.1   \n",
       "10                 0.07406  ...          18.34           114.10       809.2   \n",
       "11                 0.05866  ...          29.11           102.90       803.7   \n",
       "12                 0.06724  ...          27.99            66.61       301.0   \n",
       "13                 0.05268  ...          28.07           120.30      1032.0   \n",
       "14                 0.06346  ...          18.24           109.40       803.6   \n",
       "15                 0.07069  ...          17.04           125.00      1102.0   \n",
       "16                 0.08743  ...          23.40            68.62       297.1   \n",
       "17                 0.05592  ...          37.38           162.70      1872.0   \n",
       "18                 0.05884  ...          30.44           142.00      1313.0   \n",
       "19                 0.05898  ...          27.00           165.30      2010.0   \n",
       "\n",
       "    worst smoothness  worst compactness  worst concavity  \\\n",
       "0            0.15740            0.38560          0.51060   \n",
       "1            0.12890            0.10630          0.13900   \n",
       "2            0.10340            0.10170          0.06260   \n",
       "3            0.09445            0.21670          0.15650   \n",
       "4            0.09701            0.04619          0.04833   \n",
       "5            0.14830            0.15740          0.16240   \n",
       "6            0.08799            0.32140          0.29120   \n",
       "7            0.12230            0.10870          0.07915   \n",
       "8            0.12560            0.08340          0.00000   \n",
       "9            0.13600            0.16360          0.07162   \n",
       "10           0.13120            0.36350          0.32190   \n",
       "11           0.11150            0.17660          0.09189   \n",
       "12           0.10860            0.18870          0.18680   \n",
       "13           0.08774            0.17100          0.18820   \n",
       "14           0.12770            0.30890          0.26040   \n",
       "15           0.15310            0.35830          0.58300   \n",
       "16           0.12210            0.37480          0.46090   \n",
       "17           0.12230            0.27610          0.41460   \n",
       "18           0.12510            0.24140          0.38290   \n",
       "19           0.12110            0.31720          0.69910   \n",
       "\n",
       "    worst concave points  worst symmetry  worst fractal dimension  labels  \n",
       "0                0.20510          0.3585                  0.11090       0  \n",
       "1                0.06005          0.2444                  0.06788       1  \n",
       "2                0.08216          0.2136                  0.06710       1  \n",
       "3                0.07530          0.2636                  0.07676       1  \n",
       "4                0.05013          0.1987                  0.06169       1  \n",
       "5                0.08542          0.3060                  0.06783       1  \n",
       "6                0.10920          0.2191                  0.09349       1  \n",
       "7                0.05741          0.3487                  0.06958       1  \n",
       "8                0.00000          0.3058                  0.09938       1  \n",
       "9                0.04074          0.2434                  0.08488       1  \n",
       "10               0.11080          0.2827                  0.09208       1  \n",
       "11               0.06946          0.2522                  0.07246       1  \n",
       "12               0.02564          0.2376                  0.09206       1  \n",
       "13               0.08436          0.2527                  0.05972       1  \n",
       "14               0.13970          0.3151                  0.08473       1  \n",
       "15               0.18270          0.3216                  0.10100       0  \n",
       "16               0.11450          0.3135                  0.10550       1  \n",
       "17               0.15630          0.2437                  0.08328       0  \n",
       "18               0.18250          0.2576                  0.07602       0  \n",
       "19               0.21050          0.3126                  0.07849       0  \n",
       "\n",
       "[20 rows x 31 columns]"
      ]
     },
     "execution_count": 22,
     "metadata": {},
     "output_type": "execute_result"
    }
   ],
   "source": [
    "data.head(20)"
   ]
  },
  {
   "cell_type": "markdown",
   "metadata": {},
   "source": [
    "**Train test split the data**"
   ]
  },
  {
   "cell_type": "code",
   "execution_count": 23,
   "metadata": {},
   "outputs": [],
   "source": [
    "from sklearn.model_selection import train_test_split\n",
    "train_data, test_data = train_test_split(data, test_size  = 0.25, random_state = 0)"
   ]
  },
  {
   "cell_type": "markdown",
   "metadata": {},
   "source": [
    "**Scale the train and test set**"
   ]
  },
  {
   "cell_type": "code",
   "execution_count": 24,
   "metadata": {},
   "outputs": [],
   "source": [
    "# import the minmax scaler module from scikit learn\n",
    "from sklearn.preprocessing import MinMaxScaler\n",
    "# create a scalar object that scales data into a range of 0 to 1\n",
    "scaler = MinMaxScaler((0,1))\n",
    "# scale the train and test set using the specialized scaling function we created earlier\n",
    "train_data, test_data = train_test_feature_scaler(scaler, train_data, test_data, features)"
   ]
  },
  {
   "cell_type": "markdown",
   "metadata": {},
   "source": [
    "#### Extract the feature matrix and labels of training and test set"
   ]
  },
  {
   "cell_type": "code",
   "execution_count": 25,
   "metadata": {},
   "outputs": [],
   "source": [
    "(X_train, y_train) = get_xy_data(train_data,features=features,output=output)\n",
    "(X_test, y_test) = get_xy_data(test_data,features=features,output=output)"
   ]
  },
  {
   "cell_type": "markdown",
   "metadata": {},
   "source": [
    "## 2.2 Train Binary Classifier"
   ]
  },
  {
   "cell_type": "markdown",
   "metadata": {},
   "source": [
    "#### Model parameters"
   ]
  },
  {
   "cell_type": "code",
   "execution_count": 26,
   "metadata": {},
   "outputs": [],
   "source": [
    "step_size = 1e-3\n",
    "maximum_iterations = 1500000"
   ]
  },
  {
   "cell_type": "markdown",
   "metadata": {},
   "source": [
    "**Create an object of logistic regression model**"
   ]
  },
  {
   "cell_type": "code",
   "execution_count": 27,
   "metadata": {},
   "outputs": [],
   "source": [
    "model = binary_classifier(track_logistic_cost=True)"
   ]
  },
  {
   "cell_type": "markdown",
   "metadata": {},
   "source": [
    "**Train the model using the train set**"
   ]
  },
  {
   "cell_type": "code",
   "execution_count": 28,
   "metadata": {},
   "outputs": [
    {
     "name": "stdout",
     "output_type": "stream",
     "text": [
      "iteration   30000: logistic cost = 0.34940146\n",
      "iteration   60000: logistic cost = 0.26544910\n",
      "iteration   90000: logistic cost = 0.22559895\n",
      "iteration  120000: logistic cost = 0.20128274\n",
      "iteration  150000: logistic cost = 0.18440241\n",
      "iteration  180000: logistic cost = 0.17173967\n",
      "iteration  210000: logistic cost = 0.16174299\n",
      "iteration  240000: logistic cost = 0.15356322\n",
      "iteration  270000: logistic cost = 0.14669163\n",
      "iteration  300000: logistic cost = 0.14080207\n",
      "iteration  330000: logistic cost = 0.13567411\n",
      "iteration  360000: logistic cost = 0.13115235\n",
      "iteration  390000: logistic cost = 0.12712340\n",
      "iteration  420000: logistic cost = 0.12350214\n",
      "iteration  450000: logistic cost = 0.12022311\n",
      "iteration  480000: logistic cost = 0.11723497\n",
      "iteration  510000: logistic cost = 0.11449669\n",
      "iteration  540000: logistic cost = 0.11197506\n",
      "iteration  570000: logistic cost = 0.10964278\n",
      "iteration  600000: logistic cost = 0.10747718\n",
      "iteration  630000: logistic cost = 0.10545924\n",
      "iteration  660000: logistic cost = 0.10357287\n",
      "iteration  690000: logistic cost = 0.10180432\n",
      "iteration  720000: logistic cost = 0.10014178\n",
      "iteration  750000: logistic cost = 0.09857502\n",
      "iteration  780000: logistic cost = 0.09709516\n",
      "iteration  810000: logistic cost = 0.09569440\n",
      "iteration  840000: logistic cost = 0.09436589\n",
      "iteration  870000: logistic cost = 0.09310360\n",
      "iteration  900000: logistic cost = 0.09190214\n",
      "iteration  930000: logistic cost = 0.09075674\n",
      "iteration  960000: logistic cost = 0.08966313\n",
      "iteration  990000: logistic cost = 0.08861746\n",
      "iteration 1020000: logistic cost = 0.08761629\n",
      "iteration 1050000: logistic cost = 0.08665651\n",
      "iteration 1080000: logistic cost = 0.08573528\n",
      "iteration 1110000: logistic cost = 0.08485006\n",
      "iteration 1140000: logistic cost = 0.08399850\n",
      "iteration 1170000: logistic cost = 0.08317849\n",
      "iteration 1200000: logistic cost = 0.08238809\n",
      "iteration 1230000: logistic cost = 0.08162551\n",
      "iteration 1260000: logistic cost = 0.08088912\n",
      "iteration 1290000: logistic cost = 0.08017742\n",
      "iteration 1320000: logistic cost = 0.07948902\n",
      "iteration 1350000: logistic cost = 0.07882264\n",
      "iteration 1380000: logistic cost = 0.07817709\n",
      "iteration 1410000: logistic cost = 0.07755129\n",
      "iteration 1440000: logistic cost = 0.07694421\n",
      "iteration 1470000: logistic cost = 0.07635492\n",
      "Completed performing Gradient Descent\n"
     ]
    }
   ],
   "source": [
    "model.fit(X_train, y_train, step_size,\\\n",
    "          maximum_iterations = maximum_iterations, verbose = True)"
   ]
  },
  {
   "cell_type": "markdown",
   "metadata": {},
   "source": [
    "#### Accuracy of the Model"
   ]
  },
  {
   "cell_type": "code",
   "execution_count": 29,
   "metadata": {},
   "outputs": [
    {
     "name": "stdout",
     "output_type": "stream",
     "text": [
      "Accuracy of the model:  0.972027972027972\n"
     ]
    }
   ],
   "source": [
    "accuracy = model.accuracy(X_test, y_test)\n",
    "print(\"Accuracy of the model: \", accuracy)"
   ]
  },
  {
   "cell_type": "markdown",
   "metadata": {},
   "source": [
    "## 2.3 Plot of Cost vs Iterations"
   ]
  },
  {
   "cell_type": "code",
   "execution_count": 30,
   "metadata": {},
   "outputs": [
    {
     "data": {
      "image/png": "[encoded data removed]",
      "text/plain": [
       "<Figure size 1152x576 with 1 Axes>"
      ]
     },
     "metadata": {
      "image/png": {
       "height": 494,
       "width": 943
      },
      "needs_background": "light"
     },
     "output_type": "display_data"
    }
   ],
   "source": [
    "matplotlib.rcParams['figure.figsize'] = (16.0, 8.0)\n",
    "plt.plot(model.log_of_logistic_cost)\n",
    "plt.title(\"Cost vs Iterations\")\n",
    "plt.xlabel(\"Iterations\")\n",
    "plt.ylabel(\"Logistic Regression Cost\")\n",
    "plt.grid()"
   ]
  }
 ],
 "metadata": {
  "kernelspec": {
   "display_name": "Python 3",
   "language": "python",
   "name": "python3"
  },
  "language_info": {
   "codemirror_mode": {
    "name": "ipython",
    "version": 3
   },
   "file_extension": ".py",
   "mimetype": "text/x-python",
   "name": "python",
   "nbconvert_exporter": "python",
   "pygments_lexer": "ipython3",
   "version": "3.8.12"
  }
 },
 "nbformat": 4,
 "nbformat_minor": 2
}
