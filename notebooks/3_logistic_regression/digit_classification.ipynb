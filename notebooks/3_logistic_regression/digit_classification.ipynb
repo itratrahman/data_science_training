{
 "cells": [
  {
   "cell_type": "markdown",
   "metadata": {},
   "source": [
    "# DIGIT CLASSIFICATION"
   ]
  },
  {
   "cell_type": "markdown",
   "metadata": {},
   "source": [
    "In this jupyter notebook we will play with image data, with hand written digit images basically. It’s a multiclass classification problem where we try to recognize handwritten digits from 0-9 by flattening the image data. In this jupyter notebook we also learn how to access performance of multiclass classifiers in terms of precision and recall"
   ]
  },
  {
   "cell_type": "markdown",
   "metadata": {},
   "source": [
    "**Add the directory of the m_learn package to the system path**"
   ]
  },
  {
   "cell_type": "code",
   "execution_count": 1,
   "metadata": {},
   "outputs": [],
   "source": [
    "from config import *\n",
    "append_path('../../')"
   ]
  },
  {
   "cell_type": "markdown",
   "metadata": {},
   "source": [
    "**Import necessary packages and modules**"
   ]
  },
  {
   "cell_type": "code",
   "execution_count": 2,
   "metadata": {},
   "outputs": [],
   "source": [
    "import pandas as pd\n",
    "import numpy as np\n",
    "from sklearn.linear_model import LogisticRegression\n",
    "from sklearn.model_selection import train_test_split\n",
    "from sklearn.datasets import load_digits\n",
    "from sklearn.metrics import classification_report\n",
    "import matplotlib.pyplot as plt\n",
    "import matplotlib\n",
    "%matplotlib inline\n",
    "%config InlineBackend.figure_format = 'retina'"
   ]
  },
  {
   "cell_type": "markdown",
   "metadata": {},
   "source": [
    "## 1. Load and preprocess digits data"
   ]
  },
  {
   "cell_type": "markdown",
   "metadata": {},
   "source": [
    "**Load digits data**"
   ]
  },
  {
   "cell_type": "code",
   "execution_count": 3,
   "metadata": {},
   "outputs": [],
   "source": [
    "digits = load_digits()"
   ]
  },
  {
   "cell_type": "markdown",
   "metadata": {},
   "source": [
    "**Shape of the image dataset**"
   ]
  },
  {
   "cell_type": "code",
   "execution_count": 4,
   "metadata": {},
   "outputs": [
    {
     "data": {
      "text/plain": [
       "(1797, 8, 8)"
      ]
     },
     "execution_count": 4,
     "metadata": {},
     "output_type": "execute_result"
    }
   ],
   "source": [
    "digits.images.shape"
   ]
  },
  {
   "cell_type": "markdown",
   "metadata": {},
   "source": [
    "**Flatten the image data so that it can be used as points for logistic regression classifier**"
   ]
  },
  {
   "cell_type": "code",
   "execution_count": 5,
   "metadata": {},
   "outputs": [
    {
     "data": {
      "text/plain": [
       "(1797, 64)"
      ]
     },
     "execution_count": 5,
     "metadata": {},
     "output_type": "execute_result"
    }
   ],
   "source": [
    "n_samples = len(digits.images)\n",
    "image = digits.images.reshape((n_samples, -1))\n",
    "image.shape"
   ]
  },
  {
   "cell_type": "markdown",
   "metadata": {},
   "source": [
    "**Store the data in a pandas dataframe**"
   ]
  },
  {
   "cell_type": "markdown",
   "metadata": {},
   "source": [
    "Features and output of the model"
   ]
  },
  {
   "cell_type": "code",
   "execution_count": 6,
   "metadata": {},
   "outputs": [
    {
     "name": "stdout",
     "output_type": "stream",
     "text": [
      "features: ['pixel1', 'pixel2', 'pixel3', 'pixel4', 'pixel5', 'pixel6', 'pixel7', 'pixel8', 'pixel9', 'pixel10', 'pixel11', 'pixel12', 'pixel13', 'pixel14', 'pixel15', 'pixel16', 'pixel17', 'pixel18', 'pixel19', 'pixel20', 'pixel21', 'pixel22', 'pixel23', 'pixel24', 'pixel25', 'pixel26', 'pixel27', 'pixel28', 'pixel29', 'pixel30', 'pixel31', 'pixel32', 'pixel33', 'pixel34', 'pixel35', 'pixel36', 'pixel37', 'pixel38', 'pixel39', 'pixel40', 'pixel41', 'pixel42', 'pixel43', 'pixel44', 'pixel45', 'pixel46', 'pixel47', 'pixel48', 'pixel49', 'pixel50', 'pixel51', 'pixel52', 'pixel53', 'pixel54', 'pixel55', 'pixel56', 'pixel57', 'pixel58', 'pixel59', 'pixel60', 'pixel61', 'pixel62', 'pixel63', 'pixel64']\n"
     ]
    }
   ],
   "source": [
    "features = [\"pixel\"+str(i+1) for i in range(image.shape[1])]\n",
    "output = 'label'\n",
    "print(\"features:\",features)"
   ]
  },
  {
   "cell_type": "markdown",
   "metadata": {},
   "source": [
    "Store features and output columns in a pandas dataframe"
   ]
  },
  {
   "cell_type": "code",
   "execution_count": 7,
   "metadata": {
    "scrolled": false
   },
   "outputs": [],
   "source": [
    "data = pd.DataFrame(image, columns=features)\n",
    "# create the output column\n",
    "data[output] = pd.Series(digits.target)\n",
    "# shuffle the data\n",
    "data = data.sample(frac=1, random_state = 0).reset_index(drop = True)"
   ]
  },
  {
   "cell_type": "code",
   "execution_count": 8,
   "metadata": {},
   "outputs": [
    {
     "data": {
      "text/html": [
       "<div>\n",
       "<style scoped>\n",
       "    .dataframe tbody tr th:only-of-type {\n",
       "        vertical-align: middle;\n",
       "    }\n",
       "\n",
       "    .dataframe tbody tr th {\n",
       "        vertical-align: top;\n",
       "    }\n",
       "\n",
       "    .dataframe thead th {\n",
       "        text-align: right;\n",
       "    }\n",
       "</style>\n",
       "<table border=\"1\" class=\"dataframe\">\n",
       "  <thead>\n",
       "    <tr style=\"text-align: right;\">\n",
       "      <th></th>\n",
       "      <th>pixel1</th>\n",
       "      <th>pixel2</th>\n",
       "      <th>pixel3</th>\n",
       "      <th>pixel4</th>\n",
       "      <th>pixel5</th>\n",
       "      <th>pixel6</th>\n",
       "      <th>pixel7</th>\n",
       "      <th>pixel8</th>\n",
       "      <th>pixel9</th>\n",
       "      <th>pixel10</th>\n",
       "      <th>...</th>\n",
       "      <th>pixel56</th>\n",
       "      <th>pixel57</th>\n",
       "      <th>pixel58</th>\n",
       "      <th>pixel59</th>\n",
       "      <th>pixel60</th>\n",
       "      <th>pixel61</th>\n",
       "      <th>pixel62</th>\n",
       "      <th>pixel63</th>\n",
       "      <th>pixel64</th>\n",
       "      <th>label</th>\n",
       "    </tr>\n",
       "  </thead>\n",
       "  <tbody>\n",
       "    <tr>\n",
       "      <th>0</th>\n",
       "      <td>0.0</td>\n",
       "      <td>0.0</td>\n",
       "      <td>11.0</td>\n",
       "      <td>16.0</td>\n",
       "      <td>15.0</td>\n",
       "      <td>3.0</td>\n",
       "      <td>0.0</td>\n",
       "      <td>0.0</td>\n",
       "      <td>0.0</td>\n",
       "      <td>5.0</td>\n",
       "      <td>...</td>\n",
       "      <td>0.0</td>\n",
       "      <td>0.0</td>\n",
       "      <td>0.0</td>\n",
       "      <td>13.0</td>\n",
       "      <td>13.0</td>\n",
       "      <td>8.0</td>\n",
       "      <td>13.0</td>\n",
       "      <td>16.0</td>\n",
       "      <td>8.0</td>\n",
       "      <td>2</td>\n",
       "    </tr>\n",
       "    <tr>\n",
       "      <th>1</th>\n",
       "      <td>0.0</td>\n",
       "      <td>1.0</td>\n",
       "      <td>15.0</td>\n",
       "      <td>14.0</td>\n",
       "      <td>2.0</td>\n",
       "      <td>0.0</td>\n",
       "      <td>0.0</td>\n",
       "      <td>0.0</td>\n",
       "      <td>0.0</td>\n",
       "      <td>6.0</td>\n",
       "      <td>...</td>\n",
       "      <td>0.0</td>\n",
       "      <td>0.0</td>\n",
       "      <td>1.0</td>\n",
       "      <td>15.0</td>\n",
       "      <td>16.0</td>\n",
       "      <td>12.0</td>\n",
       "      <td>1.0</td>\n",
       "      <td>0.0</td>\n",
       "      <td>0.0</td>\n",
       "      <td>8</td>\n",
       "    </tr>\n",
       "    <tr>\n",
       "      <th>2</th>\n",
       "      <td>0.0</td>\n",
       "      <td>2.0</td>\n",
       "      <td>13.0</td>\n",
       "      <td>16.0</td>\n",
       "      <td>10.0</td>\n",
       "      <td>0.0</td>\n",
       "      <td>0.0</td>\n",
       "      <td>0.0</td>\n",
       "      <td>0.0</td>\n",
       "      <td>12.0</td>\n",
       "      <td>...</td>\n",
       "      <td>0.0</td>\n",
       "      <td>0.0</td>\n",
       "      <td>1.0</td>\n",
       "      <td>13.0</td>\n",
       "      <td>16.0</td>\n",
       "      <td>16.0</td>\n",
       "      <td>16.0</td>\n",
       "      <td>16.0</td>\n",
       "      <td>3.0</td>\n",
       "      <td>2</td>\n",
       "    </tr>\n",
       "    <tr>\n",
       "      <th>3</th>\n",
       "      <td>0.0</td>\n",
       "      <td>0.0</td>\n",
       "      <td>9.0</td>\n",
       "      <td>7.0</td>\n",
       "      <td>0.0</td>\n",
       "      <td>0.0</td>\n",
       "      <td>0.0</td>\n",
       "      <td>0.0</td>\n",
       "      <td>0.0</td>\n",
       "      <td>0.0</td>\n",
       "      <td>...</td>\n",
       "      <td>0.0</td>\n",
       "      <td>0.0</td>\n",
       "      <td>0.0</td>\n",
       "      <td>7.0</td>\n",
       "      <td>14.0</td>\n",
       "      <td>16.0</td>\n",
       "      <td>12.0</td>\n",
       "      <td>1.0</td>\n",
       "      <td>0.0</td>\n",
       "      <td>6</td>\n",
       "    </tr>\n",
       "    <tr>\n",
       "      <th>4</th>\n",
       "      <td>0.0</td>\n",
       "      <td>0.0</td>\n",
       "      <td>3.0</td>\n",
       "      <td>13.0</td>\n",
       "      <td>6.0</td>\n",
       "      <td>0.0</td>\n",
       "      <td>0.0</td>\n",
       "      <td>0.0</td>\n",
       "      <td>0.0</td>\n",
       "      <td>0.0</td>\n",
       "      <td>...</td>\n",
       "      <td>0.0</td>\n",
       "      <td>0.0</td>\n",
       "      <td>0.0</td>\n",
       "      <td>3.0</td>\n",
       "      <td>13.0</td>\n",
       "      <td>15.0</td>\n",
       "      <td>8.0</td>\n",
       "      <td>0.0</td>\n",
       "      <td>0.0</td>\n",
       "      <td>6</td>\n",
       "    </tr>\n",
       "    <tr>\n",
       "      <th>5</th>\n",
       "      <td>0.0</td>\n",
       "      <td>0.0</td>\n",
       "      <td>5.0</td>\n",
       "      <td>16.0</td>\n",
       "      <td>12.0</td>\n",
       "      <td>2.0</td>\n",
       "      <td>0.0</td>\n",
       "      <td>0.0</td>\n",
       "      <td>0.0</td>\n",
       "      <td>0.0</td>\n",
       "      <td>...</td>\n",
       "      <td>0.0</td>\n",
       "      <td>0.0</td>\n",
       "      <td>0.0</td>\n",
       "      <td>6.0</td>\n",
       "      <td>11.0</td>\n",
       "      <td>0.0</td>\n",
       "      <td>0.0</td>\n",
       "      <td>0.0</td>\n",
       "      <td>0.0</td>\n",
       "      <td>7</td>\n",
       "    </tr>\n",
       "    <tr>\n",
       "      <th>6</th>\n",
       "      <td>0.0</td>\n",
       "      <td>0.0</td>\n",
       "      <td>0.0</td>\n",
       "      <td>10.0</td>\n",
       "      <td>13.0</td>\n",
       "      <td>0.0</td>\n",
       "      <td>0.0</td>\n",
       "      <td>0.0</td>\n",
       "      <td>0.0</td>\n",
       "      <td>0.0</td>\n",
       "      <td>...</td>\n",
       "      <td>0.0</td>\n",
       "      <td>0.0</td>\n",
       "      <td>0.0</td>\n",
       "      <td>1.0</td>\n",
       "      <td>5.0</td>\n",
       "      <td>7.0</td>\n",
       "      <td>15.0</td>\n",
       "      <td>8.0</td>\n",
       "      <td>0.0</td>\n",
       "      <td>1</td>\n",
       "    </tr>\n",
       "    <tr>\n",
       "      <th>7</th>\n",
       "      <td>0.0</td>\n",
       "      <td>0.0</td>\n",
       "      <td>2.0</td>\n",
       "      <td>10.0</td>\n",
       "      <td>13.0</td>\n",
       "      <td>12.0</td>\n",
       "      <td>3.0</td>\n",
       "      <td>0.0</td>\n",
       "      <td>0.0</td>\n",
       "      <td>0.0</td>\n",
       "      <td>...</td>\n",
       "      <td>0.0</td>\n",
       "      <td>0.0</td>\n",
       "      <td>0.0</td>\n",
       "      <td>2.0</td>\n",
       "      <td>12.0</td>\n",
       "      <td>16.0</td>\n",
       "      <td>14.0</td>\n",
       "      <td>0.0</td>\n",
       "      <td>0.0</td>\n",
       "      <td>9</td>\n",
       "    </tr>\n",
       "    <tr>\n",
       "      <th>8</th>\n",
       "      <td>0.0</td>\n",
       "      <td>0.0</td>\n",
       "      <td>10.0</td>\n",
       "      <td>14.0</td>\n",
       "      <td>10.0</td>\n",
       "      <td>1.0</td>\n",
       "      <td>0.0</td>\n",
       "      <td>0.0</td>\n",
       "      <td>0.0</td>\n",
       "      <td>4.0</td>\n",
       "      <td>...</td>\n",
       "      <td>0.0</td>\n",
       "      <td>0.0</td>\n",
       "      <td>0.0</td>\n",
       "      <td>12.0</td>\n",
       "      <td>16.0</td>\n",
       "      <td>15.0</td>\n",
       "      <td>8.0</td>\n",
       "      <td>0.0</td>\n",
       "      <td>0.0</td>\n",
       "      <td>8</td>\n",
       "    </tr>\n",
       "    <tr>\n",
       "      <th>9</th>\n",
       "      <td>0.0</td>\n",
       "      <td>0.0</td>\n",
       "      <td>15.0</td>\n",
       "      <td>13.0</td>\n",
       "      <td>12.0</td>\n",
       "      <td>12.0</td>\n",
       "      <td>2.0</td>\n",
       "      <td>0.0</td>\n",
       "      <td>0.0</td>\n",
       "      <td>4.0</td>\n",
       "      <td>...</td>\n",
       "      <td>0.0</td>\n",
       "      <td>0.0</td>\n",
       "      <td>1.0</td>\n",
       "      <td>15.0</td>\n",
       "      <td>16.0</td>\n",
       "      <td>4.0</td>\n",
       "      <td>0.0</td>\n",
       "      <td>0.0</td>\n",
       "      <td>0.0</td>\n",
       "      <td>5</td>\n",
       "    </tr>\n",
       "  </tbody>\n",
       "</table>\n",
       "<p>10 rows × 65 columns</p>\n",
       "</div>"
      ],
      "text/plain": [
       "   pixel1  pixel2  pixel3  pixel4  pixel5  pixel6  pixel7  pixel8  pixel9  \\\n",
       "0     0.0     0.0    11.0    16.0    15.0     3.0     0.0     0.0     0.0   \n",
       "1     0.0     1.0    15.0    14.0     2.0     0.0     0.0     0.0     0.0   \n",
       "2     0.0     2.0    13.0    16.0    10.0     0.0     0.0     0.0     0.0   \n",
       "3     0.0     0.0     9.0     7.0     0.0     0.0     0.0     0.0     0.0   \n",
       "4     0.0     0.0     3.0    13.0     6.0     0.0     0.0     0.0     0.0   \n",
       "5     0.0     0.0     5.0    16.0    12.0     2.0     0.0     0.0     0.0   \n",
       "6     0.0     0.0     0.0    10.0    13.0     0.0     0.0     0.0     0.0   \n",
       "7     0.0     0.0     2.0    10.0    13.0    12.0     3.0     0.0     0.0   \n",
       "8     0.0     0.0    10.0    14.0    10.0     1.0     0.0     0.0     0.0   \n",
       "9     0.0     0.0    15.0    13.0    12.0    12.0     2.0     0.0     0.0   \n",
       "\n",
       "   pixel10  ...  pixel56  pixel57  pixel58  pixel59  pixel60  pixel61  \\\n",
       "0      5.0  ...      0.0      0.0      0.0     13.0     13.0      8.0   \n",
       "1      6.0  ...      0.0      0.0      1.0     15.0     16.0     12.0   \n",
       "2     12.0  ...      0.0      0.0      1.0     13.0     16.0     16.0   \n",
       "3      0.0  ...      0.0      0.0      0.0      7.0     14.0     16.0   \n",
       "4      0.0  ...      0.0      0.0      0.0      3.0     13.0     15.0   \n",
       "5      0.0  ...      0.0      0.0      0.0      6.0     11.0      0.0   \n",
       "6      0.0  ...      0.0      0.0      0.0      1.0      5.0      7.0   \n",
       "7      0.0  ...      0.0      0.0      0.0      2.0     12.0     16.0   \n",
       "8      4.0  ...      0.0      0.0      0.0     12.0     16.0     15.0   \n",
       "9      4.0  ...      0.0      0.0      1.0     15.0     16.0      4.0   \n",
       "\n",
       "   pixel62  pixel63  pixel64  label  \n",
       "0     13.0     16.0      8.0      2  \n",
       "1      1.0      0.0      0.0      8  \n",
       "2     16.0     16.0      3.0      2  \n",
       "3     12.0      1.0      0.0      6  \n",
       "4      8.0      0.0      0.0      6  \n",
       "5      0.0      0.0      0.0      7  \n",
       "6     15.0      8.0      0.0      1  \n",
       "7     14.0      0.0      0.0      9  \n",
       "8      8.0      0.0      0.0      8  \n",
       "9      0.0      0.0      0.0      5  \n",
       "\n",
       "[10 rows x 65 columns]"
      ]
     },
     "execution_count": 8,
     "metadata": {},
     "output_type": "execute_result"
    }
   ],
   "source": [
    "data.head(10)"
   ]
  },
  {
   "cell_type": "markdown",
   "metadata": {},
   "source": [
    "**Train test split the data**"
   ]
  },
  {
   "cell_type": "code",
   "execution_count": 9,
   "metadata": {},
   "outputs": [],
   "source": [
    "train_data, test_data = train_test_split(data, test_size = 0.25, random_state = 0)"
   ]
  },
  {
   "cell_type": "markdown",
   "metadata": {},
   "source": [
    "## 2. Train image classifiers having different C values "
   ]
  },
  {
   "cell_type": "markdown",
   "metadata": {},
   "source": [
    "**List of C values of the classifiers**"
   ]
  },
  {
   "cell_type": "code",
   "execution_count": 10,
   "metadata": {},
   "outputs": [
    {
     "name": "stdout",
     "output_type": "stream",
     "text": [
      "C values: [1.00000000e+00 2.78255940e-01 7.74263683e-02 2.15443469e-02\n",
      " 5.99484250e-03 1.66810054e-03 4.64158883e-04 1.29154967e-04\n",
      " 3.59381366e-05 1.00000000e-05]\n"
     ]
    }
   ],
   "source": [
    "l2_penalties = np.logspace(0,5, num=10)\n",
    "C_values = np.reciprocal(l2_penalties)\n",
    "print(\"C values:\", C_values)"
   ]
  },
  {
   "cell_type": "markdown",
   "metadata": {},
   "source": [
    "**Lists to store the models and classification reports of all the models**"
   ]
  },
  {
   "cell_type": "code",
   "execution_count": 11,
   "metadata": {},
   "outputs": [],
   "source": [
    "models = []\n",
    "classification_reports = []"
   ]
  },
  {
   "cell_type": "markdown",
   "metadata": {},
   "source": [
    "### 2.1 Train logistic regression models and extract the classification reports of the models"
   ]
  },
  {
   "cell_type": "code",
   "execution_count": 13,
   "metadata": {
    "scrolled": true
   },
   "outputs": [
    {
     "name": "stdout",
     "output_type": "stream",
     "text": [
      "Completed training and collecting performance results of model with C value: 1.00000\n",
      "Completed training and collecting performance results of model with C value: 0.27826\n",
      "Completed training and collecting performance results of model with C value: 0.07743\n",
      "Completed training and collecting performance results of model with C value: 0.02154\n",
      "Completed training and collecting performance results of model with C value: 0.00599\n",
      "Completed training and collecting performance results of model with C value: 0.00167\n",
      "Completed training and collecting performance results of model with C value: 0.00046\n",
      "Completed training and collecting performance results of model with C value: 0.00013\n",
      "Completed training and collecting performance results of model with C value: 0.00004\n",
      "Completed training and collecting performance results of model with C value: 0.00001\n"
     ]
    }
   ],
   "source": [
    "# iterate through each C value\n",
    "for C in C_values:    \n",
    "    # create and train logistic regression model with given C value\n",
    "    model = LogisticRegression(solver='liblinear',C = C)\n",
    "    model.fit(train_data[features], train_data[output])    \n",
    "    # append the model object to the designated list\n",
    "    models.append(model)    \n",
    "    # compute and append the classification report of each model to the designated list\n",
    "    labels = test_data[output]\n",
    "    predictions = model.predict(test_data[features])\n",
    "    classification_reports.append(classification_report(labels,predictions))\n",
    "    # print statement\n",
    "    print(\"Completed training and collecting performance results of model with C value: {0:0.5f}\".format(C))"
   ]
  },
  {
   "cell_type": "markdown",
   "metadata": {},
   "source": [
    "### 2.2 Print the classification reports of the models"
   ]
  },
  {
   "cell_type": "code",
   "execution_count": 14,
   "metadata": {
    "scrolled": false
   },
   "outputs": [
    {
     "name": "stdout",
     "output_type": "stream",
     "text": [
      "classification report of model with C value 1.00000: \n",
      "\n",
      "              precision    recall  f1-score   support\n",
      "\n",
      "           0       1.00      1.00      1.00        43\n",
      "           1       0.94      0.92      0.93        48\n",
      "           2       1.00      0.96      0.98        49\n",
      "           3       0.96      0.94      0.95        48\n",
      "           4       1.00      0.94      0.97        31\n",
      "           5       0.98      0.98      0.98        45\n",
      "           6       1.00      0.96      0.98        56\n",
      "           7       0.93      0.98      0.95        43\n",
      "           8       0.83      0.97      0.90        40\n",
      "           9       0.96      0.94      0.95        47\n",
      "\n",
      "    accuracy                           0.96       450\n",
      "   macro avg       0.96      0.96      0.96       450\n",
      "weighted avg       0.96      0.96      0.96       450\n",
      " \n",
      "\n",
      "classification report of model with C value 0.27826: \n",
      "\n",
      "              precision    recall  f1-score   support\n",
      "\n",
      "           0       1.00      1.00      1.00        43\n",
      "           1       0.94      0.96      0.95        48\n",
      "           2       1.00      0.96      0.98        49\n",
      "           3       0.96      0.94      0.95        48\n",
      "           4       1.00      0.94      0.97        31\n",
      "           5       0.98      0.98      0.98        45\n",
      "           6       1.00      0.96      0.98        56\n",
      "           7       0.93      0.98      0.95        43\n",
      "           8       0.87      0.97      0.92        40\n",
      "           9       0.96      0.94      0.95        47\n",
      "\n",
      "    accuracy                           0.96       450\n",
      "   macro avg       0.96      0.96      0.96       450\n",
      "weighted avg       0.96      0.96      0.96       450\n",
      " \n",
      "\n",
      "classification report of model with C value 0.07743: \n",
      "\n",
      "              precision    recall  f1-score   support\n",
      "\n",
      "           0       1.00      1.00      1.00        43\n",
      "           1       0.92      0.98      0.95        48\n",
      "           2       1.00      0.98      0.99        49\n",
      "           3       0.96      0.94      0.95        48\n",
      "           4       1.00      0.94      0.97        31\n",
      "           5       1.00      0.98      0.99        45\n",
      "           6       1.00      0.96      0.98        56\n",
      "           7       0.95      0.95      0.95        43\n",
      "           8       0.91      0.97      0.94        40\n",
      "           9       0.96      0.98      0.97        47\n",
      "\n",
      "    accuracy                           0.97       450\n",
      "   macro avg       0.97      0.97      0.97       450\n",
      "weighted avg       0.97      0.97      0.97       450\n",
      " \n",
      "\n",
      "classification report of model with C value 0.02154: \n",
      "\n",
      "              precision    recall  f1-score   support\n",
      "\n",
      "           0       1.00      1.00      1.00        43\n",
      "           1       0.90      0.96      0.93        48\n",
      "           2       1.00      1.00      1.00        49\n",
      "           3       0.98      0.94      0.96        48\n",
      "           4       1.00      0.94      0.97        31\n",
      "           5       0.98      0.98      0.98        45\n",
      "           6       1.00      0.95      0.97        56\n",
      "           7       0.95      0.95      0.95        43\n",
      "           8       0.91      0.97      0.94        40\n",
      "           9       0.96      0.98      0.97        47\n",
      "\n",
      "    accuracy                           0.97       450\n",
      "   macro avg       0.97      0.97      0.97       450\n",
      "weighted avg       0.97      0.97      0.97       450\n",
      " \n",
      "\n",
      "classification report of model with C value 0.00599: \n",
      "\n",
      "              precision    recall  f1-score   support\n",
      "\n",
      "           0       1.00      1.00      1.00        43\n",
      "           1       0.92      0.96      0.94        48\n",
      "           2       1.00      1.00      1.00        49\n",
      "           3       1.00      0.94      0.97        48\n",
      "           4       1.00      0.94      0.97        31\n",
      "           5       0.98      0.96      0.97        45\n",
      "           6       1.00      0.95      0.97        56\n",
      "           7       0.95      0.98      0.97        43\n",
      "           8       0.89      0.97      0.93        40\n",
      "           9       0.94      0.98      0.96        47\n",
      "\n",
      "    accuracy                           0.97       450\n",
      "   macro avg       0.97      0.97      0.97       450\n",
      "weighted avg       0.97      0.97      0.97       450\n",
      " \n",
      "\n",
      "classification report of model with C value 0.00167: \n",
      "\n",
      "              precision    recall  f1-score   support\n",
      "\n",
      "           0       1.00      1.00      1.00        43\n",
      "           1       0.91      0.90      0.91        48\n",
      "           2       0.98      1.00      0.99        49\n",
      "           3       1.00      0.94      0.97        48\n",
      "           4       1.00      0.94      0.97        31\n",
      "           5       0.98      0.96      0.97        45\n",
      "           6       1.00      0.95      0.97        56\n",
      "           7       0.93      0.98      0.95        43\n",
      "           8       0.85      0.97      0.91        40\n",
      "           9       0.94      0.96      0.95        47\n",
      "\n",
      "    accuracy                           0.96       450\n",
      "   macro avg       0.96      0.96      0.96       450\n",
      "weighted avg       0.96      0.96      0.96       450\n",
      " \n",
      "\n",
      "classification report of model with C value 0.00046: \n",
      "\n",
      "              precision    recall  f1-score   support\n",
      "\n",
      "           0       1.00      1.00      1.00        43\n",
      "           1       0.91      0.88      0.89        48\n",
      "           2       0.98      0.98      0.98        49\n",
      "           3       1.00      0.94      0.97        48\n",
      "           4       1.00      0.94      0.97        31\n",
      "           5       0.98      0.96      0.97        45\n",
      "           6       1.00      0.95      0.97        56\n",
      "           7       0.89      0.98      0.93        43\n",
      "           8       0.83      0.95      0.88        40\n",
      "           9       0.92      0.94      0.93        47\n",
      "\n",
      "    accuracy                           0.95       450\n",
      "   macro avg       0.95      0.95      0.95       450\n",
      "weighted avg       0.95      0.95      0.95       450\n",
      " \n",
      "\n",
      "classification report of model with C value 0.00013: \n",
      "\n",
      "              precision    recall  f1-score   support\n",
      "\n",
      "           0       1.00      1.00      1.00        43\n",
      "           1       0.87      0.85      0.86        48\n",
      "           2       0.98      0.94      0.96        49\n",
      "           3       1.00      0.94      0.97        48\n",
      "           4       1.00      0.94      0.97        31\n",
      "           5       0.95      0.93      0.94        45\n",
      "           6       1.00      0.95      0.97        56\n",
      "           7       0.89      0.98      0.93        43\n",
      "           8       0.80      0.90      0.85        40\n",
      "           9       0.88      0.94      0.91        47\n",
      "\n",
      "    accuracy                           0.94       450\n",
      "   macro avg       0.94      0.94      0.94       450\n",
      "weighted avg       0.94      0.94      0.94       450\n",
      " \n",
      "\n",
      "classification report of model with C value 0.00004: \n",
      "\n",
      "              precision    recall  f1-score   support\n",
      "\n",
      "           0       0.98      1.00      0.99        43\n",
      "           1       0.85      0.92      0.88        48\n",
      "           2       0.98      0.94      0.96        49\n",
      "           3       0.98      0.94      0.96        48\n",
      "           4       0.97      0.94      0.95        31\n",
      "           5       0.95      0.93      0.94        45\n",
      "           6       0.96      0.95      0.95        56\n",
      "           7       0.84      0.98      0.90        43\n",
      "           8       0.92      0.82      0.87        40\n",
      "           9       0.89      0.87      0.88        47\n",
      "\n",
      "    accuracy                           0.93       450\n",
      "   macro avg       0.93      0.93      0.93       450\n",
      "weighted avg       0.93      0.93      0.93       450\n",
      " \n",
      "\n",
      "classification report of model with C value 0.00001: \n",
      "\n",
      "              precision    recall  f1-score   support\n",
      "\n",
      "           0       0.93      0.98      0.95        43\n",
      "           1       0.85      0.92      0.88        48\n",
      "           2       0.98      0.92      0.95        49\n",
      "           3       0.90      0.92      0.91        48\n",
      "           4       0.85      0.94      0.89        31\n",
      "           5       0.95      0.93      0.94        45\n",
      "           6       0.98      0.93      0.95        56\n",
      "           7       0.82      0.95      0.88        43\n",
      "           8       0.97      0.75      0.85        40\n",
      "           9       0.87      0.85      0.86        47\n",
      "\n",
      "    accuracy                           0.91       450\n",
      "   macro avg       0.91      0.91      0.91       450\n",
      "weighted avg       0.91      0.91      0.91       450\n",
      " \n",
      "\n"
     ]
    }
   ],
   "source": [
    "for i,report in enumerate(classification_reports):\n",
    "    \n",
    "    print(\"classification report of model with C value {0:0.5f}: \\n\".format(C_values[i]))\n",
    "    print(report, \"\\n\")"
   ]
  },
  {
   "cell_type": "markdown",
   "metadata": {},
   "source": [
    "## 3. Plot and predict random test images"
   ]
  },
  {
   "cell_type": "markdown",
   "metadata": {},
   "source": [
    "### 3.1 A function to show subplots of randomly chosen digits from test data along with its prediction"
   ]
  },
  {
   "cell_type": "code",
   "execution_count": 15,
   "metadata": {},
   "outputs": [],
   "source": [
    "def plot_random_digits_from_test_data(model, test_data, features, output, number, subplot_dimension):\n",
    "    \n",
    "    ''' \n",
    "    A function to show subplots of randomly chosen digits from data along with its prediction\n",
    "    \n",
    "    Arguments:\n",
    "    model - a fitted sklearn model\n",
    "    test_data - a pandas dataframe containing the test data\n",
    "    features - list containing the features of the model\n",
    "    output - output of the model\n",
    "    number - number of images \n",
    "    subplot_dimension - dimension of the subplot\n",
    "    '''\n",
    "\n",
    "    # generate an array of random indexes from the test data\n",
    "    integers = np.random.randint(0, high=test_data.shape[0], size=number).tolist()\n",
    "    # extract predictions of the randomly chosen digits from the test data \n",
    "    predictions = model.predict(test_data[features].iloc[integers])\n",
    "\n",
    "    # iterate through each digits\n",
    "    for i,j in enumerate(integers):        \n",
    "        # extract the label of the chosen digit\n",
    "        label = test_data[output].iloc[j]\n",
    "        # extract the corresponding image data\n",
    "        image_point = test_data[features].iloc[j]  \n",
    "        image_point = image_point.values\n",
    "        # reshape the data into 8 by 8 image\n",
    "        image = image_point.reshape(8,8)\n",
    "        # plot the image of the digit along with its prediction\n",
    "        plt.subplot(subplot_dimension[0], subplot_dimension[1], i+1)\n",
    "        plt.imshow(image,cmap=plt.cm.gray_r, interpolation='nearest')\n",
    "        plt.title(str(predictions[i]), fontsize=18)\n",
    "\n",
    "    plt.show()"
   ]
  },
  {
   "cell_type": "markdown",
   "metadata": {},
   "source": [
    "### 3.2 Plot and predict the class of randomly chosen test digits using a model"
   ]
  },
  {
   "cell_type": "code",
   "execution_count": 16,
   "metadata": {},
   "outputs": [
    {
     "data": {
      "image/png": "[encoded data removed]",
      "text/plain": [
       "<Figure size 576x1152 with 24 Axes>"
      ]
     },
     "metadata": {
      "image/png": {
       "height": 892,
       "width": 474
      },
      "needs_background": "light"
     },
     "output_type": "display_data"
    }
   ],
   "source": [
    "matplotlib.rcParams['figure.figsize'] = (8.0, 16.0)\n",
    "# chose a model from the array\n",
    "model =  models[4]\n",
    "# number of images we want to look\n",
    "number = 24\n",
    "# subplot dimensions\n",
    "subplot_dimension = [6,4]\n",
    "# plot and predict using the specialised function\n",
    "plot_random_digits_from_test_data(model, test_data, features, output, number, subplot_dimension)"
   ]
  }
 ],
 "metadata": {
  "kernelspec": {
   "display_name": "Python 3",
   "language": "python",
   "name": "python3"
  },
  "language_info": {
   "codemirror_mode": {
    "name": "ipython",
    "version": 3
   },
   "file_extension": ".py",
   "mimetype": "text/x-python",
   "name": "python",
   "nbconvert_exporter": "python",
   "pygments_lexer": "ipython3",
   "version": "3.8.12"
  }
 },
 "nbformat": 4,
 "nbformat_minor": 2
}
