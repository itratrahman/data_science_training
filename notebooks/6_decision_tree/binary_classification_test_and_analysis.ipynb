{
 "cells": [
  {
   "cell_type": "markdown",
   "metadata": {},
   "source": [
    "# BINARY CLASSIFICATION TEST AND ANALYSIS"
   ]
  },
  {
   "cell_type": "markdown",
   "metadata": {},
   "source": [
    "**Append the directory of the m_learn package to the system path**"
   ]
  },
  {
   "cell_type": "code",
   "execution_count": 1,
   "metadata": {},
   "outputs": [],
   "source": [
    "from config import *\n",
    "append_path('../../')"
   ]
  },
  {
   "cell_type": "markdown",
   "metadata": {},
   "source": [
    "**Import necessary packages and modules**"
   ]
  },
  {
   "cell_type": "code",
   "execution_count": 2,
   "metadata": {},
   "outputs": [],
   "source": [
    "import numpy as np\n",
    "np.random.seed(0)\n",
    "import pandas as pd\n",
    "from m_learn.tree import binary_decision_tree\n",
    "from m_learn.utility.data_preprocessing import mesh_data\n",
    "from sklearn.model_selection import train_test_split\n",
    "from sklearn.metrics import accuracy_score, precision_score, recall_score\n",
    "from sklearn import datasets\n",
    "import matplotlib\n",
    "from matplotlib import pyplot as plt\n",
    "%matplotlib inline\n",
    "%config InlineBackend.figure_format = 'retina'"
   ]
  },
  {
   "cell_type": "markdown",
   "metadata": {},
   "source": [
    "## 1. Binary classification test"
   ]
  },
  {
   "cell_type": "markdown",
   "metadata": {},
   "source": [
    "###  1.1 Create 2 clusters/classes of 2D data"
   ]
  },
  {
   "cell_type": "markdown",
   "metadata": {},
   "source": [
    "**Create x values of the 2 clusters**"
   ]
  },
  {
   "cell_type": "code",
   "execution_count": 3,
   "metadata": {},
   "outputs": [],
   "source": [
    "# sigma of the random distribution\n",
    "sigma = 3\n",
    "# size of each class\n",
    "cls_size = 500\n",
    "# create feature 1 and feature 2 values of the first class\n",
    "x11 = np.random.normal(20, sigma, cls_size)\n",
    "x21 = np.random.normal(20, sigma, cls_size)\n",
    "# create feature 1 and feature 2 values of the second class\n",
    "x12 = np.random.normal(45, sigma, cls_size)\n",
    "x22 = np.random.normal(35, sigma, cls_size)"
   ]
  },
  {
   "cell_type": "markdown",
   "metadata": {},
   "source": [
    "**Concatenate the feature 1(x1) & feature 2(x2) values of the 2 clusters**"
   ]
  },
  {
   "cell_type": "code",
   "execution_count": 4,
   "metadata": {},
   "outputs": [],
   "source": [
    "x1 = np.concatenate([x11,x12])\n",
    "x2 = np.concatenate([x21,x22])"
   ]
  },
  {
   "cell_type": "markdown",
   "metadata": {},
   "source": [
    "**Create the labels of the 2 clusters**"
   ]
  },
  {
   "cell_type": "code",
   "execution_count": 5,
   "metadata": {},
   "outputs": [],
   "source": [
    "y = [-1 for i in range(cls_size)] + [1 for i in range(cls_size)]"
   ]
  },
  {
   "cell_type": "markdown",
   "metadata": {},
   "source": [
    "**Store the xy data in a pandas dataframe**"
   ]
  },
  {
   "cell_type": "code",
   "execution_count": 6,
   "metadata": {},
   "outputs": [],
   "source": [
    "data = pd.DataFrame({\"x1\": x1, \"x2\": x2, \"y\":y})"
   ]
  },
  {
   "cell_type": "code",
   "execution_count": 7,
   "metadata": {},
   "outputs": [
    {
     "data": {
      "text/html": [
       "<div>\n",
       "<style scoped>\n",
       "    .dataframe tbody tr th:only-of-type {\n",
       "        vertical-align: middle;\n",
       "    }\n",
       "\n",
       "    .dataframe tbody tr th {\n",
       "        vertical-align: top;\n",
       "    }\n",
       "\n",
       "    .dataframe thead th {\n",
       "        text-align: right;\n",
       "    }\n",
       "</style>\n",
       "<table border=\"1\" class=\"dataframe\">\n",
       "  <thead>\n",
       "    <tr style=\"text-align: right;\">\n",
       "      <th></th>\n",
       "      <th>x1</th>\n",
       "      <th>x2</th>\n",
       "      <th>y</th>\n",
       "    </tr>\n",
       "  </thead>\n",
       "  <tbody>\n",
       "    <tr>\n",
       "      <th>0</th>\n",
       "      <td>25.292157</td>\n",
       "      <td>21.148197</td>\n",
       "      <td>-1</td>\n",
       "    </tr>\n",
       "    <tr>\n",
       "      <th>1</th>\n",
       "      <td>21.200472</td>\n",
       "      <td>19.897273</td>\n",
       "      <td>-1</td>\n",
       "    </tr>\n",
       "    <tr>\n",
       "      <th>2</th>\n",
       "      <td>22.936214</td>\n",
       "      <td>23.289041</td>\n",
       "      <td>-1</td>\n",
       "    </tr>\n",
       "    <tr>\n",
       "      <th>3</th>\n",
       "      <td>26.722680</td>\n",
       "      <td>19.297353</td>\n",
       "      <td>-1</td>\n",
       "    </tr>\n",
       "    <tr>\n",
       "      <th>4</th>\n",
       "      <td>25.602674</td>\n",
       "      <td>18.957648</td>\n",
       "      <td>-1</td>\n",
       "    </tr>\n",
       "  </tbody>\n",
       "</table>\n",
       "</div>"
      ],
      "text/plain": [
       "          x1         x2  y\n",
       "0  25.292157  21.148197 -1\n",
       "1  21.200472  19.897273 -1\n",
       "2  22.936214  23.289041 -1\n",
       "3  26.722680  19.297353 -1\n",
       "4  25.602674  18.957648 -1"
      ]
     },
     "execution_count": 7,
     "metadata": {},
     "output_type": "execute_result"
    }
   ],
   "source": [
    "data.head(5)"
   ]
  },
  {
   "cell_type": "code",
   "execution_count": 8,
   "metadata": {},
   "outputs": [
    {
     "data": {
      "text/html": [
       "<div>\n",
       "<style scoped>\n",
       "    .dataframe tbody tr th:only-of-type {\n",
       "        vertical-align: middle;\n",
       "    }\n",
       "\n",
       "    .dataframe tbody tr th {\n",
       "        vertical-align: top;\n",
       "    }\n",
       "\n",
       "    .dataframe thead th {\n",
       "        text-align: right;\n",
       "    }\n",
       "</style>\n",
       "<table border=\"1\" class=\"dataframe\">\n",
       "  <thead>\n",
       "    <tr style=\"text-align: right;\">\n",
       "      <th></th>\n",
       "      <th>x1</th>\n",
       "      <th>x2</th>\n",
       "      <th>y</th>\n",
       "    </tr>\n",
       "  </thead>\n",
       "  <tbody>\n",
       "    <tr>\n",
       "      <th>995</th>\n",
       "      <td>48.955653</td>\n",
       "      <td>35.293252</td>\n",
       "      <td>1</td>\n",
       "    </tr>\n",
       "    <tr>\n",
       "      <th>996</th>\n",
       "      <td>44.282110</td>\n",
       "      <td>39.204570</td>\n",
       "      <td>1</td>\n",
       "    </tr>\n",
       "    <tr>\n",
       "      <th>997</th>\n",
       "      <td>44.259619</td>\n",
       "      <td>35.475302</td>\n",
       "      <td>1</td>\n",
       "    </tr>\n",
       "    <tr>\n",
       "      <th>998</th>\n",
       "      <td>41.761971</td>\n",
       "      <td>31.574296</td>\n",
       "      <td>1</td>\n",
       "    </tr>\n",
       "    <tr>\n",
       "      <th>999</th>\n",
       "      <td>44.657323</td>\n",
       "      <td>31.067089</td>\n",
       "      <td>1</td>\n",
       "    </tr>\n",
       "  </tbody>\n",
       "</table>\n",
       "</div>"
      ],
      "text/plain": [
       "            x1         x2  y\n",
       "995  48.955653  35.293252  1\n",
       "996  44.282110  39.204570  1\n",
       "997  44.259619  35.475302  1\n",
       "998  41.761971  31.574296  1\n",
       "999  44.657323  31.067089  1"
      ]
     },
     "execution_count": 8,
     "metadata": {},
     "output_type": "execute_result"
    }
   ],
   "source": [
    "data.tail(5)"
   ]
  },
  {
   "cell_type": "markdown",
   "metadata": {},
   "source": [
    "###  1.2 Scatter plot of the different classes/clusters"
   ]
  },
  {
   "cell_type": "markdown",
   "metadata": {},
   "source": [
    "**Extract the datapoints of the 2 classes/clusters**"
   ]
  },
  {
   "cell_type": "code",
   "execution_count": 9,
   "metadata": {},
   "outputs": [],
   "source": [
    "class1 = data[data[\"y\"] == -1]\n",
    "class2 = data[data[\"y\"] == 1]"
   ]
  },
  {
   "cell_type": "markdown",
   "metadata": {},
   "source": [
    "**Scatter plot of the 2 classes/clusters**"
   ]
  },
  {
   "cell_type": "code",
   "execution_count": 10,
   "metadata": {},
   "outputs": [
    {
     "data": {
      "image/png": "[encoded data removed]",
      "text/plain": [
       "<Figure size 432x288 with 1 Axes>"
      ]
     },
     "metadata": {
      "image/png": {
       "height": 261,
       "width": 382
      },
      "needs_background": "light"
     },
     "output_type": "display_data"
    }
   ],
   "source": [
    "plt.scatter(class1[\"x1\"], class1[\"x2\"], c = 'b', linewidths=0.01, label = 'class1')\n",
    "plt.scatter(class2[\"x1\"], class2[\"x2\"], c = 'k', linewidths=0.01, label = 'class2')\n",
    "plt.legend(loc='lower right')\n",
    "plt.xlabel(\"x1\")\n",
    "plt.ylabel(\"x2\")\n",
    "plt.grid()\n",
    "plt.show()"
   ]
  },
  {
   "cell_type": "markdown",
   "metadata": {},
   "source": [
    "###  1.3 Train decision tree classifier using the data"
   ]
  },
  {
   "cell_type": "markdown",
   "metadata": {},
   "source": [
    "**Create and fit a binary decision tree classifier**"
   ]
  },
  {
   "cell_type": "code",
   "execution_count": 11,
   "metadata": {},
   "outputs": [
    {
     "name": "stdout",
     "output_type": "stream",
     "text": [
      "Completed finding feature thresholds\n",
      "Completed binarizing data \n",
      "\n",
      "Fitting decision tree\n",
      "--------------------------------------------------------------------\n",
      "--------------------------------------------------------------------\n",
      "Subtree, depth = 0 (contains 1000 data points).\n",
      "splitting feature:  x1\n",
      "--------------------------------------------------------------------\n",
      "Subtree, depth = 1 (contains 500 data points).\n",
      "Stopping condition 1 is reached: no mistakes in current node\n",
      "--------------------------------------------------------------------\n",
      "Subtree, depth = 1 (contains 500 data points).\n",
      "Stopping condition 1 is reached: no mistakes in current node\n",
      "--------------------------------------------------------------------\n",
      "--------------------------------------------------------------------\n",
      "Compeleted fitting decision tree\n"
     ]
    }
   ],
   "source": [
    "# features of the model\n",
    "features = ['x1', 'x2']\n",
    "# output of the model\n",
    "output = 'y'\n",
    "# create and train the model\n",
    "model = binary_decision_tree()\n",
    "model.fit(data, features, output, verbose=True)"
   ]
  },
  {
   "cell_type": "markdown",
   "metadata": {},
   "source": [
    "### 1.4 Visualize the decision boundary using mesh plot"
   ]
  },
  {
   "cell_type": "markdown",
   "metadata": {},
   "source": [
    "**Create mesh points**"
   ]
  },
  {
   "cell_type": "code",
   "execution_count": 12,
   "metadata": {},
   "outputs": [],
   "source": [
    "# step in mesh plot\n",
    "mesh_step = 0.5\n",
    "# extract the xx & yy matrices and the flattened mesh points\n",
    "xx, yy, mesh_points = mesh_data(data, features, mesh_step, boudary_extension=5)"
   ]
  },
  {
   "cell_type": "code",
   "execution_count": 13,
   "metadata": {},
   "outputs": [],
   "source": [
    "# compute predictions \n",
    "predictions = model.predict(mesh_points)\n",
    "# reshape predictions so that it fits the meshplot\n",
    "predictions = predictions.reshape(xx.shape)"
   ]
  },
  {
   "cell_type": "markdown",
   "metadata": {},
   "source": [
    "**Mesh plot**"
   ]
  },
  {
   "cell_type": "code",
   "execution_count": 14,
   "metadata": {},
   "outputs": [
    {
     "name": "stderr",
     "output_type": "stream",
     "text": [
      "<ipython-input-14-3f35772406e9>:1: MatplotlibDeprecationWarning: shading='flat' when X and Y have the same dimensions as C is deprecated since 3.3.  Either specify the corners of the quadrilaterals with X and Y, or pass shading='auto', 'nearest' or 'gouraud', or set rcParams['pcolor.shading'].  This will become an error two minor releases later.\n",
      "  plt.pcolormesh(xx, yy, predictions, cmap=plt.cm.Paired)\n"
     ]
    },
    {
     "data": {
      "image/png": "[encoded data removed]",
      "text/plain": [
       "<Figure size 432x288 with 1 Axes>"
      ]
     },
     "metadata": {
      "image/png": {
       "height": 261,
       "width": 382
      },
      "needs_background": "light"
     },
     "output_type": "display_data"
    }
   ],
   "source": [
    "plt.pcolormesh(xx, yy, predictions, cmap=plt.cm.Paired)\n",
    "plt.scatter(class1[\"x1\"], class1[\"x2\"], c = 'b', linewidths=0.01, label = 'class1')\n",
    "plt.scatter(class2[\"x1\"], class2[\"x2\"], c = 'k', linewidths=0.01, label = 'class2')\n",
    "plt.legend(loc='lower right')\n",
    "plt.xlabel(\"x1\")\n",
    "plt.ylabel(\"x2\")\n",
    "plt.show()"
   ]
  },
  {
   "cell_type": "markdown",
   "metadata": {},
   "source": [
    "## 2. Binary classification using cancer data"
   ]
  },
  {
   "cell_type": "markdown",
   "metadata": {},
   "source": [
    "### 2.1 Load and preprocess cancer data"
   ]
  },
  {
   "cell_type": "markdown",
   "metadata": {},
   "source": [
    "**Load the cancer data**"
   ]
  },
  {
   "cell_type": "code",
   "execution_count": 15,
   "metadata": {},
   "outputs": [],
   "source": [
    "cancer_data = datasets.load_breast_cancer()"
   ]
  },
  {
   "cell_type": "markdown",
   "metadata": {},
   "source": [
    "**Features and output of the model**"
   ]
  },
  {
   "cell_type": "code",
   "execution_count": 16,
   "metadata": {},
   "outputs": [],
   "source": [
    "features = cancer_data.feature_names.tolist()\n",
    "output = 'labels'"
   ]
  },
  {
   "cell_type": "markdown",
   "metadata": {},
   "source": [
    "**Store the data in a pandas dataframe and shuffle the data**"
   ]
  },
  {
   "cell_type": "code",
   "execution_count": 17,
   "metadata": {},
   "outputs": [
    {
     "data": {
      "text/html": [
       "<div>\n",
       "<style scoped>\n",
       "    .dataframe tbody tr th:only-of-type {\n",
       "        vertical-align: middle;\n",
       "    }\n",
       "\n",
       "    .dataframe tbody tr th {\n",
       "        vertical-align: top;\n",
       "    }\n",
       "\n",
       "    .dataframe thead th {\n",
       "        text-align: right;\n",
       "    }\n",
       "</style>\n",
       "<table border=\"1\" class=\"dataframe\">\n",
       "  <thead>\n",
       "    <tr style=\"text-align: right;\">\n",
       "      <th></th>\n",
       "      <th>mean radius</th>\n",
       "      <th>mean texture</th>\n",
       "      <th>mean perimeter</th>\n",
       "      <th>mean area</th>\n",
       "      <th>mean smoothness</th>\n",
       "      <th>mean compactness</th>\n",
       "      <th>mean concavity</th>\n",
       "      <th>mean concave points</th>\n",
       "      <th>mean symmetry</th>\n",
       "      <th>mean fractal dimension</th>\n",
       "      <th>...</th>\n",
       "      <th>worst texture</th>\n",
       "      <th>worst perimeter</th>\n",
       "      <th>worst area</th>\n",
       "      <th>worst smoothness</th>\n",
       "      <th>worst compactness</th>\n",
       "      <th>worst concavity</th>\n",
       "      <th>worst concave points</th>\n",
       "      <th>worst symmetry</th>\n",
       "      <th>worst fractal dimension</th>\n",
       "      <th>labels</th>\n",
       "    </tr>\n",
       "  </thead>\n",
       "  <tbody>\n",
       "    <tr>\n",
       "      <th>0</th>\n",
       "      <td>13.400</td>\n",
       "      <td>20.52</td>\n",
       "      <td>88.64</td>\n",
       "      <td>556.7</td>\n",
       "      <td>0.11060</td>\n",
       "      <td>0.14690</td>\n",
       "      <td>0.14450</td>\n",
       "      <td>0.08172</td>\n",
       "      <td>0.2116</td>\n",
       "      <td>0.07325</td>\n",
       "      <td>...</td>\n",
       "      <td>29.66</td>\n",
       "      <td>113.30</td>\n",
       "      <td>844.4</td>\n",
       "      <td>0.15740</td>\n",
       "      <td>0.38560</td>\n",
       "      <td>0.51060</td>\n",
       "      <td>0.20510</td>\n",
       "      <td>0.3585</td>\n",
       "      <td>0.11090</td>\n",
       "      <td>0</td>\n",
       "    </tr>\n",
       "    <tr>\n",
       "      <th>1</th>\n",
       "      <td>13.210</td>\n",
       "      <td>25.25</td>\n",
       "      <td>84.10</td>\n",
       "      <td>537.9</td>\n",
       "      <td>0.08791</td>\n",
       "      <td>0.05205</td>\n",
       "      <td>0.02772</td>\n",
       "      <td>0.02068</td>\n",
       "      <td>0.1619</td>\n",
       "      <td>0.05584</td>\n",
       "      <td>...</td>\n",
       "      <td>34.23</td>\n",
       "      <td>91.29</td>\n",
       "      <td>632.9</td>\n",
       "      <td>0.12890</td>\n",
       "      <td>0.10630</td>\n",
       "      <td>0.13900</td>\n",
       "      <td>0.06005</td>\n",
       "      <td>0.2444</td>\n",
       "      <td>0.06788</td>\n",
       "      <td>1</td>\n",
       "    </tr>\n",
       "    <tr>\n",
       "      <th>2</th>\n",
       "      <td>14.020</td>\n",
       "      <td>15.66</td>\n",
       "      <td>89.59</td>\n",
       "      <td>606.5</td>\n",
       "      <td>0.07966</td>\n",
       "      <td>0.05581</td>\n",
       "      <td>0.02087</td>\n",
       "      <td>0.02652</td>\n",
       "      <td>0.1589</td>\n",
       "      <td>0.05586</td>\n",
       "      <td>...</td>\n",
       "      <td>19.31</td>\n",
       "      <td>96.53</td>\n",
       "      <td>688.9</td>\n",
       "      <td>0.10340</td>\n",
       "      <td>0.10170</td>\n",
       "      <td>0.06260</td>\n",
       "      <td>0.08216</td>\n",
       "      <td>0.2136</td>\n",
       "      <td>0.06710</td>\n",
       "      <td>1</td>\n",
       "    </tr>\n",
       "    <tr>\n",
       "      <th>3</th>\n",
       "      <td>14.260</td>\n",
       "      <td>18.17</td>\n",
       "      <td>91.22</td>\n",
       "      <td>633.1</td>\n",
       "      <td>0.06576</td>\n",
       "      <td>0.05220</td>\n",
       "      <td>0.02475</td>\n",
       "      <td>0.01374</td>\n",
       "      <td>0.1635</td>\n",
       "      <td>0.05586</td>\n",
       "      <td>...</td>\n",
       "      <td>25.26</td>\n",
       "      <td>105.80</td>\n",
       "      <td>819.7</td>\n",
       "      <td>0.09445</td>\n",
       "      <td>0.21670</td>\n",
       "      <td>0.15650</td>\n",
       "      <td>0.07530</td>\n",
       "      <td>0.2636</td>\n",
       "      <td>0.07676</td>\n",
       "      <td>1</td>\n",
       "    </tr>\n",
       "    <tr>\n",
       "      <th>4</th>\n",
       "      <td>13.030</td>\n",
       "      <td>18.42</td>\n",
       "      <td>82.61</td>\n",
       "      <td>523.8</td>\n",
       "      <td>0.08983</td>\n",
       "      <td>0.03766</td>\n",
       "      <td>0.02562</td>\n",
       "      <td>0.02923</td>\n",
       "      <td>0.1467</td>\n",
       "      <td>0.05863</td>\n",
       "      <td>...</td>\n",
       "      <td>22.81</td>\n",
       "      <td>84.46</td>\n",
       "      <td>545.9</td>\n",
       "      <td>0.09701</td>\n",
       "      <td>0.04619</td>\n",
       "      <td>0.04833</td>\n",
       "      <td>0.05013</td>\n",
       "      <td>0.1987</td>\n",
       "      <td>0.06169</td>\n",
       "      <td>1</td>\n",
       "    </tr>\n",
       "    <tr>\n",
       "      <th>5</th>\n",
       "      <td>11.340</td>\n",
       "      <td>18.61</td>\n",
       "      <td>72.76</td>\n",
       "      <td>391.2</td>\n",
       "      <td>0.10490</td>\n",
       "      <td>0.08499</td>\n",
       "      <td>0.04302</td>\n",
       "      <td>0.02594</td>\n",
       "      <td>0.1927</td>\n",
       "      <td>0.06211</td>\n",
       "      <td>...</td>\n",
       "      <td>23.03</td>\n",
       "      <td>79.15</td>\n",
       "      <td>478.6</td>\n",
       "      <td>0.14830</td>\n",
       "      <td>0.15740</td>\n",
       "      <td>0.16240</td>\n",
       "      <td>0.08542</td>\n",
       "      <td>0.3060</td>\n",
       "      <td>0.06783</td>\n",
       "      <td>1</td>\n",
       "    </tr>\n",
       "    <tr>\n",
       "      <th>6</th>\n",
       "      <td>12.050</td>\n",
       "      <td>22.72</td>\n",
       "      <td>78.75</td>\n",
       "      <td>447.8</td>\n",
       "      <td>0.06935</td>\n",
       "      <td>0.10730</td>\n",
       "      <td>0.07943</td>\n",
       "      <td>0.02978</td>\n",
       "      <td>0.1203</td>\n",
       "      <td>0.06659</td>\n",
       "      <td>...</td>\n",
       "      <td>28.71</td>\n",
       "      <td>87.36</td>\n",
       "      <td>488.4</td>\n",
       "      <td>0.08799</td>\n",
       "      <td>0.32140</td>\n",
       "      <td>0.29120</td>\n",
       "      <td>0.10920</td>\n",
       "      <td>0.2191</td>\n",
       "      <td>0.09349</td>\n",
       "      <td>1</td>\n",
       "    </tr>\n",
       "    <tr>\n",
       "      <th>7</th>\n",
       "      <td>11.700</td>\n",
       "      <td>19.11</td>\n",
       "      <td>74.33</td>\n",
       "      <td>418.7</td>\n",
       "      <td>0.08814</td>\n",
       "      <td>0.05253</td>\n",
       "      <td>0.01583</td>\n",
       "      <td>0.01148</td>\n",
       "      <td>0.1936</td>\n",
       "      <td>0.06128</td>\n",
       "      <td>...</td>\n",
       "      <td>26.55</td>\n",
       "      <td>80.92</td>\n",
       "      <td>483.1</td>\n",
       "      <td>0.12230</td>\n",
       "      <td>0.10870</td>\n",
       "      <td>0.07915</td>\n",
       "      <td>0.05741</td>\n",
       "      <td>0.3487</td>\n",
       "      <td>0.06958</td>\n",
       "      <td>1</td>\n",
       "    </tr>\n",
       "    <tr>\n",
       "      <th>8</th>\n",
       "      <td>7.729</td>\n",
       "      <td>25.49</td>\n",
       "      <td>47.98</td>\n",
       "      <td>178.8</td>\n",
       "      <td>0.08098</td>\n",
       "      <td>0.04878</td>\n",
       "      <td>0.00000</td>\n",
       "      <td>0.00000</td>\n",
       "      <td>0.1870</td>\n",
       "      <td>0.07285</td>\n",
       "      <td>...</td>\n",
       "      <td>30.92</td>\n",
       "      <td>57.17</td>\n",
       "      <td>248.0</td>\n",
       "      <td>0.12560</td>\n",
       "      <td>0.08340</td>\n",
       "      <td>0.00000</td>\n",
       "      <td>0.00000</td>\n",
       "      <td>0.3058</td>\n",
       "      <td>0.09938</td>\n",
       "      <td>1</td>\n",
       "    </tr>\n",
       "    <tr>\n",
       "      <th>9</th>\n",
       "      <td>10.260</td>\n",
       "      <td>14.71</td>\n",
       "      <td>66.20</td>\n",
       "      <td>321.6</td>\n",
       "      <td>0.09882</td>\n",
       "      <td>0.09159</td>\n",
       "      <td>0.03581</td>\n",
       "      <td>0.02037</td>\n",
       "      <td>0.1633</td>\n",
       "      <td>0.07005</td>\n",
       "      <td>...</td>\n",
       "      <td>19.48</td>\n",
       "      <td>70.89</td>\n",
       "      <td>357.1</td>\n",
       "      <td>0.13600</td>\n",
       "      <td>0.16360</td>\n",
       "      <td>0.07162</td>\n",
       "      <td>0.04074</td>\n",
       "      <td>0.2434</td>\n",
       "      <td>0.08488</td>\n",
       "      <td>1</td>\n",
       "    </tr>\n",
       "  </tbody>\n",
       "</table>\n",
       "<p>10 rows × 31 columns</p>\n",
       "</div>"
      ],
      "text/plain": [
       "   mean radius  mean texture  mean perimeter  mean area  mean smoothness  \\\n",
       "0       13.400         20.52           88.64      556.7          0.11060   \n",
       "1       13.210         25.25           84.10      537.9          0.08791   \n",
       "2       14.020         15.66           89.59      606.5          0.07966   \n",
       "3       14.260         18.17           91.22      633.1          0.06576   \n",
       "4       13.030         18.42           82.61      523.8          0.08983   \n",
       "5       11.340         18.61           72.76      391.2          0.10490   \n",
       "6       12.050         22.72           78.75      447.8          0.06935   \n",
       "7       11.700         19.11           74.33      418.7          0.08814   \n",
       "8        7.729         25.49           47.98      178.8          0.08098   \n",
       "9       10.260         14.71           66.20      321.6          0.09882   \n",
       "\n",
       "   mean compactness  mean concavity  mean concave points  mean symmetry  \\\n",
       "0           0.14690         0.14450              0.08172         0.2116   \n",
       "1           0.05205         0.02772              0.02068         0.1619   \n",
       "2           0.05581         0.02087              0.02652         0.1589   \n",
       "3           0.05220         0.02475              0.01374         0.1635   \n",
       "4           0.03766         0.02562              0.02923         0.1467   \n",
       "5           0.08499         0.04302              0.02594         0.1927   \n",
       "6           0.10730         0.07943              0.02978         0.1203   \n",
       "7           0.05253         0.01583              0.01148         0.1936   \n",
       "8           0.04878         0.00000              0.00000         0.1870   \n",
       "9           0.09159         0.03581              0.02037         0.1633   \n",
       "\n",
       "   mean fractal dimension  ...  worst texture  worst perimeter  worst area  \\\n",
       "0                 0.07325  ...          29.66           113.30       844.4   \n",
       "1                 0.05584  ...          34.23            91.29       632.9   \n",
       "2                 0.05586  ...          19.31            96.53       688.9   \n",
       "3                 0.05586  ...          25.26           105.80       819.7   \n",
       "4                 0.05863  ...          22.81            84.46       545.9   \n",
       "5                 0.06211  ...          23.03            79.15       478.6   \n",
       "6                 0.06659  ...          28.71            87.36       488.4   \n",
       "7                 0.06128  ...          26.55            80.92       483.1   \n",
       "8                 0.07285  ...          30.92            57.17       248.0   \n",
       "9                 0.07005  ...          19.48            70.89       357.1   \n",
       "\n",
       "   worst smoothness  worst compactness  worst concavity  worst concave points  \\\n",
       "0           0.15740            0.38560          0.51060               0.20510   \n",
       "1           0.12890            0.10630          0.13900               0.06005   \n",
       "2           0.10340            0.10170          0.06260               0.08216   \n",
       "3           0.09445            0.21670          0.15650               0.07530   \n",
       "4           0.09701            0.04619          0.04833               0.05013   \n",
       "5           0.14830            0.15740          0.16240               0.08542   \n",
       "6           0.08799            0.32140          0.29120               0.10920   \n",
       "7           0.12230            0.10870          0.07915               0.05741   \n",
       "8           0.12560            0.08340          0.00000               0.00000   \n",
       "9           0.13600            0.16360          0.07162               0.04074   \n",
       "\n",
       "   worst symmetry  worst fractal dimension  labels  \n",
       "0          0.3585                  0.11090       0  \n",
       "1          0.2444                  0.06788       1  \n",
       "2          0.2136                  0.06710       1  \n",
       "3          0.2636                  0.07676       1  \n",
       "4          0.1987                  0.06169       1  \n",
       "5          0.3060                  0.06783       1  \n",
       "6          0.2191                  0.09349       1  \n",
       "7          0.3487                  0.06958       1  \n",
       "8          0.3058                  0.09938       1  \n",
       "9          0.2434                  0.08488       1  \n",
       "\n",
       "[10 rows x 31 columns]"
      ]
     },
     "execution_count": 17,
     "metadata": {},
     "output_type": "execute_result"
    }
   ],
   "source": [
    "# store the feature columns in a pandas dataframe\n",
    "data = pd.DataFrame(cancer_data.data, columns=features)\n",
    "# store the output column in the pandas dataframe\n",
    "data[output] = cancer_data.target\n",
    "# shuffle the data\n",
    "data = data.sample(frac=1, random_state=0).reset_index(drop=True)\n",
    "data.head(10)"
   ]
  },
  {
   "cell_type": "markdown",
   "metadata": {},
   "source": [
    "**Change the binary labels from {0,1} to {-1,1}**"
   ]
  },
  {
   "cell_type": "code",
   "execution_count": 18,
   "metadata": {},
   "outputs": [
    {
     "data": {
      "text/html": [
       "<div>\n",
       "<style scoped>\n",
       "    .dataframe tbody tr th:only-of-type {\n",
       "        vertical-align: middle;\n",
       "    }\n",
       "\n",
       "    .dataframe tbody tr th {\n",
       "        vertical-align: top;\n",
       "    }\n",
       "\n",
       "    .dataframe thead th {\n",
       "        text-align: right;\n",
       "    }\n",
       "</style>\n",
       "<table border=\"1\" class=\"dataframe\">\n",
       "  <thead>\n",
       "    <tr style=\"text-align: right;\">\n",
       "      <th></th>\n",
       "      <th>mean radius</th>\n",
       "      <th>mean texture</th>\n",
       "      <th>mean perimeter</th>\n",
       "      <th>mean area</th>\n",
       "      <th>mean smoothness</th>\n",
       "      <th>mean compactness</th>\n",
       "      <th>mean concavity</th>\n",
       "      <th>mean concave points</th>\n",
       "      <th>mean symmetry</th>\n",
       "      <th>mean fractal dimension</th>\n",
       "      <th>...</th>\n",
       "      <th>worst texture</th>\n",
       "      <th>worst perimeter</th>\n",
       "      <th>worst area</th>\n",
       "      <th>worst smoothness</th>\n",
       "      <th>worst compactness</th>\n",
       "      <th>worst concavity</th>\n",
       "      <th>worst concave points</th>\n",
       "      <th>worst symmetry</th>\n",
       "      <th>worst fractal dimension</th>\n",
       "      <th>labels</th>\n",
       "    </tr>\n",
       "  </thead>\n",
       "  <tbody>\n",
       "    <tr>\n",
       "      <th>0</th>\n",
       "      <td>13.40</td>\n",
       "      <td>20.52</td>\n",
       "      <td>88.64</td>\n",
       "      <td>556.7</td>\n",
       "      <td>0.11060</td>\n",
       "      <td>0.14690</td>\n",
       "      <td>0.14450</td>\n",
       "      <td>0.08172</td>\n",
       "      <td>0.2116</td>\n",
       "      <td>0.07325</td>\n",
       "      <td>...</td>\n",
       "      <td>29.66</td>\n",
       "      <td>113.30</td>\n",
       "      <td>844.4</td>\n",
       "      <td>0.15740</td>\n",
       "      <td>0.38560</td>\n",
       "      <td>0.51060</td>\n",
       "      <td>0.20510</td>\n",
       "      <td>0.3585</td>\n",
       "      <td>0.11090</td>\n",
       "      <td>-1</td>\n",
       "    </tr>\n",
       "    <tr>\n",
       "      <th>1</th>\n",
       "      <td>13.21</td>\n",
       "      <td>25.25</td>\n",
       "      <td>84.10</td>\n",
       "      <td>537.9</td>\n",
       "      <td>0.08791</td>\n",
       "      <td>0.05205</td>\n",
       "      <td>0.02772</td>\n",
       "      <td>0.02068</td>\n",
       "      <td>0.1619</td>\n",
       "      <td>0.05584</td>\n",
       "      <td>...</td>\n",
       "      <td>34.23</td>\n",
       "      <td>91.29</td>\n",
       "      <td>632.9</td>\n",
       "      <td>0.12890</td>\n",
       "      <td>0.10630</td>\n",
       "      <td>0.13900</td>\n",
       "      <td>0.06005</td>\n",
       "      <td>0.2444</td>\n",
       "      <td>0.06788</td>\n",
       "      <td>1</td>\n",
       "    </tr>\n",
       "    <tr>\n",
       "      <th>2</th>\n",
       "      <td>14.02</td>\n",
       "      <td>15.66</td>\n",
       "      <td>89.59</td>\n",
       "      <td>606.5</td>\n",
       "      <td>0.07966</td>\n",
       "      <td>0.05581</td>\n",
       "      <td>0.02087</td>\n",
       "      <td>0.02652</td>\n",
       "      <td>0.1589</td>\n",
       "      <td>0.05586</td>\n",
       "      <td>...</td>\n",
       "      <td>19.31</td>\n",
       "      <td>96.53</td>\n",
       "      <td>688.9</td>\n",
       "      <td>0.10340</td>\n",
       "      <td>0.10170</td>\n",
       "      <td>0.06260</td>\n",
       "      <td>0.08216</td>\n",
       "      <td>0.2136</td>\n",
       "      <td>0.06710</td>\n",
       "      <td>1</td>\n",
       "    </tr>\n",
       "    <tr>\n",
       "      <th>3</th>\n",
       "      <td>14.26</td>\n",
       "      <td>18.17</td>\n",
       "      <td>91.22</td>\n",
       "      <td>633.1</td>\n",
       "      <td>0.06576</td>\n",
       "      <td>0.05220</td>\n",
       "      <td>0.02475</td>\n",
       "      <td>0.01374</td>\n",
       "      <td>0.1635</td>\n",
       "      <td>0.05586</td>\n",
       "      <td>...</td>\n",
       "      <td>25.26</td>\n",
       "      <td>105.80</td>\n",
       "      <td>819.7</td>\n",
       "      <td>0.09445</td>\n",
       "      <td>0.21670</td>\n",
       "      <td>0.15650</td>\n",
       "      <td>0.07530</td>\n",
       "      <td>0.2636</td>\n",
       "      <td>0.07676</td>\n",
       "      <td>1</td>\n",
       "    </tr>\n",
       "    <tr>\n",
       "      <th>4</th>\n",
       "      <td>13.03</td>\n",
       "      <td>18.42</td>\n",
       "      <td>82.61</td>\n",
       "      <td>523.8</td>\n",
       "      <td>0.08983</td>\n",
       "      <td>0.03766</td>\n",
       "      <td>0.02562</td>\n",
       "      <td>0.02923</td>\n",
       "      <td>0.1467</td>\n",
       "      <td>0.05863</td>\n",
       "      <td>...</td>\n",
       "      <td>22.81</td>\n",
       "      <td>84.46</td>\n",
       "      <td>545.9</td>\n",
       "      <td>0.09701</td>\n",
       "      <td>0.04619</td>\n",
       "      <td>0.04833</td>\n",
       "      <td>0.05013</td>\n",
       "      <td>0.1987</td>\n",
       "      <td>0.06169</td>\n",
       "      <td>1</td>\n",
       "    </tr>\n",
       "  </tbody>\n",
       "</table>\n",
       "<p>5 rows × 31 columns</p>\n",
       "</div>"
      ],
      "text/plain": [
       "   mean radius  mean texture  mean perimeter  mean area  mean smoothness  \\\n",
       "0        13.40         20.52           88.64      556.7          0.11060   \n",
       "1        13.21         25.25           84.10      537.9          0.08791   \n",
       "2        14.02         15.66           89.59      606.5          0.07966   \n",
       "3        14.26         18.17           91.22      633.1          0.06576   \n",
       "4        13.03         18.42           82.61      523.8          0.08983   \n",
       "\n",
       "   mean compactness  mean concavity  mean concave points  mean symmetry  \\\n",
       "0           0.14690         0.14450              0.08172         0.2116   \n",
       "1           0.05205         0.02772              0.02068         0.1619   \n",
       "2           0.05581         0.02087              0.02652         0.1589   \n",
       "3           0.05220         0.02475              0.01374         0.1635   \n",
       "4           0.03766         0.02562              0.02923         0.1467   \n",
       "\n",
       "   mean fractal dimension  ...  worst texture  worst perimeter  worst area  \\\n",
       "0                 0.07325  ...          29.66           113.30       844.4   \n",
       "1                 0.05584  ...          34.23            91.29       632.9   \n",
       "2                 0.05586  ...          19.31            96.53       688.9   \n",
       "3                 0.05586  ...          25.26           105.80       819.7   \n",
       "4                 0.05863  ...          22.81            84.46       545.9   \n",
       "\n",
       "   worst smoothness  worst compactness  worst concavity  worst concave points  \\\n",
       "0           0.15740            0.38560          0.51060               0.20510   \n",
       "1           0.12890            0.10630          0.13900               0.06005   \n",
       "2           0.10340            0.10170          0.06260               0.08216   \n",
       "3           0.09445            0.21670          0.15650               0.07530   \n",
       "4           0.09701            0.04619          0.04833               0.05013   \n",
       "\n",
       "   worst symmetry  worst fractal dimension  labels  \n",
       "0          0.3585                  0.11090      -1  \n",
       "1          0.2444                  0.06788       1  \n",
       "2          0.2136                  0.06710       1  \n",
       "3          0.2636                  0.07676       1  \n",
       "4          0.1987                  0.06169       1  \n",
       "\n",
       "[5 rows x 31 columns]"
      ]
     },
     "execution_count": 18,
     "metadata": {},
     "output_type": "execute_result"
    }
   ],
   "source": [
    "data[output] = data[output].apply(lambda x: 1 if x == 1 else -1)\n",
    "data.head()"
   ]
  },
  {
   "cell_type": "markdown",
   "metadata": {},
   "source": [
    "**Train test split the data**"
   ]
  },
  {
   "cell_type": "code",
   "execution_count": 19,
   "metadata": {},
   "outputs": [],
   "source": [
    "train_data, test_data = train_test_split(data, test_size  = 0.25, random_state = 0)"
   ]
  },
  {
   "cell_type": "markdown",
   "metadata": {},
   "source": [
    "### 2.2 Create and fit a binary decision tree classifier and access the performance of the classifier"
   ]
  },
  {
   "cell_type": "markdown",
   "metadata": {},
   "source": [
    "**Parameters of the model**"
   ]
  },
  {
   "cell_type": "code",
   "execution_count": 20,
   "metadata": {},
   "outputs": [],
   "source": [
    "max_depth = 5\n",
    "min_samples_split = 8\n",
    "min_impurity_decrease = 0"
   ]
  },
  {
   "cell_type": "markdown",
   "metadata": {},
   "source": [
    "**Create and fit the model**"
   ]
  },
  {
   "cell_type": "code",
   "execution_count": 21,
   "metadata": {},
   "outputs": [
    {
     "name": "stdout",
     "output_type": "stream",
     "text": [
      "Completed finding feature thresholds\n",
      "Completed binarizing data \n",
      "\n",
      "Fitting decision tree\n",
      "--------------------------------------------------------------------\n",
      "--------------------------------------------------------------------\n",
      "Subtree, depth = 0 (contains 426 data points).\n",
      "splitting feature:  mean concave points\n",
      "--------------------------------------------------------------------\n",
      "Subtree, depth = 1 (contains 255 data points).\n",
      "splitting feature:  worst area\n",
      "--------------------------------------------------------------------\n",
      "Subtree, depth = 2 (contains 239 data points).\n",
      "splitting feature:  mean area\n",
      "--------------------------------------------------------------------\n",
      "Subtree, depth = 3 (contains 237 data points).\n",
      "splitting feature:  mean concavity\n",
      "--------------------------------------------------------------------\n",
      "Subtree, depth = 4 (contains 220 data points).\n",
      "splitting feature:  mean texture\n",
      "--------------------------------------------------------------------\n",
      "Subtree, depth = 5 (contains 163 data points).\n",
      "Stopping condition 1 is reached: no mistakes in current node\n",
      "--------------------------------------------------------------------\n",
      "Subtree, depth = 5 (contains 57 data points).\n",
      "Stopping condition 3 is reached: reached the maximum depth\n",
      "--------------------------------------------------------------------\n",
      "Subtree, depth = 4 (contains 17 data points).\n",
      "splitting feature:  area error\n",
      "--------------------------------------------------------------------\n",
      "Subtree, depth = 5 (contains 14 data points).\n",
      "Stopping condition 1 is reached: no mistakes in current node\n",
      "--------------------------------------------------------------------\n",
      "Subtree, depth = 5 (contains 3 data points).\n",
      "Stopping condition 3 is reached: reached the maximum depth\n",
      "--------------------------------------------------------------------\n",
      "Subtree, depth = 3 (contains 2 data points).\n",
      "Stopping condition 4 is reached: node size reached the minimum acceptable size\n",
      "--------------------------------------------------------------------\n",
      "Subtree, depth = 2 (contains 16 data points).\n",
      "splitting feature:  mean texture\n",
      "--------------------------------------------------------------------\n",
      "Subtree, depth = 3 (contains 8 data points).\n",
      "splitting feature:  worst concavity\n",
      "--------------------------------------------------------------------\n",
      "Subtree, depth = 4 (contains 5 data points).\n",
      "Stopping condition 1 is reached: no mistakes in current node\n",
      "--------------------------------------------------------------------\n",
      "Subtree, depth = 4 (contains 3 data points).\n",
      "Stopping condition 4 is reached: node size reached the minimum acceptable size\n",
      "--------------------------------------------------------------------\n",
      "Subtree, depth = 3 (contains 8 data points).\n",
      "Stopping condition 1 is reached: no mistakes in current node\n",
      "--------------------------------------------------------------------\n",
      "Subtree, depth = 1 (contains 171 data points).\n",
      "splitting feature:  worst perimeter\n",
      "--------------------------------------------------------------------\n",
      "Subtree, depth = 2 (contains 48 data points).\n",
      "splitting feature:  worst texture\n",
      "--------------------------------------------------------------------\n",
      "Subtree, depth = 3 (contains 19 data points).\n",
      "splitting feature:  area error\n",
      "--------------------------------------------------------------------\n",
      "Subtree, depth = 4 (contains 12 data points).\n",
      "Stopping condition 1 is reached: no mistakes in current node\n",
      "--------------------------------------------------------------------\n",
      "Subtree, depth = 4 (contains 7 data points).\n",
      "Stopping condition 4 is reached: node size reached the minimum acceptable size\n",
      "--------------------------------------------------------------------\n",
      "Subtree, depth = 3 (contains 29 data points).\n",
      "splitting feature:  worst fractal dimension\n",
      "--------------------------------------------------------------------\n",
      "Subtree, depth = 4 (contains 10 data points).\n",
      "splitting feature:  mean texture\n",
      "--------------------------------------------------------------------\n",
      "Subtree, depth = 5 (contains 3 data points).\n",
      "Stopping condition 1 is reached: no mistakes in current node\n",
      "--------------------------------------------------------------------\n",
      "Subtree, depth = 5 (contains 7 data points).\n",
      "Stopping condition 3 is reached: reached the maximum depth\n",
      "--------------------------------------------------------------------\n",
      "Subtree, depth = 4 (contains 19 data points).\n",
      "Stopping condition 1 is reached: no mistakes in current node\n",
      "--------------------------------------------------------------------\n",
      "Subtree, depth = 2 (contains 123 data points).\n",
      "Stopping condition 1 is reached: no mistakes in current node\n",
      "--------------------------------------------------------------------\n",
      "--------------------------------------------------------------------\n",
      "Compeleted fitting decision tree\n"
     ]
    }
   ],
   "source": [
    "cancer_model = binary_decision_tree(max_depth = max_depth, min_samples_split = min_samples_split, \n",
    "                                    min_impurity_decrease=min_impurity_decrease)\n",
    "cancer_model.fit(train_data, features, output, verbose=True)"
   ]
  },
  {
   "cell_type": "markdown",
   "metadata": {},
   "source": [
    "**Number of nodes in the DT**"
   ]
  },
  {
   "cell_type": "code",
   "execution_count": 22,
   "metadata": {},
   "outputs": [
    {
     "name": "stdout",
     "output_type": "stream",
     "text": [
      "Number of nodes in the decision tree: 27\n"
     ]
    }
   ],
   "source": [
    "print(\"Number of nodes in the decision tree:\",cancer_model.nodes)"
   ]
  },
  {
   "cell_type": "markdown",
   "metadata": {},
   "source": [
    "**Print performance metrics of the classifier**"
   ]
  },
  {
   "cell_type": "code",
   "execution_count": 23,
   "metadata": {},
   "outputs": [
    {
     "name": "stdout",
     "output_type": "stream",
     "text": [
      "accuracy: 0.958041958041958\n",
      "precision: 0.9494949494949495\n",
      "recall: 0.9894736842105263\n"
     ]
    }
   ],
   "source": [
    "predictions = cancer_model.predict(test_data)\n",
    "print(\"accuracy:\",accuracy_score(test_data[output], predictions))\n",
    "print(\"precision:\",precision_score(test_data[output], predictions))\n",
    "print(\"recall:\",recall_score(test_data[output], predictions))"
   ]
  }
 ],
 "metadata": {
  "kernelspec": {
   "display_name": "Python 3",
   "language": "python",
   "name": "python3"
  },
  "language_info": {
   "codemirror_mode": {
    "name": "ipython",
    "version": 3
   },
   "file_extension": ".py",
   "mimetype": "text/x-python",
   "name": "python",
   "nbconvert_exporter": "python",
   "pygments_lexer": "ipython3",
   "version": "3.8.12"
  }
 },
 "nbformat": 4,
 "nbformat_minor": 2
}
