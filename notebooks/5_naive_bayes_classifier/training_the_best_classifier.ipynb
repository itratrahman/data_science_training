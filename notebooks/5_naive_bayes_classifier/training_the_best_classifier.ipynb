{
 "cells": [
  {
   "cell_type": "markdown",
   "metadata": {},
   "source": [
    "## Adding the directory of the package to the system path"
   ]
  },
  {
   "cell_type": "code",
   "execution_count": 1,
   "metadata": {
    "collapsed": true
   },
   "outputs": [],
   "source": [
    "from config import *\n",
    "append_path('../../')"
   ]
  },
  {
   "cell_type": "markdown",
   "metadata": {},
   "source": [
    "## Importing data science libraries"
   ]
  },
  {
   "cell_type": "code",
   "execution_count": 2,
   "metadata": {},
   "outputs": [],
   "source": [
    "import numpy as np\n",
    "import pandas as pd\n",
    "from sklearn.naive_bayes import GaussianNB, BernoulliNB, MultinomialNB\n",
    "from sklearn.metrics import accuracy_score\n",
    "from sklearn.feature_extraction.text import CountVectorizer, TfidfVectorizer\n",
    "from sklearn.model_selection import train_test_split, KFold\n",
    "from sklearn.metrics import accuracy_score, precision_score, recall_score\n",
    "from m_learn.utility.model_selection import k_fold_cross_validation\n",
    "from nltk.corpus import stopwords\n",
    "from nltk.stem.snowball import SnowballStemmer\n",
    "import matplotlib\n",
    "from matplotlib import pyplot as plt\n",
    "%matplotlib inline\n",
    "%config InlineBackend.figure_format = 'retina'"
   ]
  },
  {
   "cell_type": "markdown",
   "metadata": {},
   "source": [
    "## Reading the data"
   ]
  },
  {
   "cell_type": "code",
   "execution_count": 3,
   "metadata": {
    "collapsed": true
   },
   "outputs": [],
   "source": [
    "train_data = pd.read_csv(\"../../data/sentiment_train.txt\", delimiter='\\t', names  = ['sentiment', 'text'])\n",
    "test_data = pd.read_csv(\"../../data/sentiment_test.txt\", delimiter='\\t', names  = ['text'])"
   ]
  },
  {
   "cell_type": "markdown",
   "metadata": {},
   "source": [
    "## Feature Engineering"
   ]
  },
  {
   "cell_type": "code",
   "execution_count": 4,
   "metadata": {
    "collapsed": true
   },
   "outputs": [],
   "source": [
    "# extracting stopwords\n",
    "sw = stopwords.words('english')\n",
    "# creating a stemmer object\n",
    "stemmer = SnowballStemmer(\"english\")"
   ]
  },
  {
   "cell_type": "code",
   "execution_count": 5,
   "metadata": {
    "collapsed": true
   },
   "outputs": [],
   "source": [
    "def text_preprocessing(text):\n",
    "    \n",
    "    '''a function which carries out the neccessary text processing'''\n",
    "    \n",
    "    import string\n",
    "    \n",
    "    # remove the punctuation marks from the text\n",
    "    text = str(text)\n",
    "    translator = str.maketrans('', '', string.punctuation)\n",
    "    text = text.translate(translator)\n",
    "    \n",
    "    # removing the stop words from the text\n",
    "    text = [word.lower() for word in text.split() if word.lower() not in sw]\n",
    "    text = \" \".join(text)\n",
    "    \n",
    "    # stemming the text\n",
    "    text = [stemmer.stem(word) for word in text.split()]\n",
    "    text = \" \".join(text)    \n",
    "    \n",
    "    # returning the processed text\n",
    "    return text"
   ]
  },
  {
   "cell_type": "code",
   "execution_count": 6,
   "metadata": {
    "collapsed": true
   },
   "outputs": [],
   "source": [
    "# carrying out text preprocessing on the train set\n",
    "train_data['text'] = train_data['text'].apply(text_preprocessing)\n",
    "# carrying out text preprocessing on the train set\n",
    "test_data['text'] = test_data['text'].apply(text_preprocessing)\n",
    "# # binarizing the sentiment field on the train set\n",
    "train_data['sentiment'] = train_data['sentiment'].apply(lambda x: 1 if x == 1 else -1)"
   ]
  },
  {
   "cell_type": "markdown",
   "metadata": {},
   "source": [
    "## Extracting ti-id representation of the formatted message"
   ]
  },
  {
   "cell_type": "code",
   "execution_count": 7,
   "metadata": {
    "collapsed": true
   },
   "outputs": [],
   "source": [
    "# creating the object of tfid vectorizer\n",
    "tfid_vectorizer = TfidfVectorizer(\"english\")\n",
    "# fitting the vectorizer using the text data set\n",
    "tfid_vectorizer.fit(train_data['text'])\n",
    "# extracting the tfid representation matrix of the train set\n",
    "tfid_matrix_train = tfid_vectorizer.transform(train_data['text'])\n",
    "# extracting the tfid representation matrix of the test set\n",
    "tfid_matrix_test = tfid_vectorizer.transform(test_data['text'])"
   ]
  },
  {
   "cell_type": "code",
   "execution_count": 8,
   "metadata": {
    "collapsed": true
   },
   "outputs": [],
   "source": [
    "# collecting the tfid matrices in pandas dataframe\n",
    "array = tfid_matrix_train.todense()\n",
    "train_df = pd.DataFrame(array)\n",
    "array = tfid_matrix_test.todense()\n",
    "test_df = pd.DataFrame(array)"
   ]
  },
  {
   "cell_type": "code",
   "execution_count": 9,
   "metadata": {
    "collapsed": true
   },
   "outputs": [],
   "source": [
    "# adding the output to the training dataframe\n",
    "train_df['output'] = train_data['sentiment']"
   ]
  },
  {
   "cell_type": "markdown",
   "metadata": {},
   "source": [
    "## Training the best classifier"
   ]
  },
  {
   "cell_type": "code",
   "execution_count": 10,
   "metadata": {
    "collapsed": true
   },
   "outputs": [],
   "source": [
    "# features and output of the models\n",
    "features = train_df.columns.tolist()\n",
    "output = 'output'\n",
    "features.remove(output)"
   ]
  },
  {
   "cell_type": "code",
   "execution_count": 11,
   "metadata": {},
   "outputs": [
    {
     "data": {
      "text/plain": [
       "BernoulliNB(alpha=1.0, binarize=0.0, class_prior=None, fit_prior=True)"
      ]
     },
     "execution_count": 11,
     "metadata": {},
     "output_type": "execute_result"
    }
   ],
   "source": [
    "# creating and fitting the model using training set\n",
    "model = BernoulliNB()\n",
    "model.fit(train_df[features], train_df[output])"
   ]
  },
  {
   "cell_type": "code",
   "execution_count": 12,
   "metadata": {
    "collapsed": true
   },
   "outputs": [],
   "source": [
    "# extracting the predictions using the test set\n",
    "predictions = model.predict(test_df[features])"
   ]
  },
  {
   "cell_type": "code",
   "execution_count": 13,
   "metadata": {
    "collapsed": true
   },
   "outputs": [],
   "source": [
    "# creating the submission dataframe\n",
    "submission = pd.Series(predictions, name='prediction')"
   ]
  },
  {
   "cell_type": "code",
   "execution_count": 14,
   "metadata": {},
   "outputs": [
    {
     "data": {
      "text/plain": [
       "0   -1\n",
       "1   -1\n",
       "2    1\n",
       "3    1\n",
       "4    1\n",
       "5   -1\n",
       "6    1\n",
       "7    1\n",
       "8   -1\n",
       "9    1\n",
       "Name: prediction, dtype: int64"
      ]
     },
     "execution_count": 14,
     "metadata": {},
     "output_type": "execute_result"
    }
   ],
   "source": [
    "submission.head(10)"
   ]
  },
  {
   "cell_type": "code",
   "execution_count": 15,
   "metadata": {
    "collapsed": true
   },
   "outputs": [],
   "source": [
    "# saving the submission csv\n",
    "submission.to_csv('./submission/submission.csv', index= False, header=True)"
   ]
  }
 ],
 "metadata": {
  "kernelspec": {
   "display_name": "Python 3",
   "language": "python",
   "name": "python3"
  },
  "language_info": {
   "codemirror_mode": {
    "name": "ipython",
    "version": 3
   },
   "file_extension": ".py",
   "mimetype": "text/x-python",
   "name": "python",
   "nbconvert_exporter": "python",
   "pygments_lexer": "ipython3",
   "version": "3.6.3"
  }
 },
 "nbformat": 4,
 "nbformat_minor": 2
}
