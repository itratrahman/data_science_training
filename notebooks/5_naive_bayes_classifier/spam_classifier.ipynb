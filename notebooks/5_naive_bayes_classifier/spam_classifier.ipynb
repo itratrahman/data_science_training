{
 "cells": [
  {
   "cell_type": "markdown",
   "metadata": {},
   "source": [
    "# SPAM CLASSIFIER"
   ]
  },
  {
   "cell_type": "markdown",
   "metadata": {},
   "source": [
    "**Import necessary packages and modules**"
   ]
  },
  {
   "cell_type": "code",
   "execution_count": 1,
   "metadata": {},
   "outputs": [
    {
     "name": "stdout",
     "output_type": "stream",
     "text": [
      "showing info https://raw.githubusercontent.com/nltk/nltk_data/gh-pages/index.xml\n"
     ]
    },
    {
     "data": {
      "text/plain": [
       "True"
      ]
     },
     "execution_count": 1,
     "metadata": {},
     "output_type": "execute_result"
    }
   ],
   "source": [
    "import nltk\n",
    "nltk.download()"
   ]
  },
  {
   "cell_type": "code",
   "execution_count": 2,
   "metadata": {},
   "outputs": [],
   "source": [
    "import numpy as np\n",
    "import pandas as pd\n",
    "from sklearn.naive_bayes import GaussianNB, BernoulliNB, MultinomialNB\n",
    "from sklearn.model_selection import train_test_split\n",
    "from sklearn.feature_extraction.text import TfidfVectorizer\n",
    "from sklearn.metrics import accuracy_score, precision_score, recall_score\n",
    "from nltk.corpus import stopwords\n",
    "from nltk.stem.snowball import SnowballStemmer\n",
    "import matplotlib\n",
    "from matplotlib import pyplot as plt\n",
    "%matplotlib inline\n",
    "%config InlineBackend.figure_format = 'retina'"
   ]
  },
  {
   "cell_type": "markdown",
   "metadata": {},
   "source": [
    "## 1. Load and preprocess the data"
   ]
  },
  {
   "cell_type": "markdown",
   "metadata": {},
   "source": [
    "### 1.1 Load and display the data"
   ]
  },
  {
   "cell_type": "code",
   "execution_count": 3,
   "metadata": {},
   "outputs": [
    {
     "data": {
      "text/html": [
       "<div>\n",
       "<style scoped>\n",
       "    .dataframe tbody tr th:only-of-type {\n",
       "        vertical-align: middle;\n",
       "    }\n",
       "\n",
       "    .dataframe tbody tr th {\n",
       "        vertical-align: top;\n",
       "    }\n",
       "\n",
       "    .dataframe thead th {\n",
       "        text-align: right;\n",
       "    }\n",
       "</style>\n",
       "<table border=\"1\" class=\"dataframe\">\n",
       "  <thead>\n",
       "    <tr style=\"text-align: right;\">\n",
       "      <th></th>\n",
       "      <th>v1</th>\n",
       "      <th>v2</th>\n",
       "      <th>Unnamed: 2</th>\n",
       "      <th>Unnamed: 3</th>\n",
       "      <th>Unnamed: 4</th>\n",
       "    </tr>\n",
       "  </thead>\n",
       "  <tbody>\n",
       "    <tr>\n",
       "      <th>0</th>\n",
       "      <td>ham</td>\n",
       "      <td>Go until jurong point, crazy.. Available only ...</td>\n",
       "      <td>NaN</td>\n",
       "      <td>NaN</td>\n",
       "      <td>NaN</td>\n",
       "    </tr>\n",
       "    <tr>\n",
       "      <th>1</th>\n",
       "      <td>ham</td>\n",
       "      <td>Ok lar... Joking wif u oni...</td>\n",
       "      <td>NaN</td>\n",
       "      <td>NaN</td>\n",
       "      <td>NaN</td>\n",
       "    </tr>\n",
       "    <tr>\n",
       "      <th>2</th>\n",
       "      <td>spam</td>\n",
       "      <td>Free entry in 2 a wkly comp to win FA Cup fina...</td>\n",
       "      <td>NaN</td>\n",
       "      <td>NaN</td>\n",
       "      <td>NaN</td>\n",
       "    </tr>\n",
       "    <tr>\n",
       "      <th>3</th>\n",
       "      <td>ham</td>\n",
       "      <td>U dun say so early hor... U c already then say...</td>\n",
       "      <td>NaN</td>\n",
       "      <td>NaN</td>\n",
       "      <td>NaN</td>\n",
       "    </tr>\n",
       "    <tr>\n",
       "      <th>4</th>\n",
       "      <td>ham</td>\n",
       "      <td>Nah I don't think he goes to usf, he lives aro...</td>\n",
       "      <td>NaN</td>\n",
       "      <td>NaN</td>\n",
       "      <td>NaN</td>\n",
       "    </tr>\n",
       "    <tr>\n",
       "      <th>5</th>\n",
       "      <td>spam</td>\n",
       "      <td>FreeMsg Hey there darling it's been 3 week's n...</td>\n",
       "      <td>NaN</td>\n",
       "      <td>NaN</td>\n",
       "      <td>NaN</td>\n",
       "    </tr>\n",
       "    <tr>\n",
       "      <th>6</th>\n",
       "      <td>ham</td>\n",
       "      <td>Even my brother is not like to speak with me. ...</td>\n",
       "      <td>NaN</td>\n",
       "      <td>NaN</td>\n",
       "      <td>NaN</td>\n",
       "    </tr>\n",
       "    <tr>\n",
       "      <th>7</th>\n",
       "      <td>ham</td>\n",
       "      <td>As per your request 'Melle Melle (Oru Minnamin...</td>\n",
       "      <td>NaN</td>\n",
       "      <td>NaN</td>\n",
       "      <td>NaN</td>\n",
       "    </tr>\n",
       "    <tr>\n",
       "      <th>8</th>\n",
       "      <td>spam</td>\n",
       "      <td>WINNER!! As a valued network customer you have...</td>\n",
       "      <td>NaN</td>\n",
       "      <td>NaN</td>\n",
       "      <td>NaN</td>\n",
       "    </tr>\n",
       "    <tr>\n",
       "      <th>9</th>\n",
       "      <td>spam</td>\n",
       "      <td>Had your mobile 11 months or more? U R entitle...</td>\n",
       "      <td>NaN</td>\n",
       "      <td>NaN</td>\n",
       "      <td>NaN</td>\n",
       "    </tr>\n",
       "  </tbody>\n",
       "</table>\n",
       "</div>"
      ],
      "text/plain": [
       "     v1                                                 v2 Unnamed: 2  \\\n",
       "0   ham  Go until jurong point, crazy.. Available only ...        NaN   \n",
       "1   ham                      Ok lar... Joking wif u oni...        NaN   \n",
       "2  spam  Free entry in 2 a wkly comp to win FA Cup fina...        NaN   \n",
       "3   ham  U dun say so early hor... U c already then say...        NaN   \n",
       "4   ham  Nah I don't think he goes to usf, he lives aro...        NaN   \n",
       "5  spam  FreeMsg Hey there darling it's been 3 week's n...        NaN   \n",
       "6   ham  Even my brother is not like to speak with me. ...        NaN   \n",
       "7   ham  As per your request 'Melle Melle (Oru Minnamin...        NaN   \n",
       "8  spam  WINNER!! As a valued network customer you have...        NaN   \n",
       "9  spam  Had your mobile 11 months or more? U R entitle...        NaN   \n",
       "\n",
       "  Unnamed: 3 Unnamed: 4  \n",
       "0        NaN        NaN  \n",
       "1        NaN        NaN  \n",
       "2        NaN        NaN  \n",
       "3        NaN        NaN  \n",
       "4        NaN        NaN  \n",
       "5        NaN        NaN  \n",
       "6        NaN        NaN  \n",
       "7        NaN        NaN  \n",
       "8        NaN        NaN  \n",
       "9        NaN        NaN  "
      ]
     },
     "execution_count": 3,
     "metadata": {},
     "output_type": "execute_result"
    }
   ],
   "source": [
    "data = pd.read_csv(\"./../../data/spam.csv\", encoding='latin-1')\n",
    "data.head(10)"
   ]
  },
  {
   "cell_type": "markdown",
   "metadata": {},
   "source": [
    "#### Drop the unnamed columns"
   ]
  },
  {
   "cell_type": "code",
   "execution_count": 4,
   "metadata": {},
   "outputs": [
    {
     "data": {
      "text/html": [
       "<div>\n",
       "<style scoped>\n",
       "    .dataframe tbody tr th:only-of-type {\n",
       "        vertical-align: middle;\n",
       "    }\n",
       "\n",
       "    .dataframe tbody tr th {\n",
       "        vertical-align: top;\n",
       "    }\n",
       "\n",
       "    .dataframe thead th {\n",
       "        text-align: right;\n",
       "    }\n",
       "</style>\n",
       "<table border=\"1\" class=\"dataframe\">\n",
       "  <thead>\n",
       "    <tr style=\"text-align: right;\">\n",
       "      <th></th>\n",
       "      <th>v1</th>\n",
       "      <th>v2</th>\n",
       "    </tr>\n",
       "  </thead>\n",
       "  <tbody>\n",
       "    <tr>\n",
       "      <th>0</th>\n",
       "      <td>ham</td>\n",
       "      <td>Go until jurong point, crazy.. Available only ...</td>\n",
       "    </tr>\n",
       "    <tr>\n",
       "      <th>1</th>\n",
       "      <td>ham</td>\n",
       "      <td>Ok lar... Joking wif u oni...</td>\n",
       "    </tr>\n",
       "    <tr>\n",
       "      <th>2</th>\n",
       "      <td>spam</td>\n",
       "      <td>Free entry in 2 a wkly comp to win FA Cup fina...</td>\n",
       "    </tr>\n",
       "    <tr>\n",
       "      <th>3</th>\n",
       "      <td>ham</td>\n",
       "      <td>U dun say so early hor... U c already then say...</td>\n",
       "    </tr>\n",
       "    <tr>\n",
       "      <th>4</th>\n",
       "      <td>ham</td>\n",
       "      <td>Nah I don't think he goes to usf, he lives aro...</td>\n",
       "    </tr>\n",
       "  </tbody>\n",
       "</table>\n",
       "</div>"
      ],
      "text/plain": [
       "     v1                                                 v2\n",
       "0   ham  Go until jurong point, crazy.. Available only ...\n",
       "1   ham                      Ok lar... Joking wif u oni...\n",
       "2  spam  Free entry in 2 a wkly comp to win FA Cup fina...\n",
       "3   ham  U dun say so early hor... U c already then say...\n",
       "4   ham  Nah I don't think he goes to usf, he lives aro..."
      ]
     },
     "execution_count": 4,
     "metadata": {},
     "output_type": "execute_result"
    }
   ],
   "source": [
    "data = data.drop(['Unnamed: 2','Unnamed: 3','Unnamed: 4'],axis=1)\n",
    "data.head()"
   ]
  },
  {
   "cell_type": "markdown",
   "metadata": {},
   "source": [
    "#### Rename the columns"
   ]
  },
  {
   "cell_type": "code",
   "execution_count": 5,
   "metadata": {},
   "outputs": [
    {
     "data": {
      "text/html": [
       "<div>\n",
       "<style scoped>\n",
       "    .dataframe tbody tr th:only-of-type {\n",
       "        vertical-align: middle;\n",
       "    }\n",
       "\n",
       "    .dataframe tbody tr th {\n",
       "        vertical-align: top;\n",
       "    }\n",
       "\n",
       "    .dataframe thead th {\n",
       "        text-align: right;\n",
       "    }\n",
       "</style>\n",
       "<table border=\"1\" class=\"dataframe\">\n",
       "  <thead>\n",
       "    <tr style=\"text-align: right;\">\n",
       "      <th></th>\n",
       "      <th>label</th>\n",
       "      <th>text</th>\n",
       "    </tr>\n",
       "  </thead>\n",
       "  <tbody>\n",
       "    <tr>\n",
       "      <th>0</th>\n",
       "      <td>ham</td>\n",
       "      <td>Go until jurong point, crazy.. Available only ...</td>\n",
       "    </tr>\n",
       "    <tr>\n",
       "      <th>1</th>\n",
       "      <td>ham</td>\n",
       "      <td>Ok lar... Joking wif u oni...</td>\n",
       "    </tr>\n",
       "    <tr>\n",
       "      <th>2</th>\n",
       "      <td>spam</td>\n",
       "      <td>Free entry in 2 a wkly comp to win FA Cup fina...</td>\n",
       "    </tr>\n",
       "    <tr>\n",
       "      <th>3</th>\n",
       "      <td>ham</td>\n",
       "      <td>U dun say so early hor... U c already then say...</td>\n",
       "    </tr>\n",
       "    <tr>\n",
       "      <th>4</th>\n",
       "      <td>ham</td>\n",
       "      <td>Nah I don't think he goes to usf, he lives aro...</td>\n",
       "    </tr>\n",
       "    <tr>\n",
       "      <th>5</th>\n",
       "      <td>spam</td>\n",
       "      <td>FreeMsg Hey there darling it's been 3 week's n...</td>\n",
       "    </tr>\n",
       "    <tr>\n",
       "      <th>6</th>\n",
       "      <td>ham</td>\n",
       "      <td>Even my brother is not like to speak with me. ...</td>\n",
       "    </tr>\n",
       "    <tr>\n",
       "      <th>7</th>\n",
       "      <td>ham</td>\n",
       "      <td>As per your request 'Melle Melle (Oru Minnamin...</td>\n",
       "    </tr>\n",
       "    <tr>\n",
       "      <th>8</th>\n",
       "      <td>spam</td>\n",
       "      <td>WINNER!! As a valued network customer you have...</td>\n",
       "    </tr>\n",
       "    <tr>\n",
       "      <th>9</th>\n",
       "      <td>spam</td>\n",
       "      <td>Had your mobile 11 months or more? U R entitle...</td>\n",
       "    </tr>\n",
       "  </tbody>\n",
       "</table>\n",
       "</div>"
      ],
      "text/plain": [
       "  label                                               text\n",
       "0   ham  Go until jurong point, crazy.. Available only ...\n",
       "1   ham                      Ok lar... Joking wif u oni...\n",
       "2  spam  Free entry in 2 a wkly comp to win FA Cup fina...\n",
       "3   ham  U dun say so early hor... U c already then say...\n",
       "4   ham  Nah I don't think he goes to usf, he lives aro...\n",
       "5  spam  FreeMsg Hey there darling it's been 3 week's n...\n",
       "6   ham  Even my brother is not like to speak with me. ...\n",
       "7   ham  As per your request 'Melle Melle (Oru Minnamin...\n",
       "8  spam  WINNER!! As a valued network customer you have...\n",
       "9  spam  Had your mobile 11 months or more? U R entitle..."
      ]
     },
     "execution_count": 5,
     "metadata": {},
     "output_type": "execute_result"
    }
   ],
   "source": [
    "data = data.rename(columns = {'v1':'label','v2':'text'})\n",
    "data.head(10)"
   ]
  },
  {
   "cell_type": "markdown",
   "metadata": {},
   "source": [
    "#### Encode the label column"
   ]
  },
  {
   "cell_type": "code",
   "execution_count": 6,
   "metadata": {},
   "outputs": [
    {
     "data": {
      "text/html": [
       "<div>\n",
       "<style scoped>\n",
       "    .dataframe tbody tr th:only-of-type {\n",
       "        vertical-align: middle;\n",
       "    }\n",
       "\n",
       "    .dataframe tbody tr th {\n",
       "        vertical-align: top;\n",
       "    }\n",
       "\n",
       "    .dataframe thead th {\n",
       "        text-align: right;\n",
       "    }\n",
       "</style>\n",
       "<table border=\"1\" class=\"dataframe\">\n",
       "  <thead>\n",
       "    <tr style=\"text-align: right;\">\n",
       "      <th></th>\n",
       "      <th>label</th>\n",
       "      <th>text</th>\n",
       "    </tr>\n",
       "  </thead>\n",
       "  <tbody>\n",
       "    <tr>\n",
       "      <th>0</th>\n",
       "      <td>0</td>\n",
       "      <td>Go until jurong point, crazy.. Available only ...</td>\n",
       "    </tr>\n",
       "    <tr>\n",
       "      <th>1</th>\n",
       "      <td>0</td>\n",
       "      <td>Ok lar... Joking wif u oni...</td>\n",
       "    </tr>\n",
       "    <tr>\n",
       "      <th>2</th>\n",
       "      <td>1</td>\n",
       "      <td>Free entry in 2 a wkly comp to win FA Cup fina...</td>\n",
       "    </tr>\n",
       "    <tr>\n",
       "      <th>3</th>\n",
       "      <td>0</td>\n",
       "      <td>U dun say so early hor... U c already then say...</td>\n",
       "    </tr>\n",
       "    <tr>\n",
       "      <th>4</th>\n",
       "      <td>0</td>\n",
       "      <td>Nah I don't think he goes to usf, he lives aro...</td>\n",
       "    </tr>\n",
       "    <tr>\n",
       "      <th>5</th>\n",
       "      <td>1</td>\n",
       "      <td>FreeMsg Hey there darling it's been 3 week's n...</td>\n",
       "    </tr>\n",
       "    <tr>\n",
       "      <th>6</th>\n",
       "      <td>0</td>\n",
       "      <td>Even my brother is not like to speak with me. ...</td>\n",
       "    </tr>\n",
       "    <tr>\n",
       "      <th>7</th>\n",
       "      <td>0</td>\n",
       "      <td>As per your request 'Melle Melle (Oru Minnamin...</td>\n",
       "    </tr>\n",
       "    <tr>\n",
       "      <th>8</th>\n",
       "      <td>1</td>\n",
       "      <td>WINNER!! As a valued network customer you have...</td>\n",
       "    </tr>\n",
       "    <tr>\n",
       "      <th>9</th>\n",
       "      <td>1</td>\n",
       "      <td>Had your mobile 11 months or more? U R entitle...</td>\n",
       "    </tr>\n",
       "  </tbody>\n",
       "</table>\n",
       "</div>"
      ],
      "text/plain": [
       "   label                                               text\n",
       "0      0  Go until jurong point, crazy.. Available only ...\n",
       "1      0                      Ok lar... Joking wif u oni...\n",
       "2      1  Free entry in 2 a wkly comp to win FA Cup fina...\n",
       "3      0  U dun say so early hor... U c already then say...\n",
       "4      0  Nah I don't think he goes to usf, he lives aro...\n",
       "5      1  FreeMsg Hey there darling it's been 3 week's n...\n",
       "6      0  Even my brother is not like to speak with me. ...\n",
       "7      0  As per your request 'Melle Melle (Oru Minnamin...\n",
       "8      1  WINNER!! As a valued network customer you have...\n",
       "9      1  Had your mobile 11 months or more? U R entitle..."
      ]
     },
     "execution_count": 6,
     "metadata": {},
     "output_type": "execute_result"
    }
   ],
   "source": [
    "data['label'] = data['label'].apply(lambda x: 1 if x == 'spam' else 0)\n",
    "data.head(10)"
   ]
  },
  {
   "cell_type": "markdown",
   "metadata": {},
   "source": [
    "### 1.2 Preprocess text data"
   ]
  },
  {
   "cell_type": "markdown",
   "metadata": {},
   "source": [
    "#### 1.2.1 Remove punctuation marks from the text messages"
   ]
  },
  {
   "cell_type": "code",
   "execution_count": 7,
   "metadata": {},
   "outputs": [],
   "source": [
    "def remove_punctuation(text):\n",
    "    '''\n",
    "    A function for removing punctuation marks\n",
    "    '''\n",
    "    import string\n",
    "    # replace the punctuation with no space, \n",
    "    # which in effect deletes the punctuation marks \n",
    "    translator = str.maketrans('', '', string.punctuation)\n",
    "    # return the text stripped of punctuation marks\n",
    "    return text.translate(translator)"
   ]
  },
  {
   "cell_type": "markdown",
   "metadata": {},
   "source": [
    "Use apply function on the message column"
   ]
  },
  {
   "cell_type": "code",
   "execution_count": 8,
   "metadata": {},
   "outputs": [
    {
     "data": {
      "text/html": [
       "<div>\n",
       "<style scoped>\n",
       "    .dataframe tbody tr th:only-of-type {\n",
       "        vertical-align: middle;\n",
       "    }\n",
       "\n",
       "    .dataframe tbody tr th {\n",
       "        vertical-align: top;\n",
       "    }\n",
       "\n",
       "    .dataframe thead th {\n",
       "        text-align: right;\n",
       "    }\n",
       "</style>\n",
       "<table border=\"1\" class=\"dataframe\">\n",
       "  <thead>\n",
       "    <tr style=\"text-align: right;\">\n",
       "      <th></th>\n",
       "      <th>label</th>\n",
       "      <th>text</th>\n",
       "      <th>processed_text</th>\n",
       "    </tr>\n",
       "  </thead>\n",
       "  <tbody>\n",
       "    <tr>\n",
       "      <th>0</th>\n",
       "      <td>0</td>\n",
       "      <td>Go until jurong point, crazy.. Available only ...</td>\n",
       "      <td>Go until jurong point crazy Available only in ...</td>\n",
       "    </tr>\n",
       "    <tr>\n",
       "      <th>1</th>\n",
       "      <td>0</td>\n",
       "      <td>Ok lar... Joking wif u oni...</td>\n",
       "      <td>Ok lar Joking wif u oni</td>\n",
       "    </tr>\n",
       "    <tr>\n",
       "      <th>2</th>\n",
       "      <td>1</td>\n",
       "      <td>Free entry in 2 a wkly comp to win FA Cup fina...</td>\n",
       "      <td>Free entry in 2 a wkly comp to win FA Cup fina...</td>\n",
       "    </tr>\n",
       "    <tr>\n",
       "      <th>3</th>\n",
       "      <td>0</td>\n",
       "      <td>U dun say so early hor... U c already then say...</td>\n",
       "      <td>U dun say so early hor U c already then say</td>\n",
       "    </tr>\n",
       "    <tr>\n",
       "      <th>4</th>\n",
       "      <td>0</td>\n",
       "      <td>Nah I don't think he goes to usf, he lives aro...</td>\n",
       "      <td>Nah I dont think he goes to usf he lives aroun...</td>\n",
       "    </tr>\n",
       "    <tr>\n",
       "      <th>5</th>\n",
       "      <td>1</td>\n",
       "      <td>FreeMsg Hey there darling it's been 3 week's n...</td>\n",
       "      <td>FreeMsg Hey there darling its been 3 weeks now...</td>\n",
       "    </tr>\n",
       "    <tr>\n",
       "      <th>6</th>\n",
       "      <td>0</td>\n",
       "      <td>Even my brother is not like to speak with me. ...</td>\n",
       "      <td>Even my brother is not like to speak with me T...</td>\n",
       "    </tr>\n",
       "    <tr>\n",
       "      <th>7</th>\n",
       "      <td>0</td>\n",
       "      <td>As per your request 'Melle Melle (Oru Minnamin...</td>\n",
       "      <td>As per your request Melle Melle Oru Minnaminun...</td>\n",
       "    </tr>\n",
       "    <tr>\n",
       "      <th>8</th>\n",
       "      <td>1</td>\n",
       "      <td>WINNER!! As a valued network customer you have...</td>\n",
       "      <td>WINNER As a valued network customer you have b...</td>\n",
       "    </tr>\n",
       "    <tr>\n",
       "      <th>9</th>\n",
       "      <td>1</td>\n",
       "      <td>Had your mobile 11 months or more? U R entitle...</td>\n",
       "      <td>Had your mobile 11 months or more U R entitled...</td>\n",
       "    </tr>\n",
       "  </tbody>\n",
       "</table>\n",
       "</div>"
      ],
      "text/plain": [
       "   label                                               text  \\\n",
       "0      0  Go until jurong point, crazy.. Available only ...   \n",
       "1      0                      Ok lar... Joking wif u oni...   \n",
       "2      1  Free entry in 2 a wkly comp to win FA Cup fina...   \n",
       "3      0  U dun say so early hor... U c already then say...   \n",
       "4      0  Nah I don't think he goes to usf, he lives aro...   \n",
       "5      1  FreeMsg Hey there darling it's been 3 week's n...   \n",
       "6      0  Even my brother is not like to speak with me. ...   \n",
       "7      0  As per your request 'Melle Melle (Oru Minnamin...   \n",
       "8      1  WINNER!! As a valued network customer you have...   \n",
       "9      1  Had your mobile 11 months or more? U R entitle...   \n",
       "\n",
       "                                      processed_text  \n",
       "0  Go until jurong point crazy Available only in ...  \n",
       "1                            Ok lar Joking wif u oni  \n",
       "2  Free entry in 2 a wkly comp to win FA Cup fina...  \n",
       "3        U dun say so early hor U c already then say  \n",
       "4  Nah I dont think he goes to usf he lives aroun...  \n",
       "5  FreeMsg Hey there darling its been 3 weeks now...  \n",
       "6  Even my brother is not like to speak with me T...  \n",
       "7  As per your request Melle Melle Oru Minnaminun...  \n",
       "8  WINNER As a valued network customer you have b...  \n",
       "9  Had your mobile 11 months or more U R entitled...  "
      ]
     },
     "execution_count": 8,
     "metadata": {},
     "output_type": "execute_result"
    }
   ],
   "source": [
    "data['processed_text'] = data['text'].apply(remove_punctuation)\n",
    "data.head(10)"
   ]
  },
  {
   "cell_type": "markdown",
   "metadata": {},
   "source": [
    "#### 1.2.2 Remove stopwords from the text messages"
   ]
  },
  {
   "cell_type": "markdown",
   "metadata": {},
   "source": [
    "Extract the stopwords"
   ]
  },
  {
   "cell_type": "code",
   "execution_count": 9,
   "metadata": {},
   "outputs": [
    {
     "data": {
      "text/plain": [
       "array(['i', 'me', 'my', 'myself', 'we', 'our', 'ours', 'ourselves', 'you',\n",
       "       \"you're\", \"you've\", \"you'll\", \"you'd\", 'your', 'yours', 'yourself',\n",
       "       'yourselves', 'he', 'him', 'his', 'himself', 'she', \"she's\", 'her',\n",
       "       'hers', 'herself', 'it', \"it's\", 'its', 'itself', 'they', 'them',\n",
       "       'their', 'theirs', 'themselves', 'what', 'which', 'who', 'whom',\n",
       "       'this', 'that', \"that'll\", 'these', 'those', 'am', 'is', 'are',\n",
       "       'was', 'were', 'be', 'been', 'being', 'have', 'has', 'had',\n",
       "       'having', 'do', 'does', 'did', 'doing', 'a', 'an', 'the', 'and',\n",
       "       'but', 'if', 'or', 'because', 'as', 'until', 'while', 'of', 'at',\n",
       "       'by', 'for', 'with', 'about', 'against', 'between', 'into',\n",
       "       'through', 'during', 'before', 'after', 'above', 'below', 'to',\n",
       "       'from', 'up', 'down', 'in', 'out', 'on', 'off', 'over', 'under',\n",
       "       'again', 'further', 'then', 'once', 'here', 'there', 'when',\n",
       "       'where', 'why', 'how', 'all', 'any', 'both', 'each', 'few', 'more',\n",
       "       'most', 'other', 'some', 'such', 'no', 'nor', 'not', 'only', 'own',\n",
       "       'same', 'so', 'than', 'too', 'very', 's', 't', 'can', 'will',\n",
       "       'just', 'don', \"don't\", 'should', \"should've\", 'now', 'd', 'll',\n",
       "       'm', 'o', 're', 've', 'y', 'ain', 'aren', \"aren't\", 'couldn',\n",
       "       \"couldn't\", 'didn', \"didn't\", 'doesn', \"doesn't\", 'hadn', \"hadn't\",\n",
       "       'hasn', \"hasn't\", 'haven', \"haven't\", 'isn', \"isn't\", 'ma',\n",
       "       'mightn', \"mightn't\", 'mustn', \"mustn't\", 'needn', \"needn't\",\n",
       "       'shan', \"shan't\", 'shouldn', \"shouldn't\", 'wasn', \"wasn't\",\n",
       "       'weren', \"weren't\", 'won', \"won't\", 'wouldn', \"wouldn't\"],\n",
       "      dtype='<U10')"
      ]
     },
     "execution_count": 9,
     "metadata": {},
     "output_type": "execute_result"
    }
   ],
   "source": [
    "sw = stopwords.words('english')\n",
    "np.array(sw)"
   ]
  },
  {
   "cell_type": "code",
   "execution_count": 10,
   "metadata": {},
   "outputs": [
    {
     "name": "stdout",
     "output_type": "stream",
     "text": [
      "Number of stopwords: 179\n"
     ]
    }
   ],
   "source": [
    "print(\"Number of stopwords:\",len(sw))"
   ]
  },
  {
   "cell_type": "markdown",
   "metadata": {},
   "source": [
    "A function to remove the stopwords"
   ]
  },
  {
   "cell_type": "code",
   "execution_count": 11,
   "metadata": {},
   "outputs": [],
   "source": [
    "def stopwords(text):\n",
    "    '''\n",
    "    A function to remove the stopwords\n",
    "    '''\n",
    "    # remove the stop words and lowercase the selected words\n",
    "    text = [word.lower() for word in text.split() if word.lower() not in sw]\n",
    "    # join the list of words with space separator\n",
    "    return \" \".join(text)"
   ]
  },
  {
   "cell_type": "markdown",
   "metadata": {},
   "source": [
    "Use apply function on the processed text column"
   ]
  },
  {
   "cell_type": "code",
   "execution_count": 12,
   "metadata": {},
   "outputs": [
    {
     "data": {
      "text/html": [
       "<div>\n",
       "<style scoped>\n",
       "    .dataframe tbody tr th:only-of-type {\n",
       "        vertical-align: middle;\n",
       "    }\n",
       "\n",
       "    .dataframe tbody tr th {\n",
       "        vertical-align: top;\n",
       "    }\n",
       "\n",
       "    .dataframe thead th {\n",
       "        text-align: right;\n",
       "    }\n",
       "</style>\n",
       "<table border=\"1\" class=\"dataframe\">\n",
       "  <thead>\n",
       "    <tr style=\"text-align: right;\">\n",
       "      <th></th>\n",
       "      <th>label</th>\n",
       "      <th>text</th>\n",
       "      <th>processed_text</th>\n",
       "    </tr>\n",
       "  </thead>\n",
       "  <tbody>\n",
       "    <tr>\n",
       "      <th>0</th>\n",
       "      <td>0</td>\n",
       "      <td>Go until jurong point, crazy.. Available only ...</td>\n",
       "      <td>go jurong point crazy available bugis n great ...</td>\n",
       "    </tr>\n",
       "    <tr>\n",
       "      <th>1</th>\n",
       "      <td>0</td>\n",
       "      <td>Ok lar... Joking wif u oni...</td>\n",
       "      <td>ok lar joking wif u oni</td>\n",
       "    </tr>\n",
       "    <tr>\n",
       "      <th>2</th>\n",
       "      <td>1</td>\n",
       "      <td>Free entry in 2 a wkly comp to win FA Cup fina...</td>\n",
       "      <td>free entry 2 wkly comp win fa cup final tkts 2...</td>\n",
       "    </tr>\n",
       "    <tr>\n",
       "      <th>3</th>\n",
       "      <td>0</td>\n",
       "      <td>U dun say so early hor... U c already then say...</td>\n",
       "      <td>u dun say early hor u c already say</td>\n",
       "    </tr>\n",
       "    <tr>\n",
       "      <th>4</th>\n",
       "      <td>0</td>\n",
       "      <td>Nah I don't think he goes to usf, he lives aro...</td>\n",
       "      <td>nah dont think goes usf lives around though</td>\n",
       "    </tr>\n",
       "    <tr>\n",
       "      <th>5</th>\n",
       "      <td>1</td>\n",
       "      <td>FreeMsg Hey there darling it's been 3 week's n...</td>\n",
       "      <td>freemsg hey darling 3 weeks word back id like ...</td>\n",
       "    </tr>\n",
       "    <tr>\n",
       "      <th>6</th>\n",
       "      <td>0</td>\n",
       "      <td>Even my brother is not like to speak with me. ...</td>\n",
       "      <td>even brother like speak treat like aids patent</td>\n",
       "    </tr>\n",
       "    <tr>\n",
       "      <th>7</th>\n",
       "      <td>0</td>\n",
       "      <td>As per your request 'Melle Melle (Oru Minnamin...</td>\n",
       "      <td>per request melle melle oru minnaminunginte nu...</td>\n",
       "    </tr>\n",
       "    <tr>\n",
       "      <th>8</th>\n",
       "      <td>1</td>\n",
       "      <td>WINNER!! As a valued network customer you have...</td>\n",
       "      <td>winner valued network customer selected receiv...</td>\n",
       "    </tr>\n",
       "    <tr>\n",
       "      <th>9</th>\n",
       "      <td>1</td>\n",
       "      <td>Had your mobile 11 months or more? U R entitle...</td>\n",
       "      <td>mobile 11 months u r entitled update latest co...</td>\n",
       "    </tr>\n",
       "  </tbody>\n",
       "</table>\n",
       "</div>"
      ],
      "text/plain": [
       "   label                                               text  \\\n",
       "0      0  Go until jurong point, crazy.. Available only ...   \n",
       "1      0                      Ok lar... Joking wif u oni...   \n",
       "2      1  Free entry in 2 a wkly comp to win FA Cup fina...   \n",
       "3      0  U dun say so early hor... U c already then say...   \n",
       "4      0  Nah I don't think he goes to usf, he lives aro...   \n",
       "5      1  FreeMsg Hey there darling it's been 3 week's n...   \n",
       "6      0  Even my brother is not like to speak with me. ...   \n",
       "7      0  As per your request 'Melle Melle (Oru Minnamin...   \n",
       "8      1  WINNER!! As a valued network customer you have...   \n",
       "9      1  Had your mobile 11 months or more? U R entitle...   \n",
       "\n",
       "                                      processed_text  \n",
       "0  go jurong point crazy available bugis n great ...  \n",
       "1                            ok lar joking wif u oni  \n",
       "2  free entry 2 wkly comp win fa cup final tkts 2...  \n",
       "3                u dun say early hor u c already say  \n",
       "4        nah dont think goes usf lives around though  \n",
       "5  freemsg hey darling 3 weeks word back id like ...  \n",
       "6     even brother like speak treat like aids patent  \n",
       "7  per request melle melle oru minnaminunginte nu...  \n",
       "8  winner valued network customer selected receiv...  \n",
       "9  mobile 11 months u r entitled update latest co...  "
      ]
     },
     "execution_count": 12,
     "metadata": {},
     "output_type": "execute_result"
    }
   ],
   "source": [
    "data['processed_text'] = data['processed_text'].apply(stopwords)\n",
    "data.head(10)"
   ]
  },
  {
   "cell_type": "markdown",
   "metadata": {},
   "source": [
    "#### 1.2.3 Stem the text messages"
   ]
  },
  {
   "cell_type": "markdown",
   "metadata": {},
   "source": [
    "Create an object of snowball stemmer"
   ]
  },
  {
   "cell_type": "code",
   "execution_count": 13,
   "metadata": {},
   "outputs": [],
   "source": [
    "stemmer = SnowballStemmer(\"english\")"
   ]
  },
  {
   "cell_type": "markdown",
   "metadata": {},
   "source": [
    "A function which stems each word in the given text"
   ]
  },
  {
   "cell_type": "code",
   "execution_count": 14,
   "metadata": {},
   "outputs": [],
   "source": [
    "def stemming(text):    \n",
    "    '''\n",
    "    A function which stems each word in the given text\n",
    "    '''\n",
    "    text = [stemmer.stem(word) for word in text.split()]\n",
    "    return \" \".join(text)    "
   ]
  },
  {
   "cell_type": "markdown",
   "metadata": {},
   "source": [
    "Use apply function on the processed text column"
   ]
  },
  {
   "cell_type": "code",
   "execution_count": 15,
   "metadata": {},
   "outputs": [
    {
     "data": {
      "text/html": [
       "<div>\n",
       "<style scoped>\n",
       "    .dataframe tbody tr th:only-of-type {\n",
       "        vertical-align: middle;\n",
       "    }\n",
       "\n",
       "    .dataframe tbody tr th {\n",
       "        vertical-align: top;\n",
       "    }\n",
       "\n",
       "    .dataframe thead th {\n",
       "        text-align: right;\n",
       "    }\n",
       "</style>\n",
       "<table border=\"1\" class=\"dataframe\">\n",
       "  <thead>\n",
       "    <tr style=\"text-align: right;\">\n",
       "      <th></th>\n",
       "      <th>label</th>\n",
       "      <th>text</th>\n",
       "      <th>processed_text</th>\n",
       "    </tr>\n",
       "  </thead>\n",
       "  <tbody>\n",
       "    <tr>\n",
       "      <th>0</th>\n",
       "      <td>0</td>\n",
       "      <td>Go until jurong point, crazy.. Available only ...</td>\n",
       "      <td>go jurong point crazi avail bugi n great world...</td>\n",
       "    </tr>\n",
       "    <tr>\n",
       "      <th>1</th>\n",
       "      <td>0</td>\n",
       "      <td>Ok lar... Joking wif u oni...</td>\n",
       "      <td>ok lar joke wif u oni</td>\n",
       "    </tr>\n",
       "    <tr>\n",
       "      <th>2</th>\n",
       "      <td>1</td>\n",
       "      <td>Free entry in 2 a wkly comp to win FA Cup fina...</td>\n",
       "      <td>free entri 2 wkli comp win fa cup final tkts 2...</td>\n",
       "    </tr>\n",
       "    <tr>\n",
       "      <th>3</th>\n",
       "      <td>0</td>\n",
       "      <td>U dun say so early hor... U c already then say...</td>\n",
       "      <td>u dun say earli hor u c alreadi say</td>\n",
       "    </tr>\n",
       "    <tr>\n",
       "      <th>4</th>\n",
       "      <td>0</td>\n",
       "      <td>Nah I don't think he goes to usf, he lives aro...</td>\n",
       "      <td>nah dont think goe usf live around though</td>\n",
       "    </tr>\n",
       "    <tr>\n",
       "      <th>5</th>\n",
       "      <td>1</td>\n",
       "      <td>FreeMsg Hey there darling it's been 3 week's n...</td>\n",
       "      <td>freemsg hey darl 3 week word back id like fun ...</td>\n",
       "    </tr>\n",
       "    <tr>\n",
       "      <th>6</th>\n",
       "      <td>0</td>\n",
       "      <td>Even my brother is not like to speak with me. ...</td>\n",
       "      <td>even brother like speak treat like aid patent</td>\n",
       "    </tr>\n",
       "    <tr>\n",
       "      <th>7</th>\n",
       "      <td>0</td>\n",
       "      <td>As per your request 'Melle Melle (Oru Minnamin...</td>\n",
       "      <td>per request mell mell oru minnaminungint nurun...</td>\n",
       "    </tr>\n",
       "    <tr>\n",
       "      <th>8</th>\n",
       "      <td>1</td>\n",
       "      <td>WINNER!! As a valued network customer you have...</td>\n",
       "      <td>winner valu network custom select receivea å£9...</td>\n",
       "    </tr>\n",
       "    <tr>\n",
       "      <th>9</th>\n",
       "      <td>1</td>\n",
       "      <td>Had your mobile 11 months or more? U R entitle...</td>\n",
       "      <td>mobil 11 month u r entitl updat latest colour ...</td>\n",
       "    </tr>\n",
       "  </tbody>\n",
       "</table>\n",
       "</div>"
      ],
      "text/plain": [
       "   label                                               text  \\\n",
       "0      0  Go until jurong point, crazy.. Available only ...   \n",
       "1      0                      Ok lar... Joking wif u oni...   \n",
       "2      1  Free entry in 2 a wkly comp to win FA Cup fina...   \n",
       "3      0  U dun say so early hor... U c already then say...   \n",
       "4      0  Nah I don't think he goes to usf, he lives aro...   \n",
       "5      1  FreeMsg Hey there darling it's been 3 week's n...   \n",
       "6      0  Even my brother is not like to speak with me. ...   \n",
       "7      0  As per your request 'Melle Melle (Oru Minnamin...   \n",
       "8      1  WINNER!! As a valued network customer you have...   \n",
       "9      1  Had your mobile 11 months or more? U R entitle...   \n",
       "\n",
       "                                      processed_text  \n",
       "0  go jurong point crazi avail bugi n great world...  \n",
       "1                              ok lar joke wif u oni  \n",
       "2  free entri 2 wkli comp win fa cup final tkts 2...  \n",
       "3                u dun say earli hor u c alreadi say  \n",
       "4          nah dont think goe usf live around though  \n",
       "5  freemsg hey darl 3 week word back id like fun ...  \n",
       "6      even brother like speak treat like aid patent  \n",
       "7  per request mell mell oru minnaminungint nurun...  \n",
       "8  winner valu network custom select receivea å£9...  \n",
       "9  mobil 11 month u r entitl updat latest colour ...  "
      ]
     },
     "execution_count": 15,
     "metadata": {},
     "output_type": "execute_result"
    }
   ],
   "source": [
    "data['processed_text'] = data['processed_text'].apply(stemming)\n",
    "data.head(10)"
   ]
  },
  {
   "cell_type": "markdown",
   "metadata": {},
   "source": [
    "## 2. Extract tf-idf representation of the processed text"
   ]
  },
  {
   "cell_type": "markdown",
   "metadata": {},
   "source": [
    "**Create tf-idf matrix**"
   ]
  },
  {
   "cell_type": "code",
   "execution_count": 16,
   "metadata": {},
   "outputs": [
    {
     "name": "stderr",
     "output_type": "stream",
     "text": [
      "/home/ssl/anaconda3/envs/mfr_api/lib/python3.8/site-packages/sklearn/utils/validation.py:67: FutureWarning: Pass input=english as keyword args. From version 0.25 passing these as positional arguments will result in an error\n",
      "  warnings.warn(\"Pass {} as keyword args. From version 0.25 \"\n"
     ]
    }
   ],
   "source": [
    "# create the object of tfid vectorizer\n",
    "tfid_vectorizer = TfidfVectorizer(\"english\")\n",
    "# fit the vectorizer using the message data set\n",
    "tfid_vectorizer.fit(data['processed_text'])\n",
    "# extract the tf-idf representation matrix of the message data\n",
    "tfid_mattrix = tfid_vectorizer.transform(data['processed_text'])"
   ]
  },
  {
   "cell_type": "markdown",
   "metadata": {},
   "source": [
    "#### Display the vocabulary items used in the vectorizer"
   ]
  },
  {
   "cell_type": "code",
   "execution_count": 17,
   "metadata": {},
   "outputs": [
    {
     "name": "stdout",
     "output_type": "stream",
     "text": [
      "dict_items([('go', 3289), ('jurong', 4063), ('point', 5539), ('crazi', 2223), ('avail', 1327), ('bugi', 1726), ('great', 3380), ('world', 7776), ('la', 4204), ('buffet', 1724), ('cine', 2006), ('got', 3342), ('amor', 1138), ('wat', 7574), ('ok', 5170), ('lar', 4239), ('joke', 4029), ('wif', 7688), ('oni', 5200), ('free', 3108), ('entri', 2769), ('wkli', 7734), ('comp', 2101), ('win', 7701), ('fa', 2886), ('cup', 2269), ('final', 2987), ('tkts', 7095), ('21st', 453), ('may', 4597), ('2005', 440), ('text', 6955), ('87121', 864), ('receiv', 5855), ('questionstd', 5770), ('txt', 7274), ('ratetc', 5814), ('appli', 1210), ('08452810075over18', 71), ('dun', 2646), ('say', 6121), ('earli', 2662), ('hor', 3659), ('alreadi', 1111), ('nah', 4887), ('dont', 2569), ('think', 7023), ('goe', 3301), ('usf', 7402), ('live', 4357), ('around', 1249), ('though', 7039), ('freemsg', 3116), ('hey', 3569), ('darl', 2324), ('week', 7612), ('word', 7765), ('back', 1371), ('id', 3764), ('like', 4326), ('fun', 3169), ('still', 6661), ('tb', 6896), ('xxx', 7894), ('std', 6638), ('chgs', 1955), ('send', 6191), ('150', 352), ('rcv', 5825), ('even', 2816), ('brother', 1698), ('speak', 6536), ('treat', 7212), ('aid', 1062), ('patent', 5367), ('per', 5401), ('request', 5932), ('mell', 4631), ('oru', 5254), ('minnaminungint', 4700), ('nurungu', 5106), ('vettam', 7453), ('set', 6214), ('callertun', 1798), ('caller', 1797), ('press', 5639), ('copi', 2173), ('friend', 3135), ('winner', 7708), ('valu', 7427), ('network', 4954), ('custom', 2280), ('select', 6180), ('receivea', 5856), ('900', 902), ('prize', 5668), ('reward', 5969), ('claim', 2012), ('call', 1781), ('09061701461', 217), ('code', 2062), ('kl341', 4164), ('valid', 7425), ('12', 323), ('hour', 3674), ('mobil', 4753), ('11', 313), ('month', 4786), ('entitl', 2767), ('updat', 7366), ('latest', 4254), ('colour', 2080), ('camera', 1811), ('co', 2051), ('08002986030', 56), ('im', 3789), ('gonna', 3317), ('home', 3634), ('soon', 6494), ('want', 7560), ('talk', 6867), ('stuff', 6722), ('anymor', 1182), ('tonight', 7151), ('ive', 3950), ('cri', 2234), ('enough', 2762), ('today', 7112), ('six', 6366), ('chanc', 1906), ('cash', 1861), ('100', 291), ('20000', 437), ('pound', 5589), ('csh11', 2251), ('87575', 868), ('cost', 2184), ('150pday', 359), ('6day', 750), ('16', 390), ('tsandc', 7240), ('repli', 5925), ('hl', 3602), ('info', 3839), ('urgent', 7384), ('membership', 4636), ('100000', 294), ('jackpot', 3963), ('81010', 814), ('tc', 6898), ('wwwdbuknet', 7839), ('lccltd', 4265), ('pobox', 5518), ('4403ldnw1a7rw18', 623), ('search', 6159), ('right', 5980), ('thank', 6970), ('breather', 1671), ('promis', 5700), ('wont', 7756), ('take', 6861), ('help', 3542), ('grant', 3369), ('fulfil', 3165), ('wonder', 7755), ('bless', 1558), ('time', 7074), ('date', 2333), ('sunday', 6769), ('xxxmobilemovieclub', 7895), ('use', 7399), ('credit', 2230), ('click', 2028), ('wap', 7562), ('link', 4341), ('next', 4969), ('messag', 4658), ('httpwap', 3702), ('xxxmobilemovieclubcomnqjkgighjjgcbl', 7896), ('oh', 5163), ('kim', 4135), ('watch', 7575), ('eh', 2708), ('rememb', 5910), ('spell', 6547), ('name', 4893), ('yes', 7933), ('naughti', 4915), ('make', 4531), ('wet', 7648), ('fine', 2992), ('thatåõ', 6987), ('way', 7586), ('feel', 2953), ('gota', 3343), ('england', 2755), ('macedonia', 4498), ('miss', 4716), ('goalsteam', 3294), ('news', 4964), ('ur', 7381), ('nation', 4909), ('team', 6910), ('87077', 863), ('eg', 2700), ('trywal', 7238), ('scotland', 6142), ('4txtì¼120', 668), ('poboxox36504w45wq', 5530), ('serious', 6210), ('tri', 7218), ('ha', 3439), ('pay', 5376), ('first', 3008), ('da', 2294), ('stock', 6665), ('comin', 2092), ('aft', 1029), ('finish', 2998), ('lunch', 4466), ('str', 6686), ('lor', 4403), ('ard', 1230), ('smth', 6437), ('ffffffffff', 2966), ('alright', 1113), ('meet', 4620), ('sooner', 6496), ('forc', 3067), ('eat', 2676), ('slice', 6397), ('realli', 5842), ('hungri', 3725), ('tho', 7035), ('suck', 6745), ('mark', 4562), ('get', 3247), ('worri', 7781), ('know', 4170), ('sick', 6321), ('turn', 7259), ('pizza', 5478), ('lol', 4384), ('alway', 1123), ('convinc', 2163), ('catch', 1870), ('bus', 1743), ('fri', 3131), ('egg', 2704), ('tea', 6906), ('mom', 4770), ('left', 4281), ('dinner', 2489), ('love', 4425), ('amp', 1140), ('pack', 5304), ('car', 1836), ('ill', 3787), ('let', 4300), ('there', 7004), ('room', 6013), ('ahhh', 1054), ('work', 7770), ('vagu', 7421), ('wait', 7537), ('that', 6979), ('clear', 2025), ('sure', 6795), ('sarcast', 6102), ('doesnt', 2544), ('us', 7395), ('yeah', 7921), ('apologet', 1200), ('fallen', 2910), ('actin', 981), ('spoilt', 6571), ('child', 1970), ('caught', 1872), ('till', 7072), ('bad', 1375), ('cheer', 1937), ('tell', 6925), ('anyth', 1185), ('fear', 2944), ('faint', 2900), ('housework', 3679), ('quick', 5771), ('cuppa', 2271), ('subscript', 6739), ('rington', 5986), ('uk', 7303), ('charg', 1913), ('5month', 706), ('pleas', 5498), ('confirm', 2136), ('yup', 8004), ('look', 4395), ('msg', 4820), ('xuhui', 7890), ('learn', 4274), ('2nd', 514), ('lesson', 4299), ('8am', 891), ('oop', 5218), ('roommat', 6015), ('done', 2566), ('see', 6170), ('letter', 4301), ('decid', 2378), ('hello', 3536), ('how', 3680), ('saturday', 6115), ('youd', 7968), ('tomo', 7136), ('invit', 3893), ('pls', 5505), ('ahead', 1052), ('watt', 7584), ('weekend', 7614), ('abiola', 940), ('forget', 3073), ('need', 4933), ('crave', 2222), ('sweet', 6822), ('arabian', 1227), ('steed', 6644), ('mmmmmm', 4742), ('yummi', 7998), ('07732584351', 28), ('rodger', 6004), ('burn', 1740), ('sms', 6431), ('nokia', 5030), ('camcord', 1809), ('08000930705', 52), ('deliveri', 2405), ('tomorrow', 7139), ('hope', 3656), ('man', 4539), ('well', 7626), ('endow', 2748), ('ltgt', 4451), ('inch', 3812), ('callsmessagesmiss', 1804), ('didnt', 2466), ('hep', 3553), ('immunis', 3799), ('nigeria', 4982), ('fair', 2901), ('tyler', 7284), ('cant', 1827), ('could', 2191), ('mayb', 4598), ('ask', 1272), ('bit', 1541), ('stubborn', 6713), ('hospit', 3666), ('kept', 4113), ('weak', 7593), ('sucker', 6746), ('saw', 6120), ('class', 2019), ('gram', 3363), ('usual', 7410), ('run', 6050), ('half', 3456), ('eighth', 2711), ('smarter', 6417), ('almost', 1107), ('whole', 7677), ('second', 6163), ('fyi', 3182), ('ride', 5979), ('morn', 4794), ('hes', 3566), ('crash', 2221), ('place', 5480), ('wow', 7797), ('never', 4956), ('realiz', 5841), ('embarass', 2733), ('accomod', 964), ('thought', 7040), ('sinc', 6343), ('best', 1501), ('seem', 6174), ('happi', 3478), ('cave', 1874), ('sorri', 6505), ('give', 3272), ('offer', 5147), ('ac', 953), ('sptv', 6591), ('new', 4959), ('jersey', 4005), ('devil', 2445), ('detroit', 2441), ('red', 5871), ('wing', 7707), ('play', 5491), ('ice', 3759), ('hockey', 3620), ('correct', 2178), ('incorrect', 3820), ('end', 2746), ('mallika', 4538), ('sherawat', 6258), ('yesterday', 7948), ('find', 2991), ('lturlgt', 4454), ('congrat', 2141), ('year', 7923), ('special', 6538), ('cinema', 2007), ('pass', 5358), ('09061209465', 212), ('suprman', 6792), ('matrix3', 4586), ('starwars3', 6630), ('etc', 2802), ('bx420ip45w', 1762), ('150pm', 362), ('later', 4252), ('reach', 5829), ('yesgauti', 7941), ('sehwag', 6179), ('odi', 5142), ('seri', 6209), ('pick', 5454), ('burger', 1737), ('move', 4809), ('pain', 5311), ('kill', 4133), ('good', 3319), ('girl', 3266), ('situat', 6363), ('seeker', 6173), ('part', 5350), ('check', 1931), ('iq', 3904), ('took', 7155), ('forev', 3070), ('come', 2085), ('doubl', 2582), ('hair', 3451), ('dresser', 2610), ('said', 6072), ('wun', 7825), ('cut', 2283), ('short', 6293), ('nice', 4975), ('advis', 1014), ('follow', 3056), ('recent', 5857), ('review', 5967), ('mob', 4750), ('award', 1343), ('1500', 353), ('bonus', 1598), ('09066364589', 261), ('song', 6489), ('dedic', 2384), ('day', 2342), ('valuabl', 7428), ('frnds', 3143), ('rpli', 6028), ('complimentari', 2115), ('trip', 7220), ('eurodisinc', 2809), ('trav', 7207), ('acoentry41', 977), ('1000', 292), ('dis', 2500), ('186å', 399), ('150morefrmmob', 355), ('shracomorsglsuplt10', 6308), ('ls1', 4440), ('3aj', 575), ('hear', 3516), ('divorc', 2525), ('barbi', 1404), ('ken', 4110), ('plane', 5485), ('wah', 7530), ('lucki', 4459), ('save', 6119), ('money', 4776), ('hee', 3529), ('hi', 3575), ('babe', 1363), ('wanna', 7558), ('someth', 6476), ('xx', 7891), ('kkwhere', 4161), ('youhow', 7971), ('perform', 5406), ('machan', 4500), ('cool', 2167), ('gentleman', 3239), ('digniti', 2481), ('respect', 5946), ('peopl', 5400), ('much', 4840), ('shi', 6262), ('pa', 5302), ('oper', 5221), ('job', 4020), ('tas', 6882), ('earn', 2666), ('ah', 1050), ('stop', 6673), ('urgnt', 7388), ('real', 5836), ('yo', 7958), ('ticket', 7064), ('one', 5197), ('jacket', 3962), ('multi', 4849), ('start', 6626), ('came', 1810), ('bed', 1461), ('coin', 2067), ('factori', 2894), ('gotta', 3347), ('nitro', 5003), ('ela', 2716), ('kanoil', 4090), ('download', 2590), ('wen', 7632), ('don', 2564), ('stand', 6619), ('close', 2033), ('you', 7964), ('ll', 4362), ('anoth', 1171), ('night', 4984), ('spent', 6549), ('late', 4248), ('afternoon', 1031), ('casualti', 1868), ('mean', 4605), ('havent', 3500), ('stuff42moro', 6723), ('includ', 3815), ('sheet', 6253), ('smile', 6424), ('pleasur', 5501), ('troubl', 7225), ('pour', 5590), ('rain', 5791), ('sum1', 6761), ('hurt', 3735), ('becoz', 1459), ('someon', 6471), ('servic', 6213), ('repres', 5930), ('0800', 48), ('169', 392), ('6031', 718), ('10am9pm', 307), ('guarante', 3412), ('5000', 678), ('plan', 5484), ('buy', 1754), ('lido', 4312), ('530', 690), ('show', 6304), ('collect', 2076), ('simpli', 6340), ('password', 5363), ('mix', 4733), ('85069', 849), ('verifi', 7450), ('usher', 7404), ('britney', 1688), ('fml', 3049), ('telugu', 6929), ('moviewat', 4811), ('abt', 949), ('load', 4368), ('loan', 4369), ('wk', 7730), ('hol', 3624), ('forgot', 3076), ('hairdress', 3453), ('appoint', 1213), ('four', 3091), ('shower', 6305), ('beforehand', 1473), ('caus', 1873), ('prob', 5673), ('ham', 3462), ('noth', 5060), ('els', 2728), ('okay', 5171), ('price', 5651), ('long', 4391), ('legal', 4284), ('ave', 1334), ('am', 1125), ('gone', 3314), ('4the', 665), ('drive', 2615), ('test', 6951), ('yet', 7949), ('your', 7981), ('guess', 3420), ('gave', 3211), ('boston', 1616), ('men', 4640), ('chang', 1907), ('locat', 4372), ('nyc', 5116), ('cuz', 2289), ('signin', 6330), ('page', 5308), ('umma', 7310), ('life', 4314), ('vava', 7438), ('lot', 4411), ('dear', 2362), ('wish', 7716), ('birthday', 1539), ('truli', 7233), ('memor', 4638), ('aight', 1064), ('hit', 3594), ('would', 7793), ('ip', 3898), ('address', 994), ('consid', 2147), ('comput', 2120), ('isnt', 3919), ('minecraft', 4697), ('server', 6212), ('grumpi', 3405), ('old', 5187), ('better', 1509), ('lie', 4313), ('busi', 1747), ('plural', 5510), ('noun', 5070), ('research', 5935), ('dinnermsg', 2490), ('cos', 2182), ('thing', 7021), ('scare', 6130), ('mah', 4522), ('loud', 4420), ('gent', 3237), ('contact', 2151), ('last', 4246), ('draw', 2601), ('09064012160', 236), ('k52', 4069), ('12hrs', 336), ('150ppm', 373), ('wa', 7525), ('openin', 5220), ('sentenc', 6202), ('formal', 3080), ('anyway', 1190), ('juz', 4068), ('tt', 7246), ('eatin', 2678), ('puttin', 5752), ('weighthaha', 7618), ('anythin', 1187), ('happen', 3475), ('enter', 2763), ('cabin', 1770), ('bday', 1448), ('boss', 1615), ('felt', 2959), ('askd', 1273), ('apart', 1193), ('went', 7635), ('holiday', 3630), ('flight', 3031), ('inc', 3811), ('0871277810910pmin', 121), ('18', 395), ('goodo', 3333), ('must', 4865), ('friday', 3132), ('eggpotato', 2705), ('ratio', 5816), ('tortilla', 7172), ('hmmmi', 3612), ('uncl', 7316), ('inform', 3841), ('school', 6136), ('direct', 2495), ('food', 3060), ('privat', 5665), ('2004', 439), ('account', 968), ('statement', 6633), ('07742676969', 30), ('786', 781), ('unredeem', 7353), ('08719180248', 169), ('identifi', 3770), ('45239', 635), ('expir', 2868), ('2000', 436), ('5903', 695), ('landlin', 4228), ('09064019788', 242), ('box42wr29c', 1640), ('applespairsal', 1209), ('malarki', 4535), ('voda', 7498), ('number', 5100), ('7548', 776), ('350', 562), ('match', 4579), ('08712300220', 103), ('quot', 5779), ('4041', 607), ('standard', 6620), ('rate', 5813), ('app', 1202), ('sao', 6096), ('mu', 4839), ('ìï', 8027), ('predict', 5621), ('ìll', 8026), ('knowyetund', 4175), ('hasnt', 3491), ('sent', 6200), ('bother', 1618), ('involv', 3896), ('shouldnt', 6301), ('impos', 3804), ('apologis', 1201), ('del', 2398), ('bak', 1383), ('sum', 6760), ('lucyxx', 4463), ('kkhow', 4155), ('tmorrowpl', 7100), ('answer', 1173), ('question', 5769), ('sunshin', 6776), ('quiz', 5775), ('top', 7164), ('soni', 6490), ('dvd', 2655), ('player', 5492), ('countri', 2198), ('algarv', 1091), ('ansr', 1172), ('82277', 820), ('sptyron', 6592), ('laid', 4220), ('dog', 2546), ('join', 4026), ('largest', 4243), ('bt', 1711), ('txting', 7279), ('gravel', 3374), ('69888', 744), ('nt', 5091), ('ec2a', 2680), ('31pmsg150p', 553), ('haf', 3445), ('msn', 4832), ('yijuehotmailcom', 7955), ('befor', 1472), ('activ', 983), ('youll', 7975), ('msgs', 4824), ('chat', 1922), ('svc', 6807), ('hardcor', 3483), ('69988', 748), ('age', 1038), ('yr', 7995), ('lazi', 4264), ('type', 7285), ('lect', 4279), ('pouch', 5588), ('sir', 6352), ('mail', 4525), ('swt', 6835), ('nver', 5111), ('tire', 7083), ('littl', 4356), ('lovabl', 4424), ('person', 5417), ('cozsomtim', 2210), ('occupi', 5136), ('biggest', 1525), ('heart', 3519), ('gud', 3414), ('ni8', 4972), ('open', 5219), ('ya', 7905), ('dot', 2581), ('what', 7654), ('staff', 6612), ('randi', 5805), ('sexi', 6220), ('femal', 2960), ('local', 4371), ('luv', 4472), ('netcollex', 4950), ('ltd', 4446), ('08700621170150p', 73), ('ummmawil', 7311), ('inour', 3858), ('begin', 1477), ('qatar', 5757), ('pray', 5615), ('hard', 3482), ('ki', 4126), ('delet', 2400), ('sindu', 6345), ('birla', 1535), ('soft', 6459), ('wine', 7706), ('flow', 3041), ('thk', 7029), ('plaza', 5497), ('typic', 7287), ('everywher', 2830), ('dirt', 2497), ('floor', 3038), ('window', 7705), ('shirt', 6271), ('sometim', 6478), ('mouth', 4808), ('dream', 2604), ('without', 7724), ('chore', 1993), ('joy', 4044), ('tv', 7261), ('exist', 2858), ('hail', 3450), ('mist', 4725), ('becom', 1458), ('aaooooright', 929), ('leav', 4278), ('hous', 3676), ('interview', 3882), ('boy', 1645), ('mear', 4610), ('annonc', 1165), ('07046744435', 21), ('arrang', 1253), ('0871277810810', 120), ('keep', 4107), ('safe', 6068), ('envi', 2774), ('everyon', 2825), ('parentsi', 5343), ('hand', 3465), ('excit', 2850), ('spend', 6548), ('bootydeli', 1608), ('32f', 558), ('yes434', 7935), ('no434', 5010), ('wwwsmsacubootydeli', 7859), ('frnd', 3142), ('62468', 726), ('bangbab', 1397), ('order', 5243), ('content', 2153), ('goto', 3346), ('bangb', 1396), ('internetservic', 3881), ('menu', 4646), ('cultur', 2266), ('modul', 4764), ('09061701939', 219), ('s89', 6059), ('avoid', 1340), ('missunderstd', 4724), ('wit', 7720), ('belov', 1490), ('escap', 2792), ('fanci', 2917), ('bridg', 1675), ('lager', 4219), ('complet', 2112), ('formclark', 3083), ('also', 1117), ('utter', 7413), ('wast', 7573), ('axi', 1350), ('bank', 1399), ('hmmm', 3609), ('hop', 3655), ('muz', 4871), ('discuss', 2511), ('liao', 4305), ('bloodi', 1569), ('hell', 3534), ('believ', 1483), ('surnam', 6798), ('mr', 4814), ('clue', 2044), ('spanish', 6531), ('bath', 1422), ('goodfin', 3323), ('youv', 7988), ('carlo', 1850), ('mall', 4537), ('stay', 6636), ('til', 7071), ('smoke', 6428), ('worth', 7787), ('log', 4376), ('spoke', 6572), ('maneesha', 4546), ('wed', 7605), ('satisfi', 6111), ('experi', 2865), ('toll', 7132), ('lift', 4322), ('especi', 2795), ('approach', 1215), ('studi', 6718), ('gr8', 3356), ('trust', 7235), ('guy', 3431), ('greatby', 3382), ('handsom', 3468), ('toward', 7184), ('net', 4949), ('mummi', 4855), ('where', 7665), ('boytoy', 1649), ('haha', 3446), ('awesom', 1345), ('minut', 4707), ('freephon', 3120), ('0808', 60), ('145', 348), ('4742', 639), ('9am11pm', 916), ('xmas', 7886), ('radio', 5785), ('jus', 4064), ('sis', 6356), ('uniqu', 7340), ('30th', 548), ('august', 1317), ('wwwareyouuniquecouk', 7830), ('leagu', 4272), ('touch', 7180), ('deal', 2358), ('cours', 2202), ('howev', 3684), ('suggest', 6756), ('abl', 942), ('or', 5235), ('everi', 2820), ('stool', 6672), ('settl', 6215), ('wishin', 7717), ('mrng', 4816), ('hav', 3498), ('stori', 6684), ('hamster', 3464), ('dead', 2356), ('tmr', 7101), ('1pm', 421), ('orchard', 5242), ('mrt', 4817), ('kate', 4096), ('babyjontet', 1368), ('found', 3090), ('enc', 2745), ('buck', 1718), ('darlin', 2325), ('colleg', 2077), ('refil', 5883), ('success', 6744), ('inr', 3861), ('ltdecimalgt', 4447), ('keralacircl', 4115), ('prepaid', 5627), ('balanc', 1386), ('rs', 6031), ('transact', 7199), ('kr', 4188), ('goodmorn', 3327), ('sleep', 6389), ('ga', 3185), ('alter', 1119), ('dat', 2331), ('ericsson', 2780), ('oso', 5257), ('cannot', 1825), ('oredi', 5245), ('straight', 6688), ('dogg', 2548), ('connect', 2143), ('refund', 5888), ('bill', 1527), ('shoot', 6285), ('big', 1523), ('readi', 5834), ('bruv', 1706), ('break', 1665), ('semest', 6187), ('kkgoodstudi', 4154), ('noe', 5020), ('leh', 4286), ('sound', 6517), ('head', 3507), ('slept', 6396), ('past', 5365), ('easi', 2669), ('ahsen', 1059), ('exam', 2846), ('march', 4557), ('gt', 3409), ('atm', 1298), ('regist', 5893), ('os', 5255), ('ubandu', 7290), ('instal', 3868), ('diskyou', 2513), ('import', 3803), ('file', 2981), ('system', 6845), ('repair', 5921), ('shop', 6286), ('romant', 6010), ('nite', 5001), ('sceneri', 6133), ('500', 677), ('89545', 887), ('todayfrom', 7115), ('www4tcbiz', 7827), ('2optout', 519), ('08718726270150gbpmtmsg18', 154), ('appreci', 1214), ('partner', 5354), ('career', 1842), ('flyng', 3048), ('horo', 3662), ('star', 6622), ('sign', 6327), ('ari', 1240), ('compani', 2102), ('elama', 2719), ('po', 5516), ('mudyadhu', 4845), ('strict', 6700), ('teacher', 6908), ('bcoz', 1444), ('teach', 6907), ('conduct', 2131), ('gandhipuram', 3197), ('walk', 7545), ('cross', 2242), ('road', 5997), ('side', 6323), ('street', 6694), ('rubber', 6040), ('batteri', 1426), ('die', 2470), ('yesher', 7943), ('flirt', 3035), ('10p', 309), ('sam', 6084), ('25', 465), ('recdthirtyeight', 5852), ('penc', 5394), ('print', 5659), ('upstair', 7377), ('closer', 2036), ('youwhen', 7990), ('wil', 7695), ('theori', 7002), ('argument', 1239), ('lose', 4407), ('argu', 1238), ('kick', 4128), ('447801259231', 625), ('secret', 6165), ('admir', 1001), ('ufind', 7294), ('rreveal', 6030), ('specialcal', 6539), ('09058094597', 202), ('tomarrow', 7134), ('laptop', 4238), ('case', 1860), ('pleassssssseeeee', 5500), ('tel', 6922), ('avent', 1336), ('sportsx', 6580), ('shine', 6268), ('meant', 4608), ('although', 1121), ('told', 7128), ('baig', 1381), ('face', 2889), ('fr', 3097), ('thanx', 6975), ('everyth', 2827), ('uve', 7417), ('commerci', 2097), ('websit', 7603), ('slipper', 6401), ('kalli', 4082), ('bat', 1419), ('inning', 3855), ('goodnight', 3329), ('fix', 3015), ('wake', 7542), ('congratul', 2142), ('cd', 1880), ('voucher', 7508), ('125gift', 333), ('music', 4864), ('87066', 861), ('tncs', 7105), ('wwwldewcom1win150ppmx3age16', 7846), ('ranjith', 5809), ('cal', 1776), ('drpd', 2623), ('deeraj', 2390), ('deepak', 2387), ('5min', 704), ('hold', 3626), ('bcum', 1446), ('angri', 1158), ('wid', 7686), ('dnt', 2533), ('coz', 2208), ('childish', 1971), ('true', 7230), ('deep', 2386), ('affect', 1020), ('care', 1840), ('kettoda', 4117), ('manda', 4542), ('doinghow', 2554), ('up', 7362), ('3day', 578), ('ship', 6270), ('2wks', 533), ('usp', 7409), ('lag', 4217), ('bribe', 1674), ('nipost', 4999), ('lemm', 4290), ('necessarili', 4929), ('expect', 2863), ('headin', 3509), ('mmm', 4739), ('jolt', 4034), ('suzi', 6806), ('lover', 4429), ('video', 7462), ('handset', 3467), ('750', 774), ('anytim', 1189), ('min', 4690), ('unlimit', 7348), ('park', 5347), ('mini', 4698), ('disturb', 2520), ('luton', 4471), ('0125698789', 5), ('ring', 5984), ('horni', 3660), ('nake', 4890), ('hot', 3670), ('69698', 740), ('unsubscrib', 7359), ('dint', 2492), ('wana', 7557), ('sometm', 6480), ('club4mobilescom', 2043), ('choos', 1990), ('club', 2041), ('87070', 862), ('150pwk', 381), ('club4', 2042), ('box1146', 1629), ('mk45', 4736), ('2wt', 534), ('evo', 2836), ('flash', 3023), ('jealous', 3993), ('singl', 6348), ('chart', 1919), ('qualiti', 5764), ('sort', 6510), ('narcot', 4902), ('sunni', 6772), ('ray', 5819), ('blue', 1576), ('bay', 1428), ('hmv', 3617), ('genuin', 3240), ('86688', 858), ('infowww100percentrealcom', 3845), ('might', 4680), ('object', 5131), ('bf', 1515), ('rob', 6000), ('mack', 4504), ('gf', 3255), ('theater', 6991), ('celebr', 1887), ('full', 3166), ('swing', 6830), ('tool', 7157), ('far', 2920), ('oki', 5176), ('ahold', 1058), ('anybodi', 1180), ('throw', 7050), ('babi', 1365), ('cruisin', 2248), ('fone', 3059), ('jenni', 4000), ('ge', 3226), ('dearshal', 2370), ('tonitebusi', 7153), ('streetshal', 6695), ('toniteth', 7154), ('okvarunnathu', 5182), ('edukkukaye', 2691), ('raksha', 5800), ('ollubut', 5188), ('sens', 6196), ('gautham', 3210), ('stupid', 6727), ('cam', 1808), ('buzi', 1756), ('accident', 961), ('resend', 5936), ('tmobil', 7099), ('phone', 5443), ('upgrad', 7368), ('sim', 6336), ('card', 1837), ('loyalti', 4439), ('0845', 67), ('021', 14), ('3680offer', 568), ('28thfebtc', 483), ('unless', 7346), ('gurl', 3429), ('appropri', 1216), ('teas', 6912), ('plz', 5513), ('rose', 6017), ('grave', 3373), ('bslvyl', 1707), ('coffe', 2064), ('tomoc', 7137), ('somebodi', 6469), ('high', 3580), ('diesel', 2471), ('shit', 6272), ('shock', 6282), ('scari', 6131), ('imagin', 3792), ('def', 2391), ('somewher', 6482), ('taxi', 6891), ('fridg', 3134), ('meal', 4604), ('womdarful', 7751), ('actor', 985), ('blind', 1561), ('4u', 669), ('rodds1', 6003), ('21m', 452), ('aberdeen', 937), ('unit', 7342), ('kingdom', 4139), ('httpimg', 3700), ('acwicmb3cktz8r74', 987), ('hide', 3578), ('remb', 5909), ('book', 1601), ('jos', 4041), ('friendship', 3138), ('hang', 3469), ('thread', 7044), ('themob', 6996), ('newest', 4961), ('game', 3195), ('tone', 7144), ('gossip', 3340), ('sport', 6579), ('fit', 3012), ('funki', 3175), ('82468', 823), ('garag', 3201), ('key', 4118), ('arent', 1233), ('bookshelf', 1604), ('accept', 958), ('dayu', 2352), ('sister', 6357), ('dear1', 2363), ('best1', 1502), ('clos1', 2032), ('lvblefrnd', 4478), ('jstfrnd', 4049), ('cutefrnd', 2285), ('lifpartnr', 4321), ('belovd', 1491), ('swtheart', 6836), ('bstfrnd', 1710), ('enemi', 2749), ('smart', 6415), ('200', 435), ('85222', 850), ('nowtc', 5087), ('winnersclub', 7709), ('box', 1628), ('84', 839), ('m26', 4487), ('3uz', 597), ('gbp150week', 3218), ('definit', 2394), ('2day', 492), ('normal', 5051), ('waythi', 7588), ('uniquei', 7341), ('rest', 5950), ('mylif', 4874), ('wot', 7789), ('lost', 4410), ('made', 4511), ('kkadvanc', 4148), ('pongal', 5555), ('kb', 4102), ('power', 5592), ('yoga', 7959), ('dunno', 2648), ('tahan', 6856), ('anot', 1170), ('lo', 4367), ('dude', 2639), ('afraid', 1026), ('decemb', 2377), ('11mths', 322), ('08002986906', 57), ('cake', 1774), ('merri', 4653), ('christma', 1998), ('kiss', 4144), ('cud', 2262), ('ppl', 5594), ('gona', 3313), ('l8', 4200), ('buse', 1745), ('gon', 3312), ('waitin', 7539), ('pete', 5424), ('guild', 3424), ('bristol', 1686), ('problem', 5675), ('dahow', 2304), ('track', 7190), ('record', 5865), ('read', 5832), ('women', 7752), ('light', 4323), ('kkapo', 4150), ('kgood', 4124), ('movi', 4810), ('return', 5963), ('immedi', 3798), ('germani', 3246), ('line', 4335), ('via', 7455), ('access', 959), ('0844', 64), ('861', 855), ('85', 846), ('prepay', 5629), ('evapor', 2812), ('violat', 7479), ('privaci', 5664), ('steal', 6641), ('employ', 2740), ('paperwork', 5331), ('report', 5928), ('supervisor', 6782), ('valentin', 7424), ('lifetim', 4319), ('83600', 837), ('150pmsg', 366), ('rcvd', 5826), ('custcare08718720201', 2279), ('tadaaaaa', 6854), ('dine', 2486), ('sleepingand', 6392), ('surf', 6796), ('post', 5579), ('1000s', 296), ('wiv', 7728), ('carolin', 1852), ('favourit', 2942), ('stranger', 6691), ('interest', 3876), ('two', 7273), ('round', 6019), ('gudnitetcpractic', 3418), ('yiju', 7954), ('huim', 3718), ('num', 5099), ('small', 6413), ('prestig', 5642), ('shag', 6234), ('dointerest', 2556), ('sextextukcom', 6222), ('xxuk', 7893), ('69876', 743), ('txts', 7282), ('jeremiah', 4001), ('iphon', 3902), ('apeshit', 1195), ('ever', 2819), ('misbehav', 4711), ('slap', 6387), ('urself', 7394), ('fault', 2934), ('basic', 1415), ('figur', 2980), ('alcohol', 1084), ('jay', 3985), ('weed', 7610), ('ish', 3914), ('ago', 1046), ('wtf', 7818), ('callingforgot', 1801), ('onam', 5194), ('sirjii', 6354), ('met', 4668), ('insur', 3872), ('personmeet', 5419), ('insha', 3863), ('allahrakhesh', 1102), ('ex', 2844), ('tata', 6885), ('aig', 1063), ('tisscotays', 7088), ('cashbal', 1862), ('current', 2274), ('maxim', 4594), ('cashin', 1864), ('cc', 1877), ('08708800282', 95), ('hgsuite3422land', 3572), ('roww1j6hl', 6023), ('unemploy', 7330), ('moment', 4771), ('st', 6608), ('andrewsboy', 1155), ('cold', 2070), ('chikku', 1961), ('chikkudb', 1964), ('audrey', 1315), ('status', 6635), ('forward', 3088), ('dawn', 2341), ('refresh', 5887), ('aliv', 1097), ('breath', 1669), ('air', 1066), ('updatenow', 7367), ('motorola', 4805), ('sonyericsson', 6492), ('bluetooth', 1577), ('orang', 5239), ('mobileupd8', 4756), ('08000839402', 51), ('call2optoutf4q', 1785), ('discount', 2509), ('rp176781', 6026), ('wwwregalportfoliocouk', 7853), ('08717205546', 142), ('uniform', 7338), ('geeee', 3228), ('woke', 7748), ('cuddl', 2263), ('spoil', 6570), ('agre', 1048), ('will', 7699), ('refer', 5880), ('t91', 6846), ('gbp', 3217), ('09057039994', 193), ('seen', 6175), ('mei', 4626), ('didt', 2469), ('recognis', 5864), ('lindsay', 4334), ('sigh', 6325), ('bar', 1403), ('ptbo', 5728), ('heron', 3562), ('payasam', 5377), ('rinu', 5991), ('bring', 1683), ('taught', 6888), ('becaus', 1456), ('project', 5696), ('prabu', 5602), ('mistak', 4726), ('bodi', 1588), ('quit', 5773), ('slow', 6408), ('guid', 3422), ('ovul', 5290), ('relax', 5900), ('reason', 5845), ('followin', 3057), ('coupl', 2199), ('wallet', 7549), ('945', 907), ('6month', 756), ('call2optoutn9dx', 1790), ('owl', 5294), ('lick', 4311), ('mm', 4738), ('4mths', 657), ('rental', 5919), ('mobilesdirect', 4754), ('08000938767', 53), ('or2stoptxt', 5237), ('huh', 3716), ('sat', 6107), ('intro', 3887), ('pilat', 5464), ('kickbox', 4129), ('offic', 5149), ('lap', 4236), ('shut', 6316), ('bout', 1624), ('730ish', 770), ('calcul', 1777), ('monthnot', 4788), ('period', 5410), ('actual', 986), ('rock', 6002), ('put', 5751), ('pictur', 5457), ('ass', 1278), ('facebook', 2891), ('al', 1078), ('salam', 6076), ('wahleykkumshar', 7535), ('newsbi', 4965), ('grace', 3360), ('god', 3296), ('tayseertissco', 6895), ('joinedhop', 4027), ('fineinshah', 2994), ('allahmeet', 1101), ('sometimerakheshvisitor', 6479), ('india', 3827), ('hmmmkbut', 3613), ('field', 2971), ('dai', 2305), ('administr', 1000), ('87131', 865), ('poli', 5544), ('2814032', 479), ('1st', 423), ('3xå', 602), ('150pw', 380), ('eå', 2885), ('nd', 4921), ('chechi', 1930), ('cream', 2226), ('none', 5038), ('yep', 7931), ('loxahatche', 4437), ('tree', 7215), ('stoner', 6671), ('slight', 6399), ('disastr', 2505), ('pm', 5514), ('fav', 2937), ('wld', 7739), ('drink', 2612), ('busetop', 1746), ('messagesom', 4663), ('sendernam', 6193), ('sentdat', 6201), ('fullonsmscom', 3167), ('iron', 3908), ('yan', 7912), ('jiu', 4016), ('skip', 6379), ('den', 2410), ('blah', 1550), ('wendi', 7633), ('09064012103', 235), ('box334sk38ch', 1635), ('whatsup', 7656), ('goal', 3293), ('250', 466), ('competit', 2107), ('80086', 802), ('wwwtxttowincouk', 7873), ('logo', 4378), ('name1', 4894), ('name2', 4895), ('mobno', 4757), ('adam', 989), ('eve', 2813), ('07123456789', 26), ('yahoo', 7908), ('pobox36504w45wq', 5525), ('txtno', 7281), ('ad', 988), ('150p', 358), ('yesfrom', 7940), ('09111032124', 287), ('pobox12n146tf150p', 5522), ('siva', 6364), ('hostel', 3668), ('aha', 1051), ('09058094455', 197), ('land', 4227), ('3030', 544), ('voic', 7501), ('express', 2875), ('1childish', 406), ('2naughti', 513), ('3sentiment', 593), ('4rowdi', 661), ('5ful', 698), ('attitud', 1306), ('6romant', 759), ('7shi', 793), ('8attract', 892), ('9funni', 918), ('irrit', 3909), ('shell', 6256), ('aathiwher', 931), ('urin', 7390), ('esplanad', 2797), ('mind', 4693), ('wnt', 7744), ('bmw', 1583), ('urgentlyit', 7386), ('vri', 7512), ('urgentbut', 7385), ('hv', 3740), ('shortag', 6294), ('lacsther', 4213), ('sourc', 6520), ('arng', 1246), ('amt', 1144), ('lacsthat', 4212), ('fifteen', 2975), ('fuck', 3158), ('respond', 5948), ('3650', 565), ('09066382422', 266), ('3min', 587), ('vari', 7432), ('300603', 541), ('bcm4284', 1442), ('ldn', 4266), ('wc1n3xx', 7591), ('hillsborough', 3585), ('th', 6966), ('askin', 1274), ('dollar', 2560), ('shoul', 6298), ('iouri', 3897), ('ten', 6935), ('applebe', 1208), ('txtjourney', 7280), ('gdnow', 3224), ('50', 676), ('yesh', 7942), ('greatbhaji', 3381), ('cricket', 2236), ('sachin', 6061), ('worldveri', 7779), ('tough', 7181), ('suppos', 6790), ('oic', 5167), ('tot', 7177), ('din', 2485), ('group', 3398), ('wereth', 7641), ('monkeespeopl', 4779), ('monkeyaround', 4781), ('howdi', 3683), ('gorgeous', 3338), ('blimey', 1560), ('exercis', 2854), ('kinda', 4137), ('hmm', 3607), ('concentr', 2125), ('10', 290), ('hank', 3472), ('lotsli', 4414), ('kkwhat', 4159), ('detail', 2438), ('transferacc', 7202), ('optimist', 5231), ('improv', 3808), ('purpos', 5746), ('75000', 775), ('homeown', 3639), ('tenant', 6936), ('welcom', 7625), ('previous', 5649), ('refus', 5890), ('1956669', 404), ('si', 6317), ('oreo', 5246), ('truffl', 7232), ('ami', 1131), ('ure', 7382), ('beauti', 1453), ('intellig', 3873), ('woman', 7750), ('donåõt', 2573), ('result', 5958), ('consist', 2148), ('kind', 4136), ('practicum', 5605), ('ear', 2661), ('ttyl', 7248), ('120', 324), ('thru', 7053), ('differ', 2474), ('feelingwav', 2955), ('decis', 2380), ('cope', 2172), ('individualtim', 3832), ('heal', 3512), ('upgrdcentr', 7369), ('0207', 8), ('153', 387), ('9153', 904), ('26th', 475), ('juli', 4055), ('tcs', 6901), ('optout', 5234), ('bye', 1765), ('railway', 5790), ('princess', 5658), ('oral', 5238), ('doggi', 2549), ('style', 6729), ('fave', 2938), ('posit', 5575), ('enjoy', 2757), ('slipperi', 6402), ('bike', 1526), ('mani', 4549), ('languag', 4233), ('okmail', 5177), ('dave', 2338), ('notic', 5063), ('tenerif', 6938), ('09061743806', 222), ('sae', 6066), ('box326', 1633), ('cw25wx', 2290), ('scream', 6148), ('remov', 5915), ('flat', 3024), ('transfer', 7201), ('differb', 2475), ('9ja', 919), ('moan', 4749), ('69888nyt', 745), ('broken', 1693), ('cum', 2267), ('infront', 3847), ('wise', 7715), ('9t', 921), ('aathilov', 930), ('tension', 6940), ('ahwhat', 1061), ('machiani', 4501), ('8th', 900), ('whenr', 7663), ('mcr', 4603), ('sec', 6162), ('tast', 6883), ('fb', 2943), ('jaykwon', 3987), ('thuglyf', 7058), ('falconerf', 2908), ('term', 6942), ('condit', 2129), ('visit', 7488), ('www07781482378com', 7826), ('depend', 2418), ('fade', 2895), ('glori', 3281), ('ralph', 5802), ('dri', 2611), ('trade', 7192), ('sorryin', 6509), ('reunion', 5964), ('nowcan', 5077), ('meh', 4625), ('nope', 5045), ('monday', 4773), ('accentur', 957), ('jackson', 3964), ('rec', 5850), ('center', 1890), ('7ish', 788), ('fight', 2978), ('either', 2714), ('fightng', 2979), ('some1', 6468), ('dificult', 2478), ('nuerologist', 5098), ('lolnic', 4385), ('fish', 3009), ('water', 7579), ('123', 329), ('1450', 349), ('09050002311', 186), ('b4280703', 1357), ('tcsstop', 6904), ('08718727868', 159), ('bore', 1610), ('outsid', 5279), ('westshor', 7647), ('hyde', 3745), ('villag', 7477), ('near', 4923), ('anthoni', 1177), ('fee', 2951), ('rent', 5918), ('signific', 6329), ('opinion', 5222), ('jada', 3966), ('kusruthi', 4195), ('silent', 6333), ('spl', 6562), ('charact', 1912), ('matur', 4590), ('stylish', 6730), ('simpl', 6338), ('gs', 3406), ('scroung', 6151), ('ammo', 1135), ('ak', 1075), ('prabhaim', 5601), ('sorydarealyfrm', 6513), ('sori', 6504), ('forgiven', 3075), ('nojst', 5028), ('tat', 6884), ('40gb', 610), ('ipod', 3903), ('mp3', 4812), ('83355', 833), ('ibhltd', 3751), ('ldnw15h', 4267), ('150pmtmsgrcvd18', 371), ('sno', 6446), ('boltblu', 1594), ('mono', 4783), ('poly3', 5549), ('cha', 1898), ('slide', 6398), ('jamz', 3974), ('toxic', 7187), ('httpwwwbubbletextcom', 3703), ('renew', 5917), ('pin', 5469), ('tgxxrz', 6965), ('transport', 7204), ('less', 4297), ('problemat', 5676), ('nos', 5054), ('unconsci', 7320), ('children', 1973), ('adult', 1010), ('behav', 1480), ('abnorm', 943), ('ebay', 2679), ('elsewher', 2729), ('shall', 6240), ('pickl', 5455), ('taco', 6851), ('rude', 6041), ('campus', 1814), ('020903', 13), ('attempt', 1302), ('08718729755', 161), ('box95qu', 1643), ('85023', 848), ('savamob', 6118), ('member', 4635), ('cs', 2250), ('08717898035', 148), ('300', 539), ('sub', 6732), ('unsub', 7358), ('pretti', 5646), ('ladi', 4215), ('reciev', 5862), ('within', 7723), ('24hrs', 462), ('channel', 1908), ('teletext', 6924), ('pg', 5430), ('doublefaggot', 2583), ('2003', 438), ('07815296484', 40), ('800', 797), ('08718738001', 165), ('41782', 614), ('181104', 397), ('todaysundaysunday', 7118), ('holidayso', 3631), ('l8r', 4202), ('malaria', 4534), ('bani', 1398), ('lead', 4269), ('passion', 5360), ('across', 978), ('sea', 6158), ('probabl', 5674), ('lt', 4444), ('fat', 2929), ('finger', 2997), ('button', 1753), ('ummmmmaah', 7312), ('tirupur', 7086), ('wwwapplausestorecom', 7829), ('monthlysubscription50pmsg', 4787), ('max6month', 4593), ('tcsc', 6903), ('web', 7598), ('age16', 1039), ('2stop', 525), ('famous', 2915), ('develop', 2443), ('abil', 939), ('listen', 4350), ('uncondit', 7319), ('temper', 6933), ('self', 6181), ('confid', 2134), ('marri', 4566), ('oclock', 5139), ('mine', 4695), ('bash', 1414), ('recoveri', 5867), ('rather', 5815), ('coop', 2169), ('hotel', 3671), ('cali', 1778), ('english', 2756), ('bloke', 1564), ('weddin', 7606), ('omw', 5193), ('btw', 1716), ('alibi', 1096), ('sink', 6349), ('pace', 5303), ('cage', 1773), ('cock', 2059), ('surround', 6801), ('remind', 5914), ('own', 5295), ('cuck', 2261), ('hurri', 3733), ('weeddefici', 7611), ('three', 7046), ('acknowledg', 974), ('astound', 1287), ('tactless', 6853), ('general', 3235), ('faggi', 2896), ('demand', 2409), ('blood', 1567), ('oath', 5127), ('fo', 3052), ('warm', 7564), ('milk', 4685), ('magic', 4520), ('loos', 4401), ('weight', 7617), ('pan', 5317), ('it', 3922), ('cheap', 1927), ('perhap', 5408), ('silli', 6334), ('isn', 3918), ('uv', 7416), ('mutat', 4870), ('sunscreen', 6775), ('essenti', 2799), ('theseday', 7010), ('lunchyou', 4468), ('onlinewhi', 5204), ('pic', 5453), ('aiyo', 1073), ('fast', 2925), ('workin', 7773), ('bao', 1402), ('sugardad', 6755), ('ahge', 1053), ('meim', 4627), ('browni', 1700), ('geeeee', 3229), ('bare', 1406), ('2mrw', 512), ('ninish', 4997), ('icki', 3762), ('american', 1130), ('freek', 3113), ('callin', 1800), ('jen', 3998), ('oooh', 5215), ('ridden', 5978), ('ey', 2882), ('gym', 3435), ('whatev', 7655), ('daddi', 2300), ('dick', 2461), ('missi', 4718), ('yar', 7913), ('mum', 4852), ('sch', 6134), ('clean', 2024), ('lab', 4208), ('goggl', 3302), ('door', 2575), ('call09050000327', 1782), ('09050005321', 188), ('arngd', 1247), ('marriag', 4567), ('walkin', 7547), ('unfortunt', 7334), ('snake', 6439), ('bite', 1543), ('danc', 2312), ('frnt', 3148), ('sayin', 6124), ('izzit', 3954), ('textand', 6957), ('08002988890', 58), ('exwif', 2881), ('kid', 4131), ('jjc', 4017), ('tendenc', 6937), ('headach', 3508), ('jazz', 3989), ('yogasana', 7960), ('em', 2731), ('meiv', 4628), ('gotani', 3344), ('srsli', 6603), ('yi', 7952), ('spree', 6587), ('80878', 812), ('tscs', 7241), ('wwwtxt2shopcom', 7870), ('custcar', 2278), ('08715705022', 139), ('1x150pwk', 432), ('08712402050', 108), ('10ppm', 311), ('ag', 1034), ('promo', 5701), ('07753741225', 31), ('08715203677', 134), ('42478', 618), ('241004', 460), ('grand', 3365), ('prix', 5666), ('nitz', 5005), ('announc', 1166), ('542', 693), ('0825', 63), ('exhaust', 2856), ('train', 7195), ('pie', 5459), ('present', 5635), ('ar', 1225), ('blastin', 1555), ('tsunami', 7245), ('occur', 5137), ('rajnik', 5798), ('swim', 6828), ('indian', 3828), ('oceand', 5138), ('noon', 5042), ('xclusiveclubsaisai', 7884), ('2morow', 507), ('285', 480), ('soire', 6462), ('zouk', 8018), ('nichol', 4977), ('parisfre', 5345), ('0794674629107880867867', 44), ('bridgwat', 1676), ('banter', 1401), ('neva', 4955), ('imma', 3797), ('somethin', 6477), ('22', 454), ('euro2004', 2808), ('daili', 2306), ('83222', 830), ('que', 5766), ('suit', 6757), ('bestrpli', 1504), ('thanx4', 6976), ('cer', 1893), ('often', 5159), ('soonc', 6495), ('himthen', 3587), ('futur', 3179), ('hundr', 3722), ('aunti', 1319), ('shuhui', 6314), ('leona', 4294), ('reaction', 5831), ('famili', 2912), ('snow', 6449), ('weather', 7597), ('togeth', 7121), ('grow', 3399), ('dismay', 2515), ('alex', 1089), ('concern', 2126), ('pub', 5730), ('bud', 1719), ('offici', 5154), ('paid', 5310), ('market', 4563), ('tootsi', 7163), ('pop', 5564), ('longer', 4392), ('darren', 2327), ('textbuddi', 6959), ('area', 1232), ('25p', 470), ('postcod', 5582), ('gaytextbuddycom', 3214), ('89693', 889), ('vodafon', 7499), ('4882', 641), ('09064019014', 241), ('seventeen', 6217), ('seven', 6216), ('ml', 4737), ('ûò', 8035), ('holder', 3627), ('pc', 5383), ('httpwwwetlpcoukexpressoff', 3704), ('apply2', 1212), ('80062', 799), ('funni', 3176), ('sweetheart', 6824), ('biola', 1533), ('login', 4377), ('dad', 2299), ('fetch', 2963), ('restock', 5952), ('thanksgiv', 6972), ('effect', 2697), ('brighten', 1679), ('wee', 7609), ('thursday', 7060), ('allo', 1105), ('brave', 1659), ('taken', 6863), ('triumph', 7223), ('we', 7592), ('jolli', 4033), ('cartoon', 1859), ('templ', 6934), ('church', 2003), ('uncomfort', 7318), ('08715203694', 136), ('40533', 609), ('311004', 552), ('email', 2732), ('rstm', 6034), ('sw7', 6808), ('3ss', 594), ('gentl', 3238), ('sonetim', 6488), ('rough', 6018), ('panic', 5321), ('tuesday', 7250), ('wesley', 7642), ('town', 7185), ('bet', 1505), ('hella', 3535), ('drug', 2624), ('dealer', 2359), ('impati', 3801), ('sun', 6767), ('earth', 2667), ('cloud', 2039), ('river', 5996), ('evng', 2835), ('wikipediacom', 7694), ('88800', 877), ('89034', 882), ('premium', 5626), ('08718711108', 149), ('lay', 4263), ('envelop', 2773), ('paper', 5330), ('repent', 5923), ('de', 2355), ('prepar', 5628), ('kama', 4084), ('sutra', 6804), ('en', 2743), ('nang', 4899), ('bakra', 1384), ('kalstiyathen', 4083), ('teacoffe', 6909), ('carlosl', 1851), ('lakh', 4222), ('ho', 3619), ('belli', 1487), ('laugh', 4256), ('sun0819', 6768), ('helloyou', 3541), ('20', 434), ('opt', 5230), ('08452810071', 69), ('ditto', 2522), ('peac', 5385), ('knw', 4176), ('wetherspoon', 7649), ('piggi', 5463), ('awak', 1342), ('freaki', 3106), ('yell', 7926), ('scrappi', 6146), ('lone', 4389), ('hex', 3568), ('explain', 2871), ('sdryb8i', 6156), ('xy', 7903), ('sue', 6749), ('lapdanc', 4237), ('sex', 6219), ('bedroom', 1464), ('89555', 888), ('textoper', 6962), ('g2', 3183), ('1da', 408), ('150ppmsg', 375), ('king', 4138), ('build', 1727), ('map', 4553), ('imprtant', 3809), ('tomorw', 7142), ('dearm', 2367), ('cherthalain', 1948), ('cochin', 2058), ('bfore', 1517), ('starti', 6628), ('accordinglyor', 967), ('comingtmorow', 2094), ('engag', 2752), ('an', 1147), ('torch', 7170), ('bold', 1591), ('448712404000pleas', 627), ('08712404000', 113), ('farm', 2921), ('4d', 646), ('1405', 346), ('1680', 391), ('1843', 398), ('law', 4261), ('purchas', 5742), ('poop', 5561), ('gpu', 3355), ('entrepreneur', 2768), ('corpor', 2176), ('gap', 3200), ('ku', 4192), ('prevent', 5647), ('dehydr', 2397), ('fluid', 3043), ('weird', 7620), ('idea', 3767), ('deari', 2365), ('soso', 6515), ('smsd', 6433), ('away', 1344), ('trek', 7216), ('harri', 3489), ('drivin', 2617), ('fantast', 2919), ('ngage', 4970), ('deck', 2381), ('wwwcnupdatescomnewslett', 7837), ('alert', 1086), ('height', 3531), ('aeronaut', 1016), ('professor', 5691), ('wer', 7637), ('calld', 1795), ('sit', 6358), ('aeroplan', 1017), ('aftr', 1033), ('ws', 7815), ('student', 6716), ('dey', 2447), ('saidif', 6073), ('shitstorm', 6277), ('attribut', 1309), ('08714712388', 125), ('10am7pm', 306), ('stress', 6696), ('dorm', 2576), ('sell', 6185), ('449071512431', 629), ('uu', 7414), ('1250', 332), ('09071512433', 271), ('b4', 1355), ('050703', 15), ('tcsbcm4235wc1n3xx', 6902), ('callcost', 1793), ('mobilesvari', 4755), ('maxå', 4596), ('sth', 6655), ('spec', 6537), ('px3748', 5755), ('08714712394', 126), ('macha', 4499), ('upseti', 7375), ('assum', 1283), ('mindsetbeliev', 4694), ('uslet', 7405), ('againcal', 1035), ('sfine', 6227), ('wondar', 7753), ('flim', 3032), ('cooki', 2166), ('jelli', 3997), ('stillmayb', 6662), ('sameso', 6088), ('itor', 3938), ('admiti', 1004), ('madthen', 4515), ('correctionor', 2179), ('lifeand', 4315), ('worldmay', 7778), ('runninglet', 6051), ('scrumptious', 6152), ('ba', 1359), ('dao', 2318), ('half8th', 3457), ('exact', 2845), ('jide', 4015), ('alertfrom', 1087), ('jeri', 4002), ('stewarts', 6653), ('2kbsubject', 504), ('lowcost', 4435), ('prescripiton', 5632), ('drvgsto', 2630), ('spring', 6588), ('yay', 7918), ('steak', 6640), ('convincingjust', 2164), ('twice', 7267), ('neglect', 4941), ('itjust', 3930), ('tonit', 7152), ('opportunityal', 5226), ('fastpl', 2928), ('add', 990), ('prayer', 5616), ('dearrakhesh', 2368), ('offerth', 5148), ('nokia6650', 5033), ('txtauction', 7276), ('81151', 815), ('4tctxt', 663), ('150pmtmsg', 370), ('rite', 5994), ('gd', 3223), ('faster', 2926), ('gal', 3189), ('attach', 1300), ('glad', 3275), ('hadnt', 3443), ('clock', 2031), ('shout', 6302), ('realis', 5839), ('wahay', 7532), ('shorter', 6296), ('gaze', 3215), ('eye', 2883), ('930', 906), ('subscrib', 6737), ('82324', 822), ('helplin', 3548), ('08706091795', 88), ('weve', 7650), ('spoken', 6573), ('gist', 3270), ('40', 603), ('thousand', 7042), ('tattoo', 6886), ('premier', 5625), ('gimm', 3263), ('lip', 4346), ('caveboy', 1875), ('librari', 4310), ('reali', 5838), ('sorryi', 6508), ('confus', 2140), ('holla', 3632), ('anyon', 1183), ('spare', 6532), ('faith', 2902), ('possiblehop', 5578), ('worklov', 7774), ('beautifulmay', 1454), ('christmasmerri', 1999), ('youcarlo', 7966), ('isar', 3912), ('vibrat', 7457), ('act', 980), ('pari', 5344), ('79', 784), ('08704439680tscs', 87), ('grandma', 3367), ('hungov', 3724), ('unclaim', 7317), ('09066368327', 262), ('closingdate040902', 2037), ('claimcod', 2013), ('m39m51', 4489), ('150pmmorefrommobile2bremovedmobypobox734ls27yf', 365), ('gua', 3410), ('mt', 4834), ('faber', 2888), ('yest', 7947), ('mas', 4571), ('advanc', 1011), ('citi', 2008), ('summer', 6763), ('store', 6682), ('88039', 870), ('skilgm', 6372), ('tscs087147403231winawkage16', 7243), ('150perwksub', 361), ('goin', 3304), ('meetin', 4622), ('tis', 7087), ('theyr', 7016), ('dramat', 2599), ('appar', 1203), ('anywher', 1191), ('damn', 2309), ('hunt', 3732), ('drunkard', 2628), ('idc', 3765), ('weasel', 7596), ('row', 6022), ('space', 6526), ('trash', 7205), ('beg', 1475), ('sing', 6346), ('slave', 6388), ('punish', 5738), ('beerag', 1470), ('0578', 16), ('randomlli', 5807), ('couldnt', 2193), ('shes', 6259), ('diff', 2473), ('perfect', 5405), ('communiti', 2100), ('100psms', 298), ('polyphon', 5553), ('087018728737', 81), ('toppoli', 7168), ('tune', 7256), ('subpoli', 6736), ('81618', 817), ('pole', 5543), ('08718727870', 160), ('fond', 3058), ('bein', 1482), ('thot', 7037), ('ywhere', 8006), ('dogbreath', 2547), ('jan', 3975), ('omg', 5192), ('weigh', 7616), ('woohoo', 7760), ('uncount', 7322), ('dictionari', 2463), ('piec', 5460), ('9996', 913), ('14thmarch', 351), ('availa', 1328), ('petey', 5426), ('wherear', 7666), ('friendsar', 3137), ('thekingshead', 6994), ('canlov', 1823), ('nic', 4974), ('pobox84', 5529), ('m263uz', 4488), ('appt', 1219), ('lttimegt', 4452), ('no1', 5008), ('8077', 811), ('mate', 4580), ('wwwgetzedcouk', 7843), ('36504', 566), ('w45wq', 7523), ('norm150pton', 5050), ('cashto', 1865), ('08000407165', 49), ('getstop', 3252), ('88222', 874), ('php', 5449), ('rg21', 5970), ('4jx', 655), ('dled', 2530), ('3d', 577), ('imp', 3800), ('aint', 1065), ('smokin', 6429), ('boooo', 1605), ('bec', 1455), ('ugh', 7296), ('ssnervous', 6607), ('costum', 2186), ('gift', 3260), ('yowif', 7993), ('hint', 3588), ('borrow', 1614), ('bag', 1378), ('outbid', 5269), ('simonwatson5120', 6337), ('shinco', 6266), ('plyr', 5512), ('bid', 1522), ('acsmsreward', 979), ('notif', 5064), ('model', 4761), ('youi', 7972), ('galileo', 3191), ('dobbi', 2535), ('boo', 1599), ('enjoyin', 2758), ('yourjob', 7983), ('gettin', 3253), ('hunnyhop', 3729), ('oktak', 5180), ('iåõllspeak', 3956), ('2u', 528), ('soonlot', 6497), ('lovem', 4428), ('xxxx', 7897), ('starshin', 6625), ('ach', 970), ('sip', 6350), ('cappuccino', 1834), ('smsservic', 6435), ('yourinclus', 7982), ('wwwcomuknet', 7838), ('3qxj9', 591), ('extra', 2878), ('08702840625comuk', 85), ('220cm2', 455), ('9ae', 914), ('alfi', 1090), ('moon', 4790), ('m8s', 4492), ('chariti', 1915), ('8007', 800), ('zed', 8011), ('08701417012', 76), ('profit', 5693), ('hahahaus', 3447), ('brain', 1652), ('green', 3385), ('burial', 1739), ('mojibiola', 4767), ('reveal', 5965), ('09065174042', 247), ('recd', 5851), ('cust', 2277), ('07821230901', 41), ('rv', 6054), ('havenåõt', 3502), ('roadsrvx', 5998), ('skype', 6383), ('kz', 4199), ('sura', 6794), ('given', 3273), ('ultimatum', 7308), ('countin', 2196), ('aburo', 951), ('five', 3014), ('08002888812', 55), ('inconsider', 3818), ('nag', 4885), ('recess', 5859), ('henc', 3551), ('voucherstext', 7509), ('nowsavamobmemb', 5083), ('soo', 6493), ('understand', 7325), ('2morrow', 509), ('comprehens', 2117), ('prashanthettan', 5614), ('mother', 4800), ('09066350750', 252), ('ibiza', 3752), ('10000', 293), ('await', 1341), ('434', 621), ('sk3', 6368), ('8wp', 901), ('ppm', 5597), ('kkwhen', 4160), ('meanwhil', 4609), ('xavier', 7882), ('warn', 7565), ('samantha', 6086), ('guitar', 3426), ('impress', 3807), ('doug', 2587), ('stomach', 6668), ('trauma', 7206), ('swear', 6819), ('officewhat', 5153), ('mattermsg', 4588), ('nowi', 5078), ('shoe', 6283), ('wan', 7555), ('inner', 3854), ('tigress', 7068), ('version', 7451), ('poor', 5562), ('babyhop', 1367), ('urfeel', 7383), ('bettersn', 1510), ('probthat', 5682), ('overdos', 5285), ('spk', 6561), ('sn', 6438), ('lovejen', 4427), ('fall', 2909), ('discreet', 2510), ('vip', 7482), ('83110', 828), ('hai', 3449), ('ana', 1148), ('sathi', 6109), ('rto', 6037), ('spoon', 6577), ('tampa', 6874), ('genius', 3236), ('whenev', 7661), ('lotta', 4415), ('corvett', 2181), ('yrs', 7996), ('suppli', 6785), ('cds', 1882), ('virgin', 7484), ('mysteri', 4879), ('09061104283', 211), ('wwwsmsconet', 7864), ('approx', 1218), ('wall', 7548), ('bunker', 1735), ('matter', 4587), ('07808', 37), ('xxxxxx', 7899), ('08719899217', 174), ('41685', 613), ('071104', 25), ('posh', 5573), ('bird', 1534), ('chap', 1909), ('user', 7401), ('trial', 7219), ('prod', 5687), ('champney', 1905), ('dob', 2534), ('asap', 1264), ('ta', 6847), ('0721072', 27), ('philosoph', 5439), ('hole', 3628), ('goodno', 3331), ('problembut', 5677), ('drop', 2621), ('nap', 4901), ('atleast', 1297), ('otherwis', 5260), ('shakespear', 6239), ('shesil', 6260), ('10k', 308), ('5k', 703), ('travel', 7208), ('09064011000', 234), ('ntt', 5094), ('cr01327bt', 2213), ('fixedlin', 3017), ('castor', 1867), ('liverpool', 4359), ('mid', 4677), ('09058094565', 199), ('09065171142stopsms08', 245), ('httpdoit', 3698), ('mymobi', 4875), ('knew', 4167), ('woul', 7792), ('curfew', 2272), ('gibe', 3259), ('midnight', 4679), ('getsleep', 3251), ('studdi', 6715), ('massag', 4573), ('oil', 5168), ('sup', 6778), ('yoyyooo', 7994), ('permiss', 5413), ('mac', 4497), ('usb', 7396), ('gibb', 3258), ('unsoldmik', 7356), ('hussey', 3737), ('fail', 2898), ('sad', 6065), ('unbeliev', 7315), ('faglord', 2897), ('wifehow', 7691), ('murder', 4860), ('nutter', 5110), ('cutter', 2288), ('ctter', 2259), ('cttergg', 2260), ('cttargg', 2258), ('ctargg', 2255), ('ctagg', 2254), ('ie', 3775), ('thus', 7061), ('superb', 6780), ('grate', 3372), ('opportun', 5225), ('happier', 3479), ('agent', 1043), ('due', 2641), ('sever', 6218), ('outstand', 5280), ('invoic', 3895), ('possibl', 5577), ('smell', 6421), ('tobacco', 7108), ('derek', 2423), ('taylor', 6894), ('worst', 7786), ('charl', 1916), ('lastest', 4247), ('stereophon', 6648), ('marley', 4564), ('dizze', 2528), ('racal', 5782), ('libertin', 4309), ('stroke', 6705), ('nookii', 5041), ('bookmark', 1603), ('plus', 5511), ('grinul', 3391), ('greet', 3387), ('white', 7675), ('fudg', 3161), ('januari', 3979), ('male', 4536), ('sale', 6078), ('gay', 3212), ('cheaper', 1928), ('08709222922', 96), ('15pmin', 389), ('78pmin', 783), ('peak', 5387), ('08712460324', 116), ('10pmin', 310), ('zaher', 8008), ('ym', 7956), ('nauseous', 4916), ('piss', 5474), ('pig', 5462), ('diet', 2472), ('chip', 1984), ('iam', 3749), ('addict', 993), ('msging', 4822), ('wrong', 7812), ('photo', 5447), ('yck', 7919), ('ashley', 1268), ('avalarr', 1331), ('hollalat', 3633), ('attend', 1304), ('todaybut', 7113), ('websitenow', 7604), ('blog', 1563), ('magicalsongsblogspotcom', 4521), ('chikkuil', 1966), ('ate', 1292), ('kvb', 4196), ('acc', 955), ('88600', 876), ('1million', 416), ('ppt150x3normal', 5599), ('box403', 1638), ('w1t1ji', 7521), ('fridayhop', 3133), ('alternativehop', 1120), ('ore', 5244), ('mo', 4748), ('owo', 5297), ('fro', 3149), ('wherev', 7668), ('samus', 6089), ('shoulder', 6299), ('matthew', 4589), ('09063440451', 230), ('4lux', 656), ('ppm150', 5598), ('box334', 1634), ('sk38xh', 6369), ('wear', 7595), ('jean', 3994), ('fever', 2964), ('vomitin', 7506), ('kkare', 4151), ('09061749602', 226), ('528', 689), ('hp20', 3689), ('1yf', 433), ('stuf', 6721), ('bleh', 1557), ('least', 4275), ('writh', 7804), ('ton', 7143), ('paypal', 5382), ('voila', 7503), ('pocket', 5534), ('medic', 4616), ('folk', 3055), ('150psms', 377), ('sorta', 6511), ('blown', 1574), ('score', 6140), ('sopha', 6502), ('secondari', 6164), ('applic', 1211), ('ogunrind', 5162), ('expens', 2864), ('08718720201', 150), ('11414', 317), ('tcrw1', 6900), ('lodg', 4375), ('chk', 1986), ('ms', 4819), ('dict', 2462), ('shb', 6251), ('truth', 7236), ('graviti', 3376), ('heavi', 3526), ('bowl', 1627), ('filthi', 2985), ('ull', 7306), ('brand', 1655), ('simpler', 6339), ('welp', 7631), ('retir', 5961), ('natwest', 4914), ('09050001808', 185), ('m95', 4493), ('valid12hr', 7426), ('chad', 1900), ('gymnast', 3436), ('site', 6359), ('christian', 1997), ('backa', 1372), ('necklac', 4931), ('token', 7126), ('youthat', 7985), ('wife', 7689), ('likingb', 4328), ('seeno', 6176), ('thatdont', 6982), ('aptitud', 1223), ('215', 450), ('hors', 3664), ('race', 5783), ('earlier', 2663), ('chicken', 1958), ('rice', 5975), ('crap', 2220), ('borin', 1611), ('boggi', 1589), ('biatch', 1521), ('nxt', 5115), ('il', 3785), ('hesit', 3567), ('notebook', 5059), ('salari', 6077), ('chocol', 1988), ('daysh', 2347), ('potenti', 5586), ('talent', 6866), ('reckon', 5863), ('eightish', 2712), ('carpark', 1854), ('3g', 580), ('videophon', 7465), ('09063458130', 232), ('videochat', 7463), ('java', 3984), ('dload', 2532), ('polyph', 5552), ('nolin', 5034), ('rentl', 5920), ('fuckin', 3159), ('yun', 8000), ('ahth', 1060), ('ubi', 7291), ('tomorrowcal', 7140), ('67441233', 734), ('ireneer', 3906), ('bus822656166382', 1744), ('cresubi', 2233), ('tech', 6913), ('park6ph', 5348), ('5wkg', 714), ('daysì', 2350), ('sd', 6154), ('butt', 1751), ('sore', 6503), ('7am', 785), ('parti', 5351), ('5ish', 701), ('stripe', 6704), ('skirt', 6380), ('miracl', 4708), ('jesus', 4007), ('escal', 2791), ('yetund', 7951), ('quiet', 5772), ('beth', 1507), ('aunt', 1318), ('charli', 1917), ('helen', 3533), ('nobut', 5019), ('heard', 3517), ('syllabus', 6838), ('panason', 5319), ('bluetoothhdset', 1578), ('doublemin', 2584), ('doubletxt', 2585), ('contract', 2156), ('730pm', 771), ('poyyarikaturkolathupalayamunjalur', 5593), ('posterod', 5583), ('heroi', 3561), ('apt', 1222), ('opportunitypl', 5227), ('ltemailgt', 4450), ('kerala', 4114), ('terribl', 6946), ('fan', 2916), ('meat', 4612), ('suprem', 6791), ('toldsh', 7129), ('dearregret', 2369), ('cudnt', 2264), ('calldrov', 1796), ('frm', 3141), ('ctla', 2257), ('homeleft', 3637), ('carent', 1845), ('ishtamayoohappi', 3915), ('bakrid', 1385), ('exe', 2852), ('knowwait', 4174), ('glorious', 3282), ('anniversari', 1164), ('prey', 5650), ('coax', 2055), ('imag', 3791), ('souveni', 6523), ('cougarpen', 2189), ('09065394514', 248), ('datebox1282essexcm61xn', 2334), ('150pmin', 364), ('pattern', 5372), ('throat', 7049), ('scratch', 6147), ('plm', 5503), ('asleep', 1276), ('foreign', 3069), ('stamp', 6618), ('lectur', 4280), ('sheffield', 6254), ('nanni', 4900), ('rais', 5792), ('zoe', 8015), ('shitin', 6274), ('defo', 2395), ('hardest', 3485), ('million', 4688), ('lekdog', 4289), ('fill', 2982), ('loverboy', 4431), ('blanket', 1554), ('suffici', 6751), ('thx', 7062), ('nyt', 5119), ('edison', 2687), ('fool', 3061), ('speechless', 6543), ('viva', 7493), ('gm', 3284), ('atten', 1303), ('roast', 5999), ('iåõd', 3955), ('09058097218', 207), ('ls15hb', 4441), ('educ', 2690), ('doesnåõt', 2545), ('kickoff', 4130), ('euro', 2807), ('june', 4060), ('3rd', 592), ('data', 2332), ('analysi', 1150), ('thesi', 7012), ('belliger', 1488), ('hiya', 3601), ('april', 1220), ('les', 4296), ('rudi', 6042), ('snoringthey', 6448), ('drunk', 2627), ('ink', 3851), ('515', 685), ('howr', 3685), ('eastend', 2674), ('flower', 3042), ('compar', 2104), ('violet', 7481), ('tulip', 7254), ('lili', 4330), ('84025', 840), ('wkent150p16', 7732), ('technic', 6914), ('support', 6787), ('processnetwork', 5686), ('daysso', 2348), ('finalis', 2988), ('visitne', 7489), ('wwwflirtpartyus', 7840), ('replys150', 5927), ('bitch', 1542), ('dentist', 2416), ('09058091854', 194), ('box385', 1636), ('m6', 4490), ('6wu', 762), ('09050003091', 187), ('c52', 1768), ('xchat', 7883), ('lul', 4465), ('juici', 4053), ('nurs', 5104), ('obes', 5129), ('oyea', 5299), ('oi', 5166), ('parchi', 5339), ('na', 4882), ('kicchu', 4127), ('kaaj', 4072), ('kort', 4185), ('iccha', 3758), ('korch', 4183), ('tul', 7253), ('sculptur', 6153), ('convey', 2162), ('regard', 5892), ('surya', 6803), ('vijay', 7470), ('pokkiri', 5542), ('dearer', 2364), ('dem', 2408), ('attractioni', 1308), ('mesh', 4655), ('thoughtsi', 7041), ('hersh', 3563), ('dreamlov', 2605), ('namemi', 4896), ('hermi', 3559), ('heri', 3557), ('herwil', 3565), ('sorrowsi', 6507), ('craziest', 2224), ('herlov', 3558), ('proov', 5706), ('planeti', 5487), ('prais', 5607), ('curri', 2275), ('maki', 4532), ('sambarlif', 6087), ('thenwil', 7000), ('lotwil', 4417), ('frndship', 3144), ('needl', 4937), ('evn', 2834), ('meetitz', 4623), ('4few', 648), ('alwi', 1124), ('conect', 2132), ('spatula', 6535), ('sipix', 6351), ('digit', 2480), ('09061221061', 214), ('28day', 481), ('box177', 1631), ('m221bp', 4485), ('2yr', 537), ('warranti', 7567), ('på', 5756), ('399', 574), ('09061790121', 227), ('doctor', 2538), ('complex', 2113), ('freeli', 3114), ('tax', 6890), ('outrag', 5277), ('tomorro', 7138), ('ryder', 6056), ('unsoldnow', 7357), ('receipt', 5853), ('elvi', 2730), ('presley', 5637), ('fret', 3130), ('strip', 6703), ('postal', 5580), ('addressul', 995), ('alrightokay', 1114), ('cliff', 2029), ('ne', 4922), ('wrking', 7808), ('uni', 7336), ('depress', 2420), ('sittin', 6362), ('wind', 7703), ('black', 1545), ('aiyah', 1071), ('o2', 5124), ('onto', 5210), ('httpwwwurawinnercom', 3707), ('surpris', 6799), ('hen', 3550), ('onlin', 5203), ('italian', 3923), ('grin', 3389), ('math', 4581), ('sfirst', 6228), ('timedhoni', 7075), ('teju', 6921), ('hourish', 3675), ('nothi', 5061), ('groundamla', 3397), ('durban', 2650), ('conveni', 2159), ('evalu', 2811), ('449050000301', 628), ('09050000301', 178), ('speed', 6544), ('speedchat', 6545), ('80155', 804), ('swap', 6813), ('chatter', 1926), ('chat80155', 1923), ('rcd', 5823), ('cancel', 1820), ('cheyyamoand', 1952), ('08000776320', 50), ('okok', 5178), ('okthenwhat', 5181), ('aiyar', 1072), ('survey', 6802), ('80160', 805), ('wwwtxt43com', 7871), ('whos', 7679), ('hmv1', 3618), ('error', 2784), ('difficulti', 2477), ('howz', 3687), ('painhop', 5312), ('tau', 6887), ('sar', 6098), ('piah', 5452), ('1stchoicecouk', 425), ('08707808226', 93), ('oha', 5164), ('film', 2983), ('hgsuite3422landsroww1j6hl', 3573), ('shade', 6232), ('notifi', 5065), ('luck', 4457), ('84122', 841), ('08450542832', 68), ('station', 6634), ('tank', 6875), ('4fil', 649), ('sexual', 6223), ('cute', 2284), ('69911å', 746), ('sitter', 6361), ('kaitlyn', 4077), ('danger', 2317), ('peep', 5390), ('comment', 2096), ('veggi', 7443), ('neighbor', 4943), ('computerless', 2121), ('balloon', 1389), ('passthey', 5362), ('ntswt', 5093), ('drms', 2619), ('wrc', 7799), ('ralli', 5801), ('oz', 5301), ('lucozad', 4461), ('energi', 2750), ('le', 4268), ('61200', 722), ('lucozadecoukwrc', 4462), ('itcould', 3925), ('melodi', 4633), ('horribl', 3663), ('toot', 7161), ('bigger', 1524), ('nw', 5114), ('hme', 3606), ('island', 3916), ('chennai', 1943), ('velacheri', 7445), ('flippin', 3034), ('cstore', 2253), ('annoy', 1167), ('hangin', 3471), ('makin', 4533), ('alivebett', 1098), ('shame', 6241), ('quizz', 5778), ('popcorn', 5565), ('jordan', 4038), ('celeb', 1885), ('pocketbabecouk', 5535), ('3wk', 599), ('087016248', 79), ('voicemail', 7502), ('08719181503', 171), ('thin', 7020), ('faultal', 2935), ('faultf', 2936), ('himso', 3586), ('2go', 499), ('thanxxx', 6977), ('neft', 4939), ('beneficiari', 1496), ('natuit', 4912), ('choic', 1989), ('wwwldewcomsubs161win150ppmx3', 7848), ('semi', 6188), ('deliv', 2403), ('exp', 2862), ('30apr', 545), ('strong', 6706), ('arm', 1243), ('maaaan', 4494), ('guessin', 3421), ('walmart', 7552), ('ilol', 3788), ('wuldnt', 7824), ('mite', 4729), ('creepi', 2232), ('lunchtim', 4467), ('organis', 5248), ('08719181513', 172), ('kkim', 4156), ('finewhen', 2996), ('passabl', 5359), ('phd', 5436), ('5year', 716), ('easier', 2670), ('nok', 5029), ('87021', 860), ('txtin', 7278), ('150ptone', 379), ('4info', 654), ('prakesh', 5610), ('rofl', 6005), ('betta', 1508), ('invest', 3891), ('anti', 1178), ('product', 5688), ('1hr', 412), ('delay', 2399), ('accommod', 962), ('various', 7433), ('global', 3280), ('wwwphb1com', 7852), ('ph08700435505150p', 5432), ('submit', 6735), ('84128', 842), ('wwwtextcompcom', 7867), ('08712405020', 114), ('1s', 422), ('snatch', 6442), ('purs', 5747), ('hellodrivby0quit', 3537), ('edrunk', 2689), ('iff', 3776), ('pthis', 5729), ('senrddnot', 6195), ('dancc', 2313), ('drum', 2626), ('basqihav', 1418), ('2nhite', 515), ('ros', 6016), ('xxxxxxx', 7900), ('reliev', 5903), ('westonzoyland', 7646), ('europ', 2810), ('nobodi', 5018), ('chines', 1981), ('doc', 2536), ('havin', 3503), ('goin2b', 3305), ('only1mor', 5206), ('mc', 4600), ('hun', 3721), ('2nitetel', 518), ('every1', 2821), ('ava', 1326), ('goodtimeoli', 3334), ('rang', 5808), ('melnit', 4632), ('ifink', 3777), ('sortedbut', 6512), ('everythin', 2828), ('monl8rsx', 4782), ('08712402779', 110), ('flip', 3033), ('shun', 6315), ('bian', 1520), ('glass', 3278), ('exhibit', 2857), ('el', 2715), ('nino', 4998), ('chikkugo', 1965), ('cbe', 1876), ('honey', 3644), ('jd', 3991), ('execut', 2853), ('parent', 5341), ('downstem', 2592), ('08718730555', 163), ('wahala', 7531), ('inperialmus', 3859), ('listening2th', 4351), ('weirdest', 7621), ('byåóleafcutt', 1766), ('johnåósound', 4025), ('insect', 3862), ('molestedsomeon', 4769), ('plumbingremix', 5509), ('evil', 2833), ('acid', 973), ('didntgiv', 2467), ('bellearli', 1486), ('hunni', 3728), ('09096102316', 280), ('2moro', 506), ('jane', 3977), ('callså', 1805), ('1minmoremobsemspobox45po139wa', 419), ('tee', 6916), ('cheeri', 1938), ('cell', 1888), ('thts', 7057), ('dough', 2588), ('control', 2158), ('80488biz', 809), ('weirdo', 7623), ('mode', 4760), ('stalk', 6617), ('profil', 5692), ('jerri', 4004), ('drinkin', 2613), ('other', 5259), ('heygreat', 3570), ('dealfarm', 2360), ('tour', 7183), ('9am', 915), ('5pm', 708), ('95pax', 909), ('deposit', 2419), ('jap', 3981), ('disappear', 2502), ('birthdat', 1538), ('certif', 1897), ('publish', 5733), ('nydc', 5117), ('wheellock', 7659), ('destin', 2436), ('fifti', 2977), ('favour', 2941), ('happenin', 3477), ('ola', 5183), ('cocksuck', 2060), ('ipad', 3900), ('worthless', 7788), ('garbag', 3202), ('novelti', 5071), ('item', 3926), ('tshirt', 7244), ('fran', 3099), ('broke', 1692), ('knacker', 4165), ('janx', 3980), ('ps', 5720), ('design', 2429), ('softwar', 6460), ('jamster', 3971), ('videosound', 7466), ('gold', 3307), ('videosounds2', 7467), ('logosmusicnew', 4382), ('jamstercouk', 3972), ('16on', 393), ('09701213186', 288), ('lion', 4343), ('lionm', 4344), ('lionp', 4345), ('wwwringtonescouk', 7855), ('origin', 5251), ('3gbp', 581), ('jokin', 4032), ('spirit', 6558), ('bb', 1429), ('shatter', 6249), ('alrit', 1115), ('idiot', 3771), ('girli', 3269), ('darker', 2322), ('whenevr', 7662), ('gray', 3377), ('remembr', 5912), ('listn', 4352), ('watevr', 7581), ('whileamp', 7672), ('ûïharri', 8034), ('potter', 5587), ('phoenix', 5442), ('among', 1136), ('reader', 5833), ('shd', 6252), ('minus', 4706), ('paragraph', 5336), ('coveragd', 2207), ('vasai', 7435), ('4o', 658), ('retard', 5960), ('bathroom', 1423), ('sang', 6092), ('uptown', 7379), ('80s', 813), ('februari', 2949), ('rush', 6053), ('icic', 3760), ('syria', 6843), ('canada', 1817), ('heartsnot', 3522), ('goodnoon', 3332), ('gaug', 3209), ('patti', 5373), ('mondaynxt', 4774), ('vl', 7496), ('ax', 1349), ('chill', 1975), ('6hrs', 753), ('surgic', 6797), ('emerg', 2736), ('unfold', 7332), ('fren', 3125), ('korean', 4184), ('fredericksburg', 3107), ('pase', 5357), ('un', 7313), ('buen', 1722), ('tiempo', 7065), ('chillin', 1977), ('super', 6779), ('free2day', 3109), ('georg', 3243), ('jordantxt', 4039), ('89080', 884), ('sauci', 6117), ('celeb4', 1886), ('0870241182716', 82), ('tmrw', 7102), ('compass', 2105), ('soul', 6516), ('worldgnun', 7777), ('way2smscom', 7587), ('baaaaab', 1362), ('misss', 4722), ('youuuuu', 7987), ('ned', 4932), ('tht', 7056), ('witot', 7726), ('main', 4528), ('sweeti', 6825), ('blackberri', 1547), ('buyer', 1755), ('melik', 4630), ('4a', 644), ('pple', 5595), ('becz', 1460), ('undrstndng', 7329), ('chain', 1901), ('suffer', 6750), ('whn', 7676), ('arrest', 1254), ('suntec', 6777), ('steamboat', 6643), ('moji', 4766), ('forgiv', 3074), ('messeng', 4666), ('tp', 7189), ('fantasi', 2918), ('08707509020', 91), ('20p', 446), ('1327', 342), ('croydon', 2244), ('cr9', 2214), ('5wb', 712), ('0870k', 98), ('bbq', 1435), ('6ish', 754), ('everyso', 2826), ('panick', 5322), ('outhav', 5274), ('write', 7803), ('3cover', 576), ('screen', 6149), ('4press', 660), ('5gentli', 700), ('bear', 1451), ('nick', 4978), ('tom', 7133), ('fact', 2893), ('upload', 7371), ('08718730666', 164), ('huai', 3710), ('juan', 4051), ('linerent', 4337), ('call2optoutlf56', 1789), ('tlk', 7096), ('ideal', 3768), ('path', 5368), ('appear', 1205), ('front', 3153), ('shot', 6297), ('reserv', 5938), ('thirunelvali', 7027), ('tirunelvali', 7085), ('evei', 2815), ('netno', 4953), ('availablei', 1329), ('tackl', 6850), ('storm', 6685), ('phne', 5441), ('wt', 7816), ('margaret', 4559), ('girlfrnd', 3268), ('grahmbel', 3362), ('invnt', 3894), ('telphon', 6928), ('moralon', 4793), ('4get', 650), ('tonght', 7149), ('plough', 5504), ('pile', 5465), ('chinki', 1982), ('wi', 7682), ('nz', 5122), ('unsold', 7355), ('geelat', 3230), ('aust', 1320), ('bk', 1544), ('cafe', 1772), ('recharg', 5860), ('papa', 5329), ('shld', 6280), ('stretch', 6698), ('sinco', 6344), ('paye', 5379), ('icicibankcom', 3761), ('urn', 7393), ('bewar', 1513), ('fraud', 3104), ('share', 6248), ('disclos', 2507), ('vote', 7507), ('loser', 4408), ('kaiez', 4075), ('tuition', 7252), ('gee', 3227), ('option', 5233), ('beta', 1506), ('practic', 5604), ('kkani', 4149), ('noncomitt', 5037), ('beneath', 1495), ('pale', 5315), ('goodnit', 3330), ('150pmsgrcvdhgsuite3422landsroww1j6hl', 368), ('snicker', 6445), ('total', 7178), ('chord', 1992), ('nofew', 5021), ('beforew', 1474), ('rem', 5907), ('silver', 6335), ('lmao', 4364), ('silenc', 6332), ('wwwldewcom', 7845), ('win150ppmx3age16', 7702), ('revis', 5968), ('boyf', 1646), ('interviw', 3883), ('exet', 2855), ('worriedx', 7782), ('spreadsheet', 6586), ('whose', 7680), ('determin', 2440), ('entir', 2766), ('arsenal', 1257), ('dartboard', 2328), ('trebl', 7214), ('coat', 2054), ('everybodi', 2822), ('alon', 1108), ('intrepid', 3886), ('duo', 2649), ('sen', 6190), ('missin', 4719), ('guilti', 3425), ('aiya', 1070), ('cardiff', 1838), ('addi', 992), ('tue', 7249), ('breez', 1672), ('bright', 1678), ('fresh', 3128), ('twitter', 7272), ('yago', 7906), ('restaur', 5951), ('textpod', 6963), ('pod', 5536), ('wwwtextpodnet', 7868), ('duck', 2638), ('chinchilla', 1980), ('function', 3170), ('headstart', 3511), ('230ish', 457), ('desper', 2433), ('earlierw', 2664), ('rummer', 6048), ('fli', 3030), ('monkey', 4780), ('certain', 1896), ('optin', 5232), ('bbc', 1430), ('thanks2', 6971), ('rajini', 5795), ('stupidit', 6728), ('help08714742804', 3546), ('spys', 6594), ('clair', 2014), ('2nite', 517), ('09099725823', 281), ('bought', 1621), ('yalru', 7910), ('lyfu', 4480), ('astn', 1286), ('innu', 3857), ('mundh', 4857), ('lyf', 4479), ('ali', 1094), ('halla', 3459), ('ke', 4105), ('bilo', 1530), ('marriageprogram', 4568), ('edha', 2686), ('ovr', 5289), ('chikkuali', 1962), ('vargu', 7431), ('meow', 4648), ('meowd', 4649), ('twelv', 7265), ('aah', 927), ('09066362231', 258), ('07xxxxxxxxx', 47), ('020603', 7), ('prone', 5704), ('07801543489', 36), ('wordcollect', 7766), ('no83355', 5014), ('tcllc', 6899), ('nyusa', 5121), ('150pmt', 369), ('msgrcvd18', 4823), ('luci', 4456), ('hubbi', 3711), ('cumin', 2268), ('09099726395', 282), ('1minmobsmorelkpobox177hp51fl', 418), ('7th', 794), ('6th', 760), ('5th', 711), ('4th', 664), ('natur', 4913), ('dose', 2579), ('tablet', 6849), ('incomm', 3817), ('blake', 1551), ('waitshould', 7540), ('lotr', 4413), ('googl', 3336), ('browsin', 1703), ('compulsori', 2119), ('puriti', 5744), ('messageit', 4659), ('musthu', 4867), ('investig', 3892), ('80488', 808), ('www80488biz', 7828), ('vomit', 7505), ('moneya', 4777), ('youmoney', 7977), ('thinghow', 7022), ('sha', 6231), ('vitamin', 7492), ('centr', 1891), ('crucial', 2245), ('jsco', 4047), ('2channel', 491), ('leadership', 4270), ('skill', 6373), ('psychic', 5725), ('wquestion', 7798), ('hostbas', 3667), ('idp', 3773), ('linux', 4342), ('0870', 72), ('dawhat', 2339), ('convert', 2161), ('along', 1109), ('karaok', 4093), ('sayi', 6123), ('except', 2848), ('nit', 5000), ('petei', 5425), ('leannewhat', 4273), ('eight', 2710), ('format', 3082), ('disc', 2506), ('internet', 3880), ('champ', 1903), ('glasgow', 3277), ('kall', 4081), ('bestcongrat', 1503), ('lovin', 4432), ('arriv', 1255), ('brows', 1701), ('artist', 1260), ('corect', 2174), ('spele', 6546), ('sarcasm', 6101), ('10803', 304), ('08714719523', 129), ('forum', 3087), ('ron', 6012), ('hict', 3576), ('employe', 2741), ('nike', 4992), ('sooo', 6499), ('dang', 2316), ('unfortun', 7333), ('airport', 1068), ('7250i', 768), ('auction', 1311), ('86021', 854), ('roww1jhl', 6024), ('difficult', 2476), ('earliest', 2665), ('nordstrom', 5048), ('konw', 4181), ('waht', 7536), ('rael', 5786), ('gving', 3433), ('yuo', 8002), ('exmpel', 2859), ('jsut', 4050), ('ese', 2793), ('tih', 7069), ('evrey', 2839), ('splle', 6568), ('wrnog', 7811), ('sitll', 6360), ('ra', 5781), ('wihtuot', 7693), ('ayn', 1352), ('mitsak', 4730), ('sleepsweet', 6394), ('confer', 2133), ('wwworangecoukow', 7851), ('degre', 2396), ('financ', 2989), ('prospect', 5713), ('bleak', 1556), ('shant', 6246), ('jia', 4013), ('bishan', 1540), ('nearer', 4925), ('sux', 6805), ('raiden', 5789), ('buff', 1723), ('south', 6521), ('prefer', 5622), ('kegger', 4108), ('tote', 7179), ('pierr', 5461), ('cardin', 1839), ('rhythm', 5974), ('establish', 2800), ('truro', 7234), ('ext', 2876), ('gas', 3206), ('gang', 3199), ('adventur', 1012), ('worryus', 7784), ('cloth', 2038), ('packalso', 5306), ('sunroof', 6774), ('excel', 2847), ('wifi', 7692), ('blank', 1553), ('noi', 5023), ('rumour', 6049), ('kalainar', 4079), ('officethenampet', 5151), ('7250', 767), ('nosi', 5057), ('idk', 3772), ('react', 5830), ('freak', 3105), ('satan', 6108), ('impost', 3806), ('mene', 4641), ('priceso', 5652), ('itmay', 3935), ('destini', 2437), ('companion', 2103), ('chef', 1942), ('organ', 5247), ('boyfriend', 1647), ('sympathet', 6840), ('athlet', 1293), ('courag', 2201), ('psychologist', 5726), ('pest', 5423), ('extermin', 2877), ('psychiatrist', 5724), ('healer', 3513), ('stylist', 6731), ('driver', 2616), ('aaniy', 928), ('pudunga', 5734), ('venaam', 7448), ('brotha', 1697), ('chase', 1920), ('chez', 1953), ('jule', 4054), ('hhahhaahahah', 3574), ('nig', 4981), ('leonardo', 4295), ('lt3', 4445), ('john', 4024), ('2year', 536), ('strain', 6689), ('dime', 2483), ('withdraw', 7721), ('anyhow', 1181), ('smeon', 6422), ('miller', 4687), ('fire', 3002), ('spark', 6533), ('flame', 3022), ('rawr', 5818), ('xoxo', 7888), ('somewhr', 6484), ('crush', 2249), ('honeymoon', 3647), ('outfit', 5271), ('propos', 5710), ('08719899230', 176), ('blame', 1552), ('chequ', 1946), ('olymp', 5191), ('leo', 4293), ('kthen', 4190), ('donew', 2567), ('haul', 3496), ('wildlif', 7698), ('want2com', 7561), ('that2worzel', 6980), ('wizzl', 7729), ('dippeditinadew', 2494), ('itwhichturnedinto', 3944), ('tomeandsaidthi', 7135), ('shanghai', 6244), ('instead', 3870), ('cya', 2291), ('freez', 3124), ('645', 730), ('rtking', 6035), ('pro', 5672), ('inforingtonekingcouk', 3840), ('08701237397', 75), ('redeem', 5872), ('wwwringtonekingcouk', 7854), ('thnx', 7034), ('sef', 6177), ('anji', 1160), ('batch', 1420), ('fring', 3140), ('flaki', 3021), ('sooooo', 6501), ('tooo', 7159), ('nte', 5092), ('09058094599', 203), ('doesn', 2543), ('wate', 7578), ('british', 1687), ('london', 4388), ('02072069400', 10), ('bx', 1760), ('526', 688), ('sw73ss', 6809), ('6pm', 757), ('anim', 1159), ('buzz', 1757), ('ador', 1005), ('eeri', 2695), ('titl', 7089), ('dracula', 2596), ('ghost', 3257), ('addamsfa', 991), ('munster', 4858), ('exorcist', 2861), ('twilight', 7269), ('brought', 1699), ('shini', 6269), ('constant', 2150), ('wasnt', 7571), ('french', 3126), ('0anetwork', 289), ('allow', 1106), ('respons', 5949), ('supplier', 6786), ('comedyc', 2087), ('freemsgfeelin', 3118), ('lnli', 4366), ('jst', 4048), ('mobi', 4752), ('pictxt', 5458), ('82242', 819), ('msg150p', 4821), ('2rcv', 524), ('hlp', 3604), ('08712317606', 105), ('keen', 4106), ('switch', 6832), ('dammit', 2308), ('wright', 7802), ('somewhat', 6481), ('event', 2817), ('laden', 4214), ('wreck', 7800), ('spontan', 6575), ('goodeven', 3322), ('bagi', 1379), ('lei', 4288), ('action', 982), ('80608', 810), ('wwwmovietriviatv', 7849), ('08712405022', 115), ('sif', 6324), ('partnership', 5355), ('rgent', 5972), ('lookin', 4397), ('daytim', 2351), ('busti', 1748), ('09099726429', 283), ('janinexx', 3978), ('most', 4799), ('insid', 3865), ('spageddi', 6528), ('phase', 5435), ('fourth', 3092), ('dimens', 2484), ('yesbut', 7939), ('meaning', 4606), ('compromis', 2118), ('lmaonic', 4365), ('09050001295', 184), ('a21', 924), ('mobsicom', 4758), ('391784', 573), ('dub', 2635), ('je', 3992), ('toughest', 7182), ('sight', 6326), ('remain', 5908), ('maintain', 4529), ('shjas', 6279), ('squat', 6596), ('cramp', 2219), ('0089mi', 1), ('09063442151', 231), ('ringtoneget', 5988), ('freesend', 3123), ('816183', 818), ('weekstop', 7615), ('sms08718727870', 6432), ('nan', 4898), ('sonathaya', 6487), ('soladha', 6464), ('rape', 5811), ('poker', 5541), ('weightloss', 7619), ('mushi', 4863), ('embarrass', 2734), ('stash', 6631), ('ran', 5804), ('priya', 5667), ('81303', 816), ('father', 2931), ('messi', 4667), ('kilo', 4134), ('accid', 960), ('tookplac', 7156), ('ghodbandar', 3256), ('rd', 5827), ('traffic', 7194), ('slove', 6407), ('slip', 6400), ('ahnow', 1057), ('wkg', 7733), ('wherebtw', 7667), ('nus', 5107), ('sc', 6126), ('specialis', 6540), ('wad', 7528), ('dislik', 2514), ('queen', 5767), ('despar', 2432), ('gotten', 3348), ('stereo', 6647), ('mi', 4674), ('unknown', 7345), ('album', 1082), ('121', 327), ('60pmin', 721), ('09094646899', 278), ('vu', 7516), ('bcm1896wc1n3xx', 1441), ('classmat', 2021), ('firesar', 3005), ('2007', 442), ('prebook', 5620), ('trackmarqu', 7191), ('infovipclub4u', 3844), ('missionari', 4721), ('hook', 3653), ('entertain', 2764), ('hugh', 3715), ('lauri', 4258), ('stick', 6657), ('inde', 3825), ('prap', 5611), ('jon', 4035), ('bin', 1532), ('spain', 6529), ('dinero', 2487), ('åôrent', 8025), ('12000pes', 325), ('48', 640), ('jame', 3970), ('hunnywot', 3730), ('bedroomlov', 1465), ('maangalyam', 4495), ('alaipayuth', 1080), ('complain', 2109), ('mandi', 4545), ('sullivan', 6759), ('hotmix', 3672), ('fmyou', 3050), ('chosen', 1994), ('500000', 679), ('easter', 2675), ('drawpleas', 2602), ('telephon', 6923), ('09041940223', 177), ('290305', 484), ('finn', 3001), ('di', 2454), ('bahama', 1380), ('callfreefon', 1799), ('08081560665', 62), ('cruis', 2247), ('ofå', 5160), ('18on', 400), ('07786200117', 33), ('calm', 1807), ('downon', 2591), ('theacus', 6990), ('itxt', 3945), ('iwana', 3951), ('wotu', 7790), ('doin', 2552), ('thewend', 7014), ('haventcn', 3501), ('agesr', 1044), ('up4', 7363), ('neth', 4952), ('satlov', 6112), ('conact', 2124), ('youto', 7986), ('09111030116', 286), ('pobox12n146tf15', 5521), ('iåõm', 3957), ('vtire', 7515), ('social', 6457), ('inspect', 3866), ('nurseri', 5105), ('detailsi', 2439), ('youmi', 7976), ('slowli', 6410), ('habit', 3441), ('itmail', 3934), ('panren', 5323), ('paru', 5356), ('chuckin', 2002), ('trainner', 7196), ('carryin', 1856), ('bac', 1370), ('schedul', 6135), ('gooddhanush', 3320), ('stuck', 6714), ('chikkusimpl', 1968), ('habbahw', 3440), ('dileepthank', 2482), ('muchand', 4841), ('supportveri', 6789), ('hererememb', 3555), ('venugop', 7449), ('mentionedtomorrow', 4644), ('latei', 4250), ('theregoodnight', 7006), ('everytim', 2829), ('mandan', 4543), ('07734396839', 29), ('ibh', 3750), ('nokia6600', 5032), ('txtauctiontxt', 7277), ('wordstart', 7769), ('no81151', 5013), ('now4t', 5074), ('3230', 555), ('textbook', 6958), ('algorithm', 1093), ('edit', 2688), ('bun', 1732), ('invad', 3889), ('orig', 5250), ('arcad', 1228), ('consol', 2149), ('o2coukgam', 5125), ('09064018838', 240), ('cro1327', 2240), ('atlanta', 1295), ('creat', 2227), ('yessura', 7946), ('tvlol', 7263), ('arun', 1262), ('transfr', 7203), ('takin', 6865), ('philosophi', 5440), ('4ui', 670), ('didnåõt', 2468), ('intend', 3874), ('iwasmarinethatåõ', 3952), ('itried2tel', 3940), ('urmomi', 7392), ('careabout', 1841), ('foley', 3054), ('wwwwin82050couk', 7874), ('fake', 2904), ('iraq', 3905), ('afghanistan', 1025), ('stabl', 6610), ('honest', 3642), ('blessget', 1559), ('1225', 328), ('50award', 681), ('3100', 550), ('pai', 5309), ('seh', 6178), ('beer', 1469), ('combin', 2084), ('walsal', 7553), ('terri', 6945), ('jess', 4006), ('sian', 6318), ('ccna', 1879), ('shrek', 6309), ('3db', 579), ('dirti', 2498), ('fellow', 2958), ('teresa', 6941), ('packag', 5305), ('dec', 2375), ('yould', 7974), ('bam', 1390), ('usml', 7406), ('squishi', 6600), ('mwah', 4873), ('hottest', 3673), ('g696ga', 3184), ('promin', 5699), ('cheek', 1936), ('septemb', 6207), ('husband', 3736), ('hack', 3442), ('backdoor', 1373), ('fraction', 3098), ('neo69', 4946), ('09050280520', 190), ('dps', 2594), ('bcm', 1440), ('8027', 807), ('norm', 5049), ('415', 612), ('list', 4349), ('joanna', 4019), ('comingdown', 2093), ('dagood', 2302), ('replac', 5924), ('murali', 4859), ('playerwhi', 5493), ('sts', 6711), ('engalnd', 2753), ('telli', 6926), ('mia', 4675), ('elliot', 2726), ('upto', 7378), ('12mths', 337), ('12price', 338), ('xnet', 7887), ('mins100txtmth', 4702), ('btooth', 1715), ('08001950382', 54), ('2optoutd3wv', 520), ('wiproyou', 7712), ('matric', 4585), ('850', 847), ('toa', 7106), ('payoh', 5381), ('650', 732), ('08718726970', 155), ('btnationalr', 1714), ('payment', 5380), ('fedex', 2950), ('kyou', 4198), ('recept', 5858), ('godi', 3297), ('youclean', 7967), ('bloodsend', 1570), ('itplspl', 3939), ('hate', 3494), ('consensus', 2144), ('tag', 6855), ('wednesday', 7608), ('laundri', 4257), ('underwear', 7327), ('bras', 1657), ('strewn', 6699), ('pillow', 5466), ('wahe', 7533), ('fathima', 2932), ('mmmm', 4740), ('push', 5748), ('knee', 4166), ('expos', 2874), ('pull', 5735), ('wick', 7683), ('sh', 6230), ('readyal', 5835), ('srt', 6604), ('thnk', 7032), ('ps3', 5721), ('jontin', 4037), ('prizeto', 5671), ('ban', 1392), ('pen', 5393), ('beyond', 1514), ('biro', 1536), ('master', 4576), ('09058094594', 201), ('unhappi', 7335), ('excus', 2851), ('jog', 4023), ('0776xxxxxxx', 32), ('18yr', 402), ('09061743811', 224), ('abta', 950), ('326', 557), ('season', 6160), ('lark', 4244), ('09090900040', 275), ('extrem', 2880), ('sic', 6320), ('60p', 720), ('247mp', 461), ('0870753331018', 92), ('videop', 7464), ('wild', 7696), ('150prcvd', 376), ('stop2stop', 6675), ('uh', 7298), ('lim', 4331), ('vday', 7440), ('parachut', 5333), ('80182', 806), ('08452810073', 70), ('therer', 7008), ('tabl', 6848), ('lambda', 4223), ('snowman', 6452), ('angel', 1157), ('snowbal', 6450), ('ello', 2727), ('ikea', 3782), ('ofic', 5156), ('cn', 2048), ('oficegot', 5157), ('duffer', 2642), ('grr', 3403), ('prescript', 5633), ('pharmaci', 5434), ('cook', 2165), ('electr', 2723), ('08715500022', 138), ('rpl', 6027), ('cnl', 2049), ('fffff', 2965), ('kadeem', 4073), ('fujitsu', 3163), ('lifebook', 4316), ('scold', 6138), ('zhong', 8013), ('se', 6157), ('qing', 5762), ('46', 636), ('accord', 965), ('hypertens', 3746), ('mineal', 4696), ('wud', 7821), ('annoyin', 1168), ('08702490080', 83), ('09066358152', 253), ('prompt', 5703), ('vpod', 7511), ('carri', 1855), ('avatar', 1332), ('nigro', 4991), ('anyplac', 1184), ('upset', 7374), ('prioriti', 5662), ('ecstasi', 2684), ('09090204448', 274), ('aå', 1354), ('minapn', 4692), ('ls278bb', 4442), ('hittng', 3599), ('reflex', 5885), ('costa', 2185), ('sol', 6463), ('09050090044', 189), ('toclaim', 7111), ('pobox334', 5524), ('stockport', 6666), ('costå', 2187), ('max10min', 4592), ('kkwhi', 4162), ('lousi', 4422), ('cat', 1869), ('1010', 300), ('woken', 7749), ('hip', 3589), ('adewal', 996), ('aka', 1076), ('egbon', 2703), ('minstand', 4703), ('ic', 3757), ('mari', 4561), ('deduct', 2385), ('wrks', 7809), ('asshol', 1280), ('grab', 3359), ('09065394973', 249), ('payback', 5378), ('31', 549), ('honeybe', 3645), ('sweetest', 6823), ('waitu', 7541), ('havnt', 3504), ('moral', 4791), ('crack', 2216), ('gmgngegn', 3285), ('tesco', 6949), ('featheri', 2945), ('bowa', 1626), ('infra', 3846), ('nvm', 5112), ('gep', 3244), ('delhi', 2401), ('thinkin', 7024), ('2006', 441), ('fifa', 2974), ('held', 3532), ('87239', 867), ('boat', 1585), ('shhhhh', 6261), ('relat', 5898), ('arul', 1261), ('amk', 1133), ('09061743810', 223), ('length', 4291), ('distract', 2519), ('santha', 6095), ('corrct', 2177), ('dane', 2315), ('basket', 1416), ('proof', 5705), ('rupaul', 6052), ('61610', 723), ('help08712400602450p', 3545), ('provid', 5716), ('tones2youcouk', 7146), ('practis', 5606), ('curtsey', 2276), ('yeh', 7925), ('memori', 4639), ('mon', 4772), ('themobyo', 6998), ('yoher', 7961), ('ssindia', 6606), ('african', 1028), ('soil', 6461), ('major', 4530), ('role', 6007), ('outreach', 5278), ('mel', 4629), ('birth', 1537), ('8lb', 895), ('7oz', 790), ('brilliant', 1680), ('intent', 3875), ('visitor', 7490), ('rule', 6045), ('bend', 1494), ('thia', 7019), ('inlud', 3852), ('preview', 5648), ('freefon', 3112), ('08006344447', 59), ('ambrithmaduraimet', 1129), ('dha', 2450), ('marrgeremembr', 4565), ('kitti', 4146), ('shave', 6250), ('onward', 5212), ('tact', 6852), ('skillgame1winaweek', 6375), ('age16150ppermesssubscript', 1040), ('theatr', 6992), ('obvious', 5134), ('eggspert', 2706), ('potato', 5585), ('cram', 2218), ('satsgettin', 6113), ('447per', 626), ('apolog', 1199), ('admit', 1003), ('pei', 5392), ('boost', 1606), ('subtoitl', 6743), ('jot', 4042), ('storelik', 6683), ('cereal', 1894), ('gari', 3204), ('infern', 3837), ('affair', 1019), ('bold2', 1592), ('calicut', 1779), ('09094100151', 276), ('cast', 1866), ('aom', 1192), ('gbp5month', 3220), ('box61m60', 1642), ('1er', 409), ('thkin', 7030), ('parco', 5340), ('nb', 4919), ('resub', 5956), ('shadow', 6233), ('breadstick', 1664), ('ahmad', 1056), ('saeed', 6067), ('hallaq', 3460), ('09066362220', 257), ('box97n7qp', 1644), ('redim', 5873), ('blueu', 1579), ('purpleu', 5745), ('pinku', 5471), ('orangei', 5240), ('lyk', 4481), ('greeni', 3386), ('yelowi', 7928), ('bck', 1439), ('blackim', 1548), ('giv', 3271), ('color', 2079), ('eldest', 2721), ('drugdeal', 2625), ('gender', 3233), ('wither', 7722), ('eg23f', 2701), ('eg23g', 2702), ('sleepwellamptak', 6395), ('wondarful', 7754), ('messagestext', 4664), ('nowus', 5088), ('web2mobil', 7599), ('txt250com', 7275), ('box139', 1630), ('la32wu', 4207), ('txtx', 7283), ('hunonbus', 3731), ('donyt', 2572), ('homebut', 3635), ('latelyxxx', 4251), ('85233', 851), ('freeringtonerepli', 3122), ('mca', 4601), ('rich', 5976), ('flag', 3019), ('yer', 7932), ('84199', 844), ('eng', 2751), ('box39822', 1637), ('w111wx', 7517), ('yor', 7962), ('ownyouv', 5296), ('skalli', 6370), ('jason', 3983), ('soooo', 6500), ('tming', 7098), ('cutest', 2286), ('dice', 2460), ('art', 1258), ('inclus', 3816), ('help08700469649', 3543), ('box420', 1639), ('ip4', 3899), ('5we', 713), ('howda', 3682), ('samachara', 6085), ('audri', 1316), ('autocorrect', 1324), ('simul', 6342), ('armand', 1244), ('andor', 1153), ('rub', 6039), ('feet', 2956), ('lara', 4240), ('clever', 2027), ('087123002209am7pm', 104), ('med', 4615), ('113', 315), ('bray', 1660), ('wicklow', 7685), ('eir', 2713), ('washob', 7569), ('nob', 5016), ('nickey', 4979), ('platt', 5490), ('ryan', 6055), ('vikki', 7472), ('wwwidewcom', 7844), ('skillgam', 6374), ('1winaweek', 430), ('150ppermesssubscript', 372), ('mad', 4506), ('argh', 1237), ('spotti', 6583), ('provinc', 5717), ('sterl', 6649), ('problemfre', 5678), ('xam', 7881), ('hall', 3458), ('manag', 4540), ('intha', 3884), ('ponnungal', 5557), ('ipaditan', 3901), ('reject', 5897), ('shitload', 6276), ('diamond', 2458), ('tessypl', 6950), ('favor', 2939), ('nimyapl', 4996), ('shija', 6264), ('china', 1978), ('noisi', 5026), ('needa', 4934), ('mcat', 4602), ('sfrom', 6229), ('manual', 4552), ('processit', 5685), ('reset', 5939), ('troubleshoot', 7226), ('b4u', 1358), ('wc', 7589), ('2703', 476), ('marsm', 4569), ('wwwb4utelecom', 7832), ('08717168528', 141), ('sacrific', 6064), ('creativ', 2228), ('stifl', 6659), ('morphin', 4797), ('requir', 5933), ('stayin', 6637), ('strangersaw', 6692), ('heåõ', 3571), ('nowstil', 5086), ('mrur', 4818), ('2getha', 497), ('buffi', 1725), ('pix', 5476), ('qlynnbv', 5763), ('help08700621170150p', 3544), ('8830', 875), ('cld', 2023), ('nosh', 5056), ('waaaat', 7527), ('lololo', 4386), ('comei', 2088), ('document', 2539), ('stapati', 6621), ('mile', 4683), ('cuti', 2287), ('wale', 7543), ('hill', 3584), ('colleagu', 2075), ('sed', 6169), ('mood', 4789), ('latr', 4255), ('caken', 1775), ('kidz', 4132), ('sofa', 6458), ('honesti', 3643), ('labor', 4209), ('shakara', 6237), ('beggar', 1476), ('smash', 6419), ('dent', 2414), ('crickit', 2237), ('imin', 3796), ('towndontmatt', 7186), ('urgoin', 7389), ('outl8r', 5276), ('yavnt', 7915), ('ibuprofen', 3756), ('grown', 3400), ('chinatown', 1979), ('porridg', 5568), ('claypot', 2022), ('yam', 7911), ('fishhead', 3010), ('beehoon', 1467), ('tok', 7124), ('specif', 6541), ('jaklin', 3968), ('nearbi', 4924), ('449month', 630), ('ntwk', 5095), ('bundl', 1734), ('avbl', 1333), ('call2optoutj', 1787), ('mf', 4671), ('ooh', 5214), ('4got', 652), ('moseley', 4798), ('630', 728), ('thankyou', 6974), ('pendingi', 5397), ('dayswil', 2349), ('thrurespect', 7054), ('homecheck', 3636), ('affection', 1021), ('loveabl', 4426), ('etern', 2803), ('nobl', 5017), ('intim', 3885), ('enam', 2744), ('textin', 6961), ('cousin', 2205), ('rajipl', 5796), ('nimya', 4995), ('leg', 4283), ('neck', 4930), ('amigo', 1132), ('progress', 5695), ('continu', 2155), ('holi', 3629), ('werent', 7640), ('arti', 1259), ('collag', 2073), ('tryin', 7237), ('billion', 1529), ('2hrs', 502), ('walik', 7544), ('carton', 1858), ('shelv', 6257), ('08714712379', 124), ('distanc', 2518), ('mirror', 4709), ('ref', 5877), ('k718', 4071), ('450', 632), ('09065069120', 243), ('jod', 4022), ('keri', 4116), ('smidgin', 6423), ('collegexx', 2078), ('beliv', 1484), ('empti', 2742), ('slot', 6406), ('accordin', 966), ('knock', 4169), ('sicomo', 6322), ('nolistened2th', 5035), ('plaid', 5483), ('albumquit', 1083), ('gdthe', 3225), ('air1', 1067), ('hilariousalso', 3583), ('boughtåóbraindanceåóa', 1622), ('compofstuff', 2116), ('aphexåõ', 1196), ('abel', 936), ('nelson', 4945), ('bbs', 1436), ('temp', 6932), ('unmit', 7349), ('display', 2517), ('newspap', 4968), ('soup', 6519), ('yummmm', 7999), ('puzzel', 5753), ('4goten', 653), ('scammer', 6128), ('smartthough', 6418), ('regular', 5896), ('prem', 5623), ('msgsubscript', 4828), ('2morro', 508), ('09099726481', 284), ('dena', 2411), ('r836', 5780), ('09065069154', 244), ('threat', 7045), ('shifad', 6263), ('complaint', 2110), ('2godid', 500), ('loung', 4421), ('lk', 4360), ('lov', 4423), ('splashmobil', 6564), ('subscrit', 6741), ('300p', 543), ('dust', 2653), ('u4', 7288), ('01223585334', 4), ('2c', 490), ('8552', 852), ('2end', 494), ('88877free', 880), ('88877', 879), ('88066', 872), ('3pound', 590), ('watchin', 7576), ('meaningless', 4607), ('all', 1099), ('brdget', 1662), ('jone', 4036), ('inev', 3834), ('hmmbad', 3608), ('newshyp', 4967), ('700', 764), ('studio', 6719), ('takenon', 6864), ('bedrm900', 1463), ('unabl', 7314), ('velli', 7446), ('wkend', 7731), ('journey', 4043), ('huge', 3714), ('upd8', 7365), ('2stoptx', 526), ('anni', 1163), ('08718738034', 167), ('21870000hi', 451), ('mailbox', 4526), ('21', 448), ('09056242159', 192), ('retriev', 5962), ('vai', 7422), ('hrishi', 3692), ('nothin', 5062), ('hanger', 3470), ('poem', 5537), ('tear', 6911), ('thatll', 6984), ('quizwin', 5777), ('duchess', 2637), ('cornwal', 2175), ('82277unsub', 821), ('008704050406', 0), ('sp', 6525), ('arrow', 1256), ('08718726971', 156), ('tddnewsletteremc1couk', 6905), ('thedailydraw', 6993), ('dozen', 2593), ('prizeswith', 5670), ('waqt', 7563), ('pehl', 5391), ('naseeb', 4904), ('zyada', 8019), ('kisi', 4143), ('ko', 4177), ('kuch', 4193), ('nahi', 4888), ('miltazindgi', 4689), ('wo', 7745), ('jo', 4018), ('hum', 3719), ('socht', 6456), ('zindgi', 8014), ('jeetey', 3995), ('wors', 7785), ('dan', 2310), ('varaya', 7430), ('elaya', 2720), ('100603', 297), ('09066368753', 264), ('97n7qp', 911), ('anand', 1151), ('beach', 1449), ('aww', 1347), ('deadwel', 2357), ('jez', 4011), ('iscom', 3913), ('todo', 7119), ('workand', 7772), ('whilltak', 7673), ('zogtorius', 8016), ('iåõv', 3958), ('stare', 6623), ('whether', 7671), ('financi', 2990), ('problemi', 5679), ('alian', 1095), ('freenokia', 3119), ('or2optouthv9d', 5236), ('posibl', 5574), ('centuri', 1892), ('cm', 2045), ('frwd', 3156), ('unnecessarili', 7350), ('restrict', 5953), ('buddi', 1720), ('80082', 801), ('08712402902', 111), ('possess', 5576), ('nohe', 5022), ('clarif', 2015), ('spook', 6576), ('halloween', 3461), ('08701417012150p', 77), ('logop', 4381), ('issu', 3921), ('regret', 5895), ('footbal', 3063), ('sky', 6381), ('gamestar', 3196), ('250k', 467), ('nowski', 5085), ('88088', 873), ('coimbator', 2066), ('monoc', 4784), ('polyc', 5550), ('stream', 6693), ('0871212025016', 102), ('categori', 1871), ('measur', 4611), ('ethnic', 2804), ('census', 1889), ('transcrib', 7200), ('propsd', 5711), ('gv', 3432), ('lv', 4477), ('lttrs', 4453), ('threw', 7047), ('thm', 7031), ('aproach', 1221), ('dt', 2633), ('truck', 7229), ('wn', 7742), ('girld', 3267), ('hw', 3742), ('instant', 3869), ('thi', 7018), ('happili', 3481), ('2gthr', 501), ('evrydi', 2842), ('msgsd', 4826), ('paragon', 5335), ('bluff', 1580), ('imposs', 3805), ('goodmat', 3326), ('sari', 6103), ('asusual1', 1291), ('franyxxxxx', 3103), ('batt', 1425), ('wwwfullonsmscom', 7841), ('gn', 3287), ('pussi', 5750), ('becausethey', 1457), ('09058098002', 208), ('pobox1', 5519), ('w14rg', 7518), ('messageno', 4660), ('responcewhat', 5947), ('happend', 3476), ('wiskey', 7719), ('brandi', 1656), ('rum', 6046), ('gin', 3265), ('vodka', 7500), ('scotch', 6141), ('shampain', 6242), ('kudiyarasu', 4194), ('dhina', 2451), ('vaazhthukk', 7420), ('gain', 3188), ('kg', 4122), ('sugar', 6754), ('pressur', 5641), ('limit', 4332), ('dumb', 2644), ('thangam', 6968), ('okey', 5175), ('doke', 2557), ('dress', 2609), ('neshanthtel', 4948), ('byatch', 1764), ('whassup', 7653), ('kay', 4100), ('roger', 6006), ('cl', 2011), ('nasti', 4905), ('filthyguy', 2986), ('slo', 6403), ('slo4msg', 6404), ('chiong', 1983), ('christ', 1996), ('dialogu', 2457), ('reltnship', 5906), ('solv', 6467), ('1his', 411), ('polic', 5545), ('2polic', 522), ('3wife', 598), ('siri', 6353), ('4cook', 645), ('5garden', 699), ('veget', 7442), ('6housemaid', 752), ('7children', 787), ('8neighbour', 897), ('pose', 5572), ('comb', 2083), ('dryer', 2631), ('fps', 3096), ('scienc', 6137), ('madamregret', 4510), ('disturbancemight', 2521), ('dlf', 2531), ('premaricakind', 5624), ('informedrgdsrakheshkerala', 3842), ('gotto', 3349), ('08702840625', 84), ('comuk220cm2', 2122), ('err', 2783), ('8pm', 899), ('bloo', 1566), ('kbut', 4103), ('hitteranyway', 3598), ('offlin', 5155), ('anjola', 1161), ('ithi', 3928), ('wwwasjesuscom', 7831), ('wrote', 7814), ('swiss', 6831), ('director', 2496), ('lac', 4210), ('crore', 2241), ('taxless', 6892), ('budget', 1721), ('lane', 4231), ('supli', 6783), ('citizen', 2009), ('imf', 3795), ('block', 1562), ('politician', 5546), ('corrupt', 2180), ('itna', 3936), ('karo', 4095), ('pura', 5741), ('padhegm', 5307), ('torrent', 7171), ('particular', 5353), ('commit', 2098), ('random', 5806), ('83370', 834), ('wwwmusictrivianet', 7850), ('rightio', 5981), ('1148', 318), ('brum', 1705), ('donno', 2568), ('scorabl', 6139), ('paranoid', 5337), ('brin', 1682), ('proper', 5708), ('kgive', 4123), ('onlybettr', 5207), ('bsnl', 1709), ('offc', 5144), ('suganya', 6753), ('dessert', 2435), ('abeg', 935), ('sponsor', 6574), ('onum', 5211), ('candont', 1822), ('poet', 5538), ('imaginationmi', 3793), ('carso', 1857), ('rr', 6029), ('famamus', 2911), ('pongaldo', 5556), ('sri', 6601), ('furnitur', 3177), ('lock', 4374), ('jenn', 3999), ('easiest', 2671), ('barcelona', 1405), ('ru', 6038), ('sppok', 6585), ('09066612661', 267), ('complementari', 2111), ('wa14', 7526), ('2px', 523), ('sender', 6192), ('kdo', 4104), ('daurgent', 2337), ('pansi', 5324), ('jungl', 4061), ('kanji', 4087), ('drinkpa', 2614), ('srs', 6602), ('drizzl', 2618), ('shove', 6303), ('drama', 2597), ('plsi', 5506), ('struggl', 6710), ('strang', 6690), ('placeno', 5482), ('ego', 2707), ('necess', 4927), ('gowait', 3352), ('reppurcuss', 5929), ('releas', 5901), ('cosign', 2183), ('hvae', 3741), ('09061701444', 216), ('24', 458), ('acl03530150pm', 975), ('hcl', 3505), ('fresher', 3129), ('processexcel', 5684), ('neededsalari', 4935), ('mssuman', 4833), ('indyarockscom', 3833), ('resum', 5959), ('datoday', 2336), ('restuwud', 5954), ('reliant', 5902), ('fwiw', 3181), ('afford', 1024), ('kanowhr', 4091), ('maga', 4517), ('sq825', 6595), ('yunni', 8001), ('citylink', 2010), ('er', 2778), ('prop', 5707), ('pleasant', 5499), ('6230', 725), ('83383', 835), ('pobox11414tcrw1', 5520), ('bognor', 1590), ('splendid', 6566), ('yesim', 7944), ('ktv', 4191), ('misplac', 4715), ('mmmmm', 4741), ('medicin', 4617), ('begun', 1478), ('registr', 5894), ('perman', 5412), ('resid', 5940), ('plenti', 5502), ('risk', 5993), ('benefit', 1497), ('amount', 1139), ('hmmmhow', 3611), ('accumul', 969), ('program', 5694), ('belong', 1489), ('herwho', 3564), ('fate', 2930), ('shoranur', 6290), ('incid', 3813), ('fuell', 3162), ('prior', 5661), ('grief', 3388), ('violenc', 7480), ('goodenviron', 3321), ('terrif', 6947), ('text82228', 6956), ('wwwtxt82228com', 7872), ('infotxt82228couk', 3843), ('burnt', 1741), ('advic', 1013), ('snap', 6440), ('quizclub', 5776), ('80122300pwk', 803), ('sprwm', 6590), ('ph08704050406', 5433), ('gmw', 3286), ('someplac', 6474), ('pressi', 5640), ('dr', 2595), ('superior', 6781), ('ultim', 7307), ('tor', 7169), ('motiv', 4803), ('tui', 7251), ('achiev', 972), ('kor', 4182), ('dock', 2537), ('roll', 6008), ('newscast', 4966), ('dabbl', 2297), ('flute', 3046), ('behind', 1481), ('wheel', 7658), ('bx420', 1761), ('amaz', 1127), ('picsfree1', 5456), ('vid', 7461), ('keyword', 4120), ('ruin', 6044), ('erm', 2781), ('the4th', 6989), ('octob', 5140), ('83435', 836), ('elabor', 2717), ('safeti', 6069), ('aspect', 1277), ('tarot', 6880), ('85555', 853), ('depart', 2417), ('oursso', 5266), ('youani', 7965), ('hr', 3691), ('conform', 2139), ('horniest', 3661), ('instruct', 3871), ('nytec2a3lpmsg150p', 5120), ('ovarian', 5282), ('cyst', 2293), ('bc', 1437), ('shrink', 6310), ('onit', 5202), ('timin', 7081), ('ape', 1194), ('death', 2373), ('ibm', 3753), ('hp', 3688), ('toshiba', 7175), ('gosh', 3339), ('spose', 6581), ('usualiam', 7411), ('rimac', 5983), ('arestaur', 1234), ('squid', 6599), ('1030', 303), ('dosometh', 2580), ('ucal', 7292), ('wrki', 7806), ('dabook', 2298), ('hrs', 3693), ('nite2', 5002), ('wrk', 7805), ('eachoth', 2660), ('luckili', 4460), ('madam', 4509), ('wwwtklscom', 7869), ('stoptxtstopå', 6681), ('150week', 383), ('innoc', 3856), ('mental', 4642), ('smooth', 6430), ('challeng', 1902), ('2marrow', 505), ('hon', 3641), ('pple700', 5596), ('nightsexcel', 4988), ('breakfast', 1667), ('hamper', 3463), ('cc100pmin', 1878), ('realiti', 5840), ('daal', 2295), ('0870737910216yr', 89), ('150wk', 384), ('unni', 7351), ('rechargerakhesh', 5861), ('lack', 4211), ('dramastorm', 2598), ('forfeit', 3072), ('digi', 2479), ('9pm', 920), ('fab', 2887), ('coupla', 2200), ('wks', 7736), ('077xxx', 34), ('09066362206', 256), ('sundayish', 6770), ('prasad', 5612), ('tiwari', 7091), ('rcbbattl', 5822), ('bang', 1395), ('kochi', 4178), ('cancer', 1821), ('checkup', 1935), ('pap', 5328), ('smear', 6420), ('gobi', 3295), ('pandi', 5320), ('4w', 672), ('technolog', 6915), ('todayh', 7117), ('olowoyey', 5190), ('uscedu', 7398), ('argentina', 1236), ('secretari', 6166), ('taxt', 6893), ('massagetiepo', 4574), ('lool', 4398), ('shake', 6238), ('booti', 1607), ('timeslil', 7077), ('busyi', 1749), ('scarcasim', 6129), ('naal', 4883), ('eruku', 2786), ('chikkuwat', 1969), ('w4', 7522), ('5wq', 715), ('bro', 1689), ('amongst', 1137), ('bros', 1695), ('sensibl', 6198), ('when', 7660), ('69696', 739), ('3lp', 584), ('150msg', 356), ('alsoor', 1118), ('danalla', 2311), ('obedi', 5128), ('ft', 3157), ('needi', 4936), ('pout', 5591), ('stomp', 6669), ('northampton', 5053), ('abj', 941), ('serv', 6211), ('playng', 5496), ('1mcflyall', 415), ('ab', 932), ('sara', 6099), ('jorgeshock', 4040), ('smithswitch', 6427), ('anna', 1162), ('nagar', 4886), ('yupz', 8005), ('modelsoni', 4762), ('ericson', 2779), ('der', 2422), ('luk', 4464), ('modl', 4763), ('cheesi', 1940), ('frosti', 3155), ('witin', 7725), ('0870141701216', 78), ('4txt120p', 667), ('10th', 312), ('sept', 6206), ('09050000555', 181), ('ba128nnfwfly150ppm', 1360), ('nudist', 5097), ('theme', 6995), ('pump', 5736), ('petrol', 5428), ('feb', 2947), ('ignor', 3780), ('evr', 2838), ('signal', 6328), ('neither', 4944), ('unusu', 7360), ('hug', 3713), ('snog', 6447), ('west', 7643), ('palm', 5316), ('fastest', 2927), ('83021', 825), ('state', 6632), ('tariff', 6879), ('2stoptxt', 527), ('perpetu', 5414), ('dd', 2354), ('steam', 6642), ('reg', 5891), ('pract', 5603), ('flung', 3044), ('housemaid', 3677), ('public', 5732), ('govtinstituit', 3351), ('closedinclud', 2035), ('officeunderstand', 5152), ('process', 5683), ('justbeen', 4065), ('overa', 5283), ('mush', 4862), ('tund', 7255), ('mission', 4720), ('luxuri', 4476), ('canari', 1819), ('20m12aq', 445), ('ûï', 8033), ('lux', 4475), ('28', 478), ('eh74rr', 2709), ('sleepi', 6390), ('dare', 2320), ('ben', 1493), ('mag', 4516), ('avo', 1339), ('middl', 4678), ('chachi', 1899), ('pl', 5479), ('tiz', 7093), ('kanagu', 4085), ('brat', 1658), ('diwali', 2526), ('tick', 7063), ('nowonion', 5080), ('derp', 2424), ('abus', 952), ('lipo', 4347), ('netflix', 4951), ('thgt', 7017), ('clash', 2018), ('arr', 1252), ('oscar', 5256), ('rebtel', 5849), ('firefox', 3003), ('lower', 4436), ('69969', 747), ('bcmsfwc1n3xx', 1443), ('footi', 3065), ('stadium', 6611), ('larg', 4242), ('cocacola', 2056), ('dark', 2321), ('teenag', 6917), ('telugutht', 6930), ('gudk', 3415), ('mittelschmertz', 4731), ('paracetamol', 5332), ('salespe', 6080), ('cthen', 2256), ('enuff', 2772), ('conclus', 2128), ('cover', 2206), ('atyour', 1310), ('ûªv', 8032), ('08715203028', 130), ('9th', 922), ('50å', 684), ('rugbi', 6043), ('affidavit', 1023), ('twigg', 7268), ('divis', 2524), ('courtroom', 2204), ('creep', 2231), ('freemsgfav', 3117), ('tonesrepli', 7147), ('lil', 4329), ('golden', 3309), ('breathe1', 1670), ('crazyin', 2225), ('sleepingwith', 6393), ('finest', 2995), ('ymca', 7957), ('getzedcouk', 3254), ('pobox365o4w45wq', 5526), ('wtc', 7817), ('weiyi', 7624), ('properti', 5709), ('interflora', 3877), ('åòit', 8023), ('505060', 680), ('godtaken', 3299), ('teethi', 6919), ('romcapspam', 6011), ('presenc', 5634), ('outgo', 5273), ('maggi', 4519), ('mee', 4619), ('08712103738', 101), ('cough', 2190), ('com', 2082), ('09058099801', 209), ('b4190604', 1356), ('7876150ppm', 782), ('bbdpooja', 1432), ('pimpleseven', 5468), ('blackand', 1546), ('sweatter', 6821), ('nicenicehow', 4976), ('ambiti', 1128), ('miiiiiiissssssssss', 4681), ('tunji', 7257), ('iz', 3953), ('yellow', 7927), ('misscal', 4717), ('frndz', 3147), ('6miss', 755), ('freemessag', 3115), ('jamsterget', 3973), ('frog', 3150), ('mad1', 4507), ('mad2', 4508), ('88888', 881), ('gbpweek', 3222), ('wipro', 7711), ('tall', 6870), ('doubt', 2586), ('handl', 3466), ('note', 5058), ('aveng', 1335), ('japanes', 3982), ('proverb', 5715), ('itu', 3943), ('itleav', 3931), ('strike', 6701), ('toss', 7176), ('gudni8', 3416), ('dancin', 2314), ('explicit', 2872), ('nora', 5046), ('smith', 6426), ('gayl', 3213), ('crucifi', 2246), ('but', 1750), ('freedom', 3110), ('vs', 7513), ('cedar', 1883), ('twenti', 7266), ('durham', 2651), ('seat', 6161), ('porn', 5567), ('69855', 741), ('50p', 682), ('stopbcm', 6676), ('sf', 6226), ('paint', 5314), ('printer', 5660), ('groovi', 3395), ('harish', 3487), ('acnt', 976), ('nowadayslot', 5076), ('showroomsc', 6307), ('shape', 6247), ('doinat', 2553), ('callon', 1802), ('low', 4434), ('swatch', 6816), ('kkyesterday', 4163), ('ganesh', 3198), ('pdatenow', 5384), ('call2optoutyhl', 1791), ('configur', 2135), ('ûªm', 8030), ('ûªt', 8031), ('anal', 1149), ('pear', 5388), ('helloooo', 3540), ('oooooh', 5216), ('09058094454', 196), ('thatnow', 6986), ('54', 692), ('resubmit', 5957), ('expiri', 2870), ('weåõv', 7652), ('2geva', 498), ('mint', 4705), ('uxxxx', 7419), ('human', 3720), ('studyn', 6720), ('wuld', 7823), ('everyboy', 2823), ('xxxxxxxx', 7901), ('532', 691), ('924', 905), ('863', 856), ('725', 766), ('brilliant1thingi', 1681), ('answr', 1175), ('liquor', 4348), ('flake', 3020), ('loko', 4383), ('730', 769), ('tm', 7097), ('fireplac', 3004), ('icon', 3763), ('08712400200', 106), ('fifth', 2976), ('woozl', 7763), ('08718723815', 151), ('machin', 4502), ('sake', 6074), ('mys', 4877), ('bruce', 1704), ('down', 2589), ('fletcher', 3028), ('27603', 477), ('08714714011', 128), ('cozi', 2209), ('nightnobodi', 4987), ('buzzzz', 1758), ('chest', 1950), ('trend', 7217), ('pros', 5712), ('con', 2123), ('brief', 1677), ('descript', 2426), ('nuclear', 5096), ('fusion', 3178), ('histori', 3593), ('iter', 3927), ('jet', 4008), ('nonenowher', 5039), ('ikno', 3783), ('doesdiscountshitinnit', 2542), ('jabo', 3960), ('abi', 938), ('slower', 6409), ('maniac', 4550), ('hadya', 3444), ('sapna', 6097), ('maneg', 4547), ('yday', 7920), ('hogidhechinnu', 3622), ('swalpa', 6810), ('agidhan', 1045), ('typelyk', 7286), ('footblcrckt', 3064), ('swell', 6826), ('tim', 7073), ('bollox', 1593), ('tol', 7127), ('ingredi', 3849), ('poci', 5532), ('bell', 1485), ('non', 5036), ('call2optout4qf2', 1783), ('senor', 6194), ('giggl', 3261), ('person2di', 5418), ('nvq', 5113), ('profession', 5690), ('tiger', 7066), ('wood', 7758), ('reboot', 5848), ('grinder', 3390), ('pt2', 5727), ('youkwher', 7973), ('understood', 7326), ('bottom', 1620), ('knowh', 4171), ('disconnect', 2508), ('onluy', 5205), ('offcampus', 5145), ('msgs150p', 4825), ('riley', 5982), ('ew', 2843), ('howv', 3686), ('lingo', 4340), ('400minscal', 605), ('call2optoutj5q', 1788), ('medont', 4618), ('lm', 4363), ('hm', 3605), ('69200', 737), ('chrgd50p', 1995), ('2exit', 495), ('salon', 6082), ('sankranti', 6093), ('republ', 5931), ('shivratri', 6278), ('ugadi', 7295), ('independ', 3826), ('friendshipmotherfatherteacherschildren', 3139), ('festiv', 2962), ('dasara', 2330), ('rememberi', 5911), ('theseyour', 7011), ('raj', 5793), ('lifei', 4317), ('daywith', 2353), ('somewheresomeon', 6483), ('tosend', 7174), ('selfless', 6184), ('initi', 3850), ('tallent', 6872), ('usc', 7397), ('portal', 5570), ('dont4get2text', 2570), ('lennon', 4292), ('crab', 2215), ('shoreth', 6292), ('wave', 7585), ('footprint', 3066), ('fox', 3095), ('frndsship', 3146), ('dwn', 2657), ('slaaaaav', 6385), ('summon', 6764), ('3365', 561), ('appendix', 1206), ('slob', 6405), ('gudnit', 3417), ('topicsorri', 7166), ('webpag', 7602), ('yeesh', 7924), ('hunk', 3726), ('httpgotbabescouk', 3699), ('gopalettan', 3337), ('particip', 5352), ('admin', 999), ('kkfrom', 4153), ('abroad', 945), ('xxsp', 7892), ('visionsmscom', 7487), ('stopcost', 6678), ('08712400603', 107), ('goodi', 3325), ('mat', 4578), ('ay', 1351), ('satì', 6116), ('andro', 1156), ('isaiahd', 3911), ('foot', 3062), ('peni', 5398), ('expert', 2867), ('ssi', 6605), ('thinl', 7026), ('sachinjust', 6062), ('tight', 7067), ('wnevr', 7743), ('fal', 2907), ('vth', 7514), ('yen', 7929), ('madodu', 4512), ('nav', 4917), ('pretsorginta', 5644), ('nammanna', 4897), ('pretsovru', 5645), ('alwa', 1122), ('eveb', 2814), ('lord', 4404), ('ringsreturn', 5985), ('nowrepli', 5082), ('soundtrack', 6518), ('stdtxtrate', 6639), ('homelov', 3638), ('staffsciencenusedusgphyhcmkteachingpc1323', 6613), ('emigr', 2737), ('olol', 5189), ('stagwood', 6615), ('winterston', 7710), ('victor', 7459), ('jp', 4045), ('mofo', 4765), ('pathaya', 5369), ('enketa', 2759), ('maraikara', 4555), ('priest', 5654), ('intrud', 3888), ('walkabout', 7546), ('28th', 482), ('06', 17), ('08708034412', 94), ('blow', 1573), ('phil', 5438), ('nevill', 4957), ('abbey', 933), ('auctionpunj', 1312), ('str8', 6687), ('classic', 2020), ('nokia150p', 5031), ('poly200p', 5548), ('thur', 7059), ('pre', 5619), ('sack', 6063), ('lookatm', 4396), ('clip', 2030), ('35p', 564), ('mmsto', 4744), ('32323', 556), ('lifethi', 4318), ('twat', 7264), ('dungere', 2647), ('punch', 5737), ('mention', 4643), ('vat', 7436), ('onlydon', 5208), ('grl', 3392), ('hogolo', 3623), ('kodstini', 4179), ('agalla', 1037), ('madstini', 4514), ('hog', 3621), ('mutai', 4869), ('eerulli', 2696), ('kodthini', 4180), ('kano', 4088), ('thasa', 6978), ('mess', 4657), ('upyeh', 7380), ('tex', 6952), ('mecaus', 4614), ('werebor', 7639), ('okden', 5174), ('uin', 7301), ('satsoundåõ', 6114), ('likeyour', 4327), ('gr8fun', 3357), ('countinlot', 2197), ('xxxxx', 7898), ('count', 2195), ('hdd', 3506), ('describ', 2425), ('09053750005', 191), ('310303', 551), ('08718725756', 152), ('140ppm', 347), ('asus', 1290), ('reformat', 5886), ('otsid', 5262), ('leu', 4302), ('plumber', 5508), ('tape', 6878), ('wrench', 7801), ('httpwwwetlpcoukreward', 3705), ('appeal', 1204), ('thriller', 7048), ('830', 824), ('size', 6367), ('eleph', 2724), ('um', 7309), ('cr', 2212), ('pooki', 5559), ('wouldnt', 7795), ('youdearwith', 7969), ('loverakhesh', 4430), ('nri', 5090), ('08712101358', 100), ('x2', 7876), ('itåõ', 3948), ('deserv', 2428), ('88039skilgmetscs087147403231winawkage16å', 871), ('diddi', 2464), ('toothpast', 7162), ('av', 1325), ('oneta', 5199), ('poke', 5540), ('everyday', 2824), ('deam', 2361), ('curious', 2273), ('coccoon', 2057), ('auto', 1323), ('mus', 4861), ('yeahand', 7922), ('newquaysend', 4963), ('postcard', 5581), ('goneu', 3315), ('1im', 413), ('talkin', 6869), ('boutxx', 1625), ('bread', 1663), ('windi', 7704), ('09066358361', 254), ('y87', 7904), ('mahal', 4523), ('knowthi', 4173), ('tirunelvai', 7084), ('dusk', 2652), ('puzzl', 5754), ('x29', 7877), ('09065989180', 250), ('stair', 6616), ('phew', 5437), ('thangamit', 6969), ('redr', 5874), ('bloodblood', 1568), ('heartheart', 3521), ('1u', 428), ('3u', 595), ('4some1', 662), ('recycl', 5870), ('toledo', 7130), ('ding', 2488), ('tai', 6857), ('feng', 2961), ('swimsuit', 6829), ('necessari', 4928), ('squeeeeez', 6597), ('lik', 4325), ('frndshp', 3145), ('luvd', 4473), ('themp', 6999), ('volcano', 7504), ('erupt', 2787), ('aris', 1241), ('hurrican', 3734), ('sway', 6817), ('aroundn', 1250), ('disast', 2504), ('lighter', 4324), ('7pm', 791), ('kkit', 4157), ('goodwhen', 3335), ('lasagna', 4245), ('woould', 7762), ('08718726978', 157), ('drove', 2622), ('shore', 6291), ('deus', 2442), ('44', 622), ('7732584351', 779), ('3510i', 563), ('deliveredtomorrow', 2404), ('tap', 6877), ('spile', 6554), ('broad', 1690), ('canal', 1818), ('engin', 2754), ('onedg', 5198), ('raviyog', 5817), ('peripher', 5411), ('bhayandar', 1519), ('east', 2673), ('sunoco', 6773), ('howard', 3681), ('plate', 5489), ('leftov', 4282), ('starv', 6629), ('cheat', 1929), ('fatti', 2933), ('badrith', 1377), ('chennaii', 1945), ('usno', 7407), ('owe', 5293), ('checkin', 1933), ('numberso', 5103), ('ittb', 3942), ('armenia', 1245), ('swann', 6812), ('09058097189', 206), ('09061221066', 215), ('fromm', 3152), ('330', 559), ('1120', 314), ('1205', 326), ('wyli', 7875), ('justifi', 4066), ('in2', 3810), ('5226', 687), ('hava', 3499), ('1131', 316), ('rct', 5824), ('thnq', 7033), ('adrian', 1008), ('rgds', 5971), ('vatian', 7437), ('babysit', 1369), ('itll', 3933), ('gonnamissu', 3318), ('muchi', 4842), ('butther', 1752), ('abouta', 944), ('merememberin', 4651), ('asther', 1284), ('ofsi', 5158), ('breakin', 1668), ('yaxx', 7916), ('ee', 2693), ('poortiyagi', 5563), ('odalebeku', 5141), ('hanumanji', 3474), ('1hanuman', 410), ('2bajarangabali', 488), ('3maruti', 585), ('4pavanaputra', 659), ('5sankatmochan', 709), ('6ramaduth', 758), ('7mahav', 789), ('janarig', 3976), ('ivatt', 3949), ('kalisidar', 4080), ('olag', 5184), ('ondu', 5196), ('keluviri', 4109), ('maretar', 4558), ('ind', 3824), ('dodda', 2540), ('problum', 5681), ('nalli', 4892), ('siguviri', 6331), ('idu', 3774), ('matra', 4584), ('neglet', 4942), ('easili', 2672), ('ijust', 3781), ('opp', 5223), ('tts', 7247), ('gei', 3231), ('tron', 7224), ('dl', 2529), ('selfish', 6183), ('spif', 6553), ('workag', 7771), ('supos', 6784), ('therexx', 7009), ('embassi', 2735), ('checkbox', 1932), ('sac', 6060), ('hundredh', 3723), ('batsman', 1424), ('yetti', 7950), ('jiayin', 4014), ('09050000928', 183), ('pobox45w2tg150p', 5527), ('forgotten', 3077), ('revers', 5966), ('mathemat', 4582), ('2waxsto', 531), ('yifeng', 7953), ('theyll', 7015), ('slurp', 6411), ('minimum', 4699), ('3mile', 586), ('ing', 3848), ('brainless', 1654), ('dolld', 2561), ('vehicl', 7444), ('sariyag', 6105), ('madok', 4513), ('barolla', 1410), ('07090201529', 22), ('postpon', 5584), ('elain', 2718), ('tiim', 7070), ('afternon', 1030), ('resiz', 5941), ('09066364349', 260), ('box434sk38wp150ppm18', 1641), ('oppos', 5228), ('drunken', 2629), ('msgwe', 4830), ('shortcod', 6295), ('83332pleas', 831), ('08081263000', 61), ('refundedthi', 5889), ('somerset', 6475), ('overtim', 5288), ('nigpun', 4990), ('dismissi', 2516), ('screwd', 6150), ('08712402972', 112), ('bull', 1730), ('float', 3036), ('09058095201', 205), ('heehe', 3530), ('arithmet', 1242), ('percentag', 5403), ('chillaxin', 1976), ('das', 2329), ('iknow', 3784), ('wellda', 7627), ('peril', 5409), ('studentfinanci', 6717), ('crisisspk', 2239), ('monster', 4785), ('ths', 7055), ('ia', 3748), ('obey', 5130), ('uhhhhrmm', 7299), ('mb', 4599), ('gbpsms', 3221), ('600', 717), ('400', 604), ('deltomorrow', 2406), ('09066368470', 263), ('24m', 463), ('1month', 420), ('smartcal', 6416), ('68866', 735), ('subscriptn3gbpwk', 6740), ('08448714184', 66), ('stoptxt', 6679), ('landlineon', 4229), ('mths', 4837), ('cameravideo', 1812), ('textsweekend', 6964), ('callback', 1792), ('orno', 5252), ('fink', 3000), ('09099726553', 285), ('carli', 1848), ('1minmobsmor', 417), ('lkpobox177hp51fl', 4361), ('youphon', 7980), ('athom', 1294), ('youwanna', 7989), ('jack', 3961), ('sayask', 6122), ('pretend', 5643), ('hypotheticalhuagauahahuagahyuhagga', 3747), ('braini', 1653), ('occas', 5135), ('reflect', 5884), ('desir', 2430), ('affectionsamp', 1022), ('tradit', 7193), ('cantdo', 1828), ('anythingtomorrow', 1188), ('mypar', 4876), ('aretak', 1235), ('outfor', 5272), ('katexxx', 4097), ('level', 4303), ('gate', 3208), ('89105', 885), ('ts', 7239), ('lingeri', 4339), ('wwwbridalpetticoatdreamscouk', 7833), ('weddingfriend', 7607), ('board', 1584), ('overh', 5287), ('reslov', 5942), ('inst', 3867), ('pend', 5395), ('8o', 898), ('western', 7644), ('outta', 5281), ('nowaday', 5075), ('notixiqu', 5066), ('laxinorf', 4262), ('bambl', 1391), ('entrop', 2770), ('oblising', 5132), ('masteriast', 4577), ('amplikat', 1141), ('fidalf', 2970), ('champlaxig', 1904), ('atroci', 1299), ('wotz', 7791), ('junna', 4062), ('knicker', 4168), ('01223585236', 3), ('nikiyu4net', 4993), ('a30', 925), ('divert', 2523), ('wadebridgei', 7529), ('vill', 7475), ('orc', 5241), ('bloomberg', 1571), ('447797706009', 624), ('httpcareer', 3697), ('bloombergcom', 1572), ('seek', 6172), ('priscilla', 5663), ('dayexcept', 2345), ('wisdom', 7714), ('wherr', 7670), ('phone750', 5444), ('resolut', 5943), ('replyb', 5926), ('frankgood', 3100), ('logoff', 4379), ('parkin', 5349), ('kent', 4112), ('vale', 7423), ('cannt', 1826), ('asa', 1263), ('09050000878', 182), ('wan2', 7556), ('meetgreet', 4621), ('westlif', 7645), ('m8', 4491), ('1unbreak', 429), ('2untam', 530), ('3unkempt', 596), ('83049', 827), ('princ', 5656), ('charm', 1918), ('arnt', 1248), ('xxxxxxxxxxxxxx', 7902), ('dorothykiefercom', 2578), ('granit', 3368), ('strongbuy', 6707), ('explos', 2873), ('nasdaq', 4903), ('symbol', 6839), ('cdgt', 1881), ('moneeppolum', 4775), ('allalo', 1103), ('fundament', 3172), ('101mega', 302), ('pixel', 5477), ('3optic', 589), ('5digit', 696), ('doom', 2574), ('peteynoiåõm', 5427), ('timehop', 7076), ('alritehav', 1116), ('js', 4046), ('amx', 1146), ('burgundi', 1738), ('captain', 1835), ('base', 1413), ('placement', 5481), ('amrita', 1143), ('bpo', 1650), ('didn', 2465), ('nighter', 4985), ('persev', 5415), ('wasnåõt', 7572), ('spous', 6584), ('pmt', 5515), ('sumthin', 6765), ('4give', 651), ('shldxxxx', 6281), ('thatd', 6981), ('scenario', 6132), ('spunout', 6593), ('wrld', 7810), ('09071517866', 272), ('150ppmpobox10183bhamb64x', 374), ('10am', 305), ('devour', 2446), ('airtel', 1069), ('broadband', 1691), ('tens', 6939), ('sprint', 6589), ('prolli', 5697), ('gower', 3353), ('åômorrow', 8024), ('åð', 8021), ('chik', 1960), ('100s', 299), ('filth', 2984), ('69669', 738), ('saristar', 6104), ('e14', 2659), ('9yt', 923), ('08701752560', 80), ('450p', 633), ('stop2', 6674), ('420', 615), ('9061100010', 903), ('wire3net', 7713), ('1st4term', 424), ('mobcudb', 4751), ('alreadysabarish', 1112), ('jaya', 3986), ('09050000460', 180), ('j89', 3959), ('box245c2150pm', 1632), ('inperson', 3860), ('flea', 3027), ('banneduk', 1400), ('itlet', 3932), ('highest', 3581), ('maximum', 4595), ('71', 765), ('nys', 5118), ('taj', 6859), ('lesser', 4298), ('known', 4172), ('mumtaz', 4856), ('shahjahan', 6236), ('hari', 3486), ('okcom', 5172), ('69101', 736), ('wwwrtfsphostingcom', 7856), ('webadr', 7600), ('gete', 3249), ('incred', 3822), ('o2fwd', 5126), ('18ptxt', 401), ('passport', 5361), ('multipli', 4851), ('decim', 2379), ('twin', 7270), ('strt', 6708), ('ltdhelpdesk', 4448), ('02085076972', 12), ('equal', 2777), ('unev', 7331), ('peski', 5422), ('cyclist', 2292), ('werear', 7638), ('nalla', 4891), ('adi', 997), ('entey', 2765), ('nattil', 4911), ('kittum', 4147), ('kavalan', 4099), ('hire', 3591), ('hitman', 3597), ('09066660100', 269), ('2309', 456), ('cps', 2211), ('outag', 5268), ('conserv', 2146), ('epi', 2775), ('bhaskar', 1518), ('dubsack', 2636), ('individu', 3831), ('gong', 3316), ('kaypoh', 4101), ('basketbal', 1417), ('outdoor', 5270), ('macho', 4503), ('interfu', 3878), ('hustl', 3738), ('forth', 3085), ('audit', 1314), ('harlem', 3488), ('workout', 7775), ('zac', 8007), ('hui', 3717), ('xin', 7885), ('lib', 4308), ('versus', 7452), ('edg', 2685), ('underdtand', 7324), ('itboth', 3924), ('upnot', 7372), ('muchxxlov', 4844), ('locaxx', 4373), ('07090298926', 23), ('reschedul', 5934), ('ref9307622', 5879), ('skateboard', 6371), ('despit', 2434), ('thrown', 7052), ('bandag', 1394), ('mytonecomenjoy', 4880), ('html', 3695), ('gbp450week', 3219), ('mfl', 4672), ('hectic', 3528), ('fell', 2957), ('swoop', 6834), ('wamma', 7554), ('laidwant', 4221), ('doggin', 2550), ('nownyt', 5079), ('langport', 4232), ('virtual', 7485), ('senthil', 6203), ('apnt', 1197), ('pant', 5325), ('waiti', 7538), ('go2sri', 3291), ('lanka', 4234), ('wordnot', 7767), ('mere', 4650), ('relationshipit', 5899), ('wherevr', 7669), ('forevr', 3071), ('gudnyt', 3419), ('plum', 5507), ('smack', 6412), ('50s', 683), ('alot', 1110), ('attract', 1307), ('promot', 5702), ('8714714', 866), ('vega', 7441), ('lou', 4419), ('lancast', 4226), ('neway', 4960), ('couldnåõt', 2194), ('båõday', 1767), ('soc', 6455), ('bsn', 1708), ('lobbi', 4370), ('eryth', 2789), ('vewi', 7454), ('lubli', 4455), ('rs5', 6032), ('087147123779am7pm', 123), ('sbut', 6125), ('luck2', 4458), ('specifi', 6542), ('domain', 2563), ('nusstu', 5108), ('ohi', 5165), ('hahatak', 3448), ('bari', 1407), ('hudgi', 3712), ('yorg', 7963), ('pataistha', 5366), ('ertini', 2785), ('hasbroin', 3490), ('jump', 4058), ('hoop', 3654), ('lateso', 4253), ('morningtak', 4796), ('dreamsu', 2607), ('meummifyingby', 4670), ('associ', 1282), ('rip', 5992), ('uterus', 7412), ('pool', 5560), ('jacuzzi', 3965), ('x49', 7878), ('09065989182', 251), ('colourredtextcolourtxtstar', 2081), ('2night', 516), ('wildest', 7697), ('splwat', 6569), ('whr', 7681), ('aldrin', 1085), ('rakhesh', 5799), ('rtm', 6036), ('herepl', 3554), ('callurg', 1806), ('neces', 4926), ('witout', 7727), ('hwd', 3743), ('watll', 7582), ('wth', 7819), ('espel', 2796), ('4wrd', 674), ('dearlov', 2366), ('wthout', 7820), ('takecar', 6862), ('univ', 7343), ('raja', 5794), ('burrito', 1742), ('callcoz', 1794), ('terrorist', 6948), ('itz', 3947), ('confirmd', 2137), ('cnn', 2050), ('ibn', 3754), ('stitch', 6664), ('trouser', 7227), ('146tf150p', 350), ('cheeto', 1941), ('sync', 6842), ('shangela', 6243), ('hppnss', 3690), ('sorrow', 6506), ('goodfriend', 3324), ('08704439680', 86), ('againlov', 1036), ('poo', 5558), ('gloucesterroad', 3283), ('uup', 7415), ('ouch', 5264), ('glo', 3279), ('09058095107', 204), ('s3xi', 6057), ('yesmum', 7945), ('wlcome', 7738), ('eaten', 2677), ('timi', 7080), ('mila', 4682), ('age23', 1041), ('blond', 1565), ('mtalk', 4835), ('6986618', 742), ('30pptxt', 546), ('5free', 697), ('increment', 3823), ('help08718728876', 3547), ('fishrman', 3011), ('ful', 3164), ('stone', 6670), ('strtd', 6709), ('throwin', 7051), ('atlast', 1296), ('1stone', 426), ('moraldont', 4792), ('08717895698', 147), ('mobstorequiz10ppm', 4759), ('physic', 5451), ('arpraveesh', 1251), ('delici', 2402), ('salad', 6075), ('desert', 2427), ('whore', 7678), ('funk', 3174), ('tones2u', 7145), ('twink', 7271), ('scalli', 6127), ('skin', 6376), ('jock', 4021), ('08712466669', 118), ('08712460324nat', 117), ('flood', 3037), ('bead', 1450), ('wishlist', 7718), ('section', 6167), ('comfort', 2091), ('sold', 6465), ('onionr', 5201), ('petrolr', 5429), ('beerr', 1471), ('fakemi', 2905), ('reffer', 5882), ('uif', 7300), ('geti', 3250), ('rsi', 6033), ('weirdi', 7622), ('09061701851', 218), ('k61', 4070), ('12hour', 335), ('funer', 3173), ('godnot', 3298), ('chikkuk', 1967), ('vivek', 7494), ('74355', 773), ('tnc', 7104), ('brah', 1651), ('outif', 5275), ('greec', 3384), ('protect', 5714), ('ethreat', 2805), ('sib', 6319), ('sensit', 6199), ('passwordsatmsm', 5364), ('someday', 6470), ('goodmorningmi', 3328), ('grandfath', 3366), ('expiredso', 2869), ('blu', 1575), ('concert', 2127), ('novemb', 5072), ('09061104276', 210), ('375max', 571), ('yuou', 8003), ('spot', 6582), ('bunch', 1733), ('lotto', 4416), ('authoris', 1322), ('645pm', 731), ('honeydid', 3646), ('gimmi', 3264), ('gossx', 3341), ('painit', 5313), ('todaydo', 7114), ('ystrdayic', 7997), ('chile', 1974), ('sublet', 6734), ('febapril', 2948), ('ammaelif', 1134), ('steer', 6645), ('rounderso', 6020), ('truekdo', 7231), ('lambu', 4224), ('ji', 4012), ('cometil', 2089), ('batchlor', 1421), ('zoom', 8017), ('nowsend', 5084), ('62220cncl', 724), ('stopc', 6677), ('08717890890å', 146), ('chees', 1939), ('åòharri', 8022), ('pink', 5470), ('ringtonefrom', 5987), ('httptms', 3701), ('widelivecomindex', 7687), ('wmlid1b6a5ecef91ff937819firsttrue180430jul05', 7740), ('xafter', 7880), ('cst', 2252), ('chg', 1954), ('pure', 5743), ('hisher', 3592), ('smiley', 6425), ('gail', 3186), ('wrongtak', 7813), ('worryc', 7783), ('l8tr', 4203), ('hunlov', 3727), ('yaxxx', 7917), ('theoret', 7001), ('formallypl', 3081), ('prayingwil', 5617), ('multimedia', 4850), ('senthilhsbc', 6204), ('agenc', 1042), ('nicki', 4980), ('gumbi', 3427), ('httpalto18coukwavewaveaspo44345', 3696), ('tarpon', 6881), ('cab', 1769), ('availablethey', 1330), ('step', 6646), ('careumma', 1847), ('call2optouthf8', 1786), ('09061702893', 220), ('08719181259', 170), ('260305', 471), ('deartak', 2372), ('radiat', 5784), ('tongu', 7150), ('qi', 5761), ('sudden', 6747), ('flurri', 3045), ('melt', 4634), ('ground', 3396), ('eek', 2694), ('born', 1612), ('freerington', 3121), ('real1', 5837), ('pushbutton', 5749), ('dontcha', 2571), ('babygoodby', 1366), ('golddigg', 3308), ('webeburnin', 7601), ('nigh', 4983), ('nooooooo', 5043), ('cabl', 1771), ('sos', 6514), ('playin', 5495), ('guoyang', 3428), ('rahul', 5788), ('dengra', 2412), ('antelop', 1176), ('toplay', 7167), ('fieldof', 2972), ('selfindepend', 6182), ('growrandom', 3402), ('gnarl', 3288), ('barkley', 1408), ('borderlin', 1609), ('545', 694), ('nightnight', 4986), ('groov', 3394), ('mise', 4712), ('secur', 6168), ('unsecur', 7354), ('195', 403), ('6669', 733), ('lanr', 4235), ('fakey', 2906), ('eckankar', 2682), ('ph', 5431), ('3000', 540), ('09061743386', 221), ('heater', 3524), ('dodgey', 2541), ('call2optout674', 1784), ('faceasssssholeee', 2890), ('ceri', 1895), ('rebel', 5847), ('dreamz', 2608), ('ringtonek', 5989), ('84484', 845), ('nationwid', 4910), ('newport', 4962), ('juliana', 4056), ('nacho', 4884), ('eta', 2801), ('dizzamn', 2527), ('suitem', 6758), ('nimbomson', 4994), ('contin', 2154), ('housew', 3678), ('08717507711', 144), ('btnation', 1713), ('087104711148', 99), ('fiendmak', 2973), ('muchimped', 4843), ('ow', 5292), ('deyi', 2449), ('60400thousadi', 719), ('sumthinxx', 6766), ('nose', 5055), ('essay', 2798), ('tram', 7197), ('vic', 7458), ('coher', 2065), ('tripl', 7221), ('echo', 2681), ('gran', 3364), ('onlyfound', 5209), ('afew', 1018), ('agocusoon', 1047), ('honi', 3648), ('dial', 2455), ('bx526', 1763), ('univers', 7344), ('southern', 6522), ('california', 1780), ('rayan', 5820), ('macleran', 4505), ('ball', 1387), ('olav', 5185), ('mandara', 4544), ('trishul', 7222), ('woo', 7757), ('hoo', 3650), ('panti', 5327), ('thout', 7043), ('09066364311', 259), ('flatter', 3025), ('pint', 5472), ('carlin', 1849), ('liter', 4354), ('ciao', 2004), ('x49your', 7879), ('timeyou', 7078), ('wknd', 7735), ('yalrigu', 7909), ('heltiniiyo', 3549), ('kothi', 4187), ('meso', 4656), ('meok', 4647), ('chikkub', 1963), ('noic', 5024), ('esaplanad', 2790), ('08709501522', 97), ('139', 344), ('la3', 4206), ('2wu', 535), ('prof', 5689), ('sem', 6186), ('enna', 2760), ('kalaachutaarama', 4078), ('coco', 2061), ('sporad', 6578), ('09064017305', 239), ('pobox75ldns7', 5528), ('tbspersolvo', 6897), ('forå', 3089), ('38', 572), ('kath', 4098), ('manchest', 4541), ('youåõr', 7991), ('burden', 1736), ('noworriesloanscom', 5081), ('08717111821', 140), ('harder', 3484), ('nbme', 4920), ('villa', 7476), ('sathya', 6110), ('gam', 3194), ('religi', 5904), ('hero', 3560), ('tip', 7082), ('07973788240', 46), ('08715203649', 131), ('muhommad', 4847), ('penni', 5399), ('fite', 3013), ('hwkeep', 3744), ('mj', 4734), ('unconvinc', 7321), ('willpow', 7700), ('absenc', 946), ('answerin', 1174), ('åè10', 8020), ('evey', 2831), ('mnth', 4746), ('prin', 5655), ('ûthank', 8029), ('gsoh', 3408), ('spam', 6530), ('ladiesu', 4216), ('gigolo', 3262), ('oncal', 5195), ('mjzgroup', 4735), ('087143423992stop', 122), ('msgå', 4831), ('150rcvd', 382), ('ashwini', 1269), ('08707500020', 90), ('tomorrowtoday', 7141), ('ukp2000', 7305), ('09061790125', 228), ('jokethet', 4031), ('skinni', 6377), ('lineyou', 4338), ('elect', 2722), ('shouldn', 6300), ('116', 319), ('hlday', 3603), ('camp', 1813), ('amrca', 1142), ('serena', 6208), ('prescrib', 5631), ('kappa', 4092), ('meatbal', 4613), ('approv', 1217), ('panalambut', 5318), ('spjanuari', 6560), ('fortun', 3086), ('allday', 1104), ('perf', 5404), ('receipts', 5854), ('ûówel', 8036), ('98321561', 912), ('familiar', 2913), ('infact', 3835), ('simpson', 6341), ('band', 1393), ('agreen', 1049), ('bblue', 1434), ('cred', 2229), ('canåõt', 1830), ('isnåõt', 3920), ('shite', 6273), ('kip', 4142), ('hont', 3649), ('amanda', 1126), ('3680', 567), ('subject', 6733), ('perspect', 5420), ('sonot', 6491), ('debat', 2374), ('httpwwwwtlpcouktext', 3708), ('jb', 3990), ('youso', 7984), ('florida', 3040), ('teeth', 6918), ('hidden', 3577), ('royal', 6025), ('tog', 7120), ('swhrt', 6827), ('deyhop', 2448), ('2daylov', 493), ('misstak', 4723), ('0906346330', 233), ('47', 637), ('po19', 5517), ('2ez', 496), ('ifwhenhow', 3778), ('dayha', 2346), ('valuemorn', 7429), ('hopeafternoon', 3657), ('faitheven', 2903), ('luvnight', 4474), ('restwish', 5955), ('todaygood', 7116), ('jetton', 4009), ('friendofafriend', 3136), ('cmon', 2047), ('sticki', 6658), ('lunsford', 4469), ('0796xxxxxx', 45), ('day2', 2343), ('prizeawait', 5669), ('kfc', 4121), ('gravi', 3375), ('dahe', 2303), ('daalway', 2296), ('thisdon', 7028), ('messagepandi', 4661), ('07008009200', 20), ('mw', 4872), ('tuth', 7260), ('evict', 2832), ('spiral', 6557), ('michael', 4676), ('riddanc', 5977), ('raglan', 5787), ('edward', 2692), ('closebi', 2034), ('dapleas', 2319), ('skye', 6382), ('bookedth', 1602), ('hut', 3739), ('drastic', 2600), ('indic', 3830), ('3750', 570), ('garment', 3205), ('sez', 6225), ('arab', 1226), ('evry1', 2841), ('eshxxxxxxxxxxx', 2794), ('bimbo', 1531), ('ugo', 7297), ('241', 459), ('3lion', 583), ('porteg', 5571), ('m100', 4484), ('semiobscur', 6189), ('gprs', 3354), ('repeat', 5922), ('loosu', 4402), ('careless', 1844), ('myspac', 4878), ('method', 4669), ('blur', 1581), ('jewelri', 4010), ('breaker', 1666), ('delux', 2407), ('featur', 2946), ('graphic', 3370), ('bbdelux', 1431), ('lush', 4470), ('fumbl', 3168), ('day2find', 2344), ('taunton', 6889), ('weekday', 7613), ('haiz', 3455), ('nail', 4889), ('common', 2099), ('asia', 1270), ('greatest', 3383), ('defeat', 2392), ('heartgn', 3520), ('stil', 6660), ('tobe', 7109), ('430', 620), ('pimpl', 5467), ('natalja', 4908), ('25f', 469), ('yes440', 7936), ('no440', 5011), ('wwwsmsacunat27081980', 7862), ('asthma', 1285), ('attack', 1301), ('spin', 6555), ('haiyoh', 3454), ('02', 6), ('prsn', 5719), ('somtim', 6486), ('sunlight', 6771), ('bcozi', 1445), ('loss', 4409), ('audiit', 1313), ('reloc', 5905), ('pock', 5533), ('brison', 1685), ('cap', 1831), ('bullshit', 1731), ('gwr', 3434), ('motherfuck', 4801), ('kit', 4145), ('1013', 301), ('ig11', 3779), ('oja', 5169), ('08712402578', 109), ('thesmszonecom', 7013), ('anonym', 1169), ('mask', 4572), ('messagesim', 4662), ('theredo', 7005), ('woodland', 7759), ('avenu', 1337), ('parish', 5346), ('magazin', 4518), ('billi', 1528), ('awww', 1348), ('useless', 7400), ('loo', 4394), ('shelf', 6255), ('swollen', 6833), ('gland', 3276), ('bcaz', 1438), ('stu', 6712), ('2im', 503), ('trubl', 7228), ('evon', 2837), ('mokka', 4768), ('view', 7469), ('dual', 2634), ('hostil', 3669), ('haircut', 3452), ('breezi', 1673), ('09061744553', 225), ('polyh', 5551), ('1appledayno', 405), ('1tulsi', 427), ('leafdayno', 4271), ('1lemondayno', 414), ('1cup', 407), ('milkdayno', 4686), ('bone', 1596), ('problm', 5680), ('litr', 4355), ('watrdayno', 7583), ('diseas', 2512), ('snd', 6443), ('lavend', 4260), ('manki', 4551), ('scous', 6144), ('stevelik', 6652), ('homewot', 3640), ('inmind', 3853), ('recreat', 5869), ('epsilon', 2776), ('mesag', 4654), ('judgementali', 4052), ('hidid', 3579), ('waheeda', 7534), ('bot', 1617), ('eventu', 2818), ('toler', 7131), ('0789xxxxxxx', 43), ('hellogorg', 3538), ('lst', 4443), ('nitw', 5004), ('texd', 6954), ('hopeu', 3658), ('4ward', 673), ('cin', 2005), ('jaz', 3988), ('09058091870', 195), ('exorc', 2860), ('emili', 2738), ('evri', 2840), ('emot', 2739), ('dsnt', 2632), ('wordsevri', 7768), ('prayr', 5618), ('uothrwis', 7361), ('uso', 7408), ('ujhhhhhhh', 7302), ('sandiago', 6090), ('parantella', 5338), ('sweater', 6820), ('mango', 4548), ('massiv', 4575), ('landmark', 4230), ('bob', 1587), ('barri', 1412), ('83738', 838), ('fineabsolut', 2993), ('consent', 2145), ('form', 3079), ('tonex', 7148), ('wwwclubzedcouk', 7836), ('wwwtcbiz', 7865), ('polo', 5547), ('373', 569), ('w1j', 7520), ('6hl', 751), ('can', 1816), ('mathew', 4583), ('tait', 6858), ('anderson', 1152), ('haunt', 3497), ('crowd', 2243), ('8000930705', 798), ('snowboard', 6451), ('goa', 3292), ('christmassi', 2000), ('recpt', 5868), ('13', 339), ('baaaaaaaab', 1361), ('shola', 6284), ('academ', 954), ('sagamu', 6070), ('lautech', 4259), ('vital', 7491), ('zealand', 8009), ('qet', 5760), ('browser', 1702), ('gb', 3216), ('wellyou', 7630), ('lifeyou', 4320), ('thati', 6983), ('convers', 2160), ('usget', 7403), ('timeyour', 7079), ('sensesrespect', 6197), ('overemphasiseor', 5286), ('headset', 3510), ('adp', 1006), ('intern', 3879), ('extract', 2879), ('godyou', 3300), ('skint', 6378), ('bevieswaz', 1512), ('othr', 5261), ('watchng', 7577), ('planet', 5486), ('earthsofa', 2668), ('comfey', 2090), ('least5tim', 4276), ('wudnt', 7822), ('coast', 2053), ('ìïll', 8028), ('ima', 3790), ('frequent', 3127), ('cupboard', 2270), ('rout', 6021), ('2mro', 511), ('floppi', 3039), ('snappi', 6441), ('grasp', 3371), ('flavour', 3026), ('lareadi', 4241), ('deni', 2413), ('dom', 2562), ('ffffuuuuuuu', 2967), ('julianaland', 4057), ('oblivi', 5133), ('upsetit', 7376), ('mapquest', 4554), ('dogwood', 2551), ('archiv', 1229), ('ukmobiled', 7304), ('08719839835', 173), ('mgs', 4673), ('89123', 886), ('behalf', 1479), ('stun', 6726), ('visa', 7486), ('gucci', 3413), ('babesozi', 1364), ('culdnt', 2265), ('talkbut', 6868), ('wannatel', 7559), ('wenwecan', 7636), ('smsing', 6434), ('effici', 2698), ('30', 538), ('02073162414', 11), ('20pmin', 447), ('515pm', 686), ('erutupalam', 2788), ('thandiyachu', 6967), ('invent', 3890), ('flyim', 3047), ('noit', 5027), ('lyric', 4482), ('nevr', 4958), ('unrecogn', 7352), ('somon', 6485), ('undrstnd', 7328), ('ger', 3245), ('toke', 7125), ('syd', 6837), ('lehhaha', 4287), ('khelat', 4125), ('kintu', 4140), ('opponent', 5224), ('dhort', 2453), ('lage', 4218), ('looovvv', 4400), ('warwick', 7568), ('tmw', 7103), ('parad', 5334), ('proze', 5718), ('norcorp', 5047), ('ltdå', 4449), ('150mtmsgrcvd18', 357), ('chennaibecaus', 1944), ('7cfca1a', 786), ('grumbl', 3404), ('linear', 4336), ('algebra', 1092), ('decor', 2383), ('946', 908), ('roomat', 6014), ('graduat', 3361), ('adjust', 998), ('cooper', 2170), ('nottingham', 5068), ('63mile', 729), ('40mph', 611), ('mornin', 4795), ('thanku', 6973), ('89938', 890), ('string', 6702), ('150ea', 354), ('otbox', 5258), ('731', 772), ('la1', 4205), ('7ws', 795), ('itxx', 3946), ('besid', 1500), ('brisk', 1684), ('sexiest', 6221), ('dirtiest', 2499), ('89070', 883), ('steve', 6651), ('tellmiss', 6927), ('contribut', 2157), ('urgh', 7387), ('coach', 2052), ('duvet', 2654), ('chatim', 1924), ('w8in', 7524), ('4utxt', 671), ('url', 7391), ('24th', 464), ('beverag', 1511), ('vpist', 7510), ('surrend', 6800), ('symptom', 6841), ('rdi', 5828), ('itnow', 3937), ('backward', 1374), ('abstract', 948), ('vikkyim', 7473), ('africa', 1027), ('avin', 1338), ('chitchat', 1985), ('logon', 4380), ('8883', 878), ('4217', 617), ('w1a', 7519), ('6zf', 763), ('118pmsg', 321), ('quiteamuz', 5774), ('thatåõscool', 6988), ('1000call', 295), ('09071512432', 270), ('300603tcsbcm4235wc1n3xxcallcost150ppmmobilesvari', 542), ('mnths', 4747), ('fixd', 3016), ('bthmm', 1712), ('njan', 5006), ('vilikkamt', 7474), ('sudn', 6748), ('chapter', 1911), ('chop', 1991), ('noooooooo', 5044), ('09065171142stopsms08718727870150ppm', 246), ('firsg', 3007), ('split', 6567), ('heat', 3523), ('sumf', 6762), ('86888', 859), ('subscribe6gbpmnth', 6738), ('3hrs', 582), ('stoptxtstop', 6680), ('hiphop', 3590), ('oxygen', 5298), ('resort', 5945), ('roller', 6009), ('cannam', 1824), ('capit', 1833), ('australia', 1321), ('mquiz', 4813), ('showr', 6306), ('upon', 7373), ('ceil', 1884), ('presnt', 5638), ('bcz', 1447), ('mis', 4710), ('jeevithathil', 3996), ('irulina', 3910), ('neekunna', 4938), ('prakasamanu', 5609), ('sneham', 6444), ('prakasam', 5608), ('ennal', 2761), ('prabha', 5600), ('mns', 4745), ('islov', 3917), ('7634', 777), ('7684', 778), ('firmwar', 3006), ('vijaykanth', 7471), ('comedi', 2086), ('tvhe', 7262), ('anythi', 1186), ('wwwclubmobycom', 7835), ('08717509990', 145), ('polytruepixringtonesgam', 5554), ('keypad', 4119), ('btwn', 1717), ('decad', 2376), ('gover', 3350), ('loyal', 4438), ('09066380611', 265), ('spice', 6550), ('prasanth', 5613), ('ettan', 2806), ('08718738002', 166), ('48922', 642), ('211104', 449), ('appi', 1207), ('fizz', 3018), ('contain', 2152), ('genus', 3241), ('robinson', 6001), ('nottel', 5067), ('out', 5267), ('soz', 6524), ('imat', 3794), ('msgsometext', 4827), ('07099833605', 24), ('ref9280114', 5878), ('chloe', 1987), ('150ptext', 378), ('wewa', 7651), ('130', 340), ('iriv', 3907), ('255', 468), ('128', 334), ('bw', 1759), ('dajst', 2307), ('hmmmbut', 3610), ('sur', 6793), ('07808726822', 39), ('08718729758', 162), ('dokey', 2558), ('mmmmmmm', 4743), ('snuggl', 6453), ('whisper', 7674), ('healthi', 3514), ('2bold', 489), ('givit', 3274), ('kanoanyway', 4089), ('scrape', 6145), ('barrel', 1411), ('misfit', 4714), ('s8', 6058), ('sleepin', 6391), ('clearer', 2026), ('peach', 5386), ('rayman', 5821), ('golf', 3311), ('activ8', 984), ('termsappli', 6944), ('therel', 7007), ('minor', 4701), ('shindig', 6267), ('minstext', 4704), ('phonebook', 5445), ('keng', 4111), ('ash', 1267), ('shijutta', 6265), ('kafter', 4074), ('offens', 5146), ('bbdthts', 1433), ('dvg', 2656), ('coldheard', 2071), ('vinobanagar', 7478), ('conditionand', 2130), ('ovulatewhen', 5291), ('3wks', 600), ('woah', 7746), ('orh', 5249), ('n8', 4881), ('darlinim', 2326), ('soonxxx', 6498), ('coolmob', 2168), ('frogaxel', 3151), ('akonlon', 1077), ('eyeddont', 2884), ('cashbincouk', 1863), ('wwwcashbincouk', 7834), ('canteen', 1829), ('stressful', 6697), ('ni8swt', 4973), ('presid', 5636), ('140', 345), ('ardìä', 1231), ('180', 396), ('leastwhich', 4277), ('bedrm', 1462), ('hitechn', 3595), ('supportprovid', 6788), ('assist', 1281), ('1172', 320), ('watev', 7580), ('built', 1728), ('lonlin', 4393), ('lotz', 4418), ('gailxx', 3187), ('hii', 3582), ('complac', 2108), ('mina', 4691), ('miwa', 4732), ('hsbc', 3694), ('woulda', 7794), ('09066649731from', 268), ('mth', 4836), ('opposit', 5229), ('heavili', 3527), ('doll', 2559), ('patrick', 5371), ('swayz', 6818), ('santa', 6094), ('09077818151', 273), ('calls150ppm', 1803), ('30s', 547), ('wwwsantacallingcom', 7857), ('miser', 4713), ('quarter', 5765), ('nervous', 4947), ('limp', 4333), ('aa', 926), ('0784987', 42), ('08719180219', 168), ('060505', 18), ('oga', 5161), ('brb', 1661), ('smaller', 6414), ('capac', 1832), ('smsshsexnetun', 6436), ('fgkslpopw', 2969), ('fgkslpo', 2968), ('0871277810710pmin', 119), ('defer', 2393), ('admiss', 1002), ('checkmat', 1934), ('chess', 1949), ('persian', 5416), ('phrase', 5450), ('shah', 6235), ('maat', 4496), ('rat', 5812), ('pee', 5389), ('photoshop', 5448), ('08715203652', 132), ('42810', 619), ('29100', 485), ('shoppin', 6287), ('toopray', 7160), ('inshah', 3864), ('allah', 1100), ('sthis', 6656), ('increas', 3821), ('wifedont', 7690), ('iti', 3929), ('toolet', 7158), ('north', 5052), ('carolina', 1853), ('texa', 6953), ('gre', 3379), ('bomb', 1595), ('weapon', 7594), ('lovli', 4433), ('messagethank', 4665), ('150pmsgrcvd', 367), ('customercar', 2281), ('08718726270', 153), ('playi', 5494), ('clas', 2017), ('lit', 4353), ('loooooool', 4399), ('couch', 2188), ('swashbuckl', 6814), ('5terror', 710), ('6cruel', 749), ('7romant', 792), ('8lovabl', 896), ('9decent', 917), ('joker', 4030), ('dip', 2493), ('gek1510', 3232), ('feelin', 2954), ('nuther', 5109), ('lyricalladie21f', 4483), ('yes910', 7938), ('no910', 5015), ('wwwsmsacuhmmross', 7861), ('happiest', 3480), ('crisi', 2238), ('whenwher', 7664), ('antibiot', 1179), ('abdomen', 934), ('gyna', 3437), ('infect', 3836), ('6time', 761), ('chastiti', 1921), ('devic', 2444), ('beat', 1452), ('gut', 3430), ('tallahasse', 6871), ('ou', 5263), ('taka', 6860), ('pobox202', 5523), ('nr31', 5089), ('7zs', 796), ('450pw', 634), ('ritten', 5995), ('fold', 3053), ('warner', 7566), ('83118', 829), ('colin', 2072), ('farrel', 2922), ('swat', 6815), ('popcornjust', 5566), ('msgticketkioskvalid', 4829), ('4712', 638), ('kiosk', 4141), ('mre', 4815), ('solihul', 6466), ('nhs', 4971), ('mistakeu', 4727), ('bornpleas', 1613), ('2b', 487), ('terminatedw', 6943), ('inconveni', 3819), ('henri', 3552), ('yard', 7914), ('bergkamp', 1499), ('margin', 4560), ('78', 780), ('itsnot', 3941), ('parentnot', 5342), ('unintent', 7339), ('nonetheless', 5040), ('hooch', 3651), ('toaday', 7107), ('splat', 6565), ('graze', 3378), ('confirmdeni', 2138), ('hearin', 3518), ('yah', 7907), ('tortur', 7173), ('wasn', 7570), ('sexychat', 6224), ('startedindia', 6627), ('kkcongratul', 4152), ('court', 2203), ('chapel', 1910), ('frontiervill', 3154), ('mountain', 4806), ('deer', 2389), ('maili', 4527), ('varma', 7434), ('membershiptak', 4637), ('careinsha', 1843), ('fart', 2923), ('ortxt', 5253), ('advisor', 1015), ('diall', 2456), ('402', 606), ('woot', 7761), ('ahhhhjust', 1055), ('uphad', 7370), ('thoso', 7036), ('viveki', 7495), ('96', 910), ('dado', 2301), ('experiencehttpwwwvouch4mecometlpdiningasp', 2866), ('kaila', 4076), ('09058094507', 198), ('donat', 2565), ('unicef', 7337), ('asian', 1271), ('fund', 3171), ('864233', 857), ('cme', 2046), ('hos', 3665), ('collaps', 2074), ('jade', 3967), ('paul', 5374), ('barm', 1409), ('thinkthi', 7025), ('goldvik', 3310), ('29m', 486), ('yes762', 7937), ('no762', 5012), ('wwwsmsacugoldvik', 7860), ('coulda', 2192), ('phoni', 5446), ('1230', 330), ('okday', 5173), ('hmph', 3616), ('baller', 1388), ('punto', 5739), ('ayo', 1353), ('125', 331), ('freeentri', 3111), ('xt', 7889), ('toyota', 7188), ('camri', 1815), ('olayiwola', 5186), ('mileag', 4684), ('clover', 2040), ('numberpl', 5101), ('idconvey', 3766), ('achanammarakheshqatar', 971), ('rencontr', 5916), ('08714712412', 127), ('galsu', 3193), ('nìâte', 5123), ('puppi', 5740), ('nois', 5025), ('sarasota', 6100), ('150pmeg', 363), ('08715203685', 135), ('code4xx26', 2063), ('131004', 341), ('deepest', 2388), ('darkest', 2323), ('09094646631', 277), ('nat', 4906), ('vldo', 7497), ('adsens', 1009), ('dudett', 2640), ('perumbavoor', 5421), ('stage', 6614), ('cherish', 1947), ('clarifi', 2016), ('prepon', 5630), ('natali', 4907), ('20f', 444), ('yes165', 7934), ('no165', 5009), ('wwwsmsacunatalie2k9', 7863), ('younger', 7979), ('wallpap', 7550), ('08701213186', 74), ('liver', 4358), ('hmmmstill', 3615), ('loneli', 4390), ('skyve', 6384), ('onword', 5213), ('mtnl', 4838), ('mumbai', 4853), ('83039', 826), ('62735å', 727), ('accommodationvouch', 963), ('mustprovid', 4868), ('15541', 388), ('rajitha', 5797), ('ranju', 5810), ('5p', 707), ('tscs08714740323', 7242), ('1winawk', 431), ('150perweeksub', 360), ('dearslp', 2371), ('welltak', 7629), ('careswt', 1846), ('dreamsmuah', 2606), ('09066361921', 255), ('disagre', 2501), ('afterward', 1032), ('uawakefeellikw', 7289), ('shitjustfound', 6275), ('alett', 1088), ('thatmum', 6985), ('gotmarri', 3345), ('4thnovbehind', 666), ('ourback', 5265), ('fuckinniceselfish', 3160), ('rearrang', 5844), ('dormitori', 2577), ('astronom', 1289), ('starer', 6624), ('recount', 5866), ('motherinlaw', 4802), ('hitler', 3596), ('eleven', 2725), ('worm', 7780), ('dysentri', 2658), ('andr', 1154), ('virgil', 7483), ('lorgoin', 4405), ('gokila', 3306), ('shanilrakhesh', 6245), ('herethanksi', 3556), ('exchang', 2849), ('uncut', 7323), ('stuffleav', 6724), ('dino', 2491), ('kkthis', 4158), ('kote', 4186), ('themobhit', 6997), ('panther', 5326), ('sugabab', 6752), ('zebra', 8010), ('badass', 1376), ('hoodi', 3652), ('wallpaperal', 7551), ('resent', 5937), ('queri', 5768), ('customersqueriesnetvisionukcom', 2282), ('hassl', 3492), ('haughaighgtujhyguj', 3495), ('fassyol', 2924), ('blacko', 1549), ('londn', 4387), ('4eva', 647), ('08715205273', 137), ('vco', 7439), ('reassur', 5846), ('aslamalaikkuminsha', 1275), ('tohar', 7122), ('beeen', 1466), ('muht', 4848), ('albi', 1081), ('mufti', 4846), ('mahfuuzmean', 4524), ('078', 35), ('enufcredeit', 2771), ('tocallshal', 7110), ('ileav', 3786), ('okor', 5179), ('ibor', 3755), ('zero', 8012), ('goigng', 3303), ('perfum', 5407), ('sday', 6155), ('joinedso', 4028), ('grocer', 3393), ('franki', 3101), ('benni', 1498), ('diaper', 2459), ('unlik', 7347), ('patient', 5370), ('turkey', 7258), ('dawher', 2340), ('garden', 3203), ('bulb', 1729), ('seed', 6171), ('3350', 560), ('scotsman', 6143), ('go2', 3290), ('notxtcouk', 5069), ('wenev', 7634), ('familymay', 2914), ('stabil', 6609), ('tranquil', 7198), ('vibrant', 7456), ('bawl', 1427), ('failur', 2899), ('velusami', 7447), ('facil', 2892), ('karnan', 4094), ('bluray', 1582), ('salt', 6083), ('wound', 7796), ('geoenvironment', 3242), ('implic', 3802), ('fuuuuck', 3180), ('salmon', 6081), ('wrkin', 7807), ('ree', 5876), ('compens', 2106), ('awkward', 1346), ('splash', 6563), ('musta', 4866), ('overdid', 5284), ('wwwtelediscountcouk', 7866), ('hiwhat', 3600), ('gastroenter', 3207), ('reduc', 5875), ('chuck', 2001), ('nightsw', 4989), ('port', 5569), ('liaotoo', 4307), ('juswok', 4067), ('boatin', 1586), ('spinout', 6556), ('remet', 5913), ('08715203656', 133), ('42049', 616), ('261004', 472), ('uworld', 7418), ('qbank', 5759), ('assess', 1279), ('someonon', 6473), ('09064015307', 237), ('tke', 7094), ('temal', 6931), ('vidnot', 7468), ('finishd', 2999), ('09061213237', 213), ('177', 394), ('m227xi', 4486), ('dull', 2643), ('treadmil', 7210), ('craigslist', 2217), ('absolut', 947), ('drmstake', 2620), ('swan', 6811), ('teethif', 6920), ('asapok', 1265), ('hellohow', 3539), ('doingwhat', 2555), ('2when', 532), ('lamp', 4225), ('latebut', 4249), ('kwish', 4197), ('foward', 3093), ('09061790126', 229), ('misundrstud', 4728), ('2u2', 529), ('gene', 3234), ('wwwldewcom1win150ppmx3age16subscript', 7847), ('reappli', 5843), ('treatin', 7213), ('treacl', 7209), ('mumha', 4854), ('beendrop', 1468), ('theplac', 7003), ('adress', 1007), ('moneyi', 4778), ('favorit', 2940), ('oyster', 5300), ('sashimi', 6106), ('rumbl', 6047), ('marandratha', 4556), ('topic', 7165), ('sirsalam', 6355), ('alaikkumprid', 1079), ('shopw', 6289), ('qatarrakhesh', 5758), ('indianpl', 3829), ('numberrespect', 5102), ('galcan', 3190), ('boyi', 1648), ('galno', 3192), ('heaven', 3525), ('princegn', 5657), ('pisc', 5473), ('aquarius', 1224), ('steyn', 6654), ('wicket', 7684), ('sterm', 6650), ('resolv', 5944), ('jam', 3969), ('hannaford', 3473), ('wheat', 7657), ('chex', 1951), ('pride', 5653), ('grownup', 3401), ('stuffwhi', 6725), ('jerk', 4003), ('stink', 6663), ('textcomp', 6960), ('subsequ', 6742), ('charged150pmsg2', 1914), ('84128custcar', 843), ('upcharg', 7364), ('8hr', 894), ('guai', 3411), ('bottl', 1619), ('amus', 1145), ('astrolog', 1288), ('slack', 6386), ('officestil', 5150), ('formsdon', 3084), ('mentor', 4645), ('percent', 5402), ('09095350301', 279), ('erot', 2782), ('ecstaci', 2683), ('dept', 2421), ('13404', 343), ('08717507382', 143), ('datingi', 2335), ('coincid', 2068), ('sane', 6091), ('151', 385), ('paus', 5375), ('gr8prize', 3358), ('8800', 869), ('psp', 5723), ('wktxt', 7737), ('httpwwwgr8prizescom', 3706), ('spacebuck', 6527), ('02070836089', 9), ('squeez', 6598), ('meremov', 4652), ('5iåõm', 702), ('dread', 2603), ('thou', 7038), ('forgt', 3078), ('ajith', 1074), ('ooooooh', 5217), ('yovill', 7992), ('mega', 4624), ('asda', 1266), ('bffs', 1516), ('someonethat', 6472), ('seperated', 6205), ('ud', 7293), ('brolli', 1694), ('franxx', 3102), ('welli', 7628), ('prometazin', 5698), ('syrup', 6844), ('5mls', 705), ('feed', 2952), ('shu', 6312), ('singapor', 6347), ('victoria', 7460), ('pocay', 5531), ('wocay', 7747), ('2morrowxxxx', 510), ('broth', 1696), ('ramen', 5803), ('fowler', 3094), ('ksri', 4189), ('sivatat', 6365), ('flew', 3029), ('09058094583', 200), ('1526', 386), ('pubcaf', 5731), ('attent', 1305), ('tix', 7092), ('fne', 3051), ('youdo', 7970), ('worc', 7764), ('foreg', 3068), ('shrub', 6311), ('get4an18th', 3248), ('32000', 554), ('legitimat', 4285), ('efreefon', 2699), ('shopth', 6288), ('pendent', 5396), ('toilet', 7123), ('stolen', 6667), ('cop', 2171), ('hu', 3709), ('navig', 4918), ('guidanc', 3423), ('chick', 1957), ('boob', 1600), ('sparkl', 6534), ('45', 631), ('0121', 2), ('2025050', 443), ('wwwshortbreaksorguk', 7858), ('gyno', 3438), ('wwwgambtv', 7842), ('treasur', 7211), ('wmlid820554ad0a1705572711firsttrueåác', 7741), ('ringtoneåá', 5990), ('09050000332', 179), ('negat', 4940), ('hmmmm', 3614), ('dhoni', 2452), ('titleso', 7090), ('command', 2095), ('holbi', 3625), ('09064017295', 238), ('li', 4304), ('yeovil', 7930), ('motor', 4804), ('max', 4591), ('rhode', 5973), ('bong', 1597), ('ofcours', 5143), ('2p', 521), ('08448350055', 65), ('planettalkinstantcom', 5488), ('loti', 4412), ('marvel', 4570), ('spiderman', 6552), ('spider', 6551), ('83338', 832), ('8ball', 893), ('tamilnaduthen', 6873), ('07808247860', 38), ('08719899229', 175), ('40411', 608), ('061104', 19), ('apo', 1198), ('identif', 3769), ('boundari', 1623), ('endless', 2747), ('lorw', 4406), ('young', 7978), ('referin', 5881), ('liaoso', 4306), ('saibaba', 6071), ('colani', 2069), ('chic', 1956), ('declar', 2382), ('49557', 643), ('261104', 473), ('disappoint', 2503), ('tantrum', 6876), ('compliment', 2114), ('chief', 1959), ('gsex', 3407), ('2667', 474), ('wc1n', 7590), ('3xx', 601), ('3mobil', 588), ('chatlin', 1925), ('inclu', 3814), ('l8er', 4201), ('bailiff', 1382), ('mous', 4807), ('desk', 2431), ('childporn', 1972), ('jumper', 4059), ('hat', 3493), ('belt', 1492), ('cribb', 2235), ('spiritu', 6559), ('influx', 3838), ('kane', 4086), ('shud', 6313), ('pshewmiss', 5722), ('accent', 956), ('4year', 675), ('dental', 2415), ('nmde', 5007), ('dump', 2645), ('heap', 3515), ('salesman', 6079), ('087187272008', 158), ('now1', 5073), ('piti', 5475), ('soani', 6454)])\n"
     ]
    }
   ],
   "source": [
    "dictionary = tfid_vectorizer.vocabulary_.items()  \n",
    "print(dictionary)"
   ]
  },
  {
   "cell_type": "markdown",
   "metadata": {},
   "source": [
    "#### Store the tf-idf matrix in a pandas dataframe"
   ]
  },
  {
   "cell_type": "code",
   "execution_count": 18,
   "metadata": {},
   "outputs": [
    {
     "data": {
      "text/html": [
       "<div>\n",
       "<style scoped>\n",
       "    .dataframe tbody tr th:only-of-type {\n",
       "        vertical-align: middle;\n",
       "    }\n",
       "\n",
       "    .dataframe tbody tr th {\n",
       "        vertical-align: top;\n",
       "    }\n",
       "\n",
       "    .dataframe thead th {\n",
       "        text-align: right;\n",
       "    }\n",
       "</style>\n",
       "<table border=\"1\" class=\"dataframe\">\n",
       "  <thead>\n",
       "    <tr style=\"text-align: right;\">\n",
       "      <th></th>\n",
       "      <th>0</th>\n",
       "      <th>1</th>\n",
       "      <th>2</th>\n",
       "      <th>3</th>\n",
       "      <th>4</th>\n",
       "      <th>5</th>\n",
       "      <th>6</th>\n",
       "      <th>7</th>\n",
       "      <th>8</th>\n",
       "      <th>9</th>\n",
       "      <th>...</th>\n",
       "      <th>8027</th>\n",
       "      <th>8028</th>\n",
       "      <th>8029</th>\n",
       "      <th>8030</th>\n",
       "      <th>8031</th>\n",
       "      <th>8032</th>\n",
       "      <th>8033</th>\n",
       "      <th>8034</th>\n",
       "      <th>8035</th>\n",
       "      <th>8036</th>\n",
       "    </tr>\n",
       "  </thead>\n",
       "  <tbody>\n",
       "    <tr>\n",
       "      <th>0</th>\n",
       "      <td>0.0</td>\n",
       "      <td>0.0</td>\n",
       "      <td>0.0</td>\n",
       "      <td>0.0</td>\n",
       "      <td>0.0</td>\n",
       "      <td>0.0</td>\n",
       "      <td>0.0</td>\n",
       "      <td>0.0</td>\n",
       "      <td>0.0</td>\n",
       "      <td>0.0</td>\n",
       "      <td>...</td>\n",
       "      <td>0.0</td>\n",
       "      <td>0.0</td>\n",
       "      <td>0.0</td>\n",
       "      <td>0.0</td>\n",
       "      <td>0.0</td>\n",
       "      <td>0.0</td>\n",
       "      <td>0.0</td>\n",
       "      <td>0.0</td>\n",
       "      <td>0.0</td>\n",
       "      <td>0.0</td>\n",
       "    </tr>\n",
       "    <tr>\n",
       "      <th>1</th>\n",
       "      <td>0.0</td>\n",
       "      <td>0.0</td>\n",
       "      <td>0.0</td>\n",
       "      <td>0.0</td>\n",
       "      <td>0.0</td>\n",
       "      <td>0.0</td>\n",
       "      <td>0.0</td>\n",
       "      <td>0.0</td>\n",
       "      <td>0.0</td>\n",
       "      <td>0.0</td>\n",
       "      <td>...</td>\n",
       "      <td>0.0</td>\n",
       "      <td>0.0</td>\n",
       "      <td>0.0</td>\n",
       "      <td>0.0</td>\n",
       "      <td>0.0</td>\n",
       "      <td>0.0</td>\n",
       "      <td>0.0</td>\n",
       "      <td>0.0</td>\n",
       "      <td>0.0</td>\n",
       "      <td>0.0</td>\n",
       "    </tr>\n",
       "    <tr>\n",
       "      <th>2</th>\n",
       "      <td>0.0</td>\n",
       "      <td>0.0</td>\n",
       "      <td>0.0</td>\n",
       "      <td>0.0</td>\n",
       "      <td>0.0</td>\n",
       "      <td>0.0</td>\n",
       "      <td>0.0</td>\n",
       "      <td>0.0</td>\n",
       "      <td>0.0</td>\n",
       "      <td>0.0</td>\n",
       "      <td>...</td>\n",
       "      <td>0.0</td>\n",
       "      <td>0.0</td>\n",
       "      <td>0.0</td>\n",
       "      <td>0.0</td>\n",
       "      <td>0.0</td>\n",
       "      <td>0.0</td>\n",
       "      <td>0.0</td>\n",
       "      <td>0.0</td>\n",
       "      <td>0.0</td>\n",
       "      <td>0.0</td>\n",
       "    </tr>\n",
       "    <tr>\n",
       "      <th>3</th>\n",
       "      <td>0.0</td>\n",
       "      <td>0.0</td>\n",
       "      <td>0.0</td>\n",
       "      <td>0.0</td>\n",
       "      <td>0.0</td>\n",
       "      <td>0.0</td>\n",
       "      <td>0.0</td>\n",
       "      <td>0.0</td>\n",
       "      <td>0.0</td>\n",
       "      <td>0.0</td>\n",
       "      <td>...</td>\n",
       "      <td>0.0</td>\n",
       "      <td>0.0</td>\n",
       "      <td>0.0</td>\n",
       "      <td>0.0</td>\n",
       "      <td>0.0</td>\n",
       "      <td>0.0</td>\n",
       "      <td>0.0</td>\n",
       "      <td>0.0</td>\n",
       "      <td>0.0</td>\n",
       "      <td>0.0</td>\n",
       "    </tr>\n",
       "    <tr>\n",
       "      <th>4</th>\n",
       "      <td>0.0</td>\n",
       "      <td>0.0</td>\n",
       "      <td>0.0</td>\n",
       "      <td>0.0</td>\n",
       "      <td>0.0</td>\n",
       "      <td>0.0</td>\n",
       "      <td>0.0</td>\n",
       "      <td>0.0</td>\n",
       "      <td>0.0</td>\n",
       "      <td>0.0</td>\n",
       "      <td>...</td>\n",
       "      <td>0.0</td>\n",
       "      <td>0.0</td>\n",
       "      <td>0.0</td>\n",
       "      <td>0.0</td>\n",
       "      <td>0.0</td>\n",
       "      <td>0.0</td>\n",
       "      <td>0.0</td>\n",
       "      <td>0.0</td>\n",
       "      <td>0.0</td>\n",
       "      <td>0.0</td>\n",
       "    </tr>\n",
       "    <tr>\n",
       "      <th>5</th>\n",
       "      <td>0.0</td>\n",
       "      <td>0.0</td>\n",
       "      <td>0.0</td>\n",
       "      <td>0.0</td>\n",
       "      <td>0.0</td>\n",
       "      <td>0.0</td>\n",
       "      <td>0.0</td>\n",
       "      <td>0.0</td>\n",
       "      <td>0.0</td>\n",
       "      <td>0.0</td>\n",
       "      <td>...</td>\n",
       "      <td>0.0</td>\n",
       "      <td>0.0</td>\n",
       "      <td>0.0</td>\n",
       "      <td>0.0</td>\n",
       "      <td>0.0</td>\n",
       "      <td>0.0</td>\n",
       "      <td>0.0</td>\n",
       "      <td>0.0</td>\n",
       "      <td>0.0</td>\n",
       "      <td>0.0</td>\n",
       "    </tr>\n",
       "    <tr>\n",
       "      <th>6</th>\n",
       "      <td>0.0</td>\n",
       "      <td>0.0</td>\n",
       "      <td>0.0</td>\n",
       "      <td>0.0</td>\n",
       "      <td>0.0</td>\n",
       "      <td>0.0</td>\n",
       "      <td>0.0</td>\n",
       "      <td>0.0</td>\n",
       "      <td>0.0</td>\n",
       "      <td>0.0</td>\n",
       "      <td>...</td>\n",
       "      <td>0.0</td>\n",
       "      <td>0.0</td>\n",
       "      <td>0.0</td>\n",
       "      <td>0.0</td>\n",
       "      <td>0.0</td>\n",
       "      <td>0.0</td>\n",
       "      <td>0.0</td>\n",
       "      <td>0.0</td>\n",
       "      <td>0.0</td>\n",
       "      <td>0.0</td>\n",
       "    </tr>\n",
       "    <tr>\n",
       "      <th>7</th>\n",
       "      <td>0.0</td>\n",
       "      <td>0.0</td>\n",
       "      <td>0.0</td>\n",
       "      <td>0.0</td>\n",
       "      <td>0.0</td>\n",
       "      <td>0.0</td>\n",
       "      <td>0.0</td>\n",
       "      <td>0.0</td>\n",
       "      <td>0.0</td>\n",
       "      <td>0.0</td>\n",
       "      <td>...</td>\n",
       "      <td>0.0</td>\n",
       "      <td>0.0</td>\n",
       "      <td>0.0</td>\n",
       "      <td>0.0</td>\n",
       "      <td>0.0</td>\n",
       "      <td>0.0</td>\n",
       "      <td>0.0</td>\n",
       "      <td>0.0</td>\n",
       "      <td>0.0</td>\n",
       "      <td>0.0</td>\n",
       "    </tr>\n",
       "    <tr>\n",
       "      <th>8</th>\n",
       "      <td>0.0</td>\n",
       "      <td>0.0</td>\n",
       "      <td>0.0</td>\n",
       "      <td>0.0</td>\n",
       "      <td>0.0</td>\n",
       "      <td>0.0</td>\n",
       "      <td>0.0</td>\n",
       "      <td>0.0</td>\n",
       "      <td>0.0</td>\n",
       "      <td>0.0</td>\n",
       "      <td>...</td>\n",
       "      <td>0.0</td>\n",
       "      <td>0.0</td>\n",
       "      <td>0.0</td>\n",
       "      <td>0.0</td>\n",
       "      <td>0.0</td>\n",
       "      <td>0.0</td>\n",
       "      <td>0.0</td>\n",
       "      <td>0.0</td>\n",
       "      <td>0.0</td>\n",
       "      <td>0.0</td>\n",
       "    </tr>\n",
       "    <tr>\n",
       "      <th>9</th>\n",
       "      <td>0.0</td>\n",
       "      <td>0.0</td>\n",
       "      <td>0.0</td>\n",
       "      <td>0.0</td>\n",
       "      <td>0.0</td>\n",
       "      <td>0.0</td>\n",
       "      <td>0.0</td>\n",
       "      <td>0.0</td>\n",
       "      <td>0.0</td>\n",
       "      <td>0.0</td>\n",
       "      <td>...</td>\n",
       "      <td>0.0</td>\n",
       "      <td>0.0</td>\n",
       "      <td>0.0</td>\n",
       "      <td>0.0</td>\n",
       "      <td>0.0</td>\n",
       "      <td>0.0</td>\n",
       "      <td>0.0</td>\n",
       "      <td>0.0</td>\n",
       "      <td>0.0</td>\n",
       "      <td>0.0</td>\n",
       "    </tr>\n",
       "  </tbody>\n",
       "</table>\n",
       "<p>10 rows × 8037 columns</p>\n",
       "</div>"
      ],
      "text/plain": [
       "   0     1     2     3     4     5     6     7     8     9     ...  8027  \\\n",
       "0   0.0   0.0   0.0   0.0   0.0   0.0   0.0   0.0   0.0   0.0  ...   0.0   \n",
       "1   0.0   0.0   0.0   0.0   0.0   0.0   0.0   0.0   0.0   0.0  ...   0.0   \n",
       "2   0.0   0.0   0.0   0.0   0.0   0.0   0.0   0.0   0.0   0.0  ...   0.0   \n",
       "3   0.0   0.0   0.0   0.0   0.0   0.0   0.0   0.0   0.0   0.0  ...   0.0   \n",
       "4   0.0   0.0   0.0   0.0   0.0   0.0   0.0   0.0   0.0   0.0  ...   0.0   \n",
       "5   0.0   0.0   0.0   0.0   0.0   0.0   0.0   0.0   0.0   0.0  ...   0.0   \n",
       "6   0.0   0.0   0.0   0.0   0.0   0.0   0.0   0.0   0.0   0.0  ...   0.0   \n",
       "7   0.0   0.0   0.0   0.0   0.0   0.0   0.0   0.0   0.0   0.0  ...   0.0   \n",
       "8   0.0   0.0   0.0   0.0   0.0   0.0   0.0   0.0   0.0   0.0  ...   0.0   \n",
       "9   0.0   0.0   0.0   0.0   0.0   0.0   0.0   0.0   0.0   0.0  ...   0.0   \n",
       "\n",
       "   8028  8029  8030  8031  8032  8033  8034  8035  8036  \n",
       "0   0.0   0.0   0.0   0.0   0.0   0.0   0.0   0.0   0.0  \n",
       "1   0.0   0.0   0.0   0.0   0.0   0.0   0.0   0.0   0.0  \n",
       "2   0.0   0.0   0.0   0.0   0.0   0.0   0.0   0.0   0.0  \n",
       "3   0.0   0.0   0.0   0.0   0.0   0.0   0.0   0.0   0.0  \n",
       "4   0.0   0.0   0.0   0.0   0.0   0.0   0.0   0.0   0.0  \n",
       "5   0.0   0.0   0.0   0.0   0.0   0.0   0.0   0.0   0.0  \n",
       "6   0.0   0.0   0.0   0.0   0.0   0.0   0.0   0.0   0.0  \n",
       "7   0.0   0.0   0.0   0.0   0.0   0.0   0.0   0.0   0.0  \n",
       "8   0.0   0.0   0.0   0.0   0.0   0.0   0.0   0.0   0.0  \n",
       "9   0.0   0.0   0.0   0.0   0.0   0.0   0.0   0.0   0.0  \n",
       "\n",
       "[10 rows x 8037 columns]"
      ]
     },
     "execution_count": 18,
     "metadata": {},
     "output_type": "execute_result"
    }
   ],
   "source": [
    "array = tfid_mattrix.todense()\n",
    "df = pd.DataFrame(array)\n",
    "df.head(10)"
   ]
  },
  {
   "cell_type": "markdown",
   "metadata": {},
   "source": [
    "#### Add the output column to the dataframe"
   ]
  },
  {
   "cell_type": "code",
   "execution_count": 19,
   "metadata": {},
   "outputs": [
    {
     "data": {
      "text/html": [
       "<div>\n",
       "<style scoped>\n",
       "    .dataframe tbody tr th:only-of-type {\n",
       "        vertical-align: middle;\n",
       "    }\n",
       "\n",
       "    .dataframe tbody tr th {\n",
       "        vertical-align: top;\n",
       "    }\n",
       "\n",
       "    .dataframe thead th {\n",
       "        text-align: right;\n",
       "    }\n",
       "</style>\n",
       "<table border=\"1\" class=\"dataframe\">\n",
       "  <thead>\n",
       "    <tr style=\"text-align: right;\">\n",
       "      <th></th>\n",
       "      <th>0</th>\n",
       "      <th>1</th>\n",
       "      <th>2</th>\n",
       "      <th>3</th>\n",
       "      <th>4</th>\n",
       "      <th>5</th>\n",
       "      <th>6</th>\n",
       "      <th>7</th>\n",
       "      <th>8</th>\n",
       "      <th>9</th>\n",
       "      <th>...</th>\n",
       "      <th>8028</th>\n",
       "      <th>8029</th>\n",
       "      <th>8030</th>\n",
       "      <th>8031</th>\n",
       "      <th>8032</th>\n",
       "      <th>8033</th>\n",
       "      <th>8034</th>\n",
       "      <th>8035</th>\n",
       "      <th>8036</th>\n",
       "      <th>label</th>\n",
       "    </tr>\n",
       "  </thead>\n",
       "  <tbody>\n",
       "    <tr>\n",
       "      <th>0</th>\n",
       "      <td>0.0</td>\n",
       "      <td>0.0</td>\n",
       "      <td>0.0</td>\n",
       "      <td>0.0</td>\n",
       "      <td>0.0</td>\n",
       "      <td>0.0</td>\n",
       "      <td>0.0</td>\n",
       "      <td>0.0</td>\n",
       "      <td>0.0</td>\n",
       "      <td>0.0</td>\n",
       "      <td>...</td>\n",
       "      <td>0.0</td>\n",
       "      <td>0.0</td>\n",
       "      <td>0.0</td>\n",
       "      <td>0.0</td>\n",
       "      <td>0.0</td>\n",
       "      <td>0.0</td>\n",
       "      <td>0.0</td>\n",
       "      <td>0.0</td>\n",
       "      <td>0.0</td>\n",
       "      <td>0</td>\n",
       "    </tr>\n",
       "    <tr>\n",
       "      <th>1</th>\n",
       "      <td>0.0</td>\n",
       "      <td>0.0</td>\n",
       "      <td>0.0</td>\n",
       "      <td>0.0</td>\n",
       "      <td>0.0</td>\n",
       "      <td>0.0</td>\n",
       "      <td>0.0</td>\n",
       "      <td>0.0</td>\n",
       "      <td>0.0</td>\n",
       "      <td>0.0</td>\n",
       "      <td>...</td>\n",
       "      <td>0.0</td>\n",
       "      <td>0.0</td>\n",
       "      <td>0.0</td>\n",
       "      <td>0.0</td>\n",
       "      <td>0.0</td>\n",
       "      <td>0.0</td>\n",
       "      <td>0.0</td>\n",
       "      <td>0.0</td>\n",
       "      <td>0.0</td>\n",
       "      <td>0</td>\n",
       "    </tr>\n",
       "    <tr>\n",
       "      <th>2</th>\n",
       "      <td>0.0</td>\n",
       "      <td>0.0</td>\n",
       "      <td>0.0</td>\n",
       "      <td>0.0</td>\n",
       "      <td>0.0</td>\n",
       "      <td>0.0</td>\n",
       "      <td>0.0</td>\n",
       "      <td>0.0</td>\n",
       "      <td>0.0</td>\n",
       "      <td>0.0</td>\n",
       "      <td>...</td>\n",
       "      <td>0.0</td>\n",
       "      <td>0.0</td>\n",
       "      <td>0.0</td>\n",
       "      <td>0.0</td>\n",
       "      <td>0.0</td>\n",
       "      <td>0.0</td>\n",
       "      <td>0.0</td>\n",
       "      <td>0.0</td>\n",
       "      <td>0.0</td>\n",
       "      <td>1</td>\n",
       "    </tr>\n",
       "    <tr>\n",
       "      <th>3</th>\n",
       "      <td>0.0</td>\n",
       "      <td>0.0</td>\n",
       "      <td>0.0</td>\n",
       "      <td>0.0</td>\n",
       "      <td>0.0</td>\n",
       "      <td>0.0</td>\n",
       "      <td>0.0</td>\n",
       "      <td>0.0</td>\n",
       "      <td>0.0</td>\n",
       "      <td>0.0</td>\n",
       "      <td>...</td>\n",
       "      <td>0.0</td>\n",
       "      <td>0.0</td>\n",
       "      <td>0.0</td>\n",
       "      <td>0.0</td>\n",
       "      <td>0.0</td>\n",
       "      <td>0.0</td>\n",
       "      <td>0.0</td>\n",
       "      <td>0.0</td>\n",
       "      <td>0.0</td>\n",
       "      <td>0</td>\n",
       "    </tr>\n",
       "    <tr>\n",
       "      <th>4</th>\n",
       "      <td>0.0</td>\n",
       "      <td>0.0</td>\n",
       "      <td>0.0</td>\n",
       "      <td>0.0</td>\n",
       "      <td>0.0</td>\n",
       "      <td>0.0</td>\n",
       "      <td>0.0</td>\n",
       "      <td>0.0</td>\n",
       "      <td>0.0</td>\n",
       "      <td>0.0</td>\n",
       "      <td>...</td>\n",
       "      <td>0.0</td>\n",
       "      <td>0.0</td>\n",
       "      <td>0.0</td>\n",
       "      <td>0.0</td>\n",
       "      <td>0.0</td>\n",
       "      <td>0.0</td>\n",
       "      <td>0.0</td>\n",
       "      <td>0.0</td>\n",
       "      <td>0.0</td>\n",
       "      <td>0</td>\n",
       "    </tr>\n",
       "  </tbody>\n",
       "</table>\n",
       "<p>5 rows × 8038 columns</p>\n",
       "</div>"
      ],
      "text/plain": [
       "     0    1    2    3    4    5    6    7    8    9  ...  8028  8029  8030  \\\n",
       "0  0.0  0.0  0.0  0.0  0.0  0.0  0.0  0.0  0.0  0.0  ...   0.0   0.0   0.0   \n",
       "1  0.0  0.0  0.0  0.0  0.0  0.0  0.0  0.0  0.0  0.0  ...   0.0   0.0   0.0   \n",
       "2  0.0  0.0  0.0  0.0  0.0  0.0  0.0  0.0  0.0  0.0  ...   0.0   0.0   0.0   \n",
       "3  0.0  0.0  0.0  0.0  0.0  0.0  0.0  0.0  0.0  0.0  ...   0.0   0.0   0.0   \n",
       "4  0.0  0.0  0.0  0.0  0.0  0.0  0.0  0.0  0.0  0.0  ...   0.0   0.0   0.0   \n",
       "\n",
       "   8031  8032  8033  8034  8035  8036  label  \n",
       "0   0.0   0.0   0.0   0.0   0.0   0.0      0  \n",
       "1   0.0   0.0   0.0   0.0   0.0   0.0      0  \n",
       "2   0.0   0.0   0.0   0.0   0.0   0.0      1  \n",
       "3   0.0   0.0   0.0   0.0   0.0   0.0      0  \n",
       "4   0.0   0.0   0.0   0.0   0.0   0.0      0  \n",
       "\n",
       "[5 rows x 8038 columns]"
      ]
     },
     "execution_count": 19,
     "metadata": {},
     "output_type": "execute_result"
    }
   ],
   "source": [
    "df['label'] = data['label']\n",
    "df.head()"
   ]
  },
  {
   "cell_type": "markdown",
   "metadata": {},
   "source": [
    "## 3. Train different Naive Bayes classifier models and access their performance"
   ]
  },
  {
   "cell_type": "markdown",
   "metadata": {},
   "source": [
    "**Features and output of the model**"
   ]
  },
  {
   "cell_type": "code",
   "execution_count": 20,
   "metadata": {},
   "outputs": [],
   "source": [
    "features = df.columns.tolist()\n",
    "output = 'label'\n",
    "features.remove(output)"
   ]
  },
  {
   "cell_type": "markdown",
   "metadata": {},
   "source": [
    "**Do a train test split**"
   ]
  },
  {
   "cell_type": "code",
   "execution_count": 21,
   "metadata": {},
   "outputs": [],
   "source": [
    "train_data, test_data = train_test_split(df, test_size = 0.2, random_state = 1)"
   ]
  },
  {
   "cell_type": "markdown",
   "metadata": {
    "collapsed": true
   },
   "source": [
    "### 3.1 Train and access the performance of Gaussian Naive Bayes classifier"
   ]
  },
  {
   "cell_type": "markdown",
   "metadata": {},
   "source": [
    "**Create and fit model**"
   ]
  },
  {
   "cell_type": "code",
   "execution_count": 22,
   "metadata": {},
   "outputs": [
    {
     "data": {
      "text/plain": [
       "GaussianNB()"
      ]
     },
     "execution_count": 22,
     "metadata": {},
     "output_type": "execute_result"
    }
   ],
   "source": [
    "model1 = GaussianNB()\n",
    "model1.fit(train_data[features], train_data[output])"
   ]
  },
  {
   "cell_type": "markdown",
   "metadata": {},
   "source": [
    "**Access the performance of the model using the test data**"
   ]
  },
  {
   "cell_type": "code",
   "execution_count": 23,
   "metadata": {},
   "outputs": [
    {
     "name": "stdout",
     "output_type": "stream",
     "text": [
      "Accuracy:  0.87\n",
      "Precision:  0.49\n",
      "Recall:  0.91\n"
     ]
    }
   ],
   "source": [
    "# compute the predictions of test data\n",
    "predictions = model1.predict(test_data[features])\n",
    "# calculate the accuracy, precision, and recall of the model\n",
    "accuracy = accuracy_score(test_data[output], predictions)\n",
    "precision = precision_score(test_data[output], predictions)\n",
    "recall = recall_score(test_data[output], predictions)\n",
    "# print the performance metrics\n",
    "print(\"Accuracy: \", round(accuracy,2))\n",
    "print(\"Precision: \", round(precision,2))\n",
    "print(\"Recall: \", round(recall,2))"
   ]
  },
  {
   "cell_type": "markdown",
   "metadata": {},
   "source": [
    "### 3.2 Train and access the performance of Multinomial Naive Bayes classifier"
   ]
  },
  {
   "cell_type": "markdown",
   "metadata": {},
   "source": [
    "**Create and fit model**"
   ]
  },
  {
   "cell_type": "code",
   "execution_count": 24,
   "metadata": {},
   "outputs": [
    {
     "data": {
      "text/plain": [
       "MultinomialNB(alpha=0.1)"
      ]
     },
     "execution_count": 24,
     "metadata": {},
     "output_type": "execute_result"
    }
   ],
   "source": [
    "model2 = MultinomialNB(alpha=0.1)\n",
    "model2.fit(train_data[features], train_data[output])"
   ]
  },
  {
   "cell_type": "markdown",
   "metadata": {},
   "source": [
    "**Access the performance of the model using the test data**"
   ]
  },
  {
   "cell_type": "code",
   "execution_count": 25,
   "metadata": {},
   "outputs": [
    {
     "name": "stdout",
     "output_type": "stream",
     "text": [
      "Accuracy:  0.98\n",
      "Precision:  0.91\n",
      "Recall:  0.94\n"
     ]
    }
   ],
   "source": [
    "# compute the predictions of test data\n",
    "predictions = model2.predict(test_data[features])\n",
    "# calculate the accuracy, precision, and recall of the model\n",
    "accuracy = accuracy_score(test_data[output], predictions)\n",
    "precision = precision_score(test_data[output], predictions)\n",
    "recall = recall_score(test_data[output], predictions)\n",
    "# print the performance metrics\n",
    "print(\"Accuracy: \", round(accuracy,2))\n",
    "print(\"Precision: \", round(precision,2))\n",
    "print(\"Recall: \", round(recall,2))"
   ]
  },
  {
   "cell_type": "markdown",
   "metadata": {},
   "source": [
    "### 3.3 Train and access the performance of Bernoulli Naive Bayes classifier"
   ]
  },
  {
   "cell_type": "markdown",
   "metadata": {},
   "source": [
    "**Create and fit model**"
   ]
  },
  {
   "cell_type": "code",
   "execution_count": 26,
   "metadata": {},
   "outputs": [
    {
     "data": {
      "text/plain": [
       "BernoulliNB(alpha=0.1)"
      ]
     },
     "execution_count": 26,
     "metadata": {},
     "output_type": "execute_result"
    }
   ],
   "source": [
    "model3 = BernoulliNB(alpha=0.1)\n",
    "model3.fit(train_data[features], train_data[output])"
   ]
  },
  {
   "cell_type": "markdown",
   "metadata": {},
   "source": [
    "**Access the performance of the model using the test data**"
   ]
  },
  {
   "cell_type": "code",
   "execution_count": 27,
   "metadata": {
    "scrolled": true
   },
   "outputs": [
    {
     "name": "stdout",
     "output_type": "stream",
     "text": [
      "Accuracy:  0.98\n",
      "Precision:  0.94\n",
      "Recall:  0.94\n"
     ]
    }
   ],
   "source": [
    "# compute the predictions of test data\n",
    "predictions = model3.predict(test_data[features])\n",
    "# calculate the accuracy, precision, and recall of the model\n",
    "accuracy = accuracy_score(test_data[output], predictions)\n",
    "precision = precision_score(test_data[output], predictions)\n",
    "recall = recall_score(test_data[output], predictions)\n",
    "# print the performance metrics\n",
    "print(\"Accuracy: \", round(accuracy,2))\n",
    "print(\"Precision: \", round(precision,2))\n",
    "print(\"Recall: \", round(recall,2))"
   ]
  }
 ],
 "metadata": {
  "kernelspec": {
   "display_name": "Python 3",
   "language": "python",
   "name": "python3"
  },
  "language_info": {
   "codemirror_mode": {
    "name": "ipython",
    "version": 3
   },
   "file_extension": ".py",
   "mimetype": "text/x-python",
   "name": "python",
   "nbconvert_exporter": "python",
   "pygments_lexer": "ipython3",
   "version": "3.8.12"
  }
 },
 "nbformat": 4,
 "nbformat_minor": 2
}
