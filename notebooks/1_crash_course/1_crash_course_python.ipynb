{
 "cells": [
  {
   "cell_type": "markdown",
   "metadata": {},
   "source": [
    "# CRASH COURSE ON PYTHON\n"
   ]
  },
  {
   "cell_type": "markdown",
   "metadata": {},
   "source": [
    "# What is Python?\n"
   ]
  },
  {
   "cell_type": "raw",
   "metadata": {},
   "source": [
    "Python is a popular programming language. It was created by Guido van Rossum, and released in 1991.\n",
    "\n",
    "It is used for:\n",
    "    * web development (server-side),\n",
    "    * software development,\n",
    "    * mathematics,\n",
    "    * system scripting."
   ]
  },
  {
   "cell_type": "markdown",
   "metadata": {},
   "source": [
    "#  Table of Contents\n"
   ]
  },
  {
   "cell_type": "raw",
   "metadata": {},
   "source": [
    "0.1 Data types\n",
    "0.1.1 Numbers, Arithmetic Operations\n",
    "0.1.2 Strings\n",
    "0.1.3 Printing\n",
    "0.1.4 Lists\n",
    "0.1.5 Dictionaries\n",
    "0.1.6 Booleans\n",
    "0.1.7 Tuples\n",
    "0.1.8 Sets\n",
    "0.1.9 Comparison Operators\n",
    "0.1.10 Logical Operators\n",
    "0.1.11 Assignment Operators\n",
    "0.1.12 if,elif, else Statements\n",
    "0.1.13 for Loops\n",
    "0.1.14 while Loops\n",
    "0.1.15 range()\n",
    "0.1.16 List comprehension\n",
    "0.1.17 functions\n",
    "0.1.18 lambda expressions\n",
    "0.1.19 map and filter\n",
    "0.1.20 methods"
   ]
  },
  {
   "cell_type": "markdown",
   "metadata": {},
   "source": [
    "## Import libraries if needed"
   ]
  },
  {
   "cell_type": "code",
   "execution_count": 1,
   "metadata": {},
   "outputs": [],
   "source": [
    "import os\n",
    "import numpy as np\n",
    "import pandas as pd"
   ]
  },
  {
   "cell_type": "markdown",
   "metadata": {},
   "source": [
    "# 0.1 Data types"
   ]
  },
  {
   "cell_type": "markdown",
   "metadata": {},
   "source": [
    "## 0.1.1 Numbers, Arithmetic Operations"
   ]
  },
  {
   "cell_type": "markdown",
   "metadata": {},
   "source": [
    "Some basic examples of using numbers and arithmetic operations in python :-"
   ]
  },
  {
   "cell_type": "code",
   "execution_count": 2,
   "metadata": {},
   "outputs": [
    {
     "name": "stdout",
     "output_type": "stream",
     "text": [
      "2\n"
     ]
    }
   ],
   "source": [
    "add = 1 + 1  # addition \n",
    "print(add)"
   ]
  },
  {
   "cell_type": "code",
   "execution_count": 3,
   "metadata": {},
   "outputs": [
    {
     "name": "stdout",
     "output_type": "stream",
     "text": [
      "3\n"
     ]
    }
   ],
   "source": [
    "mul = 1 * 3  # multiplication\n",
    "print(mul)"
   ]
  },
  {
   "cell_type": "code",
   "execution_count": 4,
   "metadata": {},
   "outputs": [
    {
     "name": "stdout",
     "output_type": "stream",
     "text": [
      "2.0\n"
     ]
    }
   ],
   "source": [
    "div = 4 / 2  # division\n",
    "print(div)"
   ]
  },
  {
   "cell_type": "code",
   "execution_count": 5,
   "metadata": {},
   "outputs": [
    {
     "name": "stdout",
     "output_type": "stream",
     "text": [
      "16\n"
     ]
    }
   ],
   "source": [
    "exp = 2 ** 4  # 2 to the power of 4\n",
    "print(exp)"
   ]
  },
  {
   "cell_type": "code",
   "execution_count": 6,
   "metadata": {},
   "outputs": [
    {
     "name": "stdout",
     "output_type": "stream",
     "text": [
      "0\n",
      "1\n"
     ]
    }
   ],
   "source": [
    "mod1 = 4 % 2   # modulus operation (return the remainder as an output)\n",
    "mod2 = 5 % 2 \n",
    "\n",
    "print(mod1)\n",
    "print(mod2)"
   ]
  },
  {
   "cell_type": "code",
   "execution_count": 7,
   "metadata": {},
   "outputs": [
    {
     "name": "stdout",
     "output_type": "stream",
     "text": [
      "50\n"
     ]
    }
   ],
   "source": [
    "bodmas = (2+3) * (5+5)   # BODMAS rule\n",
    "print(bodmas)"
   ]
  },
  {
   "cell_type": "code",
   "execution_count": 8,
   "metadata": {},
   "outputs": [
    {
     "name": "stdout",
     "output_type": "stream",
     "text": [
      "<class 'int'>\n",
      "<class 'float'>\n"
     ]
    }
   ],
   "source": [
    "i = 100           # integer \n",
    "print(type(i))    # check the type of a variable by type() function\n",
    "\n",
    "f = 100.5         # float\n",
    "print(type(f))"
   ]
  },
  {
   "cell_type": "markdown",
   "metadata": {},
   "source": [
    "Some basic arithmetic operations :-"
   ]
  },
  {
   "cell_type": "code",
   "execution_count": 9,
   "metadata": {},
   "outputs": [
    {
     "name": "stdout",
     "output_type": "stream",
     "text": [
      "10\n",
      "30\n",
      "100\n"
     ]
    }
   ],
   "source": [
    "print(min(10,20,30))    # returns the minimum value\n",
    "print(max(10,20,30))    # returns the maximum value\n",
    "print(abs(-100))        # returns the absolute value"
   ]
  },
  {
   "cell_type": "code",
   "execution_count": 10,
   "metadata": {},
   "outputs": [
    {
     "name": "stdout",
     "output_type": "stream",
     "text": [
      "10.0\n",
      "120\n"
     ]
    }
   ],
   "source": [
    "import math\n",
    "x = 100\n",
    "print(math.sqrt(x))        # returns square root\n",
    "print(math.factorial(5))   # returns factorial"
   ]
  },
  {
   "cell_type": "markdown",
   "metadata": {},
   "source": [
    "# 0.1.2 Strings"
   ]
  },
  {
   "cell_type": "markdown",
   "metadata": {},
   "source": [
    "You can initialize strings within single quotes or double quotes as shown by the following examples :-"
   ]
  },
  {
   "cell_type": "code",
   "execution_count": 11,
   "metadata": {},
   "outputs": [
    {
     "name": "stdout",
     "output_type": "stream",
     "text": [
      "Hello\n",
      "I love Python\n"
     ]
    }
   ],
   "source": [
    "s = 'Hello'\n",
    "p = \"I love Python\"\n",
    "\n",
    "print(s)\n",
    "print(p)"
   ]
  },
  {
   "cell_type": "markdown",
   "metadata": {},
   "source": [
    "If you want to use quotes within the string you can use it by the following way :-"
   ]
  },
  {
   "cell_type": "code",
   "execution_count": 12,
   "metadata": {},
   "outputs": [
    {
     "name": "stdout",
     "output_type": "stream",
     "text": [
      "I love 'Python'\n"
     ]
    }
   ],
   "source": [
    "p1 = \"I love 'Python'\"       # the most straight forward way \n",
    "print(p1)"
   ]
  },
  {
   "cell_type": "markdown",
   "metadata": {},
   "source": [
    "You can append two strings as follows :-"
   ]
  },
  {
   "cell_type": "code",
   "execution_count": 13,
   "metadata": {},
   "outputs": [
    {
     "name": "stdout",
     "output_type": "stream",
     "text": [
      "Hello World\n"
     ]
    }
   ],
   "source": [
    "s1 = \"Hello\"\n",
    "s2 = \" World\"\n",
    "\n",
    "print(s1+s2)  # notice in s2 I have used a blank space before World. If not the output would have been \"HelloWorld\". "
   ]
  },
  {
   "cell_type": "markdown",
   "metadata": {},
   "source": [
    "You can use * for reptition of a string as shown below :-"
   ]
  },
  {
   "cell_type": "code",
   "execution_count": 14,
   "metadata": {},
   "outputs": [
    {
     "name": "stdout",
     "output_type": "stream",
     "text": [
      "AAAAAAAAAA\n"
     ]
    }
   ],
   "source": [
    "print('A' * 10)           # prints 'A' 10 times "
   ]
  },
  {
   "cell_type": "code",
   "execution_count": 15,
   "metadata": {},
   "outputs": [
    {
     "name": "stdout",
     "output_type": "stream",
     "text": [
      "HelloHelloHelloHelloHelloHelloHelloHelloHelloHello\n"
     ]
    }
   ],
   "source": [
    "print('Hello' * 10)       # prints the word 'Hello' 10 times "
   ]
  },
  {
   "cell_type": "markdown",
   "metadata": {},
   "source": [
    "# 0.1.3 Printing"
   ]
  },
  {
   "cell_type": "raw",
   "metadata": {},
   "source": [
    "Using .format() to print string :-"
   ]
  },
  {
   "cell_type": "code",
   "execution_count": 16,
   "metadata": {},
   "outputs": [
    {
     "name": "stdout",
     "output_type": "stream",
     "text": [
      "My number is: 12, and my name is: Sam\n"
     ]
    }
   ],
   "source": [
    "num = 12\n",
    "name = 'Sam'\n",
    "\n",
    "print('My number is: {one}, and my name is: {two}'.format(one=num,two=name)) "
   ]
  },
  {
   "cell_type": "markdown",
   "metadata": {},
   "source": [
    "# 0.1.4 Lists"
   ]
  },
  {
   "cell_type": "markdown",
   "metadata": {},
   "source": [
    "Lists are mutable objects which mean they are not fixed in size and are dynamic. In simple words you can add or remove elements from Lists."
   ]
  },
  {
   "cell_type": "code",
   "execution_count": 17,
   "metadata": {},
   "outputs": [
    {
     "name": "stdout",
     "output_type": "stream",
     "text": [
      "[1, 2, 3, 'John']\n",
      "<class 'list'>\n"
     ]
    }
   ],
   "source": [
    "x = [1,2,3,\"John\"]       # List can contain same data types or multiple data types.\n",
    "print(x)                 # print the list  \n",
    "print(type(x))           # confirm the type"
   ]
  },
  {
   "cell_type": "markdown",
   "metadata": {},
   "source": [
    "List append :-"
   ]
  },
  {
   "cell_type": "code",
   "execution_count": 18,
   "metadata": {},
   "outputs": [
    {
     "name": "stdout",
     "output_type": "stream",
     "text": [
      "['a', 'b', 'c', 'd']\n"
     ]
    }
   ],
   "source": [
    "my_list = ['a','b','c']      # create a list \n",
    "my_list.append('d')          # append to the list using .append() function\n",
    "\n",
    "print(my_list)"
   ]
  },
  {
   "cell_type": "markdown",
   "metadata": {},
   "source": [
    "List Su`bsetting :-"
   ]
  },
  {
   "cell_type": "code",
   "execution_count": 19,
   "metadata": {},
   "outputs": [
    {
     "name": "stdout",
     "output_type": "stream",
     "text": [
      "['a', 'b', 'c', 'd']\n",
      "a\n",
      "b\n",
      "['b', 'c', 'd']\n",
      "['a']\n"
     ]
    }
   ],
   "source": [
    "my_list =  ['a','b','c','d']  # create the same list \n",
    "print(my_list)\n",
    "print(my_list[0])             # select the first element from the list. In Python the List indexing begins from 0.\n",
    "print(my_list[1])             # select the second item. \n",
    "print(my_list[1:])            # select all items from the 1st index and onwards. \n",
    "print(my_list[:1])            # select all items before the 1st index. "
   ]
  },
  {
   "cell_type": "markdown",
   "metadata": {},
   "source": [
    "# 0.1.5 Dictionaries\n"
   ]
  },
  {
   "cell_type": "markdown",
   "metadata": {},
   "source": [
    "Dictionaries are special data types. They are stored as key:value pairs."
   ]
  },
  {
   "cell_type": "code",
   "execution_count": 20,
   "metadata": {},
   "outputs": [
    {
     "name": "stdout",
     "output_type": "stream",
     "text": [
      "{'key1': 'item1', 'key2': 'item2'}\n",
      "item1\n"
     ]
    }
   ],
   "source": [
    "d = {'key1':'item1','key2':'item2'}    # create a dictionary\n",
    "print(d)\n",
    "\n",
    "print(d['key1'])                       # will return the value associated with the key 'key1' from the dictionary"
   ]
  },
  {
   "cell_type": "markdown",
   "metadata": {},
   "source": [
    "# 0.1.6 Booleans"
   ]
  },
  {
   "cell_type": "markdown",
   "metadata": {},
   "source": [
    "Basic boolean operations :-"
   ]
  },
  {
   "cell_type": "code",
   "execution_count": 21,
   "metadata": {},
   "outputs": [
    {
     "name": "stdout",
     "output_type": "stream",
     "text": [
      "<class 'bool'>\n",
      "<class 'bool'>\n"
     ]
    }
   ],
   "source": [
    "x = True             # initialize x as true \n",
    "print(type(x))       # confirm the type to be boolean\n",
    "                     \n",
    "y = False           # initialize y as false \n",
    "print(type(y))      # confirm the type to be boolean"
   ]
  },
  {
   "cell_type": "code",
   "execution_count": 22,
   "metadata": {},
   "outputs": [
    {
     "name": "stdout",
     "output_type": "stream",
     "text": [
      "True\n",
      "False\n"
     ]
    }
   ],
   "source": [
    "x1 = 10 > 2          # will return true\n",
    "print(x1)\n",
    "\n",
    "y1 = 1 > 10          # will return false\n",
    "print(y1)"
   ]
  },
  {
   "cell_type": "markdown",
   "metadata": {},
   "source": [
    "# 0.1.7 Tuples"
   ]
  },
  {
   "cell_type": "markdown",
   "metadata": {},
   "source": [
    "Unlike Lists Tuples are fixed size in nature. They are immutable which means you cannot add elements in a tuple."
   ]
  },
  {
   "cell_type": "code",
   "execution_count": 23,
   "metadata": {},
   "outputs": [
    {
     "name": "stdout",
     "output_type": "stream",
     "text": [
      "(1, 2, 3, 4)\n",
      "<class 'tuple'>\n"
     ]
    }
   ],
   "source": [
    "t = (1,2,3,4)       # initialize a tuple t.\n",
    "print(t)            # print the tuple\n",
    "print(type(t))      # confirm the type\n",
    "\n",
    "# t.append(5)       # You can't add elements to a tuple as it is immutable. So this will return an error. "
   ]
  },
  {
   "cell_type": "markdown",
   "metadata": {},
   "source": [
    "# 0.1.8 Sets"
   ]
  },
  {
   "cell_type": "markdown",
   "metadata": {},
   "source": [
    "A set contains an unordered collection of unique and immutable objects. The set data type is, as the name implies, a Python implementation of the sets as they are known from mathematics."
   ]
  },
  {
   "cell_type": "code",
   "execution_count": 24,
   "metadata": {},
   "outputs": [
    {
     "name": "stdout",
     "output_type": "stream",
     "text": [
      "{1, 2, 3}\n",
      "{1, 2, 3}\n"
     ]
    }
   ],
   "source": [
    "set1 = {1,2,3}                              # create a set\n",
    "print(set1)                                 # print a set\n",
    "\n",
    "set2 = {1,2,3,1,2,1,2,3,3,3,3,2,2,2,1,1,2}  \n",
    "print(set2)                                 # will only return the unique values "
   ]
  },
  {
   "cell_type": "markdown",
   "metadata": {},
   "source": [
    "# 0.1.9 Comparison Operators"
   ]
  },
  {
   "cell_type": "raw",
   "metadata": {},
   "source": [
    "Basic Comparison Operators :-"
   ]
  },
  {
   "cell_type": "code",
   "execution_count": 25,
   "metadata": {},
   "outputs": [
    {
     "name": "stdout",
     "output_type": "stream",
     "text": [
      "True\n",
      "False\n",
      "True\n",
      "False\n",
      "False\n",
      "True\n"
     ]
    }
   ],
   "source": [
    "x = 10\n",
    "y = 20\n",
    "\n",
    "print(x < y)        # returns true\n",
    "print(x > y)        # returns false \n",
    "print(x <= y)       # returns true\n",
    "print(x >= y)       # returns false\n",
    "print(x == y)       # returns false (check for equality)\n",
    "print(x != y)       # returns true  (! is not operator)"
   ]
  },
  {
   "cell_type": "code",
   "execution_count": 26,
   "metadata": {},
   "outputs": [
    {
     "name": "stdout",
     "output_type": "stream",
     "text": [
      "True\n",
      "False\n",
      "True\n"
     ]
    }
   ],
   "source": [
    "x = 10\n",
    "xx = 10.0\n",
    "y = 10\n",
    "\n",
    "print(x == xx)    # returns true\n",
    "print(x is xx)    # returns false\n",
    "print(x is y)     # returns true"
   ]
  },
  {
   "cell_type": "code",
   "execution_count": 27,
   "metadata": {},
   "outputs": [
    {
     "name": "stdout",
     "output_type": "stream",
     "text": [
      "[10, 20, 30, 40]\n",
      "True\n",
      "False\n",
      "Hello World\n",
      "True\n",
      "False\n",
      "True\n"
     ]
    }
   ],
   "source": [
    "A = [10,20,30,40]        # create a list\n",
    "print(A)\n",
    "\n",
    "print(10 in A)           # returns true\n",
    "print(50 in A)           # returns false\n",
    "\n",
    "s = \"Hello World\"        # sample string\n",
    "print(s)                 # print string\n",
    "\n",
    "print('e' in s)          # returns true\n",
    "print('k' in s)          # returns false\n",
    "print('Hello' in s)      # returns true"
   ]
  },
  {
   "cell_type": "markdown",
   "metadata": {},
   "source": [
    "# 0.1.10 Logical Operators"
   ]
  },
  {
   "cell_type": "raw",
   "metadata": {},
   "source": [
    "Some examples of logical operators :-"
   ]
  },
  {
   "cell_type": "code",
   "execution_count": 28,
   "metadata": {},
   "outputs": [
    {
     "name": "stdout",
     "output_type": "stream",
     "text": [
      "False\n",
      "False\n",
      "True\n"
     ]
    }
   ],
   "source": [
    "print(1 > 2) and (2 < 3)                  # false and true will return false\n",
    "print(1 > 2) or (2 < 3)                   # false or true will return true\n",
    "print((1 == 2) or (2 == 3) or (4 == 4))   # false or false or true will return true"
   ]
  },
  {
   "cell_type": "markdown",
   "metadata": {},
   "source": [
    "# 0.1.11 Assignment Operators"
   ]
  },
  {
   "cell_type": "raw",
   "metadata": {},
   "source": [
    "Some examples of assignment operators :-"
   ]
  },
  {
   "cell_type": "code",
   "execution_count": 29,
   "metadata": {},
   "outputs": [
    {
     "name": "stdout",
     "output_type": "stream",
     "text": [
      "10\n",
      "15\n",
      "25\n",
      "20\n",
      "40\n"
     ]
    }
   ],
   "source": [
    "x = 10\n",
    "print(x)\n",
    "\n",
    "x = x + 5\n",
    "print(x)\n",
    "\n",
    "x +=10      # similar to x = x + 10\n",
    "print(x)\n",
    "\n",
    "x -=5      # similar to x = x - 5\n",
    "print(x)\n",
    "\n",
    "x *=2      # similar to x = x * 2\n",
    "print(x)"
   ]
  },
  {
   "cell_type": "markdown",
   "metadata": {},
   "source": [
    "# 0.1.12 if,elif, else Statements"
   ]
  },
  {
   "cell_type": "markdown",
   "metadata": {},
   "source": [
    "Some examples of if, elif and else statements :-"
   ]
  },
  {
   "cell_type": "code",
   "execution_count": 30,
   "metadata": {},
   "outputs": [
    {
     "name": "stdout",
     "output_type": "stream",
     "text": [
      "Yep!\n",
      "first\n",
      "last\n",
      "middle\n"
     ]
    }
   ],
   "source": [
    "if 1 < 2:\n",
    "    print('Yep!')         # will print 'Yep!'\n",
    "   \n",
    "if 1 < 2:\n",
    "    print('first')\n",
    "else:\n",
    "    print('last')         # will print 'first'\n",
    "   \n",
    "if 1 > 2:\n",
    "    print('first')\n",
    "else:\n",
    "    print('last')         # will print 'last'\n",
    "   \n",
    "if 1 == 2:\n",
    "    print('first')\n",
    "elif 3 == 3:\n",
    "    print('middle')\n",
    "else:\n",
    "    print('last')         # will print middle"
   ]
  },
  {
   "cell_type": "markdown",
   "metadata": {},
   "source": [
    "# 0.1.13 for Loops"
   ]
  },
  {
   "cell_type": "markdown",
   "metadata": {},
   "source": [
    "Some examples of for loops :-"
   ]
  },
  {
   "cell_type": "code",
   "execution_count": 31,
   "metadata": {},
   "outputs": [
    {
     "name": "stdout",
     "output_type": "stream",
     "text": [
      "1\n",
      "2\n",
      "3\n",
      "4\n",
      "5\n"
     ]
    }
   ],
   "source": [
    "seq = [1,2,3,4,5]        # create a list\n",
    "\n",
    "for item in seq:\n",
    "    print(item)          # will print all the contents of the list seq. "
   ]
  },
  {
   "cell_type": "code",
   "execution_count": 32,
   "metadata": {},
   "outputs": [
    {
     "name": "stdout",
     "output_type": "stream",
     "text": [
      "Yep!\n",
      "Yep!\n",
      "Yep!\n",
      "Yep!\n",
      "Yep!\n"
     ]
    }
   ],
   "source": [
    "seq = [1,2,3,4,5]  \n",
    "\n",
    "for item in seq:\n",
    "    print('Yep!')          # will print 'Yep!' 5 times"
   ]
  },
  {
   "cell_type": "code",
   "execution_count": 33,
   "metadata": {},
   "outputs": [
    {
     "name": "stdout",
     "output_type": "stream",
     "text": [
      "2\n",
      "4\n",
      "6\n",
      "8\n",
      "10\n"
     ]
    }
   ],
   "source": [
    "seq = [1,2,3,4,5] \n",
    "\n",
    "for item in seq:\n",
    "    print(item+item)       # add each element in the list with itself"
   ]
  },
  {
   "cell_type": "markdown",
   "metadata": {},
   "source": [
    "# 0.1.14 while Loops"
   ]
  },
  {
   "cell_type": "markdown",
   "metadata": {},
   "source": [
    "Example of while Loop :-"
   ]
  },
  {
   "cell_type": "code",
   "execution_count": 34,
   "metadata": {},
   "outputs": [
    {
     "name": "stdout",
     "output_type": "stream",
     "text": [
      "i is: 1\n",
      "i is: 2\n",
      "i is: 3\n",
      "i is: 4\n"
     ]
    }
   ],
   "source": [
    "i = 1\n",
    "while i < 5:\n",
    "    print('i is: {}'.format(i))\n",
    "    i = i + 1"
   ]
  },
  {
   "cell_type": "markdown",
   "metadata": {},
   "source": [
    "# 0.1.15 range()"
   ]
  },
  {
   "cell_type": "markdown",
   "metadata": {},
   "source": [
    "range() function can be used to create a list. It has two paramets start and stop. Example is shown as follows :-"
   ]
  },
  {
   "cell_type": "code",
   "execution_count": 35,
   "metadata": {},
   "outputs": [
    {
     "name": "stdout",
     "output_type": "stream",
     "text": [
      "range(0, 5)\n",
      "range(5, 20)\n"
     ]
    }
   ],
   "source": [
    "print(range(5))          # prints a list with 5 items from 0 to 4\n",
    "print(range(5,20))       # prints a list from 5 to 19. "
   ]
  },
  {
   "cell_type": "code",
   "execution_count": 36,
   "metadata": {},
   "outputs": [
    {
     "name": "stdout",
     "output_type": "stream",
     "text": [
      "0\n",
      "1\n",
      "2\n",
      "3\n",
      "4\n"
     ]
    }
   ],
   "source": [
    "for i in range(5):         # you can also use a for loop with range\n",
    "    print(i)"
   ]
  },
  {
   "cell_type": "markdown",
   "metadata": {},
   "source": [
    "# 0.1.16 List comprehension"
   ]
  },
  {
   "cell_type": "markdown",
   "metadata": {},
   "source": [
    "Example of List comprehension :-"
   ]
  },
  {
   "cell_type": "code",
   "execution_count": 37,
   "metadata": {},
   "outputs": [
    {
     "name": "stdout",
     "output_type": "stream",
     "text": [
      "[1, 4, 9, 16]\n"
     ]
    }
   ],
   "source": [
    "x = [1,2,3,4]\n",
    "out = []\n",
    " \n",
    "for item in x:               # take each element from x, square it and append to out []\n",
    "    out.append(item ** 2)\n",
    "print(out)"
   ]
  },
  {
   "cell_type": "code",
   "execution_count": 38,
   "metadata": {},
   "outputs": [
    {
     "name": "stdout",
     "output_type": "stream",
     "text": [
      "[1, 4, 9, 16]\n"
     ]
    }
   ],
   "source": [
    "x = [1,2,3,4]\n",
    "\n",
    "print([item ** 2 for item in x])    # same output as above with one liner"
   ]
  },
  {
   "cell_type": "markdown",
   "metadata": {},
   "source": [
    "# 0.1.17 functions"
   ]
  },
  {
   "cell_type": "markdown",
   "metadata": {},
   "source": [
    "An example of a simple function in Python :-"
   ]
  },
  {
   "cell_type": "code",
   "execution_count": 39,
   "metadata": {},
   "outputs": [
    {
     "name": "stdout",
     "output_type": "stream",
     "text": [
      "4\n"
     ]
    }
   ],
   "source": [
    "def square(x):\n",
    "    return x**2            # function takes an integer and returns its squared value\n",
    "\n",
    "out = square(2)\n",
    "print(out)                # returns 4"
   ]
  },
  {
   "cell_type": "code",
   "execution_count": 40,
   "metadata": {},
   "outputs": [
    {
     "name": "stdout",
     "output_type": "stream",
     "text": [
      "4\n"
     ]
    }
   ],
   "source": [
    "def add(x,y):\n",
    "    return x+y      \n",
    "\n",
    "out = add(2,2)\n",
    "print(out)  "
   ]
  },
  {
   "cell_type": "markdown",
   "metadata": {},
   "source": [
    "# 0.1.18 lambda expressions"
   ]
  },
  {
   "cell_type": "code",
   "execution_count": 41,
   "metadata": {},
   "outputs": [
    {
     "name": "stdout",
     "output_type": "stream",
     "text": [
      "4\n",
      "4\n"
     ]
    }
   ],
   "source": [
    "def times2(var):\n",
    "    return var*2          # takes an integer as an input and returns integer times 2 as output\n",
    "out = times2(2) \n",
    "print(out)\n",
    "\n",
    "\n",
    "l = lambda var: var*2        # same function using lambda which is one liner\n",
    "print(l(2))"
   ]
  },
  {
   "cell_type": "markdown",
   "metadata": {},
   "source": [
    "# 0.1.19 map and filter"
   ]
  },
  {
   "cell_type": "markdown",
   "metadata": {},
   "source": [
    "Example using map and filter along with lambda expressions :-"
   ]
  },
  {
   "cell_type": "code",
   "execution_count": 42,
   "metadata": {},
   "outputs": [
    {
     "name": "stdout",
     "output_type": "stream",
     "text": [
      "[2, 4, 6, 8, 10]\n",
      "[2, 4, 6, 8, 10]\n",
      "[2, 4]\n"
     ]
    }
   ],
   "source": [
    "def times2(var):                                    # same times2 function as defined above\n",
    "    return var*2 \n",
    "   \n",
    "seq = [1,2,3,4,5]                                   # create a list\n",
    "print(list(map(times2,seq)))                        # use map to apply times2 function on each element of list seq.\n",
    "\n",
    "print(list(map(lambda var: var*2,seq)))             # same as above but using lambda expression\n",
    "\n",
    "print(list(filter(lambda item: item%2 == 0,seq)))   # filter and print those elements from list seq which are divisible by 2"
   ]
  },
  {
   "cell_type": "markdown",
   "metadata": {},
   "source": [
    "# 0.1.20 string methods"
   ]
  },
  {
   "cell_type": "code",
   "execution_count": 43,
   "metadata": {},
   "outputs": [
    {
     "name": "stdout",
     "output_type": "stream",
     "text": [
      "Hello My Name is Sam\n",
      "hello my name is sam\n",
      "HELLO MY NAME IS SAM\n",
      "['Hello', 'My', 'Name', 'is', 'Sam']\n",
      "Go Sports! #Sports\n",
      "['Go Sports! ', 'Sports']\n",
      "[1, 2, 3]\n",
      "[1, 2]\n"
     ]
    }
   ],
   "source": [
    "st = 'Hello My Name is Sam'\n",
    "print(st)\n",
    "print(st.lower())                    # makes the string lower case\n",
    "print(st.upper())                    # makes the string upper case\n",
    "print(st.split())                    # returns a list of each word on space\n",
    "\n",
    "tweet = 'Go Sports! #Sports'\n",
    "print(tweet)\n",
    "print(tweet.split('#'))              # split on # (any special character)\n",
    "\n",
    "lst = [1,2,3]\n",
    "print(lst)\n",
    "lst.pop()                            # returns the last item from the list\n",
    "print(lst)"
   ]
  },
  {
   "cell_type": "markdown",
   "metadata": {},
   "source": [
    "# End of the Python Programming"
   ]
  },
  {
   "cell_type": "code",
   "execution_count": 44,
   "metadata": {},
   "outputs": [
    {
     "name": "stdout",
     "output_type": "stream",
     "text": [
      "BYE!\n"
     ]
    }
   ],
   "source": [
    "print(\"BYE!\")"
   ]
  }
 ],
 "metadata": {
  "kernelspec": {
   "display_name": "Python 3",
   "language": "python",
   "name": "python3"
  },
  "language_info": {
   "codemirror_mode": {
    "name": "ipython",
    "version": 3
   },
   "file_extension": ".py",
   "mimetype": "text/x-python",
   "name": "python",
   "nbconvert_exporter": "python",
   "pygments_lexer": "ipython3",
   "version": "3.8.12"
  }
 },
 "nbformat": 4,
 "nbformat_minor": 5
}
